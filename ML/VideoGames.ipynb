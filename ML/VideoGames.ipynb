{
 "cells": [
  {
   "cell_type": "markdown",
   "metadata": {},
   "source": [
    "**Цель:** найти наиболее перспективный жанр игры для потенциальной разработки.\n",
    "\n",
    "**Гипотеза:** есть жанр игр (возможно в связке с платформой или что-то еще), который продается лучше."
   ]
  },
  {
   "cell_type": "markdown",
   "metadata": {},
   "source": [
    "## Загрузка библиотек"
   ]
  },
  {
   "cell_type": "code",
   "execution_count": 1,
   "metadata": {},
   "outputs": [],
   "source": [
    "import pandas as pd\n",
    "import numpy as np\n",
    "import seaborn as sns\n",
    "import matplotlib.pyplot as plt\n",
    "%matplotlib inline"
   ]
  },
  {
   "cell_type": "markdown",
   "metadata": {},
   "source": [
    "## 1. Предобработка данных"
   ]
  },
  {
   "cell_type": "code",
   "execution_count": 38,
   "metadata": {},
   "outputs": [
    {
     "data": {
      "text/html": [
       "<div>\n",
       "<style scoped>\n",
       "    .dataframe tbody tr th:only-of-type {\n",
       "        vertical-align: middle;\n",
       "    }\n",
       "\n",
       "    .dataframe tbody tr th {\n",
       "        vertical-align: top;\n",
       "    }\n",
       "\n",
       "    .dataframe thead th {\n",
       "        text-align: right;\n",
       "    }\n",
       "</style>\n",
       "<table border=\"1\" class=\"dataframe\">\n",
       "  <thead>\n",
       "    <tr style=\"text-align: right;\">\n",
       "      <th></th>\n",
       "      <th>Rank</th>\n",
       "      <th>Name</th>\n",
       "      <th>Platform</th>\n",
       "      <th>Year</th>\n",
       "      <th>Genre</th>\n",
       "      <th>Publisher</th>\n",
       "      <th>NA_Sales</th>\n",
       "      <th>EU_Sales</th>\n",
       "      <th>JP_Sales</th>\n",
       "      <th>Other_Sales</th>\n",
       "      <th>Global_Sales</th>\n",
       "    </tr>\n",
       "  </thead>\n",
       "  <tbody>\n",
       "    <tr>\n",
       "      <th>0</th>\n",
       "      <td>1</td>\n",
       "      <td>Wii Sports</td>\n",
       "      <td>Wii</td>\n",
       "      <td>2006.0</td>\n",
       "      <td>Sports</td>\n",
       "      <td>Nintendo</td>\n",
       "      <td>41.49</td>\n",
       "      <td>29.02</td>\n",
       "      <td>3.77</td>\n",
       "      <td>8.46</td>\n",
       "      <td>82.74</td>\n",
       "    </tr>\n",
       "    <tr>\n",
       "      <th>1</th>\n",
       "      <td>2</td>\n",
       "      <td>Super Mario Bros.</td>\n",
       "      <td>NES</td>\n",
       "      <td>1985.0</td>\n",
       "      <td>Platform</td>\n",
       "      <td>Nintendo</td>\n",
       "      <td>29.08</td>\n",
       "      <td>3.58</td>\n",
       "      <td>6.81</td>\n",
       "      <td>0.77</td>\n",
       "      <td>40.24</td>\n",
       "    </tr>\n",
       "    <tr>\n",
       "      <th>2</th>\n",
       "      <td>3</td>\n",
       "      <td>Mario Kart Wii</td>\n",
       "      <td>Wii</td>\n",
       "      <td>2008.0</td>\n",
       "      <td>Racing</td>\n",
       "      <td>Nintendo</td>\n",
       "      <td>15.85</td>\n",
       "      <td>12.88</td>\n",
       "      <td>3.79</td>\n",
       "      <td>3.31</td>\n",
       "      <td>35.82</td>\n",
       "    </tr>\n",
       "    <tr>\n",
       "      <th>3</th>\n",
       "      <td>4</td>\n",
       "      <td>Wii Sports Resort</td>\n",
       "      <td>Wii</td>\n",
       "      <td>2009.0</td>\n",
       "      <td>Sports</td>\n",
       "      <td>Nintendo</td>\n",
       "      <td>15.75</td>\n",
       "      <td>11.01</td>\n",
       "      <td>3.28</td>\n",
       "      <td>2.96</td>\n",
       "      <td>33.00</td>\n",
       "    </tr>\n",
       "    <tr>\n",
       "      <th>4</th>\n",
       "      <td>5</td>\n",
       "      <td>Pokemon Red/Pokemon Blue</td>\n",
       "      <td>GB</td>\n",
       "      <td>1996.0</td>\n",
       "      <td>Role-Playing</td>\n",
       "      <td>Nintendo</td>\n",
       "      <td>11.27</td>\n",
       "      <td>8.89</td>\n",
       "      <td>10.22</td>\n",
       "      <td>1.00</td>\n",
       "      <td>31.37</td>\n",
       "    </tr>\n",
       "  </tbody>\n",
       "</table>\n",
       "</div>"
      ],
      "text/plain": [
       "   Rank                      Name Platform    Year         Genre Publisher  \\\n",
       "0     1                Wii Sports      Wii  2006.0        Sports  Nintendo   \n",
       "1     2         Super Mario Bros.      NES  1985.0      Platform  Nintendo   \n",
       "2     3            Mario Kart Wii      Wii  2008.0        Racing  Nintendo   \n",
       "3     4         Wii Sports Resort      Wii  2009.0        Sports  Nintendo   \n",
       "4     5  Pokemon Red/Pokemon Blue       GB  1996.0  Role-Playing  Nintendo   \n",
       "\n",
       "   NA_Sales  EU_Sales  JP_Sales  Other_Sales  Global_Sales  \n",
       "0     41.49     29.02      3.77         8.46         82.74  \n",
       "1     29.08      3.58      6.81         0.77         40.24  \n",
       "2     15.85     12.88      3.79         3.31         35.82  \n",
       "3     15.75     11.01      3.28         2.96         33.00  \n",
       "4     11.27      8.89     10.22         1.00         31.37  "
      ]
     },
     "execution_count": 38,
     "metadata": {},
     "output_type": "execute_result"
    }
   ],
   "source": [
    "# Импорт файла и первичный анализ структуры\n",
    "game_raw_data = pd.read_csv('data/vgsales.csv')\n",
    "game_raw_data.head()"
   ]
  },
  {
   "cell_type": "markdown",
   "metadata": {},
   "source": [
    "### Поиск и устранение пропусков"
   ]
  },
  {
   "cell_type": "code",
   "execution_count": 39,
   "metadata": {},
   "outputs": [
    {
     "data": {
      "text/plain": [
       "Year         1.632727\n",
       "Publisher    0.349440\n",
       "dtype: float64"
      ]
     },
     "metadata": {},
     "output_type": "display_data"
    }
   ],
   "source": [
    "# Проценты пропусков в каждой из колонок\n",
    "cols_null_percent = game_raw_data.isnull().mean() * 100\n",
    "cols_with_null = cols_null_percent[cols_null_percent > 0].sort_values(ascending=False)\n",
    "display(cols_with_null)"
   ]
  },
  {
   "cell_type": "code",
   "execution_count": 4,
   "metadata": {},
   "outputs": [],
   "source": [
    "# Альтернативный вариант - заполнение пропусков столбца Year средним\n",
    "# value = round(game_raw_data['Year'].mean())\n",
    "# game_raw_data['Year'] = game_raw_data['Year'].fillna(value)"
   ]
  },
  {
   "cell_type": "code",
   "execution_count": 40,
   "metadata": {},
   "outputs": [
    {
     "name": "stdout",
     "output_type": "stream",
     "text": [
      "Результирующее число строк: 16291\n",
      "Число удаленных строк: 307\n"
     ]
    }
   ],
   "source": [
    "# Удаляем строки с пропусками\n",
    "game_drop_data = game_raw_data.dropna(how='any', axis=0)\n",
    "print(f'Результирующее число строк: {game_drop_data.shape[0]}')\n",
    "print(f'Число удаленных строк: {game_raw_data.shape[0] - game_drop_data.shape[0]}')"
   ]
  },
  {
   "cell_type": "code",
   "execution_count": 41,
   "metadata": {},
   "outputs": [
    {
     "data": {
      "text/plain": [
       "Series([], dtype: float64)"
      ]
     },
     "metadata": {},
     "output_type": "display_data"
    }
   ],
   "source": [
    "# Проверка на корректность удаления данных\n",
    "cols_null_percent = game_drop_data.isnull().mean() * 100\n",
    "cols_with_null = cols_null_percent[cols_null_percent > 0].sort_values(ascending=False)\n",
    "display(cols_with_null)"
   ]
  },
  {
   "cell_type": "markdown",
   "metadata": {},
   "source": [
    "Были устранены пропуски в таблице. Для столбца `Year` бфли удалены пропуски, был выбран данный путь, поскольку значения в столбце `Year` не играют большую роль для дальнейшего анализа, в разрезе данной гипотезы, а также их немного.\n",
    "\n",
    "Для столбца `Publisher` были удалены все строки с пропусками, поскольку столбец содержит тип данных `object`, который не может быть заменен.\n",
    "\n",
    "По итогу данные не потеряли свою информтаивность поскольку процент пропусков был небольшой."
   ]
  },
  {
   "cell_type": "markdown",
   "metadata": {},
   "source": [
    "### Поиск и устранение дубликатов"
   ]
  },
  {
   "cell_type": "code",
   "execution_count": 42,
   "metadata": {},
   "outputs": [
    {
     "name": "stdout",
     "output_type": "stream",
     "text": [
      "True\n"
     ]
    }
   ],
   "source": [
    "# Проверка на уникальность столбца Rank\n",
    "print(game_drop_data['Rank'].nunique() == game_drop_data.shape[0])"
   ]
  },
  {
   "cell_type": "code",
   "execution_count": 62,
   "metadata": {},
   "outputs": [
    {
     "name": "stdout",
     "output_type": "stream",
     "text": [
      "Число записей: 16291\n",
      "Число найденных дубликатов: 2\n"
     ]
    },
    {
     "data": {
      "text/html": [
       "<div>\n",
       "<style scoped>\n",
       "    .dataframe tbody tr th:only-of-type {\n",
       "        vertical-align: middle;\n",
       "    }\n",
       "\n",
       "    .dataframe tbody tr th {\n",
       "        vertical-align: top;\n",
       "    }\n",
       "\n",
       "    .dataframe thead th {\n",
       "        text-align: right;\n",
       "    }\n",
       "</style>\n",
       "<table border=\"1\" class=\"dataframe\">\n",
       "  <thead>\n",
       "    <tr style=\"text-align: right;\">\n",
       "      <th></th>\n",
       "      <th>Rank</th>\n",
       "      <th>Name</th>\n",
       "      <th>Platform</th>\n",
       "      <th>Year</th>\n",
       "      <th>Genre</th>\n",
       "      <th>Publisher</th>\n",
       "      <th>NA_Sales</th>\n",
       "      <th>EU_Sales</th>\n",
       "      <th>JP_Sales</th>\n",
       "      <th>Other_Sales</th>\n",
       "      <th>Global_Sales</th>\n",
       "    </tr>\n",
       "  </thead>\n",
       "  <tbody>\n",
       "    <tr>\n",
       "      <th>603</th>\n",
       "      <td>604</td>\n",
       "      <td>Madden NFL 13</td>\n",
       "      <td>PS3</td>\n",
       "      <td>2012.0</td>\n",
       "      <td>Sports</td>\n",
       "      <td>Electronic Arts</td>\n",
       "      <td>2.11</td>\n",
       "      <td>0.23</td>\n",
       "      <td>0.0</td>\n",
       "      <td>0.22</td>\n",
       "      <td>2.56</td>\n",
       "    </tr>\n",
       "    <tr>\n",
       "      <th>16127</th>\n",
       "      <td>16130</td>\n",
       "      <td>Madden NFL 13</td>\n",
       "      <td>PS3</td>\n",
       "      <td>2012.0</td>\n",
       "      <td>Sports</td>\n",
       "      <td>Electronic Arts</td>\n",
       "      <td>0.00</td>\n",
       "      <td>0.01</td>\n",
       "      <td>0.0</td>\n",
       "      <td>0.00</td>\n",
       "      <td>0.01</td>\n",
       "    </tr>\n",
       "  </tbody>\n",
       "</table>\n",
       "</div>"
      ],
      "text/plain": [
       "        Rank           Name Platform    Year   Genre        Publisher  \\\n",
       "603      604  Madden NFL 13      PS3  2012.0  Sports  Electronic Arts   \n",
       "16127  16130  Madden NFL 13      PS3  2012.0  Sports  Electronic Arts   \n",
       "\n",
       "       NA_Sales  EU_Sales  JP_Sales  Other_Sales  Global_Sales  \n",
       "603        2.11      0.23       0.0         0.22          2.56  \n",
       "16127      0.00      0.01       0.0         0.00          0.01  "
      ]
     },
     "metadata": {},
     "output_type": "display_data"
    }
   ],
   "source": [
    "# Проверяем наличие дубликатов в колонках из списка dupl_columns \n",
    "# исключаем из поиска дубликатов столбец Rank поскольку в нем все значения уникальны\n",
    "# и столбцы рейтингов поскольку на одну и ту же игру могли загрузить рейтинги дважды\n",
    "\n",
    "dupl_columns = ['Name', 'Platform', 'Publisher', 'Year']\n",
    "duplicates = game_drop_data[game_drop_data.duplicated(subset=dupl_columns, keep = False)]\n",
    "print(f'Число записей: {game_drop_data.shape[0]}')\n",
    "print(f'Число найденных дубликатов: {duplicates.shape[0]}')\n",
    "display(duplicates)"
   ]
  },
  {
   "cell_type": "code",
   "execution_count": 63,
   "metadata": {},
   "outputs": [
    {
     "name": "stdout",
     "output_type": "stream",
     "text": [
      "Результирующее число записей: 16290\n"
     ]
    }
   ],
   "source": [
    "# Удаление дубликатов\n",
    "game_data = game_drop_data.drop_duplicates(subset=dupl_columns)\n",
    "print(f'Результирующее число записей: {game_data.shape[0]}')"
   ]
  },
  {
   "cell_type": "markdown",
   "metadata": {},
   "source": [
    "### Анализ и преобразование типов данных"
   ]
  },
  {
   "cell_type": "code",
   "execution_count": 64,
   "metadata": {},
   "outputs": [
    {
     "name": "stdout",
     "output_type": "stream",
     "text": [
      "<class 'pandas.core.frame.DataFrame'>\n",
      "Index: 16290 entries, 0 to 16597\n",
      "Data columns (total 11 columns):\n",
      " #   Column        Non-Null Count  Dtype  \n",
      "---  ------        --------------  -----  \n",
      " 0   Rank          16290 non-null  int64  \n",
      " 1   Name          16290 non-null  object \n",
      " 2   Platform      16290 non-null  object \n",
      " 3   Year          16290 non-null  float64\n",
      " 4   Genre         16290 non-null  object \n",
      " 5   Publisher     16290 non-null  object \n",
      " 6   NA_Sales      16290 non-null  float64\n",
      " 7   EU_Sales      16290 non-null  float64\n",
      " 8   JP_Sales      16290 non-null  float64\n",
      " 9   Other_Sales   16290 non-null  float64\n",
      " 10  Global_Sales  16290 non-null  float64\n",
      "dtypes: float64(6), int64(1), object(4)\n",
      "memory usage: 1.5+ MB\n"
     ]
    }
   ],
   "source": [
    "# Анализ типов данных\n",
    "game_data.info()"
   ]
  },
  {
   "cell_type": "code",
   "execution_count": 65,
   "metadata": {},
   "outputs": [],
   "source": [
    "# Заменяем тип данных столбца Year, поскольку нет необходимости представлять год в качестве float\n",
    "game_data = game_data.astype({'Year': np.int16})"
   ]
  },
  {
   "cell_type": "markdown",
   "metadata": {},
   "source": [
    "## 2. Анализ данных"
   ]
  },
  {
   "cell_type": "code",
   "execution_count": 66,
   "metadata": {},
   "outputs": [
    {
     "data": {
      "text/html": [
       "<div>\n",
       "<style scoped>\n",
       "    .dataframe tbody tr th:only-of-type {\n",
       "        vertical-align: middle;\n",
       "    }\n",
       "\n",
       "    .dataframe tbody tr th {\n",
       "        vertical-align: top;\n",
       "    }\n",
       "\n",
       "    .dataframe thead th {\n",
       "        text-align: right;\n",
       "    }\n",
       "</style>\n",
       "<table border=\"1\" class=\"dataframe\">\n",
       "  <thead>\n",
       "    <tr style=\"text-align: right;\">\n",
       "      <th></th>\n",
       "      <th>Rank</th>\n",
       "      <th>Year</th>\n",
       "      <th>NA_Sales</th>\n",
       "      <th>EU_Sales</th>\n",
       "      <th>JP_Sales</th>\n",
       "      <th>Other_Sales</th>\n",
       "      <th>Global_Sales</th>\n",
       "    </tr>\n",
       "  </thead>\n",
       "  <tbody>\n",
       "    <tr>\n",
       "      <th>count</th>\n",
       "      <td>16290.000000</td>\n",
       "      <td>16290.000000</td>\n",
       "      <td>16290.000000</td>\n",
       "      <td>16290.000000</td>\n",
       "      <td>16290.000000</td>\n",
       "      <td>16290.000000</td>\n",
       "      <td>16290.000000</td>\n",
       "    </tr>\n",
       "    <tr>\n",
       "      <th>mean</th>\n",
       "      <td>8289.708963</td>\n",
       "      <td>2006.405218</td>\n",
       "      <td>0.265663</td>\n",
       "      <td>0.147740</td>\n",
       "      <td>0.078838</td>\n",
       "      <td>0.048429</td>\n",
       "      <td>0.540943</td>\n",
       "    </tr>\n",
       "    <tr>\n",
       "      <th>std</th>\n",
       "      <td>4792.407882</td>\n",
       "      <td>5.832427</td>\n",
       "      <td>0.822455</td>\n",
       "      <td>0.509317</td>\n",
       "      <td>0.311888</td>\n",
       "      <td>0.190088</td>\n",
       "      <td>1.567387</td>\n",
       "    </tr>\n",
       "    <tr>\n",
       "      <th>min</th>\n",
       "      <td>1.000000</td>\n",
       "      <td>1980.000000</td>\n",
       "      <td>0.000000</td>\n",
       "      <td>0.000000</td>\n",
       "      <td>0.000000</td>\n",
       "      <td>0.000000</td>\n",
       "      <td>0.010000</td>\n",
       "    </tr>\n",
       "    <tr>\n",
       "      <th>25%</th>\n",
       "      <td>4132.250000</td>\n",
       "      <td>2003.000000</td>\n",
       "      <td>0.000000</td>\n",
       "      <td>0.000000</td>\n",
       "      <td>0.000000</td>\n",
       "      <td>0.000000</td>\n",
       "      <td>0.060000</td>\n",
       "    </tr>\n",
       "    <tr>\n",
       "      <th>50%</th>\n",
       "      <td>8291.500000</td>\n",
       "      <td>2007.000000</td>\n",
       "      <td>0.080000</td>\n",
       "      <td>0.020000</td>\n",
       "      <td>0.000000</td>\n",
       "      <td>0.010000</td>\n",
       "      <td>0.170000</td>\n",
       "    </tr>\n",
       "    <tr>\n",
       "      <th>75%</th>\n",
       "      <td>12438.750000</td>\n",
       "      <td>2010.000000</td>\n",
       "      <td>0.240000</td>\n",
       "      <td>0.110000</td>\n",
       "      <td>0.040000</td>\n",
       "      <td>0.040000</td>\n",
       "      <td>0.480000</td>\n",
       "    </tr>\n",
       "    <tr>\n",
       "      <th>max</th>\n",
       "      <td>16600.000000</td>\n",
       "      <td>2020.000000</td>\n",
       "      <td>41.490000</td>\n",
       "      <td>29.020000</td>\n",
       "      <td>10.220000</td>\n",
       "      <td>10.570000</td>\n",
       "      <td>82.740000</td>\n",
       "    </tr>\n",
       "  </tbody>\n",
       "</table>\n",
       "</div>"
      ],
      "text/plain": [
       "               Rank          Year      NA_Sales      EU_Sales      JP_Sales  \\\n",
       "count  16290.000000  16290.000000  16290.000000  16290.000000  16290.000000   \n",
       "mean    8289.708963   2006.405218      0.265663      0.147740      0.078838   \n",
       "std     4792.407882      5.832427      0.822455      0.509317      0.311888   \n",
       "min        1.000000   1980.000000      0.000000      0.000000      0.000000   \n",
       "25%     4132.250000   2003.000000      0.000000      0.000000      0.000000   \n",
       "50%     8291.500000   2007.000000      0.080000      0.020000      0.000000   \n",
       "75%    12438.750000   2010.000000      0.240000      0.110000      0.040000   \n",
       "max    16600.000000   2020.000000     41.490000     29.020000     10.220000   \n",
       "\n",
       "        Other_Sales  Global_Sales  \n",
       "count  16290.000000  16290.000000  \n",
       "mean       0.048429      0.540943  \n",
       "std        0.190088      1.567387  \n",
       "min        0.000000      0.010000  \n",
       "25%        0.000000      0.060000  \n",
       "50%        0.010000      0.170000  \n",
       "75%        0.040000      0.480000  \n",
       "max       10.570000     82.740000  "
      ]
     },
     "execution_count": 66,
     "metadata": {},
     "output_type": "execute_result"
    }
   ],
   "source": [
    "game_data.describe()"
   ]
  },
  {
   "cell_type": "markdown",
   "metadata": {},
   "source": [
    "Выводы, исходя из построенной таблицы:\n",
    "- `Year` - большинство игр представленны в данной таблице вышли до 2011 года;\n",
    "- `NA_Sales`, `EU_Sales`, `JP_Sales`, `Other_Sales` и `Global_Sales` - сильная разница между медианой и средним, что может говорить о наличии выбросов или неравномерном распределении значений."
   ]
  },
  {
   "cell_type": "code",
   "execution_count": 74,
   "metadata": {},
   "outputs": [
    {
     "data": {
      "text/html": [
       "<div>\n",
       "<style scoped>\n",
       "    .dataframe tbody tr th:only-of-type {\n",
       "        vertical-align: middle;\n",
       "    }\n",
       "\n",
       "    .dataframe tbody tr th {\n",
       "        vertical-align: top;\n",
       "    }\n",
       "\n",
       "    .dataframe thead th {\n",
       "        text-align: right;\n",
       "    }\n",
       "</style>\n",
       "<table border=\"1\" class=\"dataframe\">\n",
       "  <thead>\n",
       "    <tr style=\"text-align: right;\">\n",
       "      <th></th>\n",
       "      <th>Name</th>\n",
       "      <th>Platform</th>\n",
       "      <th>Genre</th>\n",
       "      <th>Publisher</th>\n",
       "    </tr>\n",
       "  </thead>\n",
       "  <tbody>\n",
       "    <tr>\n",
       "      <th>count</th>\n",
       "      <td>16290</td>\n",
       "      <td>16290</td>\n",
       "      <td>16290</td>\n",
       "      <td>16290</td>\n",
       "    </tr>\n",
       "    <tr>\n",
       "      <th>unique</th>\n",
       "      <td>11325</td>\n",
       "      <td>31</td>\n",
       "      <td>12</td>\n",
       "      <td>576</td>\n",
       "    </tr>\n",
       "    <tr>\n",
       "      <th>top</th>\n",
       "      <td>Need for Speed: Most Wanted</td>\n",
       "      <td>DS</td>\n",
       "      <td>Action</td>\n",
       "      <td>Electronic Arts</td>\n",
       "    </tr>\n",
       "    <tr>\n",
       "      <th>freq</th>\n",
       "      <td>12</td>\n",
       "      <td>2131</td>\n",
       "      <td>3251</td>\n",
       "      <td>1338</td>\n",
       "    </tr>\n",
       "  </tbody>\n",
       "</table>\n",
       "</div>"
      ],
      "text/plain": [
       "                               Name Platform   Genre        Publisher\n",
       "count                         16290    16290   16290            16290\n",
       "unique                        11325       31      12              576\n",
       "top     Need for Speed: Most Wanted       DS  Action  Electronic Arts\n",
       "freq                             12     2131    3251             1338"
      ]
     },
     "execution_count": 74,
     "metadata": {},
     "output_type": "execute_result"
    }
   ],
   "source": [
    "game_data.describe(include=['object'])"
   ]
  },
  {
   "cell_type": "markdown",
   "metadata": {},
   "source": [
    "Выводы, исходя и построенной таблицы:\n",
    "- Платформа, на которой выпущено больше всего игр - DS, уникальных - 31;\n",
    "- Жанр, в котором выпущено больше всего игр - Action, уникальных - 12;\n",
    "- Компания, которая выпустила больше всего игр - EA, уникальных - 576."
   ]
  },
  {
   "cell_type": "code",
   "execution_count": 199,
   "metadata": {},
   "outputs": [
    {
     "name": "stdout",
     "output_type": "stream",
     "text": [
      "Количество уникальных платформ представленных в общей таблице: 31\n"
     ]
    },
    {
     "data": {
      "text/html": [
       "<div>\n",
       "<style scoped>\n",
       "    .dataframe tbody tr th:only-of-type {\n",
       "        vertical-align: middle;\n",
       "    }\n",
       "\n",
       "    .dataframe tbody tr th {\n",
       "        vertical-align: top;\n",
       "    }\n",
       "\n",
       "    .dataframe thead th {\n",
       "        text-align: right;\n",
       "    }\n",
       "</style>\n",
       "<table border=\"1\" class=\"dataframe\">\n",
       "  <thead>\n",
       "    <tr style=\"text-align: right;\">\n",
       "      <th></th>\n",
       "      <th>count</th>\n",
       "      <th>mean</th>\n",
       "      <th>median</th>\n",
       "      <th>max</th>\n",
       "    </tr>\n",
       "    <tr>\n",
       "      <th>Platform</th>\n",
       "      <th></th>\n",
       "      <th></th>\n",
       "      <th></th>\n",
       "      <th></th>\n",
       "    </tr>\n",
       "  </thead>\n",
       "  <tbody>\n",
       "    <tr>\n",
       "      <th>DS</th>\n",
       "      <td>2131</td>\n",
       "      <td>0.384284</td>\n",
       "      <td>0.11</td>\n",
       "      <td>30.01</td>\n",
       "    </tr>\n",
       "    <tr>\n",
       "      <th>PS2</th>\n",
       "      <td>2127</td>\n",
       "      <td>0.579906</td>\n",
       "      <td>0.23</td>\n",
       "      <td>20.81</td>\n",
       "    </tr>\n",
       "    <tr>\n",
       "      <th>PS3</th>\n",
       "      <td>1303</td>\n",
       "      <td>0.728580</td>\n",
       "      <td>0.29</td>\n",
       "      <td>21.40</td>\n",
       "    </tr>\n",
       "    <tr>\n",
       "      <th>Wii</th>\n",
       "      <td>1290</td>\n",
       "      <td>0.705279</td>\n",
       "      <td>0.20</td>\n",
       "      <td>82.74</td>\n",
       "    </tr>\n",
       "    <tr>\n",
       "      <th>X360</th>\n",
       "      <td>1234</td>\n",
       "      <td>0.785737</td>\n",
       "      <td>0.29</td>\n",
       "      <td>21.82</td>\n",
       "    </tr>\n",
       "    <tr>\n",
       "      <th>PSP</th>\n",
       "      <td>1197</td>\n",
       "      <td>0.243701</td>\n",
       "      <td>0.09</td>\n",
       "      <td>7.72</td>\n",
       "    </tr>\n",
       "    <tr>\n",
       "      <th>PS</th>\n",
       "      <td>1189</td>\n",
       "      <td>0.611766</td>\n",
       "      <td>0.26</td>\n",
       "      <td>10.95</td>\n",
       "    </tr>\n",
       "    <tr>\n",
       "      <th>PC</th>\n",
       "      <td>938</td>\n",
       "      <td>0.271535</td>\n",
       "      <td>0.04</td>\n",
       "      <td>8.11</td>\n",
       "    </tr>\n",
       "    <tr>\n",
       "      <th>XB</th>\n",
       "      <td>803</td>\n",
       "      <td>0.313935</td>\n",
       "      <td>0.14</td>\n",
       "      <td>8.49</td>\n",
       "    </tr>\n",
       "    <tr>\n",
       "      <th>GBA</th>\n",
       "      <td>786</td>\n",
       "      <td>0.388830</td>\n",
       "      <td>0.16</td>\n",
       "      <td>15.85</td>\n",
       "    </tr>\n",
       "    <tr>\n",
       "      <th>GC</th>\n",
       "      <td>542</td>\n",
       "      <td>0.363727</td>\n",
       "      <td>0.15</td>\n",
       "      <td>7.07</td>\n",
       "    </tr>\n",
       "    <tr>\n",
       "      <th>3DS</th>\n",
       "      <td>499</td>\n",
       "      <td>0.493527</td>\n",
       "      <td>0.13</td>\n",
       "      <td>14.35</td>\n",
       "    </tr>\n",
       "    <tr>\n",
       "      <th>PSV</th>\n",
       "      <td>410</td>\n",
       "      <td>0.150244</td>\n",
       "      <td>0.06</td>\n",
       "      <td>2.25</td>\n",
       "    </tr>\n",
       "    <tr>\n",
       "      <th>PS4</th>\n",
       "      <td>336</td>\n",
       "      <td>0.827679</td>\n",
       "      <td>0.22</td>\n",
       "      <td>14.24</td>\n",
       "    </tr>\n",
       "    <tr>\n",
       "      <th>N64</th>\n",
       "      <td>316</td>\n",
       "      <td>0.690538</td>\n",
       "      <td>0.27</td>\n",
       "      <td>11.89</td>\n",
       "    </tr>\n",
       "  </tbody>\n",
       "</table>\n",
       "</div>"
      ],
      "text/plain": [
       "          count      mean  median    max\n",
       "Platform                                \n",
       "DS         2131  0.384284    0.11  30.01\n",
       "PS2        2127  0.579906    0.23  20.81\n",
       "PS3        1303  0.728580    0.29  21.40\n",
       "Wii        1290  0.705279    0.20  82.74\n",
       "X360       1234  0.785737    0.29  21.82\n",
       "PSP        1197  0.243701    0.09   7.72\n",
       "PS         1189  0.611766    0.26  10.95\n",
       "PC          938  0.271535    0.04   8.11\n",
       "XB          803  0.313935    0.14   8.49\n",
       "GBA         786  0.388830    0.16  15.85\n",
       "GC          542  0.363727    0.15   7.07\n",
       "3DS         499  0.493527    0.13  14.35\n",
       "PSV         410  0.150244    0.06   2.25\n",
       "PS4         336  0.827679    0.22  14.24\n",
       "N64         316  0.690538    0.27  11.89"
      ]
     },
     "execution_count": 199,
     "metadata": {},
     "output_type": "execute_result"
    }
   ],
   "source": [
    "# Таблица по платформам\n",
    "print(f\"Количество уникальных платформ представленных в общей таблице: {game_data['Platform'].unique().shape[0]}\")\n",
    "\n",
    "game_data.groupby('Platform')['Global_Sales'].agg(\n",
    "    ['count', 'mean', 'median', 'max']\n",
    ").sort_values(by='count', ascending=False).nlargest(15, columns=['count'])\n"
   ]
  },
  {
   "cell_type": "markdown",
   "metadata": {},
   "source": [
    "Наибольшее количество игр было выпущено на DS, большая разница в медианных и средних значениях говорит о выбросах. Максимальное количество продаж на платформе Wii, наибольшее среднее на PS4, наибольшее медианное на PS3 и X360."
   ]
  },
  {
   "cell_type": "code",
   "execution_count": 200,
   "metadata": {},
   "outputs": [
    {
     "name": "stdout",
     "output_type": "stream",
     "text": [
      "Количество уникальных жанров представленных в общей таблице: 12\n"
     ]
    },
    {
     "data": {
      "text/html": [
       "<div>\n",
       "<style scoped>\n",
       "    .dataframe tbody tr th:only-of-type {\n",
       "        vertical-align: middle;\n",
       "    }\n",
       "\n",
       "    .dataframe tbody tr th {\n",
       "        vertical-align: top;\n",
       "    }\n",
       "\n",
       "    .dataframe thead th {\n",
       "        text-align: right;\n",
       "    }\n",
       "</style>\n",
       "<table border=\"1\" class=\"dataframe\">\n",
       "  <thead>\n",
       "    <tr style=\"text-align: right;\">\n",
       "      <th></th>\n",
       "      <th>count</th>\n",
       "      <th>mean</th>\n",
       "      <th>median</th>\n",
       "      <th>max</th>\n",
       "    </tr>\n",
       "    <tr>\n",
       "      <th>Genre</th>\n",
       "      <th></th>\n",
       "      <th></th>\n",
       "      <th></th>\n",
       "      <th></th>\n",
       "    </tr>\n",
       "  </thead>\n",
       "  <tbody>\n",
       "    <tr>\n",
       "      <th>Action</th>\n",
       "      <td>3251</td>\n",
       "      <td>0.529942</td>\n",
       "      <td>0.190</td>\n",
       "      <td>21.40</td>\n",
       "    </tr>\n",
       "    <tr>\n",
       "      <th>Sports</th>\n",
       "      <td>2303</td>\n",
       "      <td>0.568489</td>\n",
       "      <td>0.220</td>\n",
       "      <td>82.74</td>\n",
       "    </tr>\n",
       "    <tr>\n",
       "      <th>Misc</th>\n",
       "      <td>1686</td>\n",
       "      <td>0.468488</td>\n",
       "      <td>0.160</td>\n",
       "      <td>29.02</td>\n",
       "    </tr>\n",
       "    <tr>\n",
       "      <th>Role-Playing</th>\n",
       "      <td>1470</td>\n",
       "      <td>0.628456</td>\n",
       "      <td>0.190</td>\n",
       "      <td>31.37</td>\n",
       "    </tr>\n",
       "    <tr>\n",
       "      <th>Shooter</th>\n",
       "      <td>1282</td>\n",
       "      <td>0.800468</td>\n",
       "      <td>0.230</td>\n",
       "      <td>28.31</td>\n",
       "    </tr>\n",
       "    <tr>\n",
       "      <th>Adventure</th>\n",
       "      <td>1274</td>\n",
       "      <td>0.184137</td>\n",
       "      <td>0.060</td>\n",
       "      <td>11.18</td>\n",
       "    </tr>\n",
       "    <tr>\n",
       "      <th>Racing</th>\n",
       "      <td>1225</td>\n",
       "      <td>0.593273</td>\n",
       "      <td>0.190</td>\n",
       "      <td>35.82</td>\n",
       "    </tr>\n",
       "    <tr>\n",
       "      <th>Platform</th>\n",
       "      <td>875</td>\n",
       "      <td>0.947577</td>\n",
       "      <td>0.280</td>\n",
       "      <td>40.24</td>\n",
       "    </tr>\n",
       "    <tr>\n",
       "      <th>Simulation</th>\n",
       "      <td>848</td>\n",
       "      <td>0.459882</td>\n",
       "      <td>0.160</td>\n",
       "      <td>24.76</td>\n",
       "    </tr>\n",
       "    <tr>\n",
       "      <th>Fighting</th>\n",
       "      <td>836</td>\n",
       "      <td>0.531160</td>\n",
       "      <td>0.210</td>\n",
       "      <td>13.04</td>\n",
       "    </tr>\n",
       "    <tr>\n",
       "      <th>Strategy</th>\n",
       "      <td>670</td>\n",
       "      <td>0.258612</td>\n",
       "      <td>0.090</td>\n",
       "      <td>5.45</td>\n",
       "    </tr>\n",
       "    <tr>\n",
       "      <th>Puzzle</th>\n",
       "      <td>570</td>\n",
       "      <td>0.424930</td>\n",
       "      <td>0.105</td>\n",
       "      <td>30.26</td>\n",
       "    </tr>\n",
       "  </tbody>\n",
       "</table>\n",
       "</div>"
      ],
      "text/plain": [
       "              count      mean  median    max\n",
       "Genre                                       \n",
       "Action         3251  0.529942   0.190  21.40\n",
       "Sports         2303  0.568489   0.220  82.74\n",
       "Misc           1686  0.468488   0.160  29.02\n",
       "Role-Playing   1470  0.628456   0.190  31.37\n",
       "Shooter        1282  0.800468   0.230  28.31\n",
       "Adventure      1274  0.184137   0.060  11.18\n",
       "Racing         1225  0.593273   0.190  35.82\n",
       "Platform        875  0.947577   0.280  40.24\n",
       "Simulation      848  0.459882   0.160  24.76\n",
       "Fighting        836  0.531160   0.210  13.04\n",
       "Strategy        670  0.258612   0.090   5.45\n",
       "Puzzle          570  0.424930   0.105  30.26"
      ]
     },
     "execution_count": 200,
     "metadata": {},
     "output_type": "execute_result"
    }
   ],
   "source": [
    "# Таблица по жанрам игр\n",
    "print(f\"Количество уникальных жанров представленных в общей таблице: {game_data['Genre'].unique().shape[0]}\")\n",
    "\n",
    "game_data.groupby('Genre')['Global_Sales'].agg(\n",
    "    ['count', 'mean', 'median', 'max']\n",
    ").sort_values(by='count', ascending=False)"
   ]
  },
  {
   "cell_type": "markdown",
   "metadata": {},
   "source": [
    "Максимальное количество игр выпущено в жанре Action. Аналогично предыдущей таблице большая разница в медианных и средних значениях говорит о выбросах. Наибольшие среднее и медианное значения мировых продаж имеет жанр Platform. Максимальное значение соответствует жанру Sports."
   ]
  },
  {
   "cell_type": "markdown",
   "metadata": {},
   "source": [
    "## 3. Построение графиков"
   ]
  },
  {
   "cell_type": "markdown",
   "metadata": {},
   "source": [
    "### Анализ выбросов"
   ]
  },
  {
   "cell_type": "code",
   "execution_count": 82,
   "metadata": {},
   "outputs": [
    {
     "data": {
      "text/plain": [
       "<Axes: xlabel='Other_Sales'>"
      ]
     },
     "execution_count": 82,
     "metadata": {},
     "output_type": "execute_result"
    },
    {
     "data": {
      "image/png": "[encoded data removed]",
      "text/plain": [
       "<Figure size 800x700 with 4 Axes>"
      ]
     },
     "metadata": {},
     "output_type": "display_data"
    }
   ],
   "source": [
    "fig, axes = plt.subplots(nrows=2, ncols=2, figsize=(8, 7))\n",
    "\n",
    "sns.boxplot(\n",
    "    data=game_data,\n",
    "    x='NA_Sales',\n",
    "    orient='h',\n",
    "    ax=axes[0][0]\n",
    ")\n",
    "sns.boxplot(\n",
    "    data=game_data,\n",
    "    x='EU_Sales',\n",
    "    orient='h',\n",
    "    ax=axes[0][1]\n",
    ")\n",
    "sns.boxplot(\n",
    "    data=game_data,\n",
    "    x='JP_Sales',\n",
    "    orient='h',\n",
    "    ax=axes[1][0]\n",
    ")\n",
    "sns.boxplot(\n",
    "    data=game_data,\n",
    "    x='Other_Sales',\n",
    "    orient='h',\n",
    "    ax=axes[1][1]\n",
    ")"
   ]
  },
  {
   "cell_type": "code",
   "execution_count": 131,
   "metadata": {},
   "outputs": [
    {
     "data": {
      "text/plain": [
       "<Axes: xlabel='Global_Sales'>"
      ]
     },
     "execution_count": 131,
     "metadata": {},
     "output_type": "execute_result"
    },
    {
     "data": {
      "image/png": "[encoded data removed]",
      "text/plain": [
       "<Figure size 640x480 with 1 Axes>"
      ]
     },
     "metadata": {},
     "output_type": "display_data"
    }
   ],
   "source": [
    "sns.boxplot(\n",
    "    data=game_data,\n",
    "    x='Global_Sales',\n",
    "    orient='h'\n",
    ")"
   ]
  },
  {
   "cell_type": "markdown",
   "metadata": {},
   "source": [
    "Исходя из данных диаграмм видно, что в данных присутствуют аномально большие значения и для дальнейшего анализа стоит использовать медианное занчение, а не среднее, поскольку оно устойчиво к выбросам"
   ]
  },
  {
   "cell_type": "markdown",
   "metadata": {},
   "source": [
    "### Распределение по году выпуска"
   ]
  },
  {
   "cell_type": "code",
   "execution_count": 167,
   "metadata": {},
   "outputs": [
    {
     "data": {
      "text/plain": [
       "(array([5.500e+01, 5.300e+01, 2.800e+01, 3.700e+01, 3.200e+01, 5.700e+01,\n",
       "        1.030e+02, 3.400e+02, 5.520e+02, 7.170e+02, 8.310e+02, 1.604e+03,\n",
       "        1.680e+03, 2.209e+03, 2.859e+03, 2.393e+03, 1.200e+03, 1.194e+03,\n",
       "        3.450e+02, 1.000e+00]),\n",
       " array([1980., 1982., 1984., 1986., 1988., 1990., 1992., 1994., 1996.,\n",
       "        1998., 2000., 2002., 2004., 2006., 2008., 2010., 2012., 2014.,\n",
       "        2016., 2018., 2020.]),\n",
       " <BarContainer object of 20 artists>)"
      ]
     },
     "execution_count": 167,
     "metadata": {},
     "output_type": "execute_result"
    },
    {
     "data": {
      "image/png": "[encoded data removed]",
      "text/plain": [
       "<Figure size 640x480 with 1 Axes>"
      ]
     },
     "metadata": {},
     "output_type": "display_data"
    }
   ],
   "source": [
    "plt.hist(\n",
    "    x=game_data[\"Year\"],\n",
    "    color=\"blue\", \n",
    "    bins=20\n",
    ")"
   ]
  },
  {
   "cell_type": "markdown",
   "metadata": {},
   "source": [
    "### Самый популярный жанр"
   ]
  },
  {
   "cell_type": "code",
   "execution_count": 246,
   "metadata": {},
   "outputs": [
    {
     "data": {
      "image/png": "[encoded data removed]",
      "text/plain": [
       "<Figure size 1200x300 with 2 Axes>"
      ]
     },
     "metadata": {},
     "output_type": "display_data"
    }
   ],
   "source": [
    "fig, axes = plt.subplots(nrows=1, ncols=2, figsize=(12, 3))\n",
    "\n",
    "# формирование таблицы мировых продаж с группировкой по жанрам за все время\n",
    "bar_data_genre_all = game_data.groupby(\n",
    "    by='Genre',\n",
    "    as_index=False\n",
    ")[['Global_Sales']].median().nlargest(10, columns=['Global_Sales'])\n",
    "\n",
    "# отображение в виде столбчатой диаграммы данной таблицы\n",
    "axes[0].bar(\n",
    "    x=bar_data_genre_all['Genre'],\n",
    "    height=bar_data_genre_all['Global_Sales'],\n",
    "    color='blue'\n",
    ")\n",
    "\n",
    "# настройка отображения графика\n",
    "axes[0].set_title(\"Топ 10 жанров игр всех времен\")\n",
    "axes[0].set_ylabel('Медианное число продаж')\n",
    "axes[0].xaxis.set_tick_params(rotation=55)\n",
    "\n",
    "# формирование таблицы мировых продаж с группировкой по жанрам за последнее время\n",
    "bar_data_genre_new = game_data[game_data['Year'] > 2010]\n",
    "bar_data_genre_new = bar_data_genre_new.groupby(\n",
    "    by='Genre',\n",
    "    as_index=False\n",
    ")[['Global_Sales']].median().nlargest(10, columns=['Global_Sales'])\n",
    "\n",
    "# отображение в виде столбчатой диаграммы данной таблицы\n",
    "axes[1].bar(\n",
    "    x=bar_data_genre_new['Genre'],\n",
    "    height=bar_data_genre_new['Global_Sales'],\n",
    "    color='green'\n",
    ")\n",
    "\n",
    "# настройка отображения графика\n",
    "axes[1].set_title(\"Топ 10 жанров игр после 2010 года\")\n",
    "axes[1].xaxis.set_tick_params(rotation=55)"
   ]
  },
  {
   "cell_type": "markdown",
   "metadata": {},
   "source": [
    "### Самая популярная платформа"
   ]
  },
  {
   "cell_type": "code",
   "execution_count": 247,
   "metadata": {},
   "outputs": [
    {
     "data": {
      "image/png": "[encoded data removed]",
      "text/plain": [
       "<Figure size 1200x300 with 2 Axes>"
      ]
     },
     "metadata": {},
     "output_type": "display_data"
    }
   ],
   "source": [
    "fig, axes = plt.subplots(nrows=1, ncols=2, figsize=(12, 3))\n",
    "\n",
    "# формирование таблицы мировых продаж с группировкой по платформам за все время\n",
    "bar_data_platform_all = game_data.groupby(\n",
    "    by='Platform',\n",
    "    as_index=False\n",
    ")[['Global_Sales']].median().nlargest(10, columns=['Global_Sales'])\n",
    "\n",
    "# отображение в виде столбчатой диаграммы данной таблицы\n",
    "axes[0].bar(\n",
    "    x=bar_data_platform_all['Platform'],\n",
    "    height=bar_data_platform_all['Global_Sales'],\n",
    "    color='blue'\n",
    ")\n",
    "\n",
    "# настройка отображения графика\n",
    "axes[0].set_title(\"Топ 10 платформ для игр всех времен\")\n",
    "axes[0].set_ylabel('Медианное число продаж')\n",
    "axes[0].xaxis.set_tick_params(rotation=55)\n",
    "\n",
    "# формирование таблицы мировых продаж с группировкой по платформам за последнее\n",
    "bar_data_platform_new = game_data[game_data['Year'] > 2010]\n",
    "bar_data_platform_new = bar_data_platform_new.groupby(\n",
    "    by='Platform',\n",
    "    as_index=False\n",
    ")[['Global_Sales']].median().nlargest(10, columns=['Global_Sales'])\n",
    "\n",
    "# отображение в виде столбчатой диаграммы данной таблицы\n",
    "axes[1].bar(\n",
    "    x=bar_data_platform_new['Platform'],\n",
    "    height=bar_data_platform_new['Global_Sales'],\n",
    "    color='green'\n",
    ")\n",
    "\n",
    "# настройка отображения графика\n",
    "axes[1].set_title(\"Топ 10 платформ для игр после 2010 года\")\n",
    "axes[1].xaxis.set_tick_params(rotation=55)"
   ]
  },
  {
   "cell_type": "markdown",
   "metadata": {},
   "source": [
    "### Взаимосвязь платформы и жанра"
   ]
  },
  {
   "cell_type": "code",
   "execution_count": 256,
   "metadata": {},
   "outputs": [
    {
     "data": {
      "image/png": "[encoded data removed]",
      "text/plain": [
       "<Figure size 640x480 with 2 Axes>"
      ]
     },
     "metadata": {},
     "output_type": "display_data"
    }
   ],
   "source": [
    "game_data_new = game_data[game_data['Year'] > 2010]\n",
    "\n",
    "pivot_data_new = game_data_new.pivot_table(\n",
    "    values='Global_Sales',\n",
    "    index='Platform',\n",
    "    columns='Genre',\n",
    "    aggfunc='median'\n",
    ")\n",
    "\n",
    "thresh = pivot_data_new.shape[1]*0.7\n",
    "#удаляем столбцы, в которых более 30% (100-70) пропусков\n",
    "pivot_data_new = pivot_data_new.dropna(thresh=thresh, axis=0)\n",
    "\n",
    "heatmap = sns.heatmap(data=pivot_data_new, cmap='YlGnBu')\n",
    "heatmap.set_title('Тепловая карта взаимосвязи жанра и платформы после 2010', fontsize=14);"
   ]
  },
  {
   "cell_type": "code",
   "execution_count": null,
   "metadata": {},
   "outputs": [
    {
     "data": {
      "image/png": "[encoded data removed]",
      "text/plain": [
       "<Figure size 1200x300 with 2 Axes>"
      ]
     },
     "metadata": {},
     "output_type": "display_data"
    }
   ],
   "source": [
    "fig, axes = plt.subplots(nrows=1, ncols=2, figsize=(12, 3))\n",
    "\n",
    "# формирование таблицы мировых продаж с группировкой по жанрам за все время\n",
    "bar_data_genre_all = game_data.groupby(\n",
    "    by='Genre',\n",
    "    as_index=False\n",
    ")[['Global_Sales']].median().nlargest(10, columns=['Global_Sales'])\n",
    "\n",
    "# отображение в виде столбчатой диаграммы данной таблицы\n",
    "axes[0].bar(\n",
    "    x=bar_data_genre_all['Genre'],\n",
    "    height=bar_data_genre_all['Global_Sales'],\n",
    "    color='blue'\n",
    ")\n",
    "\n",
    "# настройка отображения графика\n",
    "axes[0].set_title(\"Топ 10 жанров игр всех времен\")\n",
    "axes[0].set_ylabel('Медианное число продаж')\n",
    "axes[0].xaxis.set_tick_params(rotation=55)\n",
    "\n",
    "# формирование таблицы мировых продаж с группировкой по жанрам за последнее время\n",
    "bar_data_genre_new = game_data[game_data['Year'] > 2010]\n",
    "bar_data_genre_new = bar_data_genre_new.groupby(\n",
    "    by='Genre',\n",
    "    as_index=False\n",
    ")[['Global_Sales']].median().nlargest(10, columns=['Global_Sales'])\n",
    "\n",
    "# отображение в виде столбчатой диаграммы данной таблицы\n",
    "axes[1].bar(\n",
    "    x=bar_data_genre_new['Genre'],\n",
    "    height=bar_data_genre_new['Global_Sales'],\n",
    "    color='green'\n",
    ")\n",
    "\n",
    "# настройка отображения графика\n",
    "axes[1].set_title(\"Топ 10 жанров игр после 2010 года\")\n",
    "axes[1].xaxis.set_tick_params(rotation=55)"
   ]
  },
  {
   "cell_type": "markdown",
   "metadata": {},
   "source": [
    "## 4. Вычисление матрицы корреляции"
   ]
  },
  {
   "cell_type": "code",
   "execution_count": null,
   "metadata": {},
   "outputs": [],
   "source": [
    "game_data_corr = game_data.copy()\n",
    "for i in game_data_corr:\n",
    "    if game_data[i].dtype == 'object': game_data_corr.drop(i, axis=1, inplace=True)\n",
    "corr = game_data_corr.corr()\n",
    "corr.style.background_gradient(cmap='coolwarm') "
   ]
  },
  {
   "cell_type": "markdown",
   "metadata": {},
   "source": [
    "Сильная корреляция наблюдается между столбцами с мировыми продажами и продажами в Южной Америке и в Европе, что закономерно поскольку мировые продажи складываются в том числе из данных столбцов. Корреляция между столбцом мировые продажи и столбцами продажи в Японии и прочих странах не так сильна, поскольку их вклад в общие продажи не так велик как у Южной Америки и Европы.\n",
    "\n",
    "Корреляции между годами выхода игр и продажами не наблюдается."
   ]
  },
  {
   "cell_type": "markdown",
   "metadata": {},
   "source": [
    "## 5. Выводы"
   ]
  },
  {
   "cell_type": "markdown",
   "metadata": {},
   "source": [
    "Данный dataframe не является самым актуальным, в индустрии игр новые консоли, выходящие постоянно, могут оказать большую роль на продажи.\n",
    "\n",
    "Анализируя столбчатые диаграммы, можно сделать вывод, что лидирующим жанром после 2010 года является Shooter. Распределение по популярности платформ равномернее, можно выделить пятерку лидеров - Xbox360, Xbox1, WiiU, PS3 и PS4. Однако из тепловой карты можно сделать вывод, что наиболее перспективным сочетание является жанр Shooter и платформа PS4.\n",
    "\n",
    "Заказчику анализа я бы рекомендовала разрабатывать игру жанра Shooter и присмотреться к консолям PS4, Xbox1 и Xbox360."
   ]
  },
  {
   "cell_type": "markdown",
   "metadata": {},
   "source": [
    "## Unused"
   ]
  },
  {
   "cell_type": "code",
   "execution_count": 172,
   "metadata": {},
   "outputs": [
    {
     "name": "stdout",
     "output_type": "stream",
     "text": [
      "576\n"
     ]
    },
    {
     "data": {
      "text/html": [
       "<div>\n",
       "<style scoped>\n",
       "    .dataframe tbody tr th:only-of-type {\n",
       "        vertical-align: middle;\n",
       "    }\n",
       "\n",
       "    .dataframe tbody tr th {\n",
       "        vertical-align: top;\n",
       "    }\n",
       "\n",
       "    .dataframe thead th {\n",
       "        text-align: right;\n",
       "    }\n",
       "</style>\n",
       "<table border=\"1\" class=\"dataframe\">\n",
       "  <thead>\n",
       "    <tr style=\"text-align: right;\">\n",
       "      <th></th>\n",
       "      <th>count</th>\n",
       "      <th>mean</th>\n",
       "      <th>max</th>\n",
       "    </tr>\n",
       "    <tr>\n",
       "      <th>Publisher</th>\n",
       "      <th></th>\n",
       "      <th></th>\n",
       "      <th></th>\n",
       "    </tr>\n",
       "  </thead>\n",
       "  <tbody>\n",
       "    <tr>\n",
       "      <th>Electronic Arts</th>\n",
       "      <td>1338</td>\n",
       "      <td>0.817175</td>\n",
       "      <td>8.49</td>\n",
       "    </tr>\n",
       "    <tr>\n",
       "      <th>Activision</th>\n",
       "      <td>966</td>\n",
       "      <td>0.746801</td>\n",
       "      <td>14.76</td>\n",
       "    </tr>\n",
       "    <tr>\n",
       "      <th>Namco Bandai Games</th>\n",
       "      <td>928</td>\n",
       "      <td>0.273330</td>\n",
       "      <td>4.24</td>\n",
       "    </tr>\n",
       "    <tr>\n",
       "      <th>Ubisoft</th>\n",
       "      <td>918</td>\n",
       "      <td>0.515839</td>\n",
       "      <td>10.26</td>\n",
       "    </tr>\n",
       "    <tr>\n",
       "      <th>Konami Digital Entertainment</th>\n",
       "      <td>823</td>\n",
       "      <td>0.338469</td>\n",
       "      <td>6.05</td>\n",
       "    </tr>\n",
       "    <tr>\n",
       "      <th>THQ</th>\n",
       "      <td>712</td>\n",
       "      <td>0.478146</td>\n",
       "      <td>3.58</td>\n",
       "    </tr>\n",
       "    <tr>\n",
       "      <th>Nintendo</th>\n",
       "      <td>696</td>\n",
       "      <td>2.563836</td>\n",
       "      <td>82.74</td>\n",
       "    </tr>\n",
       "    <tr>\n",
       "      <th>Sony Computer Entertainment</th>\n",
       "      <td>682</td>\n",
       "      <td>0.890440</td>\n",
       "      <td>14.98</td>\n",
       "    </tr>\n",
       "    <tr>\n",
       "      <th>Sega</th>\n",
       "      <td>632</td>\n",
       "      <td>0.428323</td>\n",
       "      <td>8.06</td>\n",
       "    </tr>\n",
       "    <tr>\n",
       "      <th>Take-Two Interactive</th>\n",
       "      <td>412</td>\n",
       "      <td>0.969175</td>\n",
       "      <td>21.40</td>\n",
       "    </tr>\n",
       "    <tr>\n",
       "      <th>Capcom</th>\n",
       "      <td>376</td>\n",
       "      <td>0.531782</td>\n",
       "      <td>6.30</td>\n",
       "    </tr>\n",
       "    <tr>\n",
       "      <th>Atari</th>\n",
       "      <td>347</td>\n",
       "      <td>0.422968</td>\n",
       "      <td>7.81</td>\n",
       "    </tr>\n",
       "    <tr>\n",
       "      <th>Tecmo Koei</th>\n",
       "      <td>338</td>\n",
       "      <td>0.158432</td>\n",
       "      <td>2.11</td>\n",
       "    </tr>\n",
       "    <tr>\n",
       "      <th>Square Enix</th>\n",
       "      <td>231</td>\n",
       "      <td>0.626537</td>\n",
       "      <td>5.95</td>\n",
       "    </tr>\n",
       "    <tr>\n",
       "      <th>Warner Bros. Interactive Entertainment</th>\n",
       "      <td>217</td>\n",
       "      <td>0.655945</td>\n",
       "      <td>5.53</td>\n",
       "    </tr>\n",
       "  </tbody>\n",
       "</table>\n",
       "</div>"
      ],
      "text/plain": [
       "                                        count      mean    max\n",
       "Publisher                                                     \n",
       "Electronic Arts                          1338  0.817175   8.49\n",
       "Activision                                966  0.746801  14.76\n",
       "Namco Bandai Games                        928  0.273330   4.24\n",
       "Ubisoft                                   918  0.515839  10.26\n",
       "Konami Digital Entertainment              823  0.338469   6.05\n",
       "THQ                                       712  0.478146   3.58\n",
       "Nintendo                                  696  2.563836  82.74\n",
       "Sony Computer Entertainment               682  0.890440  14.98\n",
       "Sega                                      632  0.428323   8.06\n",
       "Take-Two Interactive                      412  0.969175  21.40\n",
       "Capcom                                    376  0.531782   6.30\n",
       "Atari                                     347  0.422968   7.81\n",
       "Tecmo Koei                                338  0.158432   2.11\n",
       "Square Enix                               231  0.626537   5.95\n",
       "Warner Bros. Interactive Entertainment    217  0.655945   5.53"
      ]
     },
     "execution_count": 172,
     "metadata": {},
     "output_type": "execute_result"
    }
   ],
   "source": [
    "# Таблица по производителям\n",
    "print(game_data['Publisher'].unique().shape[0]) # кол-во уникальных компаний выпускающих игры\n",
    "\n",
    "game_data.groupby('Publisher')['Global_Sales'].agg(\n",
    "    ['count', 'mean', 'max']\n",
    ").sort_values(by='count', ascending=False).nlargest(15, columns=['count'])"
   ]
  },
  {
   "cell_type": "code",
   "execution_count": 159,
   "metadata": {},
   "outputs": [
    {
     "data": {
      "application/vnd.plotly.v1+json": {
       "config": {
        "plotlyServerURL": "https://plot.ly"
       },
       "data": [
        {
         "alignmentgroup": "True",
         "hovertemplate": "Genre=%{x}<br>Global_Sales=%{text}<extra></extra>",
         "legendgroup": "Platform",
         "marker": {
          "color": "#636efa",
          "pattern": {
           "shape": ""
          }
         },
         "name": "Platform",
         "offsetgroup": "Platform",
         "orientation": "v",
         "showlegend": true,
         "text": [
          0.28
         ],
         "textposition": "auto",
         "type": "bar",
         "x": [
          "Platform"
         ],
         "xaxis": "x",
         "y": [
          0.28
         ],
         "yaxis": "y"
        },
        {
         "alignmentgroup": "True",
         "hovertemplate": "Genre=%{x}<br>Global_Sales=%{text}<extra></extra>",
         "legendgroup": "Shooter",
         "marker": {
          "color": "#EF553B",
          "pattern": {
           "shape": ""
          }
         },
         "name": "Shooter",
         "offsetgroup": "Shooter",
         "orientation": "v",
         "showlegend": true,
         "text": [
          0.23
         ],
         "textposition": "auto",
         "type": "bar",
         "x": [
          "Shooter"
         ],
         "xaxis": "x",
         "y": [
          0.23
         ],
         "yaxis": "y"
        },
        {
         "alignmentgroup": "True",
         "hovertemplate": "Genre=%{x}<br>Global_Sales=%{text}<extra></extra>",
         "legendgroup": "Sports",
         "marker": {
          "color": "#00cc96",
          "pattern": {
           "shape": ""
          }
         },
         "name": "Sports",
         "offsetgroup": "Sports",
         "orientation": "v",
         "showlegend": true,
         "text": [
          0.22
         ],
         "textposition": "auto",
         "type": "bar",
         "x": [
          "Sports"
         ],
         "xaxis": "x",
         "y": [
          0.22
         ],
         "yaxis": "y"
        },
        {
         "alignmentgroup": "True",
         "hovertemplate": "Genre=%{x}<br>Global_Sales=%{text}<extra></extra>",
         "legendgroup": "Fighting",
         "marker": {
          "color": "#ab63fa",
          "pattern": {
           "shape": ""
          }
         },
         "name": "Fighting",
         "offsetgroup": "Fighting",
         "orientation": "v",
         "showlegend": true,
         "text": [
          0.21
         ],
         "textposition": "auto",
         "type": "bar",
         "x": [
          "Fighting"
         ],
         "xaxis": "x",
         "y": [
          0.21
         ],
         "yaxis": "y"
        },
        {
         "alignmentgroup": "True",
         "hovertemplate": "Genre=%{x}<br>Global_Sales=%{text}<extra></extra>",
         "legendgroup": "Action",
         "marker": {
          "color": "#FFA15A",
          "pattern": {
           "shape": ""
          }
         },
         "name": "Action",
         "offsetgroup": "Action",
         "orientation": "v",
         "showlegend": true,
         "text": [
          0.19
         ],
         "textposition": "auto",
         "type": "bar",
         "x": [
          "Action"
         ],
         "xaxis": "x",
         "y": [
          0.19
         ],
         "yaxis": "y"
        },
        {
         "alignmentgroup": "True",
         "hovertemplate": "Genre=%{x}<br>Global_Sales=%{text}<extra></extra>",
         "legendgroup": "Racing",
         "marker": {
          "color": "#19d3f3",
          "pattern": {
           "shape": ""
          }
         },
         "name": "Racing",
         "offsetgroup": "Racing",
         "orientation": "v",
         "showlegend": true,
         "text": [
          0.19
         ],
         "textposition": "auto",
         "type": "bar",
         "x": [
          "Racing"
         ],
         "xaxis": "x",
         "y": [
          0.19
         ],
         "yaxis": "y"
        },
        {
         "alignmentgroup": "True",
         "hovertemplate": "Genre=%{x}<br>Global_Sales=%{text}<extra></extra>",
         "legendgroup": "Role-Playing",
         "marker": {
          "color": "#FF6692",
          "pattern": {
           "shape": ""
          }
         },
         "name": "Role-Playing",
         "offsetgroup": "Role-Playing",
         "orientation": "v",
         "showlegend": true,
         "text": [
          0.19
         ],
         "textposition": "auto",
         "type": "bar",
         "x": [
          "Role-Playing"
         ],
         "xaxis": "x",
         "y": [
          0.19
         ],
         "yaxis": "y"
        },
        {
         "alignmentgroup": "True",
         "hovertemplate": "Genre=%{x}<br>Global_Sales=%{text}<extra></extra>",
         "legendgroup": "Misc",
         "marker": {
          "color": "#B6E880",
          "pattern": {
           "shape": ""
          }
         },
         "name": "Misc",
         "offsetgroup": "Misc",
         "orientation": "v",
         "showlegend": true,
         "text": [
          0.16
         ],
         "textposition": "auto",
         "type": "bar",
         "x": [
          "Misc"
         ],
         "xaxis": "x",
         "y": [
          0.16
         ],
         "yaxis": "y"
        },
        {
         "alignmentgroup": "True",
         "hovertemplate": "Genre=%{x}<br>Global_Sales=%{text}<extra></extra>",
         "legendgroup": "Simulation",
         "marker": {
          "color": "#FF97FF",
          "pattern": {
           "shape": ""
          }
         },
         "name": "Simulation",
         "offsetgroup": "Simulation",
         "orientation": "v",
         "showlegend": true,
         "text": [
          0.16
         ],
         "textposition": "auto",
         "type": "bar",
         "x": [
          "Simulation"
         ],
         "xaxis": "x",
         "y": [
          0.16
         ],
         "yaxis": "y"
        },
        {
         "alignmentgroup": "True",
         "hovertemplate": "Genre=%{x}<br>Global_Sales=%{text}<extra></extra>",
         "legendgroup": "Puzzle",
         "marker": {
          "color": "#FECB52",
          "pattern": {
           "shape": ""
          }
         },
         "name": "Puzzle",
         "offsetgroup": "Puzzle",
         "orientation": "v",
         "showlegend": true,
         "text": [
          0.11
         ],
         "textposition": "auto",
         "type": "bar",
         "x": [
          "Puzzle"
         ],
         "xaxis": "x",
         "y": [
          0.11
         ],
         "yaxis": "y"
        }
       ],
       "layout": {
        "barmode": "relative",
        "height": 500,
        "legend": {
         "title": {
          "text": "Genre"
         },
         "tracegroupgap": 0
        },
        "template": {
         "data": {
          "bar": [
           {
            "error_x": {
             "color": "#2a3f5f"
            },
            "error_y": {
             "color": "#2a3f5f"
            },
            "marker": {
             "line": {
              "color": "#E5ECF6",
              "width": 0.5
             },
             "pattern": {
              "fillmode": "overlay",
              "size": 10,
              "solidity": 0.2
             }
            },
            "type": "bar"
           }
          ],
          "barpolar": [
           {
            "marker": {
             "line": {
              "color": "#E5ECF6",
              "width": 0.5
             },
             "pattern": {
              "fillmode": "overlay",
              "size": 10,
              "solidity": 0.2
             }
            },
            "type": "barpolar"
           }
          ],
          "carpet": [
           {
            "aaxis": {
             "endlinecolor": "#2a3f5f",
             "gridcolor": "white",
             "linecolor": "white",
             "minorgridcolor": "white",
             "startlinecolor": "#2a3f5f"
            },
            "baxis": {
             "endlinecolor": "#2a3f5f",
             "gridcolor": "white",
             "linecolor": "white",
             "minorgridcolor": "white",
             "startlinecolor": "#2a3f5f"
            },
            "type": "carpet"
           }
          ],
          "choropleth": [
           {
            "colorbar": {
             "outlinewidth": 0,
             "ticks": ""
            },
            "type": "choropleth"
           }
          ],
          "contour": [
           {
            "colorbar": {
             "outlinewidth": 0,
             "ticks": ""
            },
            "colorscale": [
             [
              0,
              "#0d0887"
             ],
             [
              0.1111111111111111,
              "#46039f"
             ],
             [
              0.2222222222222222,
              "#7201a8"
             ],
             [
              0.3333333333333333,
              "#9c179e"
             ],
             [
              0.4444444444444444,
              "#bd3786"
             ],
             [
              0.5555555555555556,
              "#d8576b"
             ],
             [
              0.6666666666666666,
              "#ed7953"
             ],
             [
              0.7777777777777778,
              "#fb9f3a"
             ],
             [
              0.8888888888888888,
              "#fdca26"
             ],
             [
              1,
              "#f0f921"
             ]
            ],
            "type": "contour"
           }
          ],
          "contourcarpet": [
           {
            "colorbar": {
             "outlinewidth": 0,
             "ticks": ""
            },
            "type": "contourcarpet"
           }
          ],
          "heatmap": [
           {
            "colorbar": {
             "outlinewidth": 0,
             "ticks": ""
            },
            "colorscale": [
             [
              0,
              "#0d0887"
             ],
             [
              0.1111111111111111,
              "#46039f"
             ],
             [
              0.2222222222222222,
              "#7201a8"
             ],
             [
              0.3333333333333333,
              "#9c179e"
             ],
             [
              0.4444444444444444,
              "#bd3786"
             ],
             [
              0.5555555555555556,
              "#d8576b"
             ],
             [
              0.6666666666666666,
              "#ed7953"
             ],
             [
              0.7777777777777778,
              "#fb9f3a"
             ],
             [
              0.8888888888888888,
              "#fdca26"
             ],
             [
              1,
              "#f0f921"
             ]
            ],
            "type": "heatmap"
           }
          ],
          "heatmapgl": [
           {
            "colorbar": {
             "outlinewidth": 0,
             "ticks": ""
            },
            "colorscale": [
             [
              0,
              "#0d0887"
             ],
             [
              0.1111111111111111,
              "#46039f"
             ],
             [
              0.2222222222222222,
              "#7201a8"
             ],
             [
              0.3333333333333333,
              "#9c179e"
             ],
             [
              0.4444444444444444,
              "#bd3786"
             ],
             [
              0.5555555555555556,
              "#d8576b"
             ],
             [
              0.6666666666666666,
              "#ed7953"
             ],
             [
              0.7777777777777778,
              "#fb9f3a"
             ],
             [
              0.8888888888888888,
              "#fdca26"
             ],
             [
              1,
              "#f0f921"
             ]
            ],
            "type": "heatmapgl"
           }
          ],
          "histogram": [
           {
            "marker": {
             "pattern": {
              "fillmode": "overlay",
              "size": 10,
              "solidity": 0.2
             }
            },
            "type": "histogram"
           }
          ],
          "histogram2d": [
           {
            "colorbar": {
             "outlinewidth": 0,
             "ticks": ""
            },
            "colorscale": [
             [
              0,
              "#0d0887"
             ],
             [
              0.1111111111111111,
              "#46039f"
             ],
             [
              0.2222222222222222,
              "#7201a8"
             ],
             [
              0.3333333333333333,
              "#9c179e"
             ],
             [
              0.4444444444444444,
              "#bd3786"
             ],
             [
              0.5555555555555556,
              "#d8576b"
             ],
             [
              0.6666666666666666,
              "#ed7953"
             ],
             [
              0.7777777777777778,
              "#fb9f3a"
             ],
             [
              0.8888888888888888,
              "#fdca26"
             ],
             [
              1,
              "#f0f921"
             ]
            ],
            "type": "histogram2d"
           }
          ],
          "histogram2dcontour": [
           {
            "colorbar": {
             "outlinewidth": 0,
             "ticks": ""
            },
            "colorscale": [
             [
              0,
              "#0d0887"
             ],
             [
              0.1111111111111111,
              "#46039f"
             ],
             [
              0.2222222222222222,
              "#7201a8"
             ],
             [
              0.3333333333333333,
              "#9c179e"
             ],
             [
              0.4444444444444444,
              "#bd3786"
             ],
             [
              0.5555555555555556,
              "#d8576b"
             ],
             [
              0.6666666666666666,
              "#ed7953"
             ],
             [
              0.7777777777777778,
              "#fb9f3a"
             ],
             [
              0.8888888888888888,
              "#fdca26"
             ],
             [
              1,
              "#f0f921"
             ]
            ],
            "type": "histogram2dcontour"
           }
          ],
          "mesh3d": [
           {
            "colorbar": {
             "outlinewidth": 0,
             "ticks": ""
            },
            "type": "mesh3d"
           }
          ],
          "parcoords": [
           {
            "line": {
             "colorbar": {
              "outlinewidth": 0,
              "ticks": ""
             }
            },
            "type": "parcoords"
           }
          ],
          "pie": [
           {
            "automargin": true,
            "type": "pie"
           }
          ],
          "scatter": [
           {
            "fillpattern": {
             "fillmode": "overlay",
             "size": 10,
             "solidity": 0.2
            },
            "type": "scatter"
           }
          ],
          "scatter3d": [
           {
            "line": {
             "colorbar": {
              "outlinewidth": 0,
              "ticks": ""
             }
            },
            "marker": {
             "colorbar": {
              "outlinewidth": 0,
              "ticks": ""
             }
            },
            "type": "scatter3d"
           }
          ],
          "scattercarpet": [
           {
            "marker": {
             "colorbar": {
              "outlinewidth": 0,
              "ticks": ""
             }
            },
            "type": "scattercarpet"
           }
          ],
          "scattergeo": [
           {
            "marker": {
             "colorbar": {
              "outlinewidth": 0,
              "ticks": ""
             }
            },
            "type": "scattergeo"
           }
          ],
          "scattergl": [
           {
            "marker": {
             "colorbar": {
              "outlinewidth": 0,
              "ticks": ""
             }
            },
            "type": "scattergl"
           }
          ],
          "scattermapbox": [
           {
            "marker": {
             "colorbar": {
              "outlinewidth": 0,
              "ticks": ""
             }
            },
            "type": "scattermapbox"
           }
          ],
          "scatterpolar": [
           {
            "marker": {
             "colorbar": {
              "outlinewidth": 0,
              "ticks": ""
             }
            },
            "type": "scatterpolar"
           }
          ],
          "scatterpolargl": [
           {
            "marker": {
             "colorbar": {
              "outlinewidth": 0,
              "ticks": ""
             }
            },
            "type": "scatterpolargl"
           }
          ],
          "scatterternary": [
           {
            "marker": {
             "colorbar": {
              "outlinewidth": 0,
              "ticks": ""
             }
            },
            "type": "scatterternary"
           }
          ],
          "surface": [
           {
            "colorbar": {
             "outlinewidth": 0,
             "ticks": ""
            },
            "colorscale": [
             [
              0,
              "#0d0887"
             ],
             [
              0.1111111111111111,
              "#46039f"
             ],
             [
              0.2222222222222222,
              "#7201a8"
             ],
             [
              0.3333333333333333,
              "#9c179e"
             ],
             [
              0.4444444444444444,
              "#bd3786"
             ],
             [
              0.5555555555555556,
              "#d8576b"
             ],
             [
              0.6666666666666666,
              "#ed7953"
             ],
             [
              0.7777777777777778,
              "#fb9f3a"
             ],
             [
              0.8888888888888888,
              "#fdca26"
             ],
             [
              1,
              "#f0f921"
             ]
            ],
            "type": "surface"
           }
          ],
          "table": [
           {
            "cells": {
             "fill": {
              "color": "#EBF0F8"
             },
             "line": {
              "color": "white"
             }
            },
            "header": {
             "fill": {
              "color": "#C8D4E3"
             },
             "line": {
              "color": "white"
             }
            },
            "type": "table"
           }
          ]
         },
         "layout": {
          "annotationdefaults": {
           "arrowcolor": "#2a3f5f",
           "arrowhead": 0,
           "arrowwidth": 1
          },
          "autotypenumbers": "strict",
          "coloraxis": {
           "colorbar": {
            "outlinewidth": 0,
            "ticks": ""
           }
          },
          "colorscale": {
           "diverging": [
            [
             0,
             "#8e0152"
            ],
            [
             0.1,
             "#c51b7d"
            ],
            [
             0.2,
             "#de77ae"
            ],
            [
             0.3,
             "#f1b6da"
            ],
            [
             0.4,
             "#fde0ef"
            ],
            [
             0.5,
             "#f7f7f7"
            ],
            [
             0.6,
             "#e6f5d0"
            ],
            [
             0.7,
             "#b8e186"
            ],
            [
             0.8,
             "#7fbc41"
            ],
            [
             0.9,
             "#4d9221"
            ],
            [
             1,
             "#276419"
            ]
           ],
           "sequential": [
            [
             0,
             "#0d0887"
            ],
            [
             0.1111111111111111,
             "#46039f"
            ],
            [
             0.2222222222222222,
             "#7201a8"
            ],
            [
             0.3333333333333333,
             "#9c179e"
            ],
            [
             0.4444444444444444,
             "#bd3786"
            ],
            [
             0.5555555555555556,
             "#d8576b"
            ],
            [
             0.6666666666666666,
             "#ed7953"
            ],
            [
             0.7777777777777778,
             "#fb9f3a"
            ],
            [
             0.8888888888888888,
             "#fdca26"
            ],
            [
             1,
             "#f0f921"
            ]
           ],
           "sequentialminus": [
            [
             0,
             "#0d0887"
            ],
            [
             0.1111111111111111,
             "#46039f"
            ],
            [
             0.2222222222222222,
             "#7201a8"
            ],
            [
             0.3333333333333333,
             "#9c179e"
            ],
            [
             0.4444444444444444,
             "#bd3786"
            ],
            [
             0.5555555555555556,
             "#d8576b"
            ],
            [
             0.6666666666666666,
             "#ed7953"
            ],
            [
             0.7777777777777778,
             "#fb9f3a"
            ],
            [
             0.8888888888888888,
             "#fdca26"
            ],
            [
             1,
             "#f0f921"
            ]
           ]
          },
          "colorway": [
           "#636efa",
           "#EF553B",
           "#00cc96",
           "#ab63fa",
           "#FFA15A",
           "#19d3f3",
           "#FF6692",
           "#B6E880",
           "#FF97FF",
           "#FECB52"
          ],
          "font": {
           "color": "#2a3f5f"
          },
          "geo": {
           "bgcolor": "white",
           "lakecolor": "white",
           "landcolor": "#E5ECF6",
           "showlakes": true,
           "showland": true,
           "subunitcolor": "white"
          },
          "hoverlabel": {
           "align": "left"
          },
          "hovermode": "closest",
          "mapbox": {
           "style": "light"
          },
          "paper_bgcolor": "white",
          "plot_bgcolor": "#E5ECF6",
          "polar": {
           "angularaxis": {
            "gridcolor": "white",
            "linecolor": "white",
            "ticks": ""
           },
           "bgcolor": "#E5ECF6",
           "radialaxis": {
            "gridcolor": "white",
            "linecolor": "white",
            "ticks": ""
           }
          },
          "scene": {
           "xaxis": {
            "backgroundcolor": "#E5ECF6",
            "gridcolor": "white",
            "gridwidth": 2,
            "linecolor": "white",
            "showbackground": true,
            "ticks": "",
            "zerolinecolor": "white"
           },
           "yaxis": {
            "backgroundcolor": "#E5ECF6",
            "gridcolor": "white",
            "gridwidth": 2,
            "linecolor": "white",
            "showbackground": true,
            "ticks": "",
            "zerolinecolor": "white"
           },
           "zaxis": {
            "backgroundcolor": "#E5ECF6",
            "gridcolor": "white",
            "gridwidth": 2,
            "linecolor": "white",
            "showbackground": true,
            "ticks": "",
            "zerolinecolor": "white"
           }
          },
          "shapedefaults": {
           "line": {
            "color": "#2a3f5f"
           }
          },
          "ternary": {
           "aaxis": {
            "gridcolor": "white",
            "linecolor": "white",
            "ticks": ""
           },
           "baxis": {
            "gridcolor": "white",
            "linecolor": "white",
            "ticks": ""
           },
           "bgcolor": "#E5ECF6",
           "caxis": {
            "gridcolor": "white",
            "linecolor": "white",
            "ticks": ""
           }
          },
          "title": {
           "x": 0.05
          },
          "xaxis": {
           "automargin": true,
           "gridcolor": "white",
           "linecolor": "white",
           "ticks": "",
           "title": {
            "standoff": 15
           },
           "zerolinecolor": "white",
           "zerolinewidth": 2
          },
          "yaxis": {
           "automargin": true,
           "gridcolor": "white",
           "linecolor": "white",
           "ticks": "",
           "title": {
            "standoff": 15
           },
           "zerolinecolor": "white",
           "zerolinewidth": 2
          }
         }
        },
        "title": {
         "text": "Top 10 Genres for Global Sales"
        },
        "width": 800,
        "xaxis": {
         "anchor": "y",
         "categoryarray": [
          "Platform",
          "Shooter",
          "Sports",
          "Fighting",
          "Action",
          "Racing",
          "Role-Playing",
          "Misc",
          "Simulation",
          "Puzzle"
         ],
         "categoryorder": "array",
         "domain": [
          0,
          1
         ],
         "title": {
          "text": "Genre"
         }
        },
        "yaxis": {
         "anchor": "x",
         "domain": [
          0,
          1
         ],
         "title": {
          "text": "Global_Sales"
         }
        }
       }
      }
     },
     "metadata": {},
     "output_type": "display_data"
    }
   ],
   "source": [
    "import plotly\n",
    "import plotly.express as px\n",
    "\n",
    "bar_data_genre = game_data.groupby(\n",
    "    by='Genre',\n",
    "    as_index=False\n",
    ")[['Global_Sales']].median().round(2).nlargest(10, columns=['Global_Sales'])\n",
    "\n",
    "fig = px.bar(\n",
    "    data_frame=bar_data_genre, \n",
    "    x=\"Genre\",\n",
    "    y=\"Global_Sales\",\n",
    "    color='Genre', #расцветка в зависимости от жанра\n",
    "    text = 'Global_Sales', #текст на столбцах\n",
    "    orientation='v',\n",
    "    height=500,\n",
    "    width=800,\n",
    "    title='Top 10 Genres for Global Sales'\n",
    ")\n",
    "\n",
    "fig.show()"
   ]
  },
  {
   "cell_type": "code",
   "execution_count": 160,
   "metadata": {},
   "outputs": [
    {
     "data": {
      "application/vnd.plotly.v1+json": {
       "config": {
        "plotlyServerURL": "https://plot.ly"
       },
       "data": [
        {
         "alignmentgroup": "True",
         "hovertemplate": "Platform=%{x}<br>Global_Sales=%{text}<extra></extra>",
         "legendgroup": "NES",
         "marker": {
          "color": "#636efa",
          "pattern": {
           "shape": ""
          }
         },
         "name": "NES",
         "offsetgroup": "NES",
         "orientation": "v",
         "showlegend": true,
         "text": [
          1.38
         ],
         "textposition": "auto",
         "type": "bar",
         "x": [
          "NES"
         ],
         "xaxis": "x",
         "y": [
          1.38
         ],
         "yaxis": "y"
        },
        {
         "alignmentgroup": "True",
         "hovertemplate": "Platform=%{x}<br>Global_Sales=%{text}<extra></extra>",
         "legendgroup": "GB",
         "marker": {
          "color": "#EF553B",
          "pattern": {
           "shape": ""
          }
         },
         "name": "GB",
         "offsetgroup": "GB",
         "orientation": "v",
         "showlegend": true,
         "text": [
          1.18
         ],
         "textposition": "auto",
         "type": "bar",
         "x": [
          "GB"
         ],
         "xaxis": "x",
         "y": [
          1.18
         ],
         "yaxis": "y"
        },
        {
         "alignmentgroup": "True",
         "hovertemplate": "Platform=%{x}<br>Global_Sales=%{text}<extra></extra>",
         "legendgroup": "2600",
         "marker": {
          "color": "#00cc96",
          "pattern": {
           "shape": ""
          }
         },
         "name": "2600",
         "offsetgroup": "2600",
         "orientation": "v",
         "showlegend": true,
         "text": [
          0.48
         ],
         "textposition": "auto",
         "type": "bar",
         "x": [
          "2600"
         ],
         "xaxis": "x",
         "y": [
          0.48
         ],
         "yaxis": "y"
        },
        {
         "alignmentgroup": "True",
         "hovertemplate": "Platform=%{x}<br>Global_Sales=%{text}<extra></extra>",
         "legendgroup": "SNES",
         "marker": {
          "color": "#ab63fa",
          "pattern": {
           "shape": ""
          }
         },
         "name": "SNES",
         "offsetgroup": "SNES",
         "orientation": "v",
         "showlegend": true,
         "text": [
          0.32
         ],
         "textposition": "auto",
         "type": "bar",
         "x": [
          "SNES"
         ],
         "xaxis": "x",
         "y": [
          0.32
         ],
         "yaxis": "y"
        },
        {
         "alignmentgroup": "True",
         "hovertemplate": "Platform=%{x}<br>Global_Sales=%{text}<extra></extra>",
         "legendgroup": "PS3",
         "marker": {
          "color": "#FFA15A",
          "pattern": {
           "shape": ""
          }
         },
         "name": "PS3",
         "offsetgroup": "PS3",
         "orientation": "v",
         "showlegend": true,
         "text": [
          0.29
         ],
         "textposition": "auto",
         "type": "bar",
         "x": [
          "PS3"
         ],
         "xaxis": "x",
         "y": [
          0.29
         ],
         "yaxis": "y"
        },
        {
         "alignmentgroup": "True",
         "hovertemplate": "Platform=%{x}<br>Global_Sales=%{text}<extra></extra>",
         "legendgroup": "X360",
         "marker": {
          "color": "#19d3f3",
          "pattern": {
           "shape": ""
          }
         },
         "name": "X360",
         "offsetgroup": "X360",
         "orientation": "v",
         "showlegend": true,
         "text": [
          0.29
         ],
         "textposition": "auto",
         "type": "bar",
         "x": [
          "X360"
         ],
         "xaxis": "x",
         "y": [
          0.29
         ],
         "yaxis": "y"
        },
        {
         "alignmentgroup": "True",
         "hovertemplate": "Platform=%{x}<br>Global_Sales=%{text}<extra></extra>",
         "legendgroup": "N64",
         "marker": {
          "color": "#FF6692",
          "pattern": {
           "shape": ""
          }
         },
         "name": "N64",
         "offsetgroup": "N64",
         "orientation": "v",
         "showlegend": true,
         "text": [
          0.27
         ],
         "textposition": "auto",
         "type": "bar",
         "x": [
          "N64"
         ],
         "xaxis": "x",
         "y": [
          0.27
         ],
         "yaxis": "y"
        },
        {
         "alignmentgroup": "True",
         "hovertemplate": "Platform=%{x}<br>Global_Sales=%{text}<extra></extra>",
         "legendgroup": "PS",
         "marker": {
          "color": "#B6E880",
          "pattern": {
           "shape": ""
          }
         },
         "name": "PS",
         "offsetgroup": "PS",
         "orientation": "v",
         "showlegend": true,
         "text": [
          0.26
         ],
         "textposition": "auto",
         "type": "bar",
         "x": [
          "PS"
         ],
         "xaxis": "x",
         "y": [
          0.26
         ],
         "yaxis": "y"
        },
        {
         "alignmentgroup": "True",
         "hovertemplate": "Platform=%{x}<br>Global_Sales=%{text}<extra></extra>",
         "legendgroup": "XOne",
         "marker": {
          "color": "#FF97FF",
          "pattern": {
           "shape": ""
          }
         },
         "name": "XOne",
         "offsetgroup": "XOne",
         "orientation": "v",
         "showlegend": true,
         "text": [
          0.24
         ],
         "textposition": "auto",
         "type": "bar",
         "x": [
          "XOne"
         ],
         "xaxis": "x",
         "y": [
          0.24
         ],
         "yaxis": "y"
        },
        {
         "alignmentgroup": "True",
         "hovertemplate": "Platform=%{x}<br>Global_Sales=%{text}<extra></extra>",
         "legendgroup": "PS2",
         "marker": {
          "color": "#FECB52",
          "pattern": {
           "shape": ""
          }
         },
         "name": "PS2",
         "offsetgroup": "PS2",
         "orientation": "v",
         "showlegend": true,
         "text": [
          0.23
         ],
         "textposition": "auto",
         "type": "bar",
         "x": [
          "PS2"
         ],
         "xaxis": "x",
         "y": [
          0.23
         ],
         "yaxis": "y"
        }
       ],
       "layout": {
        "barmode": "relative",
        "height": 500,
        "legend": {
         "title": {
          "text": "Platform"
         },
         "tracegroupgap": 0
        },
        "template": {
         "data": {
          "bar": [
           {
            "error_x": {
             "color": "#2a3f5f"
            },
            "error_y": {
             "color": "#2a3f5f"
            },
            "marker": {
             "line": {
              "color": "#E5ECF6",
              "width": 0.5
             },
             "pattern": {
              "fillmode": "overlay",
              "size": 10,
              "solidity": 0.2
             }
            },
            "type": "bar"
           }
          ],
          "barpolar": [
           {
            "marker": {
             "line": {
              "color": "#E5ECF6",
              "width": 0.5
             },
             "pattern": {
              "fillmode": "overlay",
              "size": 10,
              "solidity": 0.2
             }
            },
            "type": "barpolar"
           }
          ],
          "carpet": [
           {
            "aaxis": {
             "endlinecolor": "#2a3f5f",
             "gridcolor": "white",
             "linecolor": "white",
             "minorgridcolor": "white",
             "startlinecolor": "#2a3f5f"
            },
            "baxis": {
             "endlinecolor": "#2a3f5f",
             "gridcolor": "white",
             "linecolor": "white",
             "minorgridcolor": "white",
             "startlinecolor": "#2a3f5f"
            },
            "type": "carpet"
           }
          ],
          "choropleth": [
           {
            "colorbar": {
             "outlinewidth": 0,
             "ticks": ""
            },
            "type": "choropleth"
           }
          ],
          "contour": [
           {
            "colorbar": {
             "outlinewidth": 0,
             "ticks": ""
            },
            "colorscale": [
             [
              0,
              "#0d0887"
             ],
             [
              0.1111111111111111,
              "#46039f"
             ],
             [
              0.2222222222222222,
              "#7201a8"
             ],
             [
              0.3333333333333333,
              "#9c179e"
             ],
             [
              0.4444444444444444,
              "#bd3786"
             ],
             [
              0.5555555555555556,
              "#d8576b"
             ],
             [
              0.6666666666666666,
              "#ed7953"
             ],
             [
              0.7777777777777778,
              "#fb9f3a"
             ],
             [
              0.8888888888888888,
              "#fdca26"
             ],
             [
              1,
              "#f0f921"
             ]
            ],
            "type": "contour"
           }
          ],
          "contourcarpet": [
           {
            "colorbar": {
             "outlinewidth": 0,
             "ticks": ""
            },
            "type": "contourcarpet"
           }
          ],
          "heatmap": [
           {
            "colorbar": {
             "outlinewidth": 0,
             "ticks": ""
            },
            "colorscale": [
             [
              0,
              "#0d0887"
             ],
             [
              0.1111111111111111,
              "#46039f"
             ],
             [
              0.2222222222222222,
              "#7201a8"
             ],
             [
              0.3333333333333333,
              "#9c179e"
             ],
             [
              0.4444444444444444,
              "#bd3786"
             ],
             [
              0.5555555555555556,
              "#d8576b"
             ],
             [
              0.6666666666666666,
              "#ed7953"
             ],
             [
              0.7777777777777778,
              "#fb9f3a"
             ],
             [
              0.8888888888888888,
              "#fdca26"
             ],
             [
              1,
              "#f0f921"
             ]
            ],
            "type": "heatmap"
           }
          ],
          "heatmapgl": [
           {
            "colorbar": {
             "outlinewidth": 0,
             "ticks": ""
            },
            "colorscale": [
             [
              0,
              "#0d0887"
             ],
             [
              0.1111111111111111,
              "#46039f"
             ],
             [
              0.2222222222222222,
              "#7201a8"
             ],
             [
              0.3333333333333333,
              "#9c179e"
             ],
             [
              0.4444444444444444,
              "#bd3786"
             ],
             [
              0.5555555555555556,
              "#d8576b"
             ],
             [
              0.6666666666666666,
              "#ed7953"
             ],
             [
              0.7777777777777778,
              "#fb9f3a"
             ],
             [
              0.8888888888888888,
              "#fdca26"
             ],
             [
              1,
              "#f0f921"
             ]
            ],
            "type": "heatmapgl"
           }
          ],
          "histogram": [
           {
            "marker": {
             "pattern": {
              "fillmode": "overlay",
              "size": 10,
              "solidity": 0.2
             }
            },
            "type": "histogram"
           }
          ],
          "histogram2d": [
           {
            "colorbar": {
             "outlinewidth": 0,
             "ticks": ""
            },
            "colorscale": [
             [
              0,
              "#0d0887"
             ],
             [
              0.1111111111111111,
              "#46039f"
             ],
             [
              0.2222222222222222,
              "#7201a8"
             ],
             [
              0.3333333333333333,
              "#9c179e"
             ],
             [
              0.4444444444444444,
              "#bd3786"
             ],
             [
              0.5555555555555556,
              "#d8576b"
             ],
             [
              0.6666666666666666,
              "#ed7953"
             ],
             [
              0.7777777777777778,
              "#fb9f3a"
             ],
             [
              0.8888888888888888,
              "#fdca26"
             ],
             [
              1,
              "#f0f921"
             ]
            ],
            "type": "histogram2d"
           }
          ],
          "histogram2dcontour": [
           {
            "colorbar": {
             "outlinewidth": 0,
             "ticks": ""
            },
            "colorscale": [
             [
              0,
              "#0d0887"
             ],
             [
              0.1111111111111111,
              "#46039f"
             ],
             [
              0.2222222222222222,
              "#7201a8"
             ],
             [
              0.3333333333333333,
              "#9c179e"
             ],
             [
              0.4444444444444444,
              "#bd3786"
             ],
             [
              0.5555555555555556,
              "#d8576b"
             ],
             [
              0.6666666666666666,
              "#ed7953"
             ],
             [
              0.7777777777777778,
              "#fb9f3a"
             ],
             [
              0.8888888888888888,
              "#fdca26"
             ],
             [
              1,
              "#f0f921"
             ]
            ],
            "type": "histogram2dcontour"
           }
          ],
          "mesh3d": [
           {
            "colorbar": {
             "outlinewidth": 0,
             "ticks": ""
            },
            "type": "mesh3d"
           }
          ],
          "parcoords": [
           {
            "line": {
             "colorbar": {
              "outlinewidth": 0,
              "ticks": ""
             }
            },
            "type": "parcoords"
           }
          ],
          "pie": [
           {
            "automargin": true,
            "type": "pie"
           }
          ],
          "scatter": [
           {
            "fillpattern": {
             "fillmode": "overlay",
             "size": 10,
             "solidity": 0.2
            },
            "type": "scatter"
           }
          ],
          "scatter3d": [
           {
            "line": {
             "colorbar": {
              "outlinewidth": 0,
              "ticks": ""
             }
            },
            "marker": {
             "colorbar": {
              "outlinewidth": 0,
              "ticks": ""
             }
            },
            "type": "scatter3d"
           }
          ],
          "scattercarpet": [
           {
            "marker": {
             "colorbar": {
              "outlinewidth": 0,
              "ticks": ""
             }
            },
            "type": "scattercarpet"
           }
          ],
          "scattergeo": [
           {
            "marker": {
             "colorbar": {
              "outlinewidth": 0,
              "ticks": ""
             }
            },
            "type": "scattergeo"
           }
          ],
          "scattergl": [
           {
            "marker": {
             "colorbar": {
              "outlinewidth": 0,
              "ticks": ""
             }
            },
            "type": "scattergl"
           }
          ],
          "scattermapbox": [
           {
            "marker": {
             "colorbar": {
              "outlinewidth": 0,
              "ticks": ""
             }
            },
            "type": "scattermapbox"
           }
          ],
          "scatterpolar": [
           {
            "marker": {
             "colorbar": {
              "outlinewidth": 0,
              "ticks": ""
             }
            },
            "type": "scatterpolar"
           }
          ],
          "scatterpolargl": [
           {
            "marker": {
             "colorbar": {
              "outlinewidth": 0,
              "ticks": ""
             }
            },
            "type": "scatterpolargl"
           }
          ],
          "scatterternary": [
           {
            "marker": {
             "colorbar": {
              "outlinewidth": 0,
              "ticks": ""
             }
            },
            "type": "scatterternary"
           }
          ],
          "surface": [
           {
            "colorbar": {
             "outlinewidth": 0,
             "ticks": ""
            },
            "colorscale": [
             [
              0,
              "#0d0887"
             ],
             [
              0.1111111111111111,
              "#46039f"
             ],
             [
              0.2222222222222222,
              "#7201a8"
             ],
             [
              0.3333333333333333,
              "#9c179e"
             ],
             [
              0.4444444444444444,
              "#bd3786"
             ],
             [
              0.5555555555555556,
              "#d8576b"
             ],
             [
              0.6666666666666666,
              "#ed7953"
             ],
             [
              0.7777777777777778,
              "#fb9f3a"
             ],
             [
              0.8888888888888888,
              "#fdca26"
             ],
             [
              1,
              "#f0f921"
             ]
            ],
            "type": "surface"
           }
          ],
          "table": [
           {
            "cells": {
             "fill": {
              "color": "#EBF0F8"
             },
             "line": {
              "color": "white"
             }
            },
            "header": {
             "fill": {
              "color": "#C8D4E3"
             },
             "line": {
              "color": "white"
             }
            },
            "type": "table"
           }
          ]
         },
         "layout": {
          "annotationdefaults": {
           "arrowcolor": "#2a3f5f",
           "arrowhead": 0,
           "arrowwidth": 1
          },
          "autotypenumbers": "strict",
          "coloraxis": {
           "colorbar": {
            "outlinewidth": 0,
            "ticks": ""
           }
          },
          "colorscale": {
           "diverging": [
            [
             0,
             "#8e0152"
            ],
            [
             0.1,
             "#c51b7d"
            ],
            [
             0.2,
             "#de77ae"
            ],
            [
             0.3,
             "#f1b6da"
            ],
            [
             0.4,
             "#fde0ef"
            ],
            [
             0.5,
             "#f7f7f7"
            ],
            [
             0.6,
             "#e6f5d0"
            ],
            [
             0.7,
             "#b8e186"
            ],
            [
             0.8,
             "#7fbc41"
            ],
            [
             0.9,
             "#4d9221"
            ],
            [
             1,
             "#276419"
            ]
           ],
           "sequential": [
            [
             0,
             "#0d0887"
            ],
            [
             0.1111111111111111,
             "#46039f"
            ],
            [
             0.2222222222222222,
             "#7201a8"
            ],
            [
             0.3333333333333333,
             "#9c179e"
            ],
            [
             0.4444444444444444,
             "#bd3786"
            ],
            [
             0.5555555555555556,
             "#d8576b"
            ],
            [
             0.6666666666666666,
             "#ed7953"
            ],
            [
             0.7777777777777778,
             "#fb9f3a"
            ],
            [
             0.8888888888888888,
             "#fdca26"
            ],
            [
             1,
             "#f0f921"
            ]
           ],
           "sequentialminus": [
            [
             0,
             "#0d0887"
            ],
            [
             0.1111111111111111,
             "#46039f"
            ],
            [
             0.2222222222222222,
             "#7201a8"
            ],
            [
             0.3333333333333333,
             "#9c179e"
            ],
            [
             0.4444444444444444,
             "#bd3786"
            ],
            [
             0.5555555555555556,
             "#d8576b"
            ],
            [
             0.6666666666666666,
             "#ed7953"
            ],
            [
             0.7777777777777778,
             "#fb9f3a"
            ],
            [
             0.8888888888888888,
             "#fdca26"
            ],
            [
             1,
             "#f0f921"
            ]
           ]
          },
          "colorway": [
           "#636efa",
           "#EF553B",
           "#00cc96",
           "#ab63fa",
           "#FFA15A",
           "#19d3f3",
           "#FF6692",
           "#B6E880",
           "#FF97FF",
           "#FECB52"
          ],
          "font": {
           "color": "#2a3f5f"
          },
          "geo": {
           "bgcolor": "white",
           "lakecolor": "white",
           "landcolor": "#E5ECF6",
           "showlakes": true,
           "showland": true,
           "subunitcolor": "white"
          },
          "hoverlabel": {
           "align": "left"
          },
          "hovermode": "closest",
          "mapbox": {
           "style": "light"
          },
          "paper_bgcolor": "white",
          "plot_bgcolor": "#E5ECF6",
          "polar": {
           "angularaxis": {
            "gridcolor": "white",
            "linecolor": "white",
            "ticks": ""
           },
           "bgcolor": "#E5ECF6",
           "radialaxis": {
            "gridcolor": "white",
            "linecolor": "white",
            "ticks": ""
           }
          },
          "scene": {
           "xaxis": {
            "backgroundcolor": "#E5ECF6",
            "gridcolor": "white",
            "gridwidth": 2,
            "linecolor": "white",
            "showbackground": true,
            "ticks": "",
            "zerolinecolor": "white"
           },
           "yaxis": {
            "backgroundcolor": "#E5ECF6",
            "gridcolor": "white",
            "gridwidth": 2,
            "linecolor": "white",
            "showbackground": true,
            "ticks": "",
            "zerolinecolor": "white"
           },
           "zaxis": {
            "backgroundcolor": "#E5ECF6",
            "gridcolor": "white",
            "gridwidth": 2,
            "linecolor": "white",
            "showbackground": true,
            "ticks": "",
            "zerolinecolor": "white"
           }
          },
          "shapedefaults": {
           "line": {
            "color": "#2a3f5f"
           }
          },
          "ternary": {
           "aaxis": {
            "gridcolor": "white",
            "linecolor": "white",
            "ticks": ""
           },
           "baxis": {
            "gridcolor": "white",
            "linecolor": "white",
            "ticks": ""
           },
           "bgcolor": "#E5ECF6",
           "caxis": {
            "gridcolor": "white",
            "linecolor": "white",
            "ticks": ""
           }
          },
          "title": {
           "x": 0.05
          },
          "xaxis": {
           "automargin": true,
           "gridcolor": "white",
           "linecolor": "white",
           "ticks": "",
           "title": {
            "standoff": 15
           },
           "zerolinecolor": "white",
           "zerolinewidth": 2
          },
          "yaxis": {
           "automargin": true,
           "gridcolor": "white",
           "linecolor": "white",
           "ticks": "",
           "title": {
            "standoff": 15
           },
           "zerolinecolor": "white",
           "zerolinewidth": 2
          }
         }
        },
        "title": {
         "text": "Top 10 Platforms for Global Sales"
        },
        "width": 800,
        "xaxis": {
         "anchor": "y",
         "categoryarray": [
          "NES",
          "GB",
          "2600",
          "SNES",
          "PS3",
          "X360",
          "N64",
          "PS",
          "XOne",
          "PS2"
         ],
         "categoryorder": "array",
         "domain": [
          0,
          1
         ],
         "title": {
          "text": "Platform"
         }
        },
        "yaxis": {
         "anchor": "x",
         "domain": [
          0,
          1
         ],
         "title": {
          "text": "Global_Sales"
         }
        }
       }
      }
     },
     "metadata": {},
     "output_type": "display_data"
    }
   ],
   "source": [
    "bar_data_platform = game_data.groupby(\n",
    "    by='Platform',\n",
    "    as_index=False\n",
    ")[['Global_Sales']].median().round(2).nlargest(10, columns=['Global_Sales'])\n",
    "\n",
    "fig = px.bar(\n",
    "    data_frame=bar_data_platform, \n",
    "    x=\"Platform\",\n",
    "    y=\"Global_Sales\",\n",
    "    color='Platform', #расцветка в зависимости от жанра\n",
    "    text = 'Global_Sales', #текст на столбцах\n",
    "    orientation='v',\n",
    "    height=500,\n",
    "    width=800,\n",
    "    title='Top 10 Platforms for Global Sales'\n",
    ")\n",
    "\n",
    "fig.show()"
   ]
  },
  {
   "cell_type": "code",
   "execution_count": 250,
   "metadata": {},
   "outputs": [
    {
     "data": {
      "image/png": "[encoded data removed]",
      "text/plain": [
       "<Figure size 640x480 with 2 Axes>"
      ]
     },
     "metadata": {},
     "output_type": "display_data"
    }
   ],
   "source": [
    "pivot_data = game_data.pivot_table(\n",
    "    values='Global_Sales',\n",
    "    index='Platform',\n",
    "    columns='Genre',\n",
    "    aggfunc='median'\n",
    ")\n",
    "\n",
    "thresh = pivot_data.shape[1]*0.7\n",
    "#удаляем столбцы, в которых более 30% (100-70) пропусков\n",
    "pivot_data = pivot_data.dropna(thresh=thresh, axis=0)\n",
    "\n",
    "heatmap = sns.heatmap(data=pivot_data, cmap='YlGnBu')\n",
    "heatmap.set_title('Тепловая карта взаимосвязи жанра и платформы', fontsize=16);"
   ]
  }
 ],
 "metadata": {
  "kernelspec": {
   "display_name": "Python 3",
   "language": "python",
   "name": "python3"
  },
  "language_info": {
   "codemirror_mode": {
    "name": "ipython",
    "version": 3
   },
   "file_extension": ".py",
   "mimetype": "text/x-python",
   "name": "python",
   "nbconvert_exporter": "python",
   "pygments_lexer": "ipython3",
   "version": "3.9.10"
  }
 },
 "nbformat": 4,
 "nbformat_minor": 2
}
