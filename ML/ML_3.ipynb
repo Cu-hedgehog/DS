{
 "cells": [
  {
   "cell_type": "code",
   "execution_count": 15,
   "metadata": {},
   "outputs": [
    {
     "data": {
      "text/plain": [
       "1"
      ]
     },
     "execution_count": 15,
     "metadata": {},
     "output_type": "execute_result"
    }
   ],
   "source": [
    "import random\n",
    "import pandas as pd\n",
    "\n",
    "random.seed(10)\n",
    "\n",
    "list_metrics = []\n",
    "\n",
    "for i in range(0,300):\n",
    "  n = random.randint(-100,1000)\n",
    "  list_metrics.append(n)\n",
    "\n",
    "list_metrics = pd.DataFrame({'Прирост': list_metrics})\n",
    "list_metrics\n",
    "\n",
    "# далее будет код шаблона\n",
    "result1 = round(list_metrics['Прирост'].std(), 2)\n",
    "#round(list_metrics['Прирост'].max() - list_metrics['Прирост'].min(), 2)\n",
    "abs(list_metrics['Прирост']).min()# - abs(list_metrics['Прирост'].min())"
   ]
  },
  {
   "cell_type": "code",
   "execution_count": 28,
   "metadata": {},
   "outputs": [
    {
     "data": {
      "text/plain": [
       "driver_gender\n",
       "M    62895\n",
       "F    23511\n",
       "Name: count, dtype: int64"
      ]
     },
     "execution_count": 28,
     "metadata": {},
     "output_type": "execute_result"
    }
   ],
   "source": [
    "police_df = pd.read_csv('data/police.csv')\n",
    "police_df.drop(columns='county_name', inplace=True)\n",
    "police_df['driver_gender'].value_counts()"
   ]
  }
 ],
 "metadata": {
  "kernelspec": {
   "display_name": "Python 3",
   "language": "python",
   "name": "python3"
  },
  "language_info": {
   "codemirror_mode": {
    "name": "ipython",
    "version": 3
   },
   "file_extension": ".py",
   "mimetype": "text/x-python",
   "name": "python",
   "nbconvert_exporter": "python",
   "pygments_lexer": "ipython3",
   "version": "3.9.10"
  }
 },
 "nbformat": 4,
 "nbformat_minor": 2
}
