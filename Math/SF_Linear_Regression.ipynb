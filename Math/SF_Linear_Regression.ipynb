{
 "cells": [
  {
   "cell_type": "markdown",
   "metadata": {},
   "source": [
    "\n",
    "# <center> Решение задачи регрессии </center>\n",
    "\n",
    "\n",
    "\n",
    "Сегодня мы будем работать с датасетом __bikes_rent.csv__, в котором по дням записаны календарная информация и погодные условия, характеризующие автоматизированные пункты проката велосипедов, а также число прокатов в этот день. Последнее мы будем предсказывать; таким образом, мы будем решать задачу регрессии."
   ]
  },
  {
   "cell_type": "code",
   "execution_count": 18,
   "metadata": {},
   "outputs": [],
   "source": [
    "# добавляем библиотеки\n",
    "import numpy as np\n",
    "import pandas as pd\n",
    "import matplotlib\n",
    "import matplotlib.pyplot as plt\n",
    "import seaborn as sns\n",
    "\n",
    "plt.style.use('ggplot')  # правильный (наиболее красивый) стиль у графиков\n",
    "%matplotlib inline"
   ]
  },
  {
   "cell_type": "markdown",
   "metadata": {},
   "source": [
    "Подгрузим наши данные и посмотрим на них:"
   ]
  },
  {
   "cell_type": "code",
   "execution_count": 19,
   "metadata": {
    "scrolled": true
   },
   "outputs": [
    {
     "data": {
      "text/html": [
       "<div>\n",
       "<style scoped>\n",
       "    .dataframe tbody tr th:only-of-type {\n",
       "        vertical-align: middle;\n",
       "    }\n",
       "\n",
       "    .dataframe tbody tr th {\n",
       "        vertical-align: top;\n",
       "    }\n",
       "\n",
       "    .dataframe thead th {\n",
       "        text-align: right;\n",
       "    }\n",
       "</style>\n",
       "<table border=\"1\" class=\"dataframe\">\n",
       "  <thead>\n",
       "    <tr style=\"text-align: right;\">\n",
       "      <th></th>\n",
       "      <th>season</th>\n",
       "      <th>yr</th>\n",
       "      <th>mnth</th>\n",
       "      <th>holiday</th>\n",
       "      <th>weekday</th>\n",
       "      <th>workingday</th>\n",
       "      <th>weathersit</th>\n",
       "      <th>temp</th>\n",
       "      <th>atemp</th>\n",
       "      <th>hum</th>\n",
       "      <th>windspeed(mph)</th>\n",
       "      <th>windspeed(ms)</th>\n",
       "      <th>cnt</th>\n",
       "    </tr>\n",
       "  </thead>\n",
       "  <tbody>\n",
       "    <tr>\n",
       "      <th>0</th>\n",
       "      <td>1</td>\n",
       "      <td>0</td>\n",
       "      <td>1</td>\n",
       "      <td>0</td>\n",
       "      <td>6</td>\n",
       "      <td>0</td>\n",
       "      <td>2</td>\n",
       "      <td>14.110847</td>\n",
       "      <td>18.18125</td>\n",
       "      <td>80.5833</td>\n",
       "      <td>10.749882</td>\n",
       "      <td>4.805490</td>\n",
       "      <td>985</td>\n",
       "    </tr>\n",
       "    <tr>\n",
       "      <th>1</th>\n",
       "      <td>1</td>\n",
       "      <td>0</td>\n",
       "      <td>1</td>\n",
       "      <td>0</td>\n",
       "      <td>0</td>\n",
       "      <td>0</td>\n",
       "      <td>2</td>\n",
       "      <td>14.902598</td>\n",
       "      <td>17.68695</td>\n",
       "      <td>69.6087</td>\n",
       "      <td>16.652113</td>\n",
       "      <td>7.443949</td>\n",
       "      <td>801</td>\n",
       "    </tr>\n",
       "    <tr>\n",
       "      <th>2</th>\n",
       "      <td>1</td>\n",
       "      <td>0</td>\n",
       "      <td>1</td>\n",
       "      <td>0</td>\n",
       "      <td>1</td>\n",
       "      <td>1</td>\n",
       "      <td>1</td>\n",
       "      <td>8.050924</td>\n",
       "      <td>9.47025</td>\n",
       "      <td>43.7273</td>\n",
       "      <td>16.636703</td>\n",
       "      <td>7.437060</td>\n",
       "      <td>1349</td>\n",
       "    </tr>\n",
       "    <tr>\n",
       "      <th>3</th>\n",
       "      <td>1</td>\n",
       "      <td>0</td>\n",
       "      <td>1</td>\n",
       "      <td>0</td>\n",
       "      <td>2</td>\n",
       "      <td>1</td>\n",
       "      <td>1</td>\n",
       "      <td>8.200000</td>\n",
       "      <td>10.60610</td>\n",
       "      <td>59.0435</td>\n",
       "      <td>10.739832</td>\n",
       "      <td>4.800998</td>\n",
       "      <td>1562</td>\n",
       "    </tr>\n",
       "    <tr>\n",
       "      <th>4</th>\n",
       "      <td>1</td>\n",
       "      <td>0</td>\n",
       "      <td>1</td>\n",
       "      <td>0</td>\n",
       "      <td>3</td>\n",
       "      <td>1</td>\n",
       "      <td>1</td>\n",
       "      <td>9.305237</td>\n",
       "      <td>11.46350</td>\n",
       "      <td>43.6957</td>\n",
       "      <td>12.522300</td>\n",
       "      <td>5.597810</td>\n",
       "      <td>1600</td>\n",
       "    </tr>\n",
       "  </tbody>\n",
       "</table>\n",
       "</div>"
      ],
      "text/plain": [
       "   season  yr  mnth  holiday  weekday  workingday  weathersit       temp  \\\n",
       "0       1   0     1        0        6           0           2  14.110847   \n",
       "1       1   0     1        0        0           0           2  14.902598   \n",
       "2       1   0     1        0        1           1           1   8.050924   \n",
       "3       1   0     1        0        2           1           1   8.200000   \n",
       "4       1   0     1        0        3           1           1   9.305237   \n",
       "\n",
       "      atemp      hum  windspeed(mph)  windspeed(ms)   cnt  \n",
       "0  18.18125  80.5833       10.749882       4.805490   985  \n",
       "1  17.68695  69.6087       16.652113       7.443949   801  \n",
       "2   9.47025  43.7273       16.636703       7.437060  1349  \n",
       "3  10.60610  59.0435       10.739832       4.800998  1562  \n",
       "4  11.46350  43.6957       12.522300       5.597810  1600  "
      ]
     },
     "execution_count": 19,
     "metadata": {},
     "output_type": "execute_result"
    }
   ],
   "source": [
    "# в переменную df запишем данные, которые открыли из файла с помошью метода read_csv()\n",
    "df = pd.read_csv('bikes_rent.csv')\n",
    "# выводим первые пять строк с помощью метода head()\n",
    "df.head( )"
   ]
  },
  {
   "cell_type": "markdown",
   "metadata": {},
   "source": [
    "__Описание пееменных:__\n",
    "\n",
    "* `season`  1 - весна, 2 - лето, 3 - осень, 4 - зима\n",
    "* `yr`  0 - 2011, 1 - 2012\n",
    "* `mnth`  от 1 до 12\n",
    "* `holiday`  0 - нет праздника, 1 - есть праздник\n",
    "* `weekday`  от 0 до 6\n",
    "* `workingday`  0 - нерабочий день, 1 - рабочий день\n",
    "* `weathersit`  оценка благоприятности погоды от 1 (чистый, ясный день) до 4 (ливень, туман)\n",
    "* `temp`  температура в Цельсиях\n",
    "* `atemp`  температура по ощущениям в Цельсиях\n",
    "* `hum`  влажность\n",
    "* `windspeed(mph)`  скорость ветра в милях в час\n",
    "* `windspeed(ms)`  скорость ветра в метрах в секунду\n",
    "* `cnt`  количество арендованных велосипедов (это целевой признак, его мы будем предсказывать)"
   ]
  },
  {
   "cell_type": "markdown",
   "metadata": {},
   "source": [
    "##  Изучаем данные"
   ]
  },
  {
   "cell_type": "markdown",
   "metadata": {},
   "source": [
    "Давайте посмотрим, есть ли пропущенные значения:"
   ]
  },
  {
   "cell_type": "code",
   "execution_count": 20,
   "metadata": {},
   "outputs": [
    {
     "data": {
      "text/html": [
       "<div>\n",
       "<style scoped>\n",
       "    .dataframe tbody tr th:only-of-type {\n",
       "        vertical-align: middle;\n",
       "    }\n",
       "\n",
       "    .dataframe tbody tr th {\n",
       "        vertical-align: top;\n",
       "    }\n",
       "\n",
       "    .dataframe thead th {\n",
       "        text-align: right;\n",
       "    }\n",
       "</style>\n",
       "<table border=\"1\" class=\"dataframe\">\n",
       "  <thead>\n",
       "    <tr style=\"text-align: right;\">\n",
       "      <th></th>\n",
       "      <th>season</th>\n",
       "      <th>yr</th>\n",
       "      <th>mnth</th>\n",
       "      <th>holiday</th>\n",
       "      <th>weekday</th>\n",
       "      <th>workingday</th>\n",
       "      <th>weathersit</th>\n",
       "      <th>temp</th>\n",
       "      <th>atemp</th>\n",
       "      <th>hum</th>\n",
       "      <th>windspeed(mph)</th>\n",
       "      <th>windspeed(ms)</th>\n",
       "      <th>cnt</th>\n",
       "    </tr>\n",
       "  </thead>\n",
       "  <tbody>\n",
       "    <tr>\n",
       "      <th>0</th>\n",
       "      <td>False</td>\n",
       "      <td>False</td>\n",
       "      <td>False</td>\n",
       "      <td>False</td>\n",
       "      <td>False</td>\n",
       "      <td>False</td>\n",
       "      <td>False</td>\n",
       "      <td>False</td>\n",
       "      <td>False</td>\n",
       "      <td>False</td>\n",
       "      <td>False</td>\n",
       "      <td>False</td>\n",
       "      <td>False</td>\n",
       "    </tr>\n",
       "    <tr>\n",
       "      <th>1</th>\n",
       "      <td>False</td>\n",
       "      <td>False</td>\n",
       "      <td>False</td>\n",
       "      <td>False</td>\n",
       "      <td>False</td>\n",
       "      <td>False</td>\n",
       "      <td>False</td>\n",
       "      <td>False</td>\n",
       "      <td>False</td>\n",
       "      <td>False</td>\n",
       "      <td>False</td>\n",
       "      <td>False</td>\n",
       "      <td>False</td>\n",
       "    </tr>\n",
       "    <tr>\n",
       "      <th>2</th>\n",
       "      <td>False</td>\n",
       "      <td>False</td>\n",
       "      <td>False</td>\n",
       "      <td>False</td>\n",
       "      <td>False</td>\n",
       "      <td>False</td>\n",
       "      <td>False</td>\n",
       "      <td>False</td>\n",
       "      <td>False</td>\n",
       "      <td>False</td>\n",
       "      <td>False</td>\n",
       "      <td>False</td>\n",
       "      <td>False</td>\n",
       "    </tr>\n",
       "    <tr>\n",
       "      <th>3</th>\n",
       "      <td>False</td>\n",
       "      <td>False</td>\n",
       "      <td>False</td>\n",
       "      <td>False</td>\n",
       "      <td>False</td>\n",
       "      <td>False</td>\n",
       "      <td>False</td>\n",
       "      <td>False</td>\n",
       "      <td>False</td>\n",
       "      <td>False</td>\n",
       "      <td>False</td>\n",
       "      <td>False</td>\n",
       "      <td>False</td>\n",
       "    </tr>\n",
       "    <tr>\n",
       "      <th>4</th>\n",
       "      <td>False</td>\n",
       "      <td>False</td>\n",
       "      <td>False</td>\n",
       "      <td>False</td>\n",
       "      <td>False</td>\n",
       "      <td>False</td>\n",
       "      <td>False</td>\n",
       "      <td>False</td>\n",
       "      <td>False</td>\n",
       "      <td>False</td>\n",
       "      <td>False</td>\n",
       "      <td>False</td>\n",
       "      <td>False</td>\n",
       "    </tr>\n",
       "    <tr>\n",
       "      <th>...</th>\n",
       "      <td>...</td>\n",
       "      <td>...</td>\n",
       "      <td>...</td>\n",
       "      <td>...</td>\n",
       "      <td>...</td>\n",
       "      <td>...</td>\n",
       "      <td>...</td>\n",
       "      <td>...</td>\n",
       "      <td>...</td>\n",
       "      <td>...</td>\n",
       "      <td>...</td>\n",
       "      <td>...</td>\n",
       "      <td>...</td>\n",
       "    </tr>\n",
       "    <tr>\n",
       "      <th>726</th>\n",
       "      <td>False</td>\n",
       "      <td>False</td>\n",
       "      <td>False</td>\n",
       "      <td>False</td>\n",
       "      <td>False</td>\n",
       "      <td>False</td>\n",
       "      <td>False</td>\n",
       "      <td>False</td>\n",
       "      <td>False</td>\n",
       "      <td>False</td>\n",
       "      <td>False</td>\n",
       "      <td>False</td>\n",
       "      <td>False</td>\n",
       "    </tr>\n",
       "    <tr>\n",
       "      <th>727</th>\n",
       "      <td>False</td>\n",
       "      <td>False</td>\n",
       "      <td>False</td>\n",
       "      <td>False</td>\n",
       "      <td>False</td>\n",
       "      <td>False</td>\n",
       "      <td>False</td>\n",
       "      <td>False</td>\n",
       "      <td>False</td>\n",
       "      <td>False</td>\n",
       "      <td>False</td>\n",
       "      <td>False</td>\n",
       "      <td>False</td>\n",
       "    </tr>\n",
       "    <tr>\n",
       "      <th>728</th>\n",
       "      <td>False</td>\n",
       "      <td>False</td>\n",
       "      <td>False</td>\n",
       "      <td>False</td>\n",
       "      <td>False</td>\n",
       "      <td>False</td>\n",
       "      <td>False</td>\n",
       "      <td>False</td>\n",
       "      <td>False</td>\n",
       "      <td>False</td>\n",
       "      <td>False</td>\n",
       "      <td>False</td>\n",
       "      <td>False</td>\n",
       "    </tr>\n",
       "    <tr>\n",
       "      <th>729</th>\n",
       "      <td>False</td>\n",
       "      <td>False</td>\n",
       "      <td>False</td>\n",
       "      <td>False</td>\n",
       "      <td>False</td>\n",
       "      <td>False</td>\n",
       "      <td>False</td>\n",
       "      <td>False</td>\n",
       "      <td>False</td>\n",
       "      <td>False</td>\n",
       "      <td>False</td>\n",
       "      <td>False</td>\n",
       "      <td>False</td>\n",
       "    </tr>\n",
       "    <tr>\n",
       "      <th>730</th>\n",
       "      <td>False</td>\n",
       "      <td>False</td>\n",
       "      <td>False</td>\n",
       "      <td>False</td>\n",
       "      <td>False</td>\n",
       "      <td>False</td>\n",
       "      <td>False</td>\n",
       "      <td>False</td>\n",
       "      <td>False</td>\n",
       "      <td>False</td>\n",
       "      <td>False</td>\n",
       "      <td>False</td>\n",
       "      <td>False</td>\n",
       "    </tr>\n",
       "  </tbody>\n",
       "</table>\n",
       "<p>731 rows × 13 columns</p>\n",
       "</div>"
      ],
      "text/plain": [
       "     season     yr   mnth  holiday  weekday  workingday  weathersit   temp  \\\n",
       "0     False  False  False    False    False       False       False  False   \n",
       "1     False  False  False    False    False       False       False  False   \n",
       "2     False  False  False    False    False       False       False  False   \n",
       "3     False  False  False    False    False       False       False  False   \n",
       "4     False  False  False    False    False       False       False  False   \n",
       "..      ...    ...    ...      ...      ...         ...         ...    ...   \n",
       "726   False  False  False    False    False       False       False  False   \n",
       "727   False  False  False    False    False       False       False  False   \n",
       "728   False  False  False    False    False       False       False  False   \n",
       "729   False  False  False    False    False       False       False  False   \n",
       "730   False  False  False    False    False       False       False  False   \n",
       "\n",
       "     atemp    hum  windspeed(mph)  windspeed(ms)    cnt  \n",
       "0    False  False           False          False  False  \n",
       "1    False  False           False          False  False  \n",
       "2    False  False           False          False  False  \n",
       "3    False  False           False          False  False  \n",
       "4    False  False           False          False  False  \n",
       "..     ...    ...             ...            ...    ...  \n",
       "726  False  False           False          False  False  \n",
       "727  False  False           False          False  False  \n",
       "728  False  False           False          False  False  \n",
       "729  False  False           False          False  False  \n",
       "730  False  False           False          False  False  \n",
       "\n",
       "[731 rows x 13 columns]"
      ]
     },
     "execution_count": 20,
     "metadata": {},
     "output_type": "execute_result"
    }
   ],
   "source": [
    "# применяем метод isnull(), которые заменяет пропуски на True и обычные значения (не пропуски) на False\n",
    "df.isnull()"
   ]
  },
  {
   "cell_type": "code",
   "execution_count": 21,
   "metadata": {},
   "outputs": [
    {
     "data": {
      "text/plain": [
       "season            0\n",
       "yr                0\n",
       "mnth              0\n",
       "holiday           0\n",
       "weekday           0\n",
       "workingday        0\n",
       "weathersit        0\n",
       "temp              0\n",
       "atemp             0\n",
       "hum               0\n",
       "windspeed(mph)    0\n",
       "windspeed(ms)     0\n",
       "cnt               0\n",
       "dtype: int64"
      ]
     },
     "execution_count": 21,
     "metadata": {},
     "output_type": "execute_result"
    }
   ],
   "source": [
    "# Суммируем все пропуски и смотрим на количество пропусков по столбцам\n",
    "df.isnull().sum()"
   ]
  },
  {
   "cell_type": "markdown",
   "metadata": {},
   "source": [
    "Можно видеть, что пропусков нет. Нам повезло!"
   ]
  },
  {
   "cell_type": "markdown",
   "metadata": {},
   "source": [
    "Для удобства давайте разделим категориальные и числовые переменные (так как для них будет разная предобработка и разные методы визуализации, а также отделим целевую переменную:"
   ]
  },
  {
   "cell_type": "code",
   "execution_count": 22,
   "metadata": {},
   "outputs": [],
   "source": [
    "# категориальные переменные \n",
    "var_cat = ['season', 'yr', 'mnth', 'holiday', 'weekday', 'workingday', 'weathersit']\n",
    "\n",
    "# непрерывные переменные\n",
    "var_real = ['temp', 'atemp', 'hum', 'windspeed(mph)', 'windspeed(ms)']\n",
    "\n",
    "# определяем целевую переменную\n",
    "target = 'cnt'"
   ]
  },
  {
   "cell_type": "markdown",
   "metadata": {},
   "source": [
    "## Исследование на наличие мультиколлинеарности"
   ]
  },
  {
   "cell_type": "markdown",
   "metadata": {},
   "source": [
    "Мультиколлинеарность — сильная корреляционная связь между признаками, отбираемыми для обучения. \n",
    "Сильно скоррелированные признаки сообщают для модели одну и ту же информацию. Поэтому для обучения не нужно использовать их все. Часть из них необходимо удалить из набора данных. "
   ]
  },
  {
   "cell_type": "markdown",
   "metadata": {},
   "source": [
    "Для того, чтобы изучить, наблюдается ли в данных мультиколлинеарность, необходимо построить матрицу корреляций. Строить мы ее будем, разумеется, только для числовых признаков."
   ]
  },
  {
   "cell_type": "code",
   "execution_count": 23,
   "metadata": {},
   "outputs": [
    {
     "data": {
      "text/html": [
       "<div>\n",
       "<style scoped>\n",
       "    .dataframe tbody tr th:only-of-type {\n",
       "        vertical-align: middle;\n",
       "    }\n",
       "\n",
       "    .dataframe tbody tr th {\n",
       "        vertical-align: top;\n",
       "    }\n",
       "\n",
       "    .dataframe thead th {\n",
       "        text-align: right;\n",
       "    }\n",
       "</style>\n",
       "<table border=\"1\" class=\"dataframe\">\n",
       "  <thead>\n",
       "    <tr style=\"text-align: right;\">\n",
       "      <th></th>\n",
       "      <th>temp</th>\n",
       "      <th>atemp</th>\n",
       "      <th>hum</th>\n",
       "      <th>windspeed(mph)</th>\n",
       "      <th>windspeed(ms)</th>\n",
       "      <th>cnt</th>\n",
       "    </tr>\n",
       "  </thead>\n",
       "  <tbody>\n",
       "    <tr>\n",
       "      <th>temp</th>\n",
       "      <td>1.000000</td>\n",
       "      <td>0.991702</td>\n",
       "      <td>0.126963</td>\n",
       "      <td>-0.157944</td>\n",
       "      <td>-0.157944</td>\n",
       "      <td>0.627494</td>\n",
       "    </tr>\n",
       "    <tr>\n",
       "      <th>atemp</th>\n",
       "      <td>0.991702</td>\n",
       "      <td>1.000000</td>\n",
       "      <td>0.139988</td>\n",
       "      <td>-0.183643</td>\n",
       "      <td>-0.183643</td>\n",
       "      <td>0.631066</td>\n",
       "    </tr>\n",
       "    <tr>\n",
       "      <th>hum</th>\n",
       "      <td>0.126963</td>\n",
       "      <td>0.139988</td>\n",
       "      <td>1.000000</td>\n",
       "      <td>-0.248489</td>\n",
       "      <td>-0.248489</td>\n",
       "      <td>-0.100659</td>\n",
       "    </tr>\n",
       "    <tr>\n",
       "      <th>windspeed(mph)</th>\n",
       "      <td>-0.157944</td>\n",
       "      <td>-0.183643</td>\n",
       "      <td>-0.248489</td>\n",
       "      <td>1.000000</td>\n",
       "      <td>1.000000</td>\n",
       "      <td>-0.234545</td>\n",
       "    </tr>\n",
       "    <tr>\n",
       "      <th>windspeed(ms)</th>\n",
       "      <td>-0.157944</td>\n",
       "      <td>-0.183643</td>\n",
       "      <td>-0.248489</td>\n",
       "      <td>1.000000</td>\n",
       "      <td>1.000000</td>\n",
       "      <td>-0.234545</td>\n",
       "    </tr>\n",
       "    <tr>\n",
       "      <th>cnt</th>\n",
       "      <td>0.627494</td>\n",
       "      <td>0.631066</td>\n",
       "      <td>-0.100659</td>\n",
       "      <td>-0.234545</td>\n",
       "      <td>-0.234545</td>\n",
       "      <td>1.000000</td>\n",
       "    </tr>\n",
       "  </tbody>\n",
       "</table>\n",
       "</div>"
      ],
      "text/plain": [
       "                    temp     atemp       hum  windspeed(mph)  windspeed(ms)  \\\n",
       "temp            1.000000  0.991702  0.126963       -0.157944      -0.157944   \n",
       "atemp           0.991702  1.000000  0.139988       -0.183643      -0.183643   \n",
       "hum             0.126963  0.139988  1.000000       -0.248489      -0.248489   \n",
       "windspeed(mph) -0.157944 -0.183643 -0.248489        1.000000       1.000000   \n",
       "windspeed(ms)  -0.157944 -0.183643 -0.248489        1.000000       1.000000   \n",
       "cnt             0.627494  0.631066 -0.100659       -0.234545      -0.234545   \n",
       "\n",
       "                     cnt  \n",
       "temp            0.627494  \n",
       "atemp           0.631066  \n",
       "hum            -0.100659  \n",
       "windspeed(mph) -0.234545  \n",
       "windspeed(ms)  -0.234545  \n",
       "cnt             1.000000  "
      ]
     },
     "execution_count": 23,
     "metadata": {},
     "output_type": "execute_result"
    }
   ],
   "source": [
    "# отбираем только числовые колонки и с помощью метода corr() выводим корреляционную матрицу\n",
    "df[var_real+[target]].corr()"
   ]
  },
  {
   "cell_type": "markdown",
   "metadata": {},
   "source": [
    "Можно также представить результаты в визуальном виде:"
   ]
  },
  {
   "cell_type": "code",
   "execution_count": 24,
   "metadata": {},
   "outputs": [
    {
     "data": {
      "image/png": "[encoded data removed]",
      "text/plain": [
       "<Figure size 640x480 with 2 Axes>"
      ]
     },
     "metadata": {},
     "output_type": "display_data"
    }
   ],
   "source": [
    "# выводим матрицу корреляций в виде тепловой карты\n",
    "# используем метод heatmap() из библиотеки seaborn\n",
    "# с помощью cmap='coolwarm' настраиваем цветовую схему\n",
    "# annot = True отвечает за то, что подписаны значения корреляций\n",
    "sns.heatmap(df[var_real+[target]].corr(), cmap='coolwarm', annot = True);"
   ]
  },
  {
   "cell_type": "markdown",
   "metadata": {},
   "source": [
    "Из набора нескольких коррелирующих признаков следует оставлять один. Поэтому оставим среди числовых признаков только те, которые слабо коррелируют между собой. То есть, надо удалить один из признаков temp и atemp. Удалим реальную температуру и оставим atemp."
   ]
  },
  {
   "cell_type": "code",
   "execution_count": 25,
   "metadata": {},
   "outputs": [
    {
     "data": {
      "text/plain": [
       "(731, 13)"
      ]
     },
     "execution_count": 25,
     "metadata": {},
     "output_type": "execute_result"
    }
   ],
   "source": [
    "# выводим размерность таблицы с помощью атрибута shape\n",
    "# 731 строка\n",
    "# 13 столбцов\n",
    "df.shape"
   ]
  },
  {
   "cell_type": "code",
   "execution_count": 26,
   "metadata": {},
   "outputs": [],
   "source": [
    "# записываем в переменную matrix матрицу корреляций для признаков\n",
    "matrix = df.corr()"
   ]
  },
  {
   "cell_type": "code",
   "execution_count": 27,
   "metadata": {},
   "outputs": [
    {
     "name": "stdout",
     "output_type": "stream",
     "text": [
      "Rank: 12\n",
      "Determinant: 0.0000\n"
     ]
    }
   ],
   "source": [
    "# выводим ранг матрицы корреляций\n",
    "print('Rank:', np.linalg.matrix_rank(matrix))\n",
    "# выводим определитель матрицы корреляций\n",
    "print('Determinant: {:.4f}'.format(np.linalg.det(matrix)))"
   ]
  },
  {
   "cell_type": "code",
   "execution_count": 28,
   "metadata": {},
   "outputs": [],
   "source": [
    "# с помощью метода drop() удаляем скорость ветра в милях в час\n",
    "#  axis=1 показывает, что удаляем столбец\n",
    "# inplace=True показывает, что перезаписываем результат\n",
    "df.drop('windspeed(mph)', axis=1, inplace=True)"
   ]
  },
  {
   "cell_type": "code",
   "execution_count": 29,
   "metadata": {},
   "outputs": [],
   "source": [
    "# с помощью метода drop() удаляем температуру\n",
    "df.drop('temp', axis=1, inplace=True)"
   ]
  },
  {
   "cell_type": "code",
   "execution_count": 30,
   "metadata": {},
   "outputs": [
    {
     "data": {
      "text/plain": [
       "(731, 11)"
      ]
     },
     "execution_count": 30,
     "metadata": {},
     "output_type": "execute_result"
    }
   ],
   "source": [
    "# выводим размерность оставшейся таблицы\n",
    "df.shape"
   ]
  },
  {
   "cell_type": "markdown",
   "metadata": {},
   "source": [
    "## Обработка категориальных признаков "
   ]
  },
  {
   "cell_type": "markdown",
   "metadata": {},
   "source": [
    "Как эти признаки мешают просто взять и запустить LinearRegression? Дело в том, что некоторых из этих признаков содержат числа, которые не несут содержательного смысла (например, день недели). Значит, их нужно перекодировать."
   ]
  },
  {
   "cell_type": "markdown",
   "metadata": {},
   "source": [
    "Для этого нам понадобятся дамми-переменные.\n",
    "Как ввести дамми-переменную в модель?\n",
    "Как правило, это переменная, которая принимает только два\n",
    "возможных значения: 0 или 1 (дихотомическая, бинарная).\n",
    "При этом 0 означает отсутствие признака у данного\n",
    "объекта; 1 – наличие признака. "
   ]
  },
  {
   "cell_type": "markdown",
   "metadata": {},
   "source": [
    "Например, для дня недели это будет выглядеть следующим образом:"
   ]
  },
  {
   "cell_type": "markdown",
   "metadata": {},
   "source": [
    "<a href=\"https://imgbb.com/\"><img src=\"https://i.ibb.co/pWv0VcP/sadxa.jpg\" alt=\"sadxa\" border=\"0\"></a>"
   ]
  },
  {
   "cell_type": "markdown",
   "metadata": {},
   "source": [
    "Давайте сделаем это OHE-кодирование. Сколько свежих OHE-признаков у нас появилось? "
   ]
  },
  {
   "cell_type": "code",
   "execution_count": 31,
   "metadata": {},
   "outputs": [
    {
     "name": "stdout",
     "output_type": "stream",
     "text": [
      "<class 'pandas.core.frame.DataFrame'>\n",
      "RangeIndex: 731 entries, 0 to 730\n",
      "Data columns (total 11 columns):\n",
      " #   Column         Non-Null Count  Dtype  \n",
      "---  ------         --------------  -----  \n",
      " 0   season         731 non-null    object \n",
      " 1   yr             731 non-null    object \n",
      " 2   mnth           731 non-null    object \n",
      " 3   holiday        731 non-null    object \n",
      " 4   weekday        731 non-null    object \n",
      " 5   workingday     731 non-null    object \n",
      " 6   weathersit     731 non-null    object \n",
      " 7   atemp          731 non-null    float64\n",
      " 8   hum            731 non-null    float64\n",
      " 9   windspeed(ms)  731 non-null    float64\n",
      " 10  cnt            731 non-null    int64  \n",
      "dtypes: float64(3), int64(1), object(7)\n",
      "memory usage: 62.9+ KB\n"
     ]
    }
   ],
   "source": [
    "df[var_cat] = df[var_cat].astype(str)  # чтобы все категории стали object\n",
    "df.info() # выводим информацию про таблицу"
   ]
  },
  {
   "cell_type": "code",
   "execution_count": 32,
   "metadata": {},
   "outputs": [
    {
     "data": {
      "text/plain": [
       "(731, 11)"
      ]
     },
     "execution_count": 32,
     "metadata": {},
     "output_type": "execute_result"
    }
   ],
   "source": [
    "df.shape # выводим размерность таблицы"
   ]
  },
  {
   "cell_type": "code",
   "execution_count": 33,
   "metadata": {},
   "outputs": [
    {
     "data": {
      "text/html": [
       "<div>\n",
       "<style scoped>\n",
       "    .dataframe tbody tr th:only-of-type {\n",
       "        vertical-align: middle;\n",
       "    }\n",
       "\n",
       "    .dataframe tbody tr th {\n",
       "        vertical-align: top;\n",
       "    }\n",
       "\n",
       "    .dataframe thead th {\n",
       "        text-align: right;\n",
       "    }\n",
       "</style>\n",
       "<table border=\"1\" class=\"dataframe\">\n",
       "  <thead>\n",
       "    <tr style=\"text-align: right;\">\n",
       "      <th></th>\n",
       "      <th>atemp</th>\n",
       "      <th>hum</th>\n",
       "      <th>windspeed(ms)</th>\n",
       "      <th>cnt</th>\n",
       "      <th>season_2</th>\n",
       "      <th>season_3</th>\n",
       "      <th>season_4</th>\n",
       "      <th>yr_1</th>\n",
       "      <th>mnth_10</th>\n",
       "      <th>mnth_11</th>\n",
       "      <th>...</th>\n",
       "      <th>holiday_1</th>\n",
       "      <th>weekday_1</th>\n",
       "      <th>weekday_2</th>\n",
       "      <th>weekday_3</th>\n",
       "      <th>weekday_4</th>\n",
       "      <th>weekday_5</th>\n",
       "      <th>weekday_6</th>\n",
       "      <th>workingday_1</th>\n",
       "      <th>weathersit_2</th>\n",
       "      <th>weathersit_3</th>\n",
       "    </tr>\n",
       "  </thead>\n",
       "  <tbody>\n",
       "    <tr>\n",
       "      <th>0</th>\n",
       "      <td>18.18125</td>\n",
       "      <td>80.5833</td>\n",
       "      <td>4.805490</td>\n",
       "      <td>985</td>\n",
       "      <td>False</td>\n",
       "      <td>False</td>\n",
       "      <td>False</td>\n",
       "      <td>False</td>\n",
       "      <td>False</td>\n",
       "      <td>False</td>\n",
       "      <td>...</td>\n",
       "      <td>False</td>\n",
       "      <td>False</td>\n",
       "      <td>False</td>\n",
       "      <td>False</td>\n",
       "      <td>False</td>\n",
       "      <td>False</td>\n",
       "      <td>True</td>\n",
       "      <td>False</td>\n",
       "      <td>True</td>\n",
       "      <td>False</td>\n",
       "    </tr>\n",
       "    <tr>\n",
       "      <th>1</th>\n",
       "      <td>17.68695</td>\n",
       "      <td>69.6087</td>\n",
       "      <td>7.443949</td>\n",
       "      <td>801</td>\n",
       "      <td>False</td>\n",
       "      <td>False</td>\n",
       "      <td>False</td>\n",
       "      <td>False</td>\n",
       "      <td>False</td>\n",
       "      <td>False</td>\n",
       "      <td>...</td>\n",
       "      <td>False</td>\n",
       "      <td>False</td>\n",
       "      <td>False</td>\n",
       "      <td>False</td>\n",
       "      <td>False</td>\n",
       "      <td>False</td>\n",
       "      <td>False</td>\n",
       "      <td>False</td>\n",
       "      <td>True</td>\n",
       "      <td>False</td>\n",
       "    </tr>\n",
       "    <tr>\n",
       "      <th>2</th>\n",
       "      <td>9.47025</td>\n",
       "      <td>43.7273</td>\n",
       "      <td>7.437060</td>\n",
       "      <td>1349</td>\n",
       "      <td>False</td>\n",
       "      <td>False</td>\n",
       "      <td>False</td>\n",
       "      <td>False</td>\n",
       "      <td>False</td>\n",
       "      <td>False</td>\n",
       "      <td>...</td>\n",
       "      <td>False</td>\n",
       "      <td>True</td>\n",
       "      <td>False</td>\n",
       "      <td>False</td>\n",
       "      <td>False</td>\n",
       "      <td>False</td>\n",
       "      <td>False</td>\n",
       "      <td>True</td>\n",
       "      <td>False</td>\n",
       "      <td>False</td>\n",
       "    </tr>\n",
       "    <tr>\n",
       "      <th>3</th>\n",
       "      <td>10.60610</td>\n",
       "      <td>59.0435</td>\n",
       "      <td>4.800998</td>\n",
       "      <td>1562</td>\n",
       "      <td>False</td>\n",
       "      <td>False</td>\n",
       "      <td>False</td>\n",
       "      <td>False</td>\n",
       "      <td>False</td>\n",
       "      <td>False</td>\n",
       "      <td>...</td>\n",
       "      <td>False</td>\n",
       "      <td>False</td>\n",
       "      <td>True</td>\n",
       "      <td>False</td>\n",
       "      <td>False</td>\n",
       "      <td>False</td>\n",
       "      <td>False</td>\n",
       "      <td>True</td>\n",
       "      <td>False</td>\n",
       "      <td>False</td>\n",
       "    </tr>\n",
       "    <tr>\n",
       "      <th>4</th>\n",
       "      <td>11.46350</td>\n",
       "      <td>43.6957</td>\n",
       "      <td>5.597810</td>\n",
       "      <td>1600</td>\n",
       "      <td>False</td>\n",
       "      <td>False</td>\n",
       "      <td>False</td>\n",
       "      <td>False</td>\n",
       "      <td>False</td>\n",
       "      <td>False</td>\n",
       "      <td>...</td>\n",
       "      <td>False</td>\n",
       "      <td>False</td>\n",
       "      <td>False</td>\n",
       "      <td>True</td>\n",
       "      <td>False</td>\n",
       "      <td>False</td>\n",
       "      <td>False</td>\n",
       "      <td>True</td>\n",
       "      <td>False</td>\n",
       "      <td>False</td>\n",
       "    </tr>\n",
       "  </tbody>\n",
       "</table>\n",
       "<p>5 rows × 29 columns</p>\n",
       "</div>"
      ],
      "text/plain": [
       "      atemp      hum  windspeed(ms)   cnt  season_2  season_3  season_4  \\\n",
       "0  18.18125  80.5833       4.805490   985     False     False     False   \n",
       "1  17.68695  69.6087       7.443949   801     False     False     False   \n",
       "2   9.47025  43.7273       7.437060  1349     False     False     False   \n",
       "3  10.60610  59.0435       4.800998  1562     False     False     False   \n",
       "4  11.46350  43.6957       5.597810  1600     False     False     False   \n",
       "\n",
       "    yr_1  mnth_10  mnth_11  ...  holiday_1  weekday_1  weekday_2  weekday_3  \\\n",
       "0  False    False    False  ...      False      False      False      False   \n",
       "1  False    False    False  ...      False      False      False      False   \n",
       "2  False    False    False  ...      False       True      False      False   \n",
       "3  False    False    False  ...      False      False       True      False   \n",
       "4  False    False    False  ...      False      False      False       True   \n",
       "\n",
       "   weekday_4  weekday_5  weekday_6  workingday_1  weathersit_2  weathersit_3  \n",
       "0      False      False       True         False          True         False  \n",
       "1      False      False      False         False          True         False  \n",
       "2      False      False      False          True         False         False  \n",
       "3      False      False      False          True         False         False  \n",
       "4      False      False      False          True         False         False  \n",
       "\n",
       "[5 rows x 29 columns]"
      ]
     },
     "execution_count": 33,
     "metadata": {},
     "output_type": "execute_result"
    }
   ],
   "source": [
    "# в переменную dff записываем таблицу, которая получится, если добавить дамми-переменные\n",
    "# дамми-переменные добавляем с помощью метода get_dummies(), удаляем одну колонку и не создаем колонку для пропусков\n",
    "dff = pd.get_dummies(df, drop_first=True, dummy_na=False)\n",
    "dff.head() # выводим первые 5 строк"
   ]
  },
  {
   "cell_type": "code",
   "execution_count": 34,
   "metadata": {},
   "outputs": [
    {
     "data": {
      "text/plain": [
       "(731, 29)"
      ]
     },
     "execution_count": 34,
     "metadata": {},
     "output_type": "execute_result"
    }
   ],
   "source": [
    "dff.shape # выводим размерность получившейся таблицы"
   ]
  },
  {
   "cell_type": "markdown",
   "metadata": {},
   "source": [
    "Теперь определим целевую переменую:"
   ]
  },
  {
   "cell_type": "code",
   "execution_count": 35,
   "metadata": {},
   "outputs": [],
   "source": [
    "y = dff['cnt'] # то, что прогнозируем, записываем в переменную у"
   ]
  },
  {
   "cell_type": "markdown",
   "metadata": {},
   "source": [
    "А в качестве предикторов (признаков) возьмем все, кроме целевой переменной:"
   ]
  },
  {
   "cell_type": "code",
   "execution_count": 36,
   "metadata": {},
   "outputs": [],
   "source": [
    "X = dff.drop('cnt', axis=1) # то, с помощью чего прогнозируем, записываем в переменную х"
   ]
  },
  {
   "cell_type": "markdown",
   "metadata": {},
   "source": [
    "Посмотрим, какие признаки у нас будут отвечать за предсказание аренды:"
   ]
  },
  {
   "cell_type": "code",
   "execution_count": 37,
   "metadata": {},
   "outputs": [
    {
     "name": "stdout",
     "output_type": "stream",
     "text": [
      "<class 'pandas.core.frame.DataFrame'>\n",
      "RangeIndex: 731 entries, 0 to 730\n",
      "Data columns (total 28 columns):\n",
      " #   Column         Non-Null Count  Dtype  \n",
      "---  ------         --------------  -----  \n",
      " 0   atemp          731 non-null    float64\n",
      " 1   hum            731 non-null    float64\n",
      " 2   windspeed(ms)  731 non-null    float64\n",
      " 3   season_2       731 non-null    bool   \n",
      " 4   season_3       731 non-null    bool   \n",
      " 5   season_4       731 non-null    bool   \n",
      " 6   yr_1           731 non-null    bool   \n",
      " 7   mnth_10        731 non-null    bool   \n",
      " 8   mnth_11        731 non-null    bool   \n",
      " 9   mnth_12        731 non-null    bool   \n",
      " 10  mnth_2         731 non-null    bool   \n",
      " 11  mnth_3         731 non-null    bool   \n",
      " 12  mnth_4         731 non-null    bool   \n",
      " 13  mnth_5         731 non-null    bool   \n",
      " 14  mnth_6         731 non-null    bool   \n",
      " 15  mnth_7         731 non-null    bool   \n",
      " 16  mnth_8         731 non-null    bool   \n",
      " 17  mnth_9         731 non-null    bool   \n",
      " 18  holiday_1      731 non-null    bool   \n",
      " 19  weekday_1      731 non-null    bool   \n",
      " 20  weekday_2      731 non-null    bool   \n",
      " 21  weekday_3      731 non-null    bool   \n",
      " 22  weekday_4      731 non-null    bool   \n",
      " 23  weekday_5      731 non-null    bool   \n",
      " 24  weekday_6      731 non-null    bool   \n",
      " 25  workingday_1   731 non-null    bool   \n",
      " 26  weathersit_2   731 non-null    bool   \n",
      " 27  weathersit_3   731 non-null    bool   \n",
      "dtypes: bool(25), float64(3)\n",
      "memory usage: 35.1 KB\n"
     ]
    }
   ],
   "source": [
    "X.info() # выводим информацию про таблицу"
   ]
  },
  {
   "cell_type": "markdown",
   "metadata": {},
   "source": [
    "## Время регрессии"
   ]
  },
  {
   "cell_type": "code",
   "execution_count": 38,
   "metadata": {},
   "outputs": [
    {
     "name": "stdout",
     "output_type": "stream",
     "text": [
      "<class 'pandas.core.frame.DataFrame'>\n",
      "RangeIndex: 731 entries, 0 to 730\n",
      "Data columns (total 28 columns):\n",
      " #   Column         Non-Null Count  Dtype  \n",
      "---  ------         --------------  -----  \n",
      " 0   atemp          731 non-null    float64\n",
      " 1   hum            731 non-null    float64\n",
      " 2   windspeed(ms)  731 non-null    float64\n",
      " 3   season_2       731 non-null    bool   \n",
      " 4   season_3       731 non-null    bool   \n",
      " 5   season_4       731 non-null    bool   \n",
      " 6   yr_1           731 non-null    bool   \n",
      " 7   mnth_10        731 non-null    bool   \n",
      " 8   mnth_11        731 non-null    bool   \n",
      " 9   mnth_12        731 non-null    bool   \n",
      " 10  mnth_2         731 non-null    bool   \n",
      " 11  mnth_3         731 non-null    bool   \n",
      " 12  mnth_4         731 non-null    bool   \n",
      " 13  mnth_5         731 non-null    bool   \n",
      " 14  mnth_6         731 non-null    bool   \n",
      " 15  mnth_7         731 non-null    bool   \n",
      " 16  mnth_8         731 non-null    bool   \n",
      " 17  mnth_9         731 non-null    bool   \n",
      " 18  holiday_1      731 non-null    bool   \n",
      " 19  weekday_1      731 non-null    bool   \n",
      " 20  weekday_2      731 non-null    bool   \n",
      " 21  weekday_3      731 non-null    bool   \n",
      " 22  weekday_4      731 non-null    bool   \n",
      " 23  weekday_5      731 non-null    bool   \n",
      " 24  weekday_6      731 non-null    bool   \n",
      " 25  workingday_1   731 non-null    bool   \n",
      " 26  weathersit_2   731 non-null    bool   \n",
      " 27  weathersit_3   731 non-null    bool   \n",
      "dtypes: bool(25), float64(3)\n",
      "memory usage: 35.1 KB\n"
     ]
    }
   ],
   "source": [
    "X.info() # выводим информацию про таблицу"
   ]
  },
  {
   "cell_type": "code",
   "execution_count": 39,
   "metadata": {},
   "outputs": [],
   "source": [
    "X1 = X.astype(float) # преобразуем все колонки в данные типа float"
   ]
  },
  {
   "cell_type": "code",
   "execution_count": 40,
   "metadata": {},
   "outputs": [
    {
     "data": {
      "text/html": [
       "<div>\n",
       "<style scoped>\n",
       "    .dataframe tbody tr th:only-of-type {\n",
       "        vertical-align: middle;\n",
       "    }\n",
       "\n",
       "    .dataframe tbody tr th {\n",
       "        vertical-align: top;\n",
       "    }\n",
       "\n",
       "    .dataframe thead th {\n",
       "        text-align: right;\n",
       "    }\n",
       "</style>\n",
       "<table border=\"1\" class=\"dataframe\">\n",
       "  <thead>\n",
       "    <tr style=\"text-align: right;\">\n",
       "      <th></th>\n",
       "      <th>atemp</th>\n",
       "      <th>hum</th>\n",
       "      <th>windspeed(ms)</th>\n",
       "      <th>season_2</th>\n",
       "      <th>season_3</th>\n",
       "      <th>season_4</th>\n",
       "      <th>yr_1</th>\n",
       "      <th>mnth_10</th>\n",
       "      <th>mnth_11</th>\n",
       "      <th>mnth_12</th>\n",
       "      <th>...</th>\n",
       "      <th>holiday_1</th>\n",
       "      <th>weekday_1</th>\n",
       "      <th>weekday_2</th>\n",
       "      <th>weekday_3</th>\n",
       "      <th>weekday_4</th>\n",
       "      <th>weekday_5</th>\n",
       "      <th>weekday_6</th>\n",
       "      <th>workingday_1</th>\n",
       "      <th>weathersit_2</th>\n",
       "      <th>weathersit_3</th>\n",
       "    </tr>\n",
       "  </thead>\n",
       "  <tbody>\n",
       "    <tr>\n",
       "      <th>0</th>\n",
       "      <td>18.18125</td>\n",
       "      <td>80.5833</td>\n",
       "      <td>4.805490</td>\n",
       "      <td>0.0</td>\n",
       "      <td>0.0</td>\n",
       "      <td>0.0</td>\n",
       "      <td>0.0</td>\n",
       "      <td>0.0</td>\n",
       "      <td>0.0</td>\n",
       "      <td>0.0</td>\n",
       "      <td>...</td>\n",
       "      <td>0.0</td>\n",
       "      <td>0.0</td>\n",
       "      <td>0.0</td>\n",
       "      <td>0.0</td>\n",
       "      <td>0.0</td>\n",
       "      <td>0.0</td>\n",
       "      <td>1.0</td>\n",
       "      <td>0.0</td>\n",
       "      <td>1.0</td>\n",
       "      <td>0.0</td>\n",
       "    </tr>\n",
       "    <tr>\n",
       "      <th>1</th>\n",
       "      <td>17.68695</td>\n",
       "      <td>69.6087</td>\n",
       "      <td>7.443949</td>\n",
       "      <td>0.0</td>\n",
       "      <td>0.0</td>\n",
       "      <td>0.0</td>\n",
       "      <td>0.0</td>\n",
       "      <td>0.0</td>\n",
       "      <td>0.0</td>\n",
       "      <td>0.0</td>\n",
       "      <td>...</td>\n",
       "      <td>0.0</td>\n",
       "      <td>0.0</td>\n",
       "      <td>0.0</td>\n",
       "      <td>0.0</td>\n",
       "      <td>0.0</td>\n",
       "      <td>0.0</td>\n",
       "      <td>0.0</td>\n",
       "      <td>0.0</td>\n",
       "      <td>1.0</td>\n",
       "      <td>0.0</td>\n",
       "    </tr>\n",
       "    <tr>\n",
       "      <th>2</th>\n",
       "      <td>9.47025</td>\n",
       "      <td>43.7273</td>\n",
       "      <td>7.437060</td>\n",
       "      <td>0.0</td>\n",
       "      <td>0.0</td>\n",
       "      <td>0.0</td>\n",
       "      <td>0.0</td>\n",
       "      <td>0.0</td>\n",
       "      <td>0.0</td>\n",
       "      <td>0.0</td>\n",
       "      <td>...</td>\n",
       "      <td>0.0</td>\n",
       "      <td>1.0</td>\n",
       "      <td>0.0</td>\n",
       "      <td>0.0</td>\n",
       "      <td>0.0</td>\n",
       "      <td>0.0</td>\n",
       "      <td>0.0</td>\n",
       "      <td>1.0</td>\n",
       "      <td>0.0</td>\n",
       "      <td>0.0</td>\n",
       "    </tr>\n",
       "    <tr>\n",
       "      <th>3</th>\n",
       "      <td>10.60610</td>\n",
       "      <td>59.0435</td>\n",
       "      <td>4.800998</td>\n",
       "      <td>0.0</td>\n",
       "      <td>0.0</td>\n",
       "      <td>0.0</td>\n",
       "      <td>0.0</td>\n",
       "      <td>0.0</td>\n",
       "      <td>0.0</td>\n",
       "      <td>0.0</td>\n",
       "      <td>...</td>\n",
       "      <td>0.0</td>\n",
       "      <td>0.0</td>\n",
       "      <td>1.0</td>\n",
       "      <td>0.0</td>\n",
       "      <td>0.0</td>\n",
       "      <td>0.0</td>\n",
       "      <td>0.0</td>\n",
       "      <td>1.0</td>\n",
       "      <td>0.0</td>\n",
       "      <td>0.0</td>\n",
       "    </tr>\n",
       "    <tr>\n",
       "      <th>4</th>\n",
       "      <td>11.46350</td>\n",
       "      <td>43.6957</td>\n",
       "      <td>5.597810</td>\n",
       "      <td>0.0</td>\n",
       "      <td>0.0</td>\n",
       "      <td>0.0</td>\n",
       "      <td>0.0</td>\n",
       "      <td>0.0</td>\n",
       "      <td>0.0</td>\n",
       "      <td>0.0</td>\n",
       "      <td>...</td>\n",
       "      <td>0.0</td>\n",
       "      <td>0.0</td>\n",
       "      <td>0.0</td>\n",
       "      <td>1.0</td>\n",
       "      <td>0.0</td>\n",
       "      <td>0.0</td>\n",
       "      <td>0.0</td>\n",
       "      <td>1.0</td>\n",
       "      <td>0.0</td>\n",
       "      <td>0.0</td>\n",
       "    </tr>\n",
       "    <tr>\n",
       "      <th>...</th>\n",
       "      <td>...</td>\n",
       "      <td>...</td>\n",
       "      <td>...</td>\n",
       "      <td>...</td>\n",
       "      <td>...</td>\n",
       "      <td>...</td>\n",
       "      <td>...</td>\n",
       "      <td>...</td>\n",
       "      <td>...</td>\n",
       "      <td>...</td>\n",
       "      <td>...</td>\n",
       "      <td>...</td>\n",
       "      <td>...</td>\n",
       "      <td>...</td>\n",
       "      <td>...</td>\n",
       "      <td>...</td>\n",
       "      <td>...</td>\n",
       "      <td>...</td>\n",
       "      <td>...</td>\n",
       "      <td>...</td>\n",
       "      <td>...</td>\n",
       "    </tr>\n",
       "    <tr>\n",
       "      <th>726</th>\n",
       "      <td>11.33210</td>\n",
       "      <td>65.2917</td>\n",
       "      <td>10.486773</td>\n",
       "      <td>0.0</td>\n",
       "      <td>0.0</td>\n",
       "      <td>0.0</td>\n",
       "      <td>1.0</td>\n",
       "      <td>0.0</td>\n",
       "      <td>0.0</td>\n",
       "      <td>1.0</td>\n",
       "      <td>...</td>\n",
       "      <td>0.0</td>\n",
       "      <td>0.0</td>\n",
       "      <td>0.0</td>\n",
       "      <td>0.0</td>\n",
       "      <td>1.0</td>\n",
       "      <td>0.0</td>\n",
       "      <td>0.0</td>\n",
       "      <td>1.0</td>\n",
       "      <td>1.0</td>\n",
       "      <td>0.0</td>\n",
       "    </tr>\n",
       "    <tr>\n",
       "      <th>727</th>\n",
       "      <td>12.75230</td>\n",
       "      <td>59.0000</td>\n",
       "      <td>4.656485</td>\n",
       "      <td>0.0</td>\n",
       "      <td>0.0</td>\n",
       "      <td>0.0</td>\n",
       "      <td>1.0</td>\n",
       "      <td>0.0</td>\n",
       "      <td>0.0</td>\n",
       "      <td>1.0</td>\n",
       "      <td>...</td>\n",
       "      <td>0.0</td>\n",
       "      <td>0.0</td>\n",
       "      <td>0.0</td>\n",
       "      <td>0.0</td>\n",
       "      <td>0.0</td>\n",
       "      <td>1.0</td>\n",
       "      <td>0.0</td>\n",
       "      <td>1.0</td>\n",
       "      <td>1.0</td>\n",
       "      <td>0.0</td>\n",
       "    </tr>\n",
       "    <tr>\n",
       "      <th>728</th>\n",
       "      <td>12.12000</td>\n",
       "      <td>75.2917</td>\n",
       "      <td>3.725374</td>\n",
       "      <td>0.0</td>\n",
       "      <td>0.0</td>\n",
       "      <td>0.0</td>\n",
       "      <td>1.0</td>\n",
       "      <td>0.0</td>\n",
       "      <td>0.0</td>\n",
       "      <td>1.0</td>\n",
       "      <td>...</td>\n",
       "      <td>0.0</td>\n",
       "      <td>0.0</td>\n",
       "      <td>0.0</td>\n",
       "      <td>0.0</td>\n",
       "      <td>0.0</td>\n",
       "      <td>0.0</td>\n",
       "      <td>1.0</td>\n",
       "      <td>0.0</td>\n",
       "      <td>1.0</td>\n",
       "      <td>0.0</td>\n",
       "    </tr>\n",
       "    <tr>\n",
       "      <th>729</th>\n",
       "      <td>11.58500</td>\n",
       "      <td>48.3333</td>\n",
       "      <td>10.505372</td>\n",
       "      <td>0.0</td>\n",
       "      <td>0.0</td>\n",
       "      <td>0.0</td>\n",
       "      <td>1.0</td>\n",
       "      <td>0.0</td>\n",
       "      <td>0.0</td>\n",
       "      <td>1.0</td>\n",
       "      <td>...</td>\n",
       "      <td>0.0</td>\n",
       "      <td>0.0</td>\n",
       "      <td>0.0</td>\n",
       "      <td>0.0</td>\n",
       "      <td>0.0</td>\n",
       "      <td>0.0</td>\n",
       "      <td>0.0</td>\n",
       "      <td>0.0</td>\n",
       "      <td>0.0</td>\n",
       "      <td>0.0</td>\n",
       "    </tr>\n",
       "    <tr>\n",
       "      <th>730</th>\n",
       "      <td>11.17435</td>\n",
       "      <td>57.7500</td>\n",
       "      <td>4.637766</td>\n",
       "      <td>0.0</td>\n",
       "      <td>0.0</td>\n",
       "      <td>0.0</td>\n",
       "      <td>1.0</td>\n",
       "      <td>0.0</td>\n",
       "      <td>0.0</td>\n",
       "      <td>1.0</td>\n",
       "      <td>...</td>\n",
       "      <td>0.0</td>\n",
       "      <td>1.0</td>\n",
       "      <td>0.0</td>\n",
       "      <td>0.0</td>\n",
       "      <td>0.0</td>\n",
       "      <td>0.0</td>\n",
       "      <td>0.0</td>\n",
       "      <td>1.0</td>\n",
       "      <td>1.0</td>\n",
       "      <td>0.0</td>\n",
       "    </tr>\n",
       "  </tbody>\n",
       "</table>\n",
       "<p>731 rows × 28 columns</p>\n",
       "</div>"
      ],
      "text/plain": [
       "        atemp      hum  windspeed(ms)  season_2  season_3  season_4  yr_1  \\\n",
       "0    18.18125  80.5833       4.805490       0.0       0.0       0.0   0.0   \n",
       "1    17.68695  69.6087       7.443949       0.0       0.0       0.0   0.0   \n",
       "2     9.47025  43.7273       7.437060       0.0       0.0       0.0   0.0   \n",
       "3    10.60610  59.0435       4.800998       0.0       0.0       0.0   0.0   \n",
       "4    11.46350  43.6957       5.597810       0.0       0.0       0.0   0.0   \n",
       "..        ...      ...            ...       ...       ...       ...   ...   \n",
       "726  11.33210  65.2917      10.486773       0.0       0.0       0.0   1.0   \n",
       "727  12.75230  59.0000       4.656485       0.0       0.0       0.0   1.0   \n",
       "728  12.12000  75.2917       3.725374       0.0       0.0       0.0   1.0   \n",
       "729  11.58500  48.3333      10.505372       0.0       0.0       0.0   1.0   \n",
       "730  11.17435  57.7500       4.637766       0.0       0.0       0.0   1.0   \n",
       "\n",
       "     mnth_10  mnth_11  mnth_12  ...  holiday_1  weekday_1  weekday_2  \\\n",
       "0        0.0      0.0      0.0  ...        0.0        0.0        0.0   \n",
       "1        0.0      0.0      0.0  ...        0.0        0.0        0.0   \n",
       "2        0.0      0.0      0.0  ...        0.0        1.0        0.0   \n",
       "3        0.0      0.0      0.0  ...        0.0        0.0        1.0   \n",
       "4        0.0      0.0      0.0  ...        0.0        0.0        0.0   \n",
       "..       ...      ...      ...  ...        ...        ...        ...   \n",
       "726      0.0      0.0      1.0  ...        0.0        0.0        0.0   \n",
       "727      0.0      0.0      1.0  ...        0.0        0.0        0.0   \n",
       "728      0.0      0.0      1.0  ...        0.0        0.0        0.0   \n",
       "729      0.0      0.0      1.0  ...        0.0        0.0        0.0   \n",
       "730      0.0      0.0      1.0  ...        0.0        1.0        0.0   \n",
       "\n",
       "     weekday_3  weekday_4  weekday_5  weekday_6  workingday_1  weathersit_2  \\\n",
       "0          0.0        0.0        0.0        1.0           0.0           1.0   \n",
       "1          0.0        0.0        0.0        0.0           0.0           1.0   \n",
       "2          0.0        0.0        0.0        0.0           1.0           0.0   \n",
       "3          0.0        0.0        0.0        0.0           1.0           0.0   \n",
       "4          1.0        0.0        0.0        0.0           1.0           0.0   \n",
       "..         ...        ...        ...        ...           ...           ...   \n",
       "726        0.0        1.0        0.0        0.0           1.0           1.0   \n",
       "727        0.0        0.0        1.0        0.0           1.0           1.0   \n",
       "728        0.0        0.0        0.0        1.0           0.0           1.0   \n",
       "729        0.0        0.0        0.0        0.0           0.0           0.0   \n",
       "730        0.0        0.0        0.0        0.0           1.0           1.0   \n",
       "\n",
       "     weathersit_3  \n",
       "0             0.0  \n",
       "1             0.0  \n",
       "2             0.0  \n",
       "3             0.0  \n",
       "4             0.0  \n",
       "..            ...  \n",
       "726           0.0  \n",
       "727           0.0  \n",
       "728           0.0  \n",
       "729           0.0  \n",
       "730           0.0  \n",
       "\n",
       "[731 rows x 28 columns]"
      ]
     },
     "execution_count": 40,
     "metadata": {},
     "output_type": "execute_result"
    }
   ],
   "source": [
    "X1 # смотрим, что записано в Х1"
   ]
  },
  {
   "cell_type": "code",
   "execution_count": 41,
   "metadata": {},
   "outputs": [
    {
     "data": {
      "text/plain": [
       "731"
      ]
     },
     "execution_count": 41,
     "metadata": {},
     "output_type": "execute_result"
    }
   ],
   "source": [
    "X1.shape[0] # выводим количество строк в Х1"
   ]
  },
  {
   "cell_type": "code",
   "execution_count": 66,
   "metadata": {},
   "outputs": [],
   "source": [
    "n = X1.shape[0] # записываем количество строк в Х1 в переменную n\n",
    "X1 = np.column_stack((np.ones(n), X1)) # прицепляем к Х1 столбец с единицами\n",
    "w_hat = np.linalg.inv(X1.T@X1)@X1.T@np.array(y) # в переменную w_hat записываем оцененные коэффициенты регрессии"
   ]
  },
  {
   "cell_type": "code",
   "execution_count": 67,
   "metadata": {},
   "outputs": [
    {
     "data": {
      "text/plain": [
       "array([-7.13411786e+35, -1.53699738e+36,  2.25040916e+36,  2.63668339e+20,\n",
       "        5.25362816e+18, -3.59593543e+17, -1.05580374e+21, -2.89906798e+21,\n",
       "       -1.54543071e+21, -8.79885702e+19, -7.00106549e+20,  5.58509001e+20,\n",
       "        5.13945123e+20,  1.32208006e+19, -8.58258693e+20, -1.10629270e+21,\n",
       "       -2.56655482e+21, -2.82617446e+21, -2.41997196e+21, -1.83909180e+21,\n",
       "       -1.06659633e+21, -3.28240508e+19,  3.28240508e+19, -1.98877635e+20,\n",
       "        3.28240508e+19, -1.98877635e+20,  3.28240508e+19, -2.46711383e+04,\n",
       "       -3.28240508e+19,  2.17045594e+03,  0.00000000e+00])"
      ]
     },
     "execution_count": 67,
     "metadata": {},
     "output_type": "execute_result"
    }
   ],
   "source": [
    "w_hat # выводим оцененные коэффициенты регрессии"
   ]
  },
  {
   "cell_type": "code",
   "execution_count": 68,
   "metadata": {},
   "outputs": [],
   "source": [
    "y_pred = X1 @ w_hat # вычисляем предсказание "
   ]
  },
  {
   "cell_type": "code",
   "execution_count": 69,
   "metadata": {},
   "outputs": [
    {
     "data": {
      "text/plain": [
       "array([-1.27780726e+21, -1.46674376e+21, -3.76919617e+21, -3.61999664e+21,\n",
       "       -3.24314389e+21, -3.37915369e+21, -3.47986317e+21, -4.07555856e+21,\n",
       "       -4.73747350e+21, -4.25273248e+21, -3.84153111e+21, -4.06597367e+21,\n",
       "       -4.49190431e+21, -3.72813593e+21, -2.96196654e+21, -3.15335873e+21,\n",
       "       -3.88251519e+21, -3.21090577e+21, -2.17159377e+21, -3.08181488e+21,\n",
       "       -4.17614571e+21, -5.24255342e+21, -4.96354033e+21, -4.68189740e+21,\n",
       "       -3.31037321e+21, -3.35914960e+21, -3.46859800e+21, -3.13386544e+21,\n",
       "       -3.35587457e+21, -2.81454805e+21, -3.72267079e+21, -3.18457853e+21,\n",
       "       -2.72141909e+21, -4.13966888e+21, -3.16040097e+21, -2.78928321e+21,\n",
       "       -2.33775889e+21, -2.08937944e+21, -3.81947178e+21, -4.31998339e+21,\n",
       "       -4.51278246e+21, -3.40039922e+21, -3.12520858e+21, -1.96962981e+21,\n",
       "       -1.03547121e+21, -3.19752602e+21, -2.09166890e+21, -7.97727684e+20,\n",
       "        5.38236601e+20, -1.22673182e+21, -2.61202374e+21, -2.42042498e+21,\n",
       "       -3.95774865e+21, -3.01940600e+21, -2.53552384e+21, -1.48934216e+21,\n",
       "       -2.47918612e+21, -1.49531899e+21, -7.47821586e+20, -3.82564923e+21,\n",
       "       -2.89900437e+21, -4.77996859e+21, -3.66228941e+21, -1.94602480e+21,\n",
       "       -2.02857596e+21, -3.92182360e+21, -3.37675841e+21, -3.16803563e+21,\n",
       "       -2.50161269e+21, -2.99182226e+21, -2.74702051e+21, -2.06645729e+21,\n",
       "       -2.71501016e+21, -3.04607091e+21, -2.10835324e+21, -1.85913029e+21,\n",
       "       -1.30291824e+20, -1.00588398e+21, -2.81036108e+21, -2.62132142e+21,\n",
       "       -2.50414950e+21, -3.51357240e+21, -4.64778460e+21, -4.77067873e+21,\n",
       "       -4.80682688e+21, -4.84949434e+21, -4.85514539e+21, -4.61488286e+21,\n",
       "       -4.14935455e+21, -4.76318548e+21, -4.56071417e+21, -4.15284353e+21,\n",
       "       -3.41169537e+21, -1.27790772e+21, -3.30229090e+21, -3.30082755e+21,\n",
       "       -2.85445479e+21, -3.94071849e+21, -3.69325860e+21, -2.58058064e+21,\n",
       "       -8.30691582e+20, -2.00154521e+21, -2.72647388e+21, -2.50380857e+21,\n",
       "       -2.47921532e+21, -2.58288533e+21, -2.53086777e+21, -1.73891916e+21,\n",
       "       -2.08885730e+21, -8.94680356e+20, -2.69284136e+21, -4.02996503e+21,\n",
       "       -2.25722390e+21, -9.57316911e+20, -6.75441417e+20, -6.75447369e+20,\n",
       "       -6.37478971e+20, -8.90054273e+20, -1.85953931e+21, -2.27606739e+21,\n",
       "       -3.80752764e+21, -2.70951384e+21, -2.31099309e+21, -4.39725014e+21,\n",
       "       -4.29117068e+21, -3.55762456e+21, -3.07489154e+21, -2.94325187e+21,\n",
       "       -2.88366364e+21, -3.20032091e+21, -2.81828324e+21, -3.05693555e+21,\n",
       "       -3.14742209e+21, -3.03241787e+21, -2.59541543e+21, -2.44540737e+21,\n",
       "       -2.81043852e+21, -2.71097321e+21, -3.17932283e+21, -2.76433546e+21,\n",
       "       -2.24709945e+21, -2.14953047e+21, -1.91046881e+21, -1.98683651e+21,\n",
       "       -1.63654289e+21, -1.36250615e+21, -1.37680662e+21, -1.66154713e+21,\n",
       "       -1.57272351e+21, -9.09866613e+20, -4.51005488e+20, -5.16939727e+20,\n",
       "       -1.96049024e+21, -2.45147295e+21, -2.29673626e+21, -1.90234230e+21,\n",
       "       -1.86311397e+21, -1.64717081e+21, -4.61864083e+20, -3.22487210e+20,\n",
       "       -7.87109727e+20, -1.09414864e+21, -1.50284427e+21, -2.18682972e+21,\n",
       "       -2.54483390e+21, -2.38063820e+21, -2.39883841e+21, -2.07509384e+21,\n",
       "       -1.53479192e+21, -1.51163152e+21, -2.13616006e+21, -3.64093847e+21,\n",
       "       -2.70162045e+21, -2.93617525e+21, -3.26367230e+21, -3.48576477e+21,\n",
       "       -3.54369946e+21, -3.47590208e+21, -2.98830335e+21, -3.32870425e+21,\n",
       "       -3.82615661e+21, -3.00750037e+21, -2.78256611e+21, -2.64209557e+21,\n",
       "       -2.70556376e+21, -2.55505802e+21, -2.38440288e+21, -2.64826082e+21,\n",
       "       -2.57728016e+21, -2.73819676e+21, -2.41354792e+21, -1.85998122e+21,\n",
       "       -2.00621618e+21, -2.39331299e+21, -3.42354267e+21, -3.27229900e+21,\n",
       "       -3.09271322e+21, -2.66683828e+21, -2.19233878e+21, -1.84936989e+21,\n",
       "       -1.59600961e+21, -7.88836237e+20, -4.22915266e+20, -9.47774842e+20,\n",
       "       -1.04616656e+21, -1.91083869e+21, -2.57345403e+21, -2.49724113e+21,\n",
       "       -1.98504611e+21, -1.16742934e+21, -1.96477064e+21, -1.94025217e+21,\n",
       "       -1.67192271e+21, -1.88563612e+21, -1.92355492e+21, -2.30309899e+21,\n",
       "       -2.24619018e+21, -1.92320294e+21, -1.40803646e+21, -1.65075203e+21,\n",
       "       -1.61867803e+21, -1.98031244e+21, -2.65299477e+21, -2.39223269e+21,\n",
       "       -2.33578000e+21, -2.57276003e+21, -2.73637575e+21, -2.64748757e+21,\n",
       "       -2.14165655e+21, -2.39091015e+21, -2.50510388e+21, -2.32237168e+21,\n",
       "       -1.92383570e+21, -2.57310520e+21, -3.23540292e+21, -2.60161959e+21,\n",
       "       -2.54541836e+21, -2.13485032e+21, -2.41010100e+21, -2.39725080e+21,\n",
       "       -2.92681394e+21, -3.33615717e+21, -2.86152490e+21, -2.24959256e+21,\n",
       "       -2.10500686e+21, -1.73649300e+21, -1.29865112e+21, -1.79780120e+21,\n",
       "       -3.43625358e+21, -2.80336402e+21, -2.87752769e+21, -2.35603908e+21,\n",
       "       -2.04956384e+21, -2.05345973e+21, -2.15810249e+21, -2.36092211e+21,\n",
       "       -1.82981449e+21, -3.02169456e+21, -4.06668602e+21, -3.77515238e+21,\n",
       "       -3.62875955e+21, -3.11512578e+21, -3.21265878e+21, -2.72922389e+21,\n",
       "       -2.90177034e+21, -1.71181806e+21, -1.21212100e+21, -1.11257963e+21,\n",
       "       -8.95204307e+20, -1.29888757e+21, -1.07843229e+21, -1.39749703e+21,\n",
       "       -1.58462442e+21, -2.90300195e+21, -3.77281189e+21, -3.17146957e+21,\n",
       "       -2.36581816e+21, -1.45082864e+21, -2.31214067e+21, -1.72982819e+21,\n",
       "       -1.60458623e+21, -1.44938673e+21, -1.19615518e+21, -1.34773500e+21,\n",
       "       -1.44007466e+21, -1.22628222e+21, -1.38198493e+21, -1.91274596e+21,\n",
       "       -1.85285959e+21, -1.70308805e+21, -1.71179987e+21, -1.49682581e+21,\n",
       "       -2.49038513e+21, -2.85508696e+21, -2.79980982e+21, -2.78264572e+21,\n",
       "       -2.30874205e+21, -2.53616453e+21, -2.12818579e+21, -2.52011845e+21,\n",
       "       -4.23045629e+21, -5.27427069e+21, -4.17678412e+21, -3.67630458e+21,\n",
       "       -2.11914393e+21, -1.96016924e+21, -1.99307676e+21, -1.83797944e+21,\n",
       "       -2.93995850e+21, -2.31812787e+21, -1.79732337e+21, -1.89867294e+21,\n",
       "       -1.68938650e+21, -2.35969891e+21, -3.20422512e+21, -2.47307890e+21,\n",
       "       -1.56629851e+21, -2.58867393e+20, -6.60558154e+20, -1.03431561e+21,\n",
       "       -3.15148764e+21, -3.67119734e+21, -2.94102306e+21, -1.09693769e+21,\n",
       "       -1.13614441e+21, -1.64810081e+21, -1.40966231e+21, -2.51472678e+21,\n",
       "       -2.12449392e+21, -2.04602755e+21, -1.10654645e+21, -6.29856454e+20,\n",
       "       -1.32750341e+21, -3.05791747e+21, -3.45497013e+21, -2.82761582e+21,\n",
       "       -3.10894526e+21, -2.51571908e+21, -1.89761332e+21, -1.24315904e+21,\n",
       "       -1.74117533e+21, -4.06699543e+21, -2.97377700e+21, -3.74840922e+21,\n",
       "       -3.93059365e+21, -3.61088563e+21, -3.47796306e+21, -2.71591914e+21,\n",
       "       -1.99146802e+21, -2.52092244e+21, -3.94515577e+21, -3.98100374e+21,\n",
       "       -3.48802595e+21, -2.21767598e+21,  1.11969518e+20, -1.95826488e+20,\n",
       "       -6.44820939e+20, -1.75131701e+21, -1.93220476e+21, -1.55572203e+21,\n",
       "       -1.49312851e+21, -2.02672366e+21, -2.43165230e+21, -1.44324292e+21,\n",
       "       -1.98614307e+20, -1.26753014e+21, -3.05824124e+21, -4.92033017e+21,\n",
       "       -4.79215581e+21, -2.86854482e+21, -1.81237889e+21, -1.15200409e+21,\n",
       "       -1.85324862e+21, -2.95105906e+21, -2.27208942e+21, -2.40886360e+21,\n",
       "       -1.35782257e+21, -3.03124991e+21, -3.92919272e+21, -4.23296404e+21,\n",
       "       -3.79564234e+21, -1.63807010e+21, -2.72401778e+21, -4.04859711e+21,\n",
       "       -3.43403142e+21, -3.84148249e+21, -4.02606307e+21, -2.89936300e+21,\n",
       "       -1.77272525e+21, -2.35802676e+21, -1.71546876e+21, -7.19340581e+20,\n",
       "       -1.99527574e+21, -2.82491402e+21, -2.91068896e+21, -1.56980162e+21,\n",
       "       -1.52652277e+20, -1.18841278e+21, -2.21501555e+21, -2.56432321e+21,\n",
       "       -2.72122054e+21, -2.33490349e+21, -1.78001477e+21, -2.67732904e+21,\n",
       "       -3.05261863e+21, -2.41548759e+21, -3.40702368e+21, -4.98815451e+21,\n",
       "       -3.34909578e+21, -2.13141620e+21, -1.65520682e+21, -2.05249013e+21,\n",
       "       -1.60118064e+21, -1.60351201e+21, -2.79575423e+21, -2.69946850e+21,\n",
       "       -2.59909290e+21, -1.09549171e+21, -6.51105311e+20, -7.65123186e+20,\n",
       "       -2.99393675e+21, -2.81761704e+21, -1.59398619e+21, -1.93318308e+21,\n",
       "       -1.55312243e+21, -1.08331624e+21, -2.35190771e+21, -1.66361693e+21,\n",
       "       -3.23635620e+21, -3.99654323e+21, -4.07112543e+21, -2.09660532e+21,\n",
       "       -4.61741889e+20, -1.99519160e+21, -3.59591830e+21, -2.44964342e+21,\n",
       "       -1.12575516e+21, -1.91683925e+20,  5.83087992e+19, -3.43871630e+20,\n",
       "       -1.24733238e+21, -3.85374924e+20, -8.98218378e+20, -3.39897978e+19,\n",
       "       -1.48354338e+20, -1.29832104e+21, -1.28369553e+21, -6.16437006e+20,\n",
       "       -1.61541197e+21, -2.26733907e+21, -2.46416702e+21, -4.41526918e+21,\n",
       "       -2.03688519e+21, -2.14131254e+21, -3.23967560e+21, -2.55055900e+21,\n",
       "       -2.88864915e+21, -2.84565289e+21, -2.68380216e+21, -1.46589283e+21,\n",
       "       -3.09662994e+21, -3.39682447e+21, -2.99493315e+21, -2.10908752e+21,\n",
       "       -2.29667656e+21, -2.99815206e+21, -4.05340331e+21, -3.62327301e+21,\n",
       "       -2.83778549e+21, -2.04772650e+21, -9.13289488e+20, -3.44514947e+20,\n",
       "       -8.82773398e+20, -2.42080567e+21, -2.15393496e+21, -1.58036810e+21,\n",
       "       -1.23006008e+21, -3.17315907e+21, -4.37397285e+21, -3.39610927e+21,\n",
       "       -2.31942154e+21, -2.20414186e+21, -2.56919793e+21, -3.51073744e+21,\n",
       "       -2.50203364e+21, -2.41173348e+21, -2.48335510e+21, -2.69502294e+21,\n",
       "       -2.95040378e+21, -2.02868997e+21, -2.10059307e+21, -2.60858495e+21,\n",
       "       -2.90762452e+21, -2.72880722e+21, -2.52421500e+21, -3.66526102e+21,\n",
       "       -3.15044460e+21, -2.76998431e+21, -2.18784870e+21, -2.54151324e+21,\n",
       "       -2.42047154e+21, -1.98127396e+21, -2.61558962e+21, -2.66447695e+21,\n",
       "       -2.49102415e+21, -2.22899880e+21, -2.32248819e+21, -2.37697708e+21,\n",
       "       -2.09057875e+21, -2.06227559e+21, -1.53964871e+21, -1.34798662e+21,\n",
       "       -1.38352376e+21, -8.94945868e+20, -1.20649564e+21, -1.79628629e+21,\n",
       "       -1.85537221e+21, -2.05389473e+21, -2.71110725e+21, -2.62380637e+21,\n",
       "       -2.58664718e+21, -3.44190367e+21, -2.99366177e+21, -2.89150142e+21,\n",
       "       -2.33741937e+21, -1.68745503e+21, -1.43441948e+21, -1.45921104e+21,\n",
       "       -2.37739548e+21, -2.10450287e+21, -2.16691596e+21, -2.24857084e+21,\n",
       "       -2.35986159e+21, -2.60963543e+21, -2.87353480e+21, -1.70293858e+21,\n",
       "       -6.48474032e+20, -2.32002853e+21, -2.46063818e+21, -3.42154140e+21,\n",
       "       -3.16734411e+21, -3.42234111e+21, -4.50556469e+21, -3.67245325e+21,\n",
       "       -3.41251316e+21, -1.68124826e+21, -2.92864067e+21, -1.73371046e+21,\n",
       "       -2.41224502e+21, -2.61149367e+21, -1.96399261e+21, -1.85608265e+21,\n",
       "       -1.74404919e+21, -1.03201812e+21, -1.18008852e+21, -2.92056721e+21,\n",
       "       -3.01865580e+21, -2.99639327e+21, -3.22438272e+21, -2.84027536e+21,\n",
       "       -2.75380413e+21, -2.22801765e+21, -2.01674992e+21, -1.90498660e+21,\n",
       "       -1.76925318e+21, -2.39690558e+21, -3.37727489e+21, -4.19820259e+21,\n",
       "       -3.28578813e+21, -2.44030471e+21, -2.47672394e+21, -3.04297748e+21,\n",
       "       -2.07557256e+21, -1.91006952e+21, -2.38295035e+21, -2.76878332e+21,\n",
       "       -2.52013129e+21, -3.02458824e+21, -2.16758987e+21, -1.88414080e+21,\n",
       "       -1.45432370e+21, -1.09568667e+21, -1.34161162e+21, -1.61365125e+21,\n",
       "       -1.98561047e+21, -1.63694065e+21, -2.00493552e+21, -2.14014439e+21,\n",
       "       -2.52203874e+21, -2.54430665e+21, -2.30355686e+21, -2.26991675e+21,\n",
       "       -2.37328238e+21, -2.64885520e+21, -7.82633927e+21, -2.85606149e+21,\n",
       "       -2.98954593e+21, -3.07821666e+21, -3.27436133e+21, -2.76628443e+21,\n",
       "       -2.82002998e+21, -2.46609204e+21, -2.79096715e+21, -3.02023412e+21,\n",
       "       -2.30602993e+21, -2.44662043e+21, -2.64943748e+21, -2.63589364e+21,\n",
       "       -1.92391909e+21, -9.49388753e+20, -1.56338855e+21, -1.41052916e+21,\n",
       "       -1.32897386e+21, -8.12685820e+20, -1.71490397e+21, -1.49776271e+21,\n",
       "       -2.07341874e+21, -2.62947884e+21, -2.82778911e+21, -3.19894870e+21,\n",
       "       -2.72961242e+21, -2.80424491e+21, -2.36267502e+21, -2.56228650e+21,\n",
       "       -2.82450960e+21, -2.87152973e+21, -2.87456681e+21, -3.14290811e+21,\n",
       "       -3.43892295e+21, -2.65669930e+21, -2.16190837e+21, -2.10897589e+21,\n",
       "       -2.31100457e+21, -1.95392096e+21, -9.99087606e+20, -1.04829220e+21,\n",
       "       -1.10886121e+21, -1.91937917e+21, -2.06369440e+21, -1.73680004e+21,\n",
       "       -1.45186315e+21, -5.11869571e+20, -6.64765788e+20, -8.49412853e+20,\n",
       "       -1.38119089e+21, -2.92159844e+21, -3.34603621e+21, -2.88456630e+21,\n",
       "       -1.86425563e+21, -3.13276498e+21, -2.83669786e+21, -3.40858154e+21,\n",
       "       -1.79346393e+21, -1.35043466e+21, -2.69159161e+21, -2.52987726e+21,\n",
       "       -1.92024508e+21, -1.30875528e+21, -2.29338311e+21, -2.54333932e+21,\n",
       "       -2.16225056e+21, -1.73117298e+21, -1.12744959e+21, -1.65621388e+21,\n",
       "       -1.51256383e+21, -1.65984383e+21, -2.29933813e+21, -2.57552492e+21,\n",
       "       -4.54145264e+21, -3.71780086e+21, -2.61887467e+21, -2.60289780e+21,\n",
       "       -3.04359650e+21, -2.94568158e+21, -3.24961130e+21, -3.79179516e+21,\n",
       "       -3.66336019e+21, -3.12112356e+21, -2.60078370e+21, -2.03627339e+21,\n",
       "       -1.66361724e+21, -9.13216433e+20, -3.19406788e+21, -3.56830788e+21,\n",
       "       -3.19765622e+21, -2.71707466e+21, -2.98071492e+21, -2.75393644e+21,\n",
       "       -2.29125166e+21, -2.42239153e+21, -2.43631136e+21, -2.87641882e+21,\n",
       "       -2.27735681e+21, -4.08040078e+21, -3.92791627e+21, -2.81814736e+21,\n",
       "       -3.67724236e+21, -3.48441658e+21, -3.57496952e+21, -2.95785348e+21,\n",
       "       -3.01170068e+21, -2.44593027e+21, -1.20145431e+21, -1.27708573e+21,\n",
       "       -1.71875620e+21, -4.17502256e+21, -2.96816317e+21, -2.00003670e+21,\n",
       "       -1.99529967e+21, -1.38645027e+21, -3.07337095e+21, -3.41173196e+21,\n",
       "       -3.71266349e+21, -3.39792094e+21, -2.81112439e+21, -2.29611812e+21,\n",
       "       -1.84409674e+21, -2.09543994e+21, -2.77527562e+21, -3.07565217e+21,\n",
       "       -1.80055719e+21, -2.72709206e+21, -2.37723538e+21, -2.23922080e+21,\n",
       "       -2.03273371e+21, -2.73341625e+21, -2.97183572e+21, -2.39662998e+21,\n",
       "       -2.47742212e+21, -2.76255213e+21, -2.81924574e+21])"
      ]
     },
     "execution_count": 69,
     "metadata": {},
     "output_type": "execute_result"
    }
   ],
   "source": [
    "y_pred # выводим предсказание "
   ]
  },
  {
   "cell_type": "code",
   "execution_count": 70,
   "metadata": {},
   "outputs": [
    {
     "data": {
      "text/plain": [
       "array([-7.13411786e+35, -1.53699738e+36,  2.25040916e+36,  2.63668339e+20,\n",
       "        5.25362816e+18, -3.59593543e+17, -1.05580374e+21, -2.89906798e+21,\n",
       "       -1.54543071e+21, -8.79885702e+19, -7.00106549e+20,  5.58509001e+20,\n",
       "        5.13945123e+20,  1.32208006e+19, -8.58258693e+20, -1.10629270e+21,\n",
       "       -2.56655482e+21, -2.82617446e+21, -2.41997196e+21, -1.83909180e+21,\n",
       "       -1.06659633e+21, -3.28240508e+19,  3.28240508e+19, -1.98877635e+20,\n",
       "        3.28240508e+19, -1.98877635e+20,  3.28240508e+19, -2.46711383e+04,\n",
       "       -3.28240508e+19,  2.17045594e+03,  0.00000000e+00])"
      ]
     },
     "execution_count": 70,
     "metadata": {},
     "output_type": "execute_result"
    }
   ],
   "source": [
    " w_hat # выводим вектор весов"
   ]
  },
  {
   "cell_type": "code",
   "execution_count": 71,
   "metadata": {},
   "outputs": [
    {
     "data": {
      "text/plain": [
       "0       985\n",
       "1       801\n",
       "2      1349\n",
       "3      1562\n",
       "4      1600\n",
       "       ... \n",
       "726    2114\n",
       "727    3095\n",
       "728    1341\n",
       "729    1796\n",
       "730    2729\n",
       "Name: cnt, Length: 731, dtype: int64"
      ]
     },
     "execution_count": 71,
     "metadata": {},
     "output_type": "execute_result"
    }
   ],
   "source": [
    "y # целевая переменная"
   ]
  },
  {
   "cell_type": "code",
   "execution_count": 72,
   "metadata": {},
   "outputs": [
    {
     "data": {
      "text/plain": [
       "array([-1.27780726e+21, -1.46674376e+21, -3.76919617e+21, -3.61999664e+21,\n",
       "       -3.24314389e+21, -3.37915369e+21, -3.47986317e+21, -4.07555856e+21,\n",
       "       -4.73747350e+21, -4.25273248e+21, -3.84153111e+21, -4.06597367e+21,\n",
       "       -4.49190431e+21, -3.72813593e+21, -2.96196654e+21, -3.15335873e+21,\n",
       "       -3.88251519e+21, -3.21090577e+21, -2.17159377e+21, -3.08181488e+21,\n",
       "       -4.17614571e+21, -5.24255342e+21, -4.96354033e+21, -4.68189740e+21,\n",
       "       -3.31037321e+21, -3.35914960e+21, -3.46859800e+21, -3.13386544e+21,\n",
       "       -3.35587457e+21, -2.81454805e+21, -3.72267079e+21, -3.18457853e+21,\n",
       "       -2.72141909e+21, -4.13966888e+21, -3.16040097e+21, -2.78928321e+21,\n",
       "       -2.33775889e+21, -2.08937944e+21, -3.81947178e+21, -4.31998339e+21,\n",
       "       -4.51278246e+21, -3.40039922e+21, -3.12520858e+21, -1.96962981e+21,\n",
       "       -1.03547121e+21, -3.19752602e+21, -2.09166890e+21, -7.97727684e+20,\n",
       "        5.38236601e+20, -1.22673182e+21, -2.61202374e+21, -2.42042498e+21,\n",
       "       -3.95774865e+21, -3.01940600e+21, -2.53552384e+21, -1.48934216e+21,\n",
       "       -2.47918612e+21, -1.49531899e+21, -7.47821586e+20, -3.82564923e+21,\n",
       "       -2.89900437e+21, -4.77996859e+21, -3.66228941e+21, -1.94602480e+21,\n",
       "       -2.02857596e+21, -3.92182360e+21, -3.37675841e+21, -3.16803563e+21,\n",
       "       -2.50161269e+21, -2.99182226e+21, -2.74702051e+21, -2.06645729e+21,\n",
       "       -2.71501016e+21, -3.04607091e+21, -2.10835324e+21, -1.85913029e+21,\n",
       "       -1.30291824e+20, -1.00588398e+21, -2.81036108e+21, -2.62132142e+21,\n",
       "       -2.50414950e+21, -3.51357240e+21, -4.64778460e+21, -4.77067873e+21,\n",
       "       -4.80682688e+21, -4.84949434e+21, -4.85514539e+21, -4.61488286e+21,\n",
       "       -4.14935455e+21, -4.76318548e+21, -4.56071417e+21, -4.15284353e+21,\n",
       "       -3.41169537e+21, -1.27790772e+21, -3.30229090e+21, -3.30082755e+21,\n",
       "       -2.85445479e+21, -3.94071849e+21, -3.69325860e+21, -2.58058064e+21,\n",
       "       -8.30691582e+20, -2.00154521e+21, -2.72647388e+21, -2.50380857e+21,\n",
       "       -2.47921532e+21, -2.58288533e+21, -2.53086777e+21, -1.73891916e+21,\n",
       "       -2.08885730e+21, -8.94680356e+20, -2.69284136e+21, -4.02996503e+21,\n",
       "       -2.25722390e+21, -9.57316911e+20, -6.75441417e+20, -6.75447369e+20,\n",
       "       -6.37478971e+20, -8.90054273e+20, -1.85953931e+21, -2.27606739e+21,\n",
       "       -3.80752764e+21, -2.70951384e+21, -2.31099309e+21, -4.39725014e+21,\n",
       "       -4.29117068e+21, -3.55762456e+21, -3.07489154e+21, -2.94325187e+21,\n",
       "       -2.88366364e+21, -3.20032091e+21, -2.81828324e+21, -3.05693555e+21,\n",
       "       -3.14742209e+21, -3.03241787e+21, -2.59541543e+21, -2.44540737e+21,\n",
       "       -2.81043852e+21, -2.71097321e+21, -3.17932283e+21, -2.76433546e+21,\n",
       "       -2.24709945e+21, -2.14953047e+21, -1.91046881e+21, -1.98683651e+21,\n",
       "       -1.63654289e+21, -1.36250615e+21, -1.37680662e+21, -1.66154713e+21,\n",
       "       -1.57272351e+21, -9.09866613e+20, -4.51005488e+20, -5.16939727e+20,\n",
       "       -1.96049024e+21, -2.45147295e+21, -2.29673626e+21, -1.90234230e+21,\n",
       "       -1.86311397e+21, -1.64717081e+21, -4.61864083e+20, -3.22487210e+20,\n",
       "       -7.87109727e+20, -1.09414864e+21, -1.50284427e+21, -2.18682972e+21,\n",
       "       -2.54483390e+21, -2.38063820e+21, -2.39883841e+21, -2.07509384e+21,\n",
       "       -1.53479192e+21, -1.51163152e+21, -2.13616006e+21, -3.64093847e+21,\n",
       "       -2.70162045e+21, -2.93617525e+21, -3.26367230e+21, -3.48576477e+21,\n",
       "       -3.54369946e+21, -3.47590208e+21, -2.98830335e+21, -3.32870425e+21,\n",
       "       -3.82615661e+21, -3.00750037e+21, -2.78256611e+21, -2.64209557e+21,\n",
       "       -2.70556376e+21, -2.55505802e+21, -2.38440288e+21, -2.64826082e+21,\n",
       "       -2.57728016e+21, -2.73819676e+21, -2.41354792e+21, -1.85998122e+21,\n",
       "       -2.00621618e+21, -2.39331299e+21, -3.42354267e+21, -3.27229900e+21,\n",
       "       -3.09271322e+21, -2.66683828e+21, -2.19233878e+21, -1.84936989e+21,\n",
       "       -1.59600961e+21, -7.88836237e+20, -4.22915266e+20, -9.47774842e+20,\n",
       "       -1.04616656e+21, -1.91083869e+21, -2.57345403e+21, -2.49724113e+21,\n",
       "       -1.98504611e+21, -1.16742934e+21, -1.96477064e+21, -1.94025217e+21,\n",
       "       -1.67192271e+21, -1.88563612e+21, -1.92355492e+21, -2.30309899e+21,\n",
       "       -2.24619018e+21, -1.92320294e+21, -1.40803646e+21, -1.65075203e+21,\n",
       "       -1.61867803e+21, -1.98031244e+21, -2.65299477e+21, -2.39223269e+21,\n",
       "       -2.33578000e+21, -2.57276003e+21, -2.73637575e+21, -2.64748757e+21,\n",
       "       -2.14165655e+21, -2.39091015e+21, -2.50510388e+21, -2.32237168e+21,\n",
       "       -1.92383570e+21, -2.57310520e+21, -3.23540292e+21, -2.60161959e+21,\n",
       "       -2.54541836e+21, -2.13485032e+21, -2.41010100e+21, -2.39725080e+21,\n",
       "       -2.92681394e+21, -3.33615717e+21, -2.86152490e+21, -2.24959256e+21,\n",
       "       -2.10500686e+21, -1.73649300e+21, -1.29865112e+21, -1.79780120e+21,\n",
       "       -3.43625358e+21, -2.80336402e+21, -2.87752769e+21, -2.35603908e+21,\n",
       "       -2.04956384e+21, -2.05345973e+21, -2.15810249e+21, -2.36092211e+21,\n",
       "       -1.82981449e+21, -3.02169456e+21, -4.06668602e+21, -3.77515238e+21,\n",
       "       -3.62875955e+21, -3.11512578e+21, -3.21265878e+21, -2.72922389e+21,\n",
       "       -2.90177034e+21, -1.71181806e+21, -1.21212100e+21, -1.11257963e+21,\n",
       "       -8.95204307e+20, -1.29888757e+21, -1.07843229e+21, -1.39749703e+21,\n",
       "       -1.58462442e+21, -2.90300195e+21, -3.77281189e+21, -3.17146957e+21,\n",
       "       -2.36581816e+21, -1.45082864e+21, -2.31214067e+21, -1.72982819e+21,\n",
       "       -1.60458623e+21, -1.44938673e+21, -1.19615518e+21, -1.34773500e+21,\n",
       "       -1.44007466e+21, -1.22628222e+21, -1.38198493e+21, -1.91274596e+21,\n",
       "       -1.85285959e+21, -1.70308805e+21, -1.71179987e+21, -1.49682581e+21,\n",
       "       -2.49038513e+21, -2.85508696e+21, -2.79980982e+21, -2.78264572e+21,\n",
       "       -2.30874205e+21, -2.53616453e+21, -2.12818579e+21, -2.52011845e+21,\n",
       "       -4.23045629e+21, -5.27427069e+21, -4.17678412e+21, -3.67630458e+21,\n",
       "       -2.11914393e+21, -1.96016924e+21, -1.99307676e+21, -1.83797944e+21,\n",
       "       -2.93995850e+21, -2.31812787e+21, -1.79732337e+21, -1.89867294e+21,\n",
       "       -1.68938650e+21, -2.35969891e+21, -3.20422512e+21, -2.47307890e+21,\n",
       "       -1.56629851e+21, -2.58867393e+20, -6.60558154e+20, -1.03431561e+21,\n",
       "       -3.15148764e+21, -3.67119734e+21, -2.94102306e+21, -1.09693769e+21,\n",
       "       -1.13614441e+21, -1.64810081e+21, -1.40966231e+21, -2.51472678e+21,\n",
       "       -2.12449392e+21, -2.04602755e+21, -1.10654645e+21, -6.29856454e+20,\n",
       "       -1.32750341e+21, -3.05791747e+21, -3.45497013e+21, -2.82761582e+21,\n",
       "       -3.10894526e+21, -2.51571908e+21, -1.89761332e+21, -1.24315904e+21,\n",
       "       -1.74117533e+21, -4.06699543e+21, -2.97377700e+21, -3.74840922e+21,\n",
       "       -3.93059365e+21, -3.61088563e+21, -3.47796306e+21, -2.71591914e+21,\n",
       "       -1.99146802e+21, -2.52092244e+21, -3.94515577e+21, -3.98100374e+21,\n",
       "       -3.48802595e+21, -2.21767598e+21,  1.11969518e+20, -1.95826488e+20,\n",
       "       -6.44820939e+20, -1.75131701e+21, -1.93220476e+21, -1.55572203e+21,\n",
       "       -1.49312851e+21, -2.02672366e+21, -2.43165230e+21, -1.44324292e+21,\n",
       "       -1.98614307e+20, -1.26753014e+21, -3.05824124e+21, -4.92033017e+21,\n",
       "       -4.79215581e+21, -2.86854482e+21, -1.81237889e+21, -1.15200409e+21,\n",
       "       -1.85324862e+21, -2.95105906e+21, -2.27208942e+21, -2.40886360e+21,\n",
       "       -1.35782257e+21, -3.03124991e+21, -3.92919272e+21, -4.23296404e+21,\n",
       "       -3.79564234e+21, -1.63807010e+21, -2.72401778e+21, -4.04859711e+21,\n",
       "       -3.43403142e+21, -3.84148249e+21, -4.02606307e+21, -2.89936300e+21,\n",
       "       -1.77272525e+21, -2.35802676e+21, -1.71546876e+21, -7.19340581e+20,\n",
       "       -1.99527574e+21, -2.82491402e+21, -2.91068896e+21, -1.56980162e+21,\n",
       "       -1.52652277e+20, -1.18841278e+21, -2.21501555e+21, -2.56432321e+21,\n",
       "       -2.72122054e+21, -2.33490349e+21, -1.78001477e+21, -2.67732904e+21,\n",
       "       -3.05261863e+21, -2.41548759e+21, -3.40702368e+21, -4.98815451e+21,\n",
       "       -3.34909578e+21, -2.13141620e+21, -1.65520682e+21, -2.05249013e+21,\n",
       "       -1.60118064e+21, -1.60351201e+21, -2.79575423e+21, -2.69946850e+21,\n",
       "       -2.59909290e+21, -1.09549171e+21, -6.51105311e+20, -7.65123186e+20,\n",
       "       -2.99393675e+21, -2.81761704e+21, -1.59398619e+21, -1.93318308e+21,\n",
       "       -1.55312243e+21, -1.08331624e+21, -2.35190771e+21, -1.66361693e+21,\n",
       "       -3.23635620e+21, -3.99654323e+21, -4.07112543e+21, -2.09660532e+21,\n",
       "       -4.61741889e+20, -1.99519160e+21, -3.59591830e+21, -2.44964342e+21,\n",
       "       -1.12575516e+21, -1.91683925e+20,  5.83087992e+19, -3.43871630e+20,\n",
       "       -1.24733238e+21, -3.85374924e+20, -8.98218378e+20, -3.39897978e+19,\n",
       "       -1.48354338e+20, -1.29832104e+21, -1.28369553e+21, -6.16437006e+20,\n",
       "       -1.61541197e+21, -2.26733907e+21, -2.46416702e+21, -4.41526918e+21,\n",
       "       -2.03688519e+21, -2.14131254e+21, -3.23967560e+21, -2.55055900e+21,\n",
       "       -2.88864915e+21, -2.84565289e+21, -2.68380216e+21, -1.46589283e+21,\n",
       "       -3.09662994e+21, -3.39682447e+21, -2.99493315e+21, -2.10908752e+21,\n",
       "       -2.29667656e+21, -2.99815206e+21, -4.05340331e+21, -3.62327301e+21,\n",
       "       -2.83778549e+21, -2.04772650e+21, -9.13289488e+20, -3.44514947e+20,\n",
       "       -8.82773398e+20, -2.42080567e+21, -2.15393496e+21, -1.58036810e+21,\n",
       "       -1.23006008e+21, -3.17315907e+21, -4.37397285e+21, -3.39610927e+21,\n",
       "       -2.31942154e+21, -2.20414186e+21, -2.56919793e+21, -3.51073744e+21,\n",
       "       -2.50203364e+21, -2.41173348e+21, -2.48335510e+21, -2.69502294e+21,\n",
       "       -2.95040378e+21, -2.02868997e+21, -2.10059307e+21, -2.60858495e+21,\n",
       "       -2.90762452e+21, -2.72880722e+21, -2.52421500e+21, -3.66526102e+21,\n",
       "       -3.15044460e+21, -2.76998431e+21, -2.18784870e+21, -2.54151324e+21,\n",
       "       -2.42047154e+21, -1.98127396e+21, -2.61558962e+21, -2.66447695e+21,\n",
       "       -2.49102415e+21, -2.22899880e+21, -2.32248819e+21, -2.37697708e+21,\n",
       "       -2.09057875e+21, -2.06227559e+21, -1.53964871e+21, -1.34798662e+21,\n",
       "       -1.38352376e+21, -8.94945868e+20, -1.20649564e+21, -1.79628629e+21,\n",
       "       -1.85537221e+21, -2.05389473e+21, -2.71110725e+21, -2.62380637e+21,\n",
       "       -2.58664718e+21, -3.44190367e+21, -2.99366177e+21, -2.89150142e+21,\n",
       "       -2.33741937e+21, -1.68745503e+21, -1.43441948e+21, -1.45921104e+21,\n",
       "       -2.37739548e+21, -2.10450287e+21, -2.16691596e+21, -2.24857084e+21,\n",
       "       -2.35986159e+21, -2.60963543e+21, -2.87353480e+21, -1.70293858e+21,\n",
       "       -6.48474032e+20, -2.32002853e+21, -2.46063818e+21, -3.42154140e+21,\n",
       "       -3.16734411e+21, -3.42234111e+21, -4.50556469e+21, -3.67245325e+21,\n",
       "       -3.41251316e+21, -1.68124826e+21, -2.92864067e+21, -1.73371046e+21,\n",
       "       -2.41224502e+21, -2.61149367e+21, -1.96399261e+21, -1.85608265e+21,\n",
       "       -1.74404919e+21, -1.03201812e+21, -1.18008852e+21, -2.92056721e+21,\n",
       "       -3.01865580e+21, -2.99639327e+21, -3.22438272e+21, -2.84027536e+21,\n",
       "       -2.75380413e+21, -2.22801765e+21, -2.01674992e+21, -1.90498660e+21,\n",
       "       -1.76925318e+21, -2.39690558e+21, -3.37727489e+21, -4.19820259e+21,\n",
       "       -3.28578813e+21, -2.44030471e+21, -2.47672394e+21, -3.04297748e+21,\n",
       "       -2.07557256e+21, -1.91006952e+21, -2.38295035e+21, -2.76878332e+21,\n",
       "       -2.52013129e+21, -3.02458824e+21, -2.16758987e+21, -1.88414080e+21,\n",
       "       -1.45432370e+21, -1.09568667e+21, -1.34161162e+21, -1.61365125e+21,\n",
       "       -1.98561047e+21, -1.63694065e+21, -2.00493552e+21, -2.14014439e+21,\n",
       "       -2.52203874e+21, -2.54430665e+21, -2.30355686e+21, -2.26991675e+21,\n",
       "       -2.37328238e+21, -2.64885520e+21, -7.82633927e+21, -2.85606149e+21,\n",
       "       -2.98954593e+21, -3.07821666e+21, -3.27436133e+21, -2.76628443e+21,\n",
       "       -2.82002998e+21, -2.46609204e+21, -2.79096715e+21, -3.02023412e+21,\n",
       "       -2.30602993e+21, -2.44662043e+21, -2.64943748e+21, -2.63589364e+21,\n",
       "       -1.92391909e+21, -9.49388753e+20, -1.56338855e+21, -1.41052916e+21,\n",
       "       -1.32897386e+21, -8.12685820e+20, -1.71490397e+21, -1.49776271e+21,\n",
       "       -2.07341874e+21, -2.62947884e+21, -2.82778911e+21, -3.19894870e+21,\n",
       "       -2.72961242e+21, -2.80424491e+21, -2.36267502e+21, -2.56228650e+21,\n",
       "       -2.82450960e+21, -2.87152973e+21, -2.87456681e+21, -3.14290811e+21,\n",
       "       -3.43892295e+21, -2.65669930e+21, -2.16190837e+21, -2.10897589e+21,\n",
       "       -2.31100457e+21, -1.95392096e+21, -9.99087606e+20, -1.04829220e+21,\n",
       "       -1.10886121e+21, -1.91937917e+21, -2.06369440e+21, -1.73680004e+21,\n",
       "       -1.45186315e+21, -5.11869571e+20, -6.64765788e+20, -8.49412853e+20,\n",
       "       -1.38119089e+21, -2.92159844e+21, -3.34603621e+21, -2.88456630e+21,\n",
       "       -1.86425563e+21, -3.13276498e+21, -2.83669786e+21, -3.40858154e+21,\n",
       "       -1.79346393e+21, -1.35043466e+21, -2.69159161e+21, -2.52987726e+21,\n",
       "       -1.92024508e+21, -1.30875528e+21, -2.29338311e+21, -2.54333932e+21,\n",
       "       -2.16225056e+21, -1.73117298e+21, -1.12744959e+21, -1.65621388e+21,\n",
       "       -1.51256383e+21, -1.65984383e+21, -2.29933813e+21, -2.57552492e+21,\n",
       "       -4.54145264e+21, -3.71780086e+21, -2.61887467e+21, -2.60289780e+21,\n",
       "       -3.04359650e+21, -2.94568158e+21, -3.24961130e+21, -3.79179516e+21,\n",
       "       -3.66336019e+21, -3.12112356e+21, -2.60078370e+21, -2.03627339e+21,\n",
       "       -1.66361724e+21, -9.13216433e+20, -3.19406788e+21, -3.56830788e+21,\n",
       "       -3.19765622e+21, -2.71707466e+21, -2.98071492e+21, -2.75393644e+21,\n",
       "       -2.29125166e+21, -2.42239153e+21, -2.43631136e+21, -2.87641882e+21,\n",
       "       -2.27735681e+21, -4.08040078e+21, -3.92791627e+21, -2.81814736e+21,\n",
       "       -3.67724236e+21, -3.48441658e+21, -3.57496952e+21, -2.95785348e+21,\n",
       "       -3.01170068e+21, -2.44593027e+21, -1.20145431e+21, -1.27708573e+21,\n",
       "       -1.71875620e+21, -4.17502256e+21, -2.96816317e+21, -2.00003670e+21,\n",
       "       -1.99529967e+21, -1.38645027e+21, -3.07337095e+21, -3.41173196e+21,\n",
       "       -3.71266349e+21, -3.39792094e+21, -2.81112439e+21, -2.29611812e+21,\n",
       "       -1.84409674e+21, -2.09543994e+21, -2.77527562e+21, -3.07565217e+21,\n",
       "       -1.80055719e+21, -2.72709206e+21, -2.37723538e+21, -2.23922080e+21,\n",
       "       -2.03273371e+21, -2.73341625e+21, -2.97183572e+21, -2.39662998e+21,\n",
       "       -2.47742212e+21, -2.76255213e+21, -2.81924574e+21])"
      ]
     },
     "execution_count": 72,
     "metadata": {},
     "output_type": "execute_result"
    }
   ],
   "source": [
    "y_pred # вектор предсказаний"
   ]
  },
  {
   "cell_type": "markdown",
   "metadata": {},
   "source": [
    "Выясним точность наших предсказаний:"
   ]
  },
  {
   "cell_type": "code",
   "execution_count": 73,
   "metadata": {},
   "outputs": [],
   "source": [
    "from sklearn.metrics import mean_squared_error # импортируем функцию для вычисления MSE\n",
    "\n",
    "def rmse(y_test, y_pred): # определяем функцию для поиска RMSE\n",
    "    return np.sqrt(mean_squared_error(y_test, y_pred))"
   ]
  },
  {
   "cell_type": "code",
   "execution_count": 74,
   "metadata": {},
   "outputs": [
    {
     "data": {
      "text/plain": [
       "2.6365403147148575e+21"
      ]
     },
     "execution_count": 74,
     "metadata": {},
     "output_type": "execute_result"
    }
   ],
   "source": [
    "rmse(y, y_pred) # вычисляем значение ошибки RMSE"
   ]
  },
  {
   "cell_type": "markdown",
   "metadata": {},
   "source": [
    "Еще давайте сделаем наивный прогноз:"
   ]
  },
  {
   "cell_type": "code",
   "execution_count": 75,
   "metadata": {},
   "outputs": [
    {
     "data": {
      "text/plain": [
       "array([4504.34883721, 4504.34883721, 4504.34883721, 4504.34883721,\n",
       "       4504.34883721])"
      ]
     },
     "execution_count": 75,
     "metadata": {},
     "output_type": "execute_result"
    }
   ],
   "source": [
    "y_mean = np.mean(y)                     # посчитали среднее \n",
    "y_pred_naive = np.ones(len(y)) * y_mean  # спрогнозировали им продажи\n",
    "y_pred_naive[:5] # посмотрели первые 5 значений"
   ]
  },
  {
   "cell_type": "code",
   "execution_count": 76,
   "metadata": {},
   "outputs": [
    {
     "data": {
      "text/plain": [
       "1935.8859561152221"
      ]
     },
     "execution_count": 76,
     "metadata": {},
     "output_type": "execute_result"
    }
   ],
   "source": [
    "rmse(y, y_pred_naive) # вычисляем значение ошибки RMSE"
   ]
  },
  {
   "cell_type": "markdown",
   "metadata": {},
   "source": [
    "  Теперь будем использовать для предсказания линейную регрессию из готовой библиотеки:"
   ]
  },
  {
   "cell_type": "code",
   "execution_count": 77,
   "metadata": {},
   "outputs": [],
   "source": [
    "from sklearn.linear_model import LinearRegression\n",
    "\n",
    "# Объявили модель\n",
    "model = LinearRegression()\n",
    "\n",
    "# Обучили модель \n",
    "model.fit(X, y)\n",
    "\n",
    "# Сделали прогнозы \n",
    "y_pred = model.predict(X)"
   ]
  },
  {
   "cell_type": "markdown",
   "metadata": {},
   "source": [
    "Оценим качество:"
   ]
  },
  {
   "cell_type": "code",
   "execution_count": 78,
   "metadata": {},
   "outputs": [
    {
     "data": {
      "text/plain": [
       "756.0689821350973"
      ]
     },
     "execution_count": 78,
     "metadata": {},
     "output_type": "execute_result"
    }
   ],
   "source": [
    "rmse(y, y_pred) # вычисляем значение ошибки RMSE"
   ]
  },
  {
   "cell_type": "markdown",
   "metadata": {},
   "source": [
    "### Полиномиальная регрессия и регуляризация"
   ]
  },
  {
   "cell_type": "code",
   "execution_count": 80,
   "metadata": {},
   "outputs": [],
   "source": [
    "from sklearn.preprocessing import PolynomialFeatures, StandardScaler\n",
    "from sklearn.linear_model import LinearRegression, Lasso, Ridge, ElasticNet\n",
    "from sklearn.model_selection import GridSearchCV\n",
    "from sklearn.model_selection import cross_validate"
   ]
  },
  {
   "cell_type": "code",
   "execution_count": 81,
   "metadata": {},
   "outputs": [
    {
     "name": "stdout",
     "output_type": "stream",
     "text": [
      "Количество факторов: 4494\n",
      "MAPE на тренировочных фолдах: 0.0\n",
      "MAPE на валидационных фолдах: 300.6\n"
     ]
    }
   ],
   "source": [
    "poly = PolynomialFeatures(degree=3, include_bias=False)\n",
    "X_poly = poly.fit_transform(X)\n",
    "print('Количество факторов: {}'.format(X_poly.shape[1]))\n",
    "\n",
    "lr = LinearRegression()\n",
    "lr.fit(X_poly, y)\n",
    "\n",
    "cv_results = cross_validate(lr, X_poly, y, scoring='neg_mean_absolute_percentage_error', cv=5, return_train_score=True)\n",
    "print('MAPE на тренировочных фолдах: {:.1f}'.format(-cv_results['train_score'].mean() * 100))\n",
    "print('MAPE на валидационных фолдах: {:.1f}'.format(-cv_results['test_score'].mean() * 100))\n"
   ]
  },
  {
   "cell_type": "code",
   "execution_count": 83,
   "metadata": {},
   "outputs": [
    {
     "name": "stderr",
     "output_type": "stream",
     "text": [
      "C:\\Users\\mbbur\\anaconda3\\Lib\\site-packages\\sklearn\\linear_model\\_coordinate_descent.py:678: ConvergenceWarning: Objective did not converge. You might want to increase the number of iterations, check the scale of the features or consider increasing regularisation. Duality gap: 7.356e+06, tolerance: 2.740e+05\n",
      "  model = cd_fast.enet_coordinate_descent(\n",
      "C:\\Users\\mbbur\\anaconda3\\Lib\\site-packages\\sklearn\\linear_model\\_coordinate_descent.py:678: ConvergenceWarning: Objective did not converge. You might want to increase the number of iterations, check the scale of the features or consider increasing regularisation. Duality gap: 6.698e+06, tolerance: 1.741e+05\n",
      "  model = cd_fast.enet_coordinate_descent(\n",
      "C:\\Users\\mbbur\\anaconda3\\Lib\\site-packages\\sklearn\\linear_model\\_coordinate_descent.py:678: ConvergenceWarning: Objective did not converge. You might want to increase the number of iterations, check the scale of the features or consider increasing regularisation. Duality gap: 4.972e+06, tolerance: 2.645e+05\n",
      "  model = cd_fast.enet_coordinate_descent(\n",
      "C:\\Users\\mbbur\\anaconda3\\Lib\\site-packages\\sklearn\\linear_model\\_coordinate_descent.py:678: ConvergenceWarning: Objective did not converge. You might want to increase the number of iterations, check the scale of the features or consider increasing regularisation. Duality gap: 8.548e+06, tolerance: 2.360e+05\n",
      "  model = cd_fast.enet_coordinate_descent(\n",
      "C:\\Users\\mbbur\\anaconda3\\Lib\\site-packages\\sklearn\\linear_model\\_coordinate_descent.py:678: ConvergenceWarning: Objective did not converge. You might want to increase the number of iterations, check the scale of the features or consider increasing regularisation. Duality gap: 7.793e+06, tolerance: 1.945e+05\n",
      "  model = cd_fast.enet_coordinate_descent(\n"
     ]
    },
    {
     "name": "stdout",
     "output_type": "stream",
     "text": [
      "MAPE на тренировочных фолдах: 5.2\n",
      "MAPE на валидационных фолдах: 55.6\n"
     ]
    },
    {
     "name": "stderr",
     "output_type": "stream",
     "text": [
      "C:\\Users\\mbbur\\anaconda3\\Lib\\site-packages\\sklearn\\linear_model\\_coordinate_descent.py:678: ConvergenceWarning: Objective did not converge. You might want to increase the number of iterations, check the scale of the features or consider increasing regularisation. Duality gap: 6.710e+06, tolerance: 1.875e+05\n",
      "  model = cd_fast.enet_coordinate_descent(\n"
     ]
    }
   ],
   "source": [
    "scaler = StandardScaler()\n",
    "\n",
    "X_scaled = scaler.fit_transform(X)\n",
    "\n",
    "poly = PolynomialFeatures(degree=3, include_bias=False)\n",
    "X_poly = poly.fit_transform(X_scaled)\n",
    "\n",
    "lasso = Lasso(alpha=5)\n",
    "lasso.fit(X_poly, y)\n",
    "\n",
    "# оцениваем качество модели на кросс-валидации\n",
    "cv_results = cross_validate(lasso, X_poly, y, scoring='neg_mean_absolute_percentage_error', cv=5, return_train_score=True)\n",
    "print('MAPE на тренировочных фолдах: {:.1f}'.format(-cv_results['train_score'].mean() * 100))\n",
    "print('MAPE на валидационных фолдах: {:.1f}'.format(-cv_results['test_score'].mean() * 100))\n"
   ]
  },
  {
   "cell_type": "code",
   "execution_count": null,
   "metadata": {},
   "outputs": [],
   "source": []
  }
 ],
 "metadata": {
  "kernelspec": {
   "display_name": "Python 3 (ipykernel)",
   "language": "python",
   "name": "python3"
  },
  "language_info": {
   "codemirror_mode": {
    "name": "ipython",
    "version": 3
   },
   "file_extension": ".py",
   "mimetype": "text/x-python",
   "name": "python",
   "nbconvert_exporter": "python",
   "pygments_lexer": "ipython3",
   "version": "3.11.5"
  }
 },
 "nbformat": 4,
 "nbformat_minor": 2
}
