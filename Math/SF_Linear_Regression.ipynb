{
 "cells": [
  {
   "cell_type": "markdown",
   "metadata": {},
   "source": [
    "\n",
    "# <center> Решение задачи регрессии </center>\n",
    "\n",
    "\n",
    "\n",
    "Сегодня мы будем работать с датасетом __bikes_rent.csv__, в котором по дням записаны календарная информация и погодные условия, характеризующие автоматизированные пункты проката велосипедов, а также число прокатов в этот день. Последнее мы будем предсказывать; таким образом, мы будем решать задачу регрессии."
   ]
  },
  {
   "cell_type": "code",
   "execution_count": 41,
   "metadata": {},
   "outputs": [],
   "source": [
    "# добавляем библиотеки\n",
    "import numpy as np\n",
    "import pandas as pd\n",
    "import matplotlib\n",
    "import matplotlib.pyplot as plt\n",
    "import seaborn as sns\n",
    "\n",
    "plt.style.use('ggplot')  # правильный (наиболее красивый) стиль у графиков\n",
    "%matplotlib inline"
   ]
  },
  {
   "cell_type": "markdown",
   "metadata": {},
   "source": [
    "Подгрузим наши данные и посмотрим на них:"
   ]
  },
  {
   "cell_type": "code",
   "execution_count": 42,
   "metadata": {
    "scrolled": true
   },
   "outputs": [
    {
     "data": {
      "text/html": [
       "<div>\n",
       "<style scoped>\n",
       "    .dataframe tbody tr th:only-of-type {\n",
       "        vertical-align: middle;\n",
       "    }\n",
       "\n",
       "    .dataframe tbody tr th {\n",
       "        vertical-align: top;\n",
       "    }\n",
       "\n",
       "    .dataframe thead th {\n",
       "        text-align: right;\n",
       "    }\n",
       "</style>\n",
       "<table border=\"1\" class=\"dataframe\">\n",
       "  <thead>\n",
       "    <tr style=\"text-align: right;\">\n",
       "      <th></th>\n",
       "      <th>season</th>\n",
       "      <th>yr</th>\n",
       "      <th>mnth</th>\n",
       "      <th>holiday</th>\n",
       "      <th>weekday</th>\n",
       "      <th>workingday</th>\n",
       "      <th>weathersit</th>\n",
       "      <th>temp</th>\n",
       "      <th>atemp</th>\n",
       "      <th>hum</th>\n",
       "      <th>windspeed(mph)</th>\n",
       "      <th>windspeed(ms)</th>\n",
       "      <th>cnt</th>\n",
       "    </tr>\n",
       "  </thead>\n",
       "  <tbody>\n",
       "    <tr>\n",
       "      <th>0</th>\n",
       "      <td>1</td>\n",
       "      <td>0</td>\n",
       "      <td>1</td>\n",
       "      <td>0</td>\n",
       "      <td>6</td>\n",
       "      <td>0</td>\n",
       "      <td>2</td>\n",
       "      <td>14.110847</td>\n",
       "      <td>18.18125</td>\n",
       "      <td>80.5833</td>\n",
       "      <td>10.749882</td>\n",
       "      <td>4.805490</td>\n",
       "      <td>985</td>\n",
       "    </tr>\n",
       "    <tr>\n",
       "      <th>1</th>\n",
       "      <td>1</td>\n",
       "      <td>0</td>\n",
       "      <td>1</td>\n",
       "      <td>0</td>\n",
       "      <td>0</td>\n",
       "      <td>0</td>\n",
       "      <td>2</td>\n",
       "      <td>14.902598</td>\n",
       "      <td>17.68695</td>\n",
       "      <td>69.6087</td>\n",
       "      <td>16.652113</td>\n",
       "      <td>7.443949</td>\n",
       "      <td>801</td>\n",
       "    </tr>\n",
       "    <tr>\n",
       "      <th>2</th>\n",
       "      <td>1</td>\n",
       "      <td>0</td>\n",
       "      <td>1</td>\n",
       "      <td>0</td>\n",
       "      <td>1</td>\n",
       "      <td>1</td>\n",
       "      <td>1</td>\n",
       "      <td>8.050924</td>\n",
       "      <td>9.47025</td>\n",
       "      <td>43.7273</td>\n",
       "      <td>16.636703</td>\n",
       "      <td>7.437060</td>\n",
       "      <td>1349</td>\n",
       "    </tr>\n",
       "    <tr>\n",
       "      <th>3</th>\n",
       "      <td>1</td>\n",
       "      <td>0</td>\n",
       "      <td>1</td>\n",
       "      <td>0</td>\n",
       "      <td>2</td>\n",
       "      <td>1</td>\n",
       "      <td>1</td>\n",
       "      <td>8.200000</td>\n",
       "      <td>10.60610</td>\n",
       "      <td>59.0435</td>\n",
       "      <td>10.739832</td>\n",
       "      <td>4.800998</td>\n",
       "      <td>1562</td>\n",
       "    </tr>\n",
       "    <tr>\n",
       "      <th>4</th>\n",
       "      <td>1</td>\n",
       "      <td>0</td>\n",
       "      <td>1</td>\n",
       "      <td>0</td>\n",
       "      <td>3</td>\n",
       "      <td>1</td>\n",
       "      <td>1</td>\n",
       "      <td>9.305237</td>\n",
       "      <td>11.46350</td>\n",
       "      <td>43.6957</td>\n",
       "      <td>12.522300</td>\n",
       "      <td>5.597810</td>\n",
       "      <td>1600</td>\n",
       "    </tr>\n",
       "  </tbody>\n",
       "</table>\n",
       "</div>"
      ],
      "text/plain": [
       "   season  yr  mnth  holiday  weekday  workingday  weathersit       temp   \n",
       "0       1   0     1        0        6           0           2  14.110847  \\\n",
       "1       1   0     1        0        0           0           2  14.902598   \n",
       "2       1   0     1        0        1           1           1   8.050924   \n",
       "3       1   0     1        0        2           1           1   8.200000   \n",
       "4       1   0     1        0        3           1           1   9.305237   \n",
       "\n",
       "      atemp      hum  windspeed(mph)  windspeed(ms)   cnt  \n",
       "0  18.18125  80.5833       10.749882       4.805490   985  \n",
       "1  17.68695  69.6087       16.652113       7.443949   801  \n",
       "2   9.47025  43.7273       16.636703       7.437060  1349  \n",
       "3  10.60610  59.0435       10.739832       4.800998  1562  \n",
       "4  11.46350  43.6957       12.522300       5.597810  1600  "
      ]
     },
     "execution_count": 42,
     "metadata": {},
     "output_type": "execute_result"
    }
   ],
   "source": [
    "# в переменную df запишем данные, которые открыли из файла с помошью метода read_csv()\n",
    "df = pd.read_csv('data/bikes_rent (2).csv')\n",
    "# выводим первые пять строк с помощью метода head()\n",
    "df.head( )"
   ]
  },
  {
   "cell_type": "markdown",
   "metadata": {},
   "source": [
    "__Описание пееменных:__\n",
    "\n",
    "* `season`  1 - весна, 2 - лето, 3 - осень, 4 - зима\n",
    "* `yr`  0 - 2011, 1 - 2012\n",
    "* `mnth`  от 1 до 12\n",
    "* `holiday`  0 - нет праздника, 1 - есть праздник\n",
    "* `weekday`  от 0 до 6\n",
    "* `workingday`  0 - нерабочий день, 1 - рабочий день\n",
    "* `weathersit`  оценка благоприятности погоды от 1 (чистый, ясный день) до 4 (ливень, туман)\n",
    "* `temp`  температура в Цельсиях\n",
    "* `atemp`  температура по ощущениям в Цельсиях\n",
    "* `hum`  влажность\n",
    "* `windspeed(mph)`  скорость ветра в милях в час\n",
    "* `windspeed(ms)`  скорость ветра в метрах в секунду\n",
    "* `cnt`  количество арендованных велосипедов (это целевой признак, его мы будем предсказывать)"
   ]
  },
  {
   "cell_type": "markdown",
   "metadata": {},
   "source": [
    "##  Изучаем данные"
   ]
  },
  {
   "cell_type": "markdown",
   "metadata": {},
   "source": [
    "Давайте посмотрим, есть ли пропущенные значения:"
   ]
  },
  {
   "cell_type": "code",
   "execution_count": 43,
   "metadata": {},
   "outputs": [
    {
     "data": {
      "text/html": [
       "<div>\n",
       "<style scoped>\n",
       "    .dataframe tbody tr th:only-of-type {\n",
       "        vertical-align: middle;\n",
       "    }\n",
       "\n",
       "    .dataframe tbody tr th {\n",
       "        vertical-align: top;\n",
       "    }\n",
       "\n",
       "    .dataframe thead th {\n",
       "        text-align: right;\n",
       "    }\n",
       "</style>\n",
       "<table border=\"1\" class=\"dataframe\">\n",
       "  <thead>\n",
       "    <tr style=\"text-align: right;\">\n",
       "      <th></th>\n",
       "      <th>season</th>\n",
       "      <th>yr</th>\n",
       "      <th>mnth</th>\n",
       "      <th>holiday</th>\n",
       "      <th>weekday</th>\n",
       "      <th>workingday</th>\n",
       "      <th>weathersit</th>\n",
       "      <th>temp</th>\n",
       "      <th>atemp</th>\n",
       "      <th>hum</th>\n",
       "      <th>windspeed(mph)</th>\n",
       "      <th>windspeed(ms)</th>\n",
       "      <th>cnt</th>\n",
       "    </tr>\n",
       "  </thead>\n",
       "  <tbody>\n",
       "    <tr>\n",
       "      <th>0</th>\n",
       "      <td>False</td>\n",
       "      <td>False</td>\n",
       "      <td>False</td>\n",
       "      <td>False</td>\n",
       "      <td>False</td>\n",
       "      <td>False</td>\n",
       "      <td>False</td>\n",
       "      <td>False</td>\n",
       "      <td>False</td>\n",
       "      <td>False</td>\n",
       "      <td>False</td>\n",
       "      <td>False</td>\n",
       "      <td>False</td>\n",
       "    </tr>\n",
       "    <tr>\n",
       "      <th>1</th>\n",
       "      <td>False</td>\n",
       "      <td>False</td>\n",
       "      <td>False</td>\n",
       "      <td>False</td>\n",
       "      <td>False</td>\n",
       "      <td>False</td>\n",
       "      <td>False</td>\n",
       "      <td>False</td>\n",
       "      <td>False</td>\n",
       "      <td>False</td>\n",
       "      <td>False</td>\n",
       "      <td>False</td>\n",
       "      <td>False</td>\n",
       "    </tr>\n",
       "    <tr>\n",
       "      <th>2</th>\n",
       "      <td>False</td>\n",
       "      <td>False</td>\n",
       "      <td>False</td>\n",
       "      <td>False</td>\n",
       "      <td>False</td>\n",
       "      <td>False</td>\n",
       "      <td>False</td>\n",
       "      <td>False</td>\n",
       "      <td>False</td>\n",
       "      <td>False</td>\n",
       "      <td>False</td>\n",
       "      <td>False</td>\n",
       "      <td>False</td>\n",
       "    </tr>\n",
       "    <tr>\n",
       "      <th>3</th>\n",
       "      <td>False</td>\n",
       "      <td>False</td>\n",
       "      <td>False</td>\n",
       "      <td>False</td>\n",
       "      <td>False</td>\n",
       "      <td>False</td>\n",
       "      <td>False</td>\n",
       "      <td>False</td>\n",
       "      <td>False</td>\n",
       "      <td>False</td>\n",
       "      <td>False</td>\n",
       "      <td>False</td>\n",
       "      <td>False</td>\n",
       "    </tr>\n",
       "    <tr>\n",
       "      <th>4</th>\n",
       "      <td>False</td>\n",
       "      <td>False</td>\n",
       "      <td>False</td>\n",
       "      <td>False</td>\n",
       "      <td>False</td>\n",
       "      <td>False</td>\n",
       "      <td>False</td>\n",
       "      <td>False</td>\n",
       "      <td>False</td>\n",
       "      <td>False</td>\n",
       "      <td>False</td>\n",
       "      <td>False</td>\n",
       "      <td>False</td>\n",
       "    </tr>\n",
       "    <tr>\n",
       "      <th>...</th>\n",
       "      <td>...</td>\n",
       "      <td>...</td>\n",
       "      <td>...</td>\n",
       "      <td>...</td>\n",
       "      <td>...</td>\n",
       "      <td>...</td>\n",
       "      <td>...</td>\n",
       "      <td>...</td>\n",
       "      <td>...</td>\n",
       "      <td>...</td>\n",
       "      <td>...</td>\n",
       "      <td>...</td>\n",
       "      <td>...</td>\n",
       "    </tr>\n",
       "    <tr>\n",
       "      <th>726</th>\n",
       "      <td>False</td>\n",
       "      <td>False</td>\n",
       "      <td>False</td>\n",
       "      <td>False</td>\n",
       "      <td>False</td>\n",
       "      <td>False</td>\n",
       "      <td>False</td>\n",
       "      <td>False</td>\n",
       "      <td>False</td>\n",
       "      <td>False</td>\n",
       "      <td>False</td>\n",
       "      <td>False</td>\n",
       "      <td>False</td>\n",
       "    </tr>\n",
       "    <tr>\n",
       "      <th>727</th>\n",
       "      <td>False</td>\n",
       "      <td>False</td>\n",
       "      <td>False</td>\n",
       "      <td>False</td>\n",
       "      <td>False</td>\n",
       "      <td>False</td>\n",
       "      <td>False</td>\n",
       "      <td>False</td>\n",
       "      <td>False</td>\n",
       "      <td>False</td>\n",
       "      <td>False</td>\n",
       "      <td>False</td>\n",
       "      <td>False</td>\n",
       "    </tr>\n",
       "    <tr>\n",
       "      <th>728</th>\n",
       "      <td>False</td>\n",
       "      <td>False</td>\n",
       "      <td>False</td>\n",
       "      <td>False</td>\n",
       "      <td>False</td>\n",
       "      <td>False</td>\n",
       "      <td>False</td>\n",
       "      <td>False</td>\n",
       "      <td>False</td>\n",
       "      <td>False</td>\n",
       "      <td>False</td>\n",
       "      <td>False</td>\n",
       "      <td>False</td>\n",
       "    </tr>\n",
       "    <tr>\n",
       "      <th>729</th>\n",
       "      <td>False</td>\n",
       "      <td>False</td>\n",
       "      <td>False</td>\n",
       "      <td>False</td>\n",
       "      <td>False</td>\n",
       "      <td>False</td>\n",
       "      <td>False</td>\n",
       "      <td>False</td>\n",
       "      <td>False</td>\n",
       "      <td>False</td>\n",
       "      <td>False</td>\n",
       "      <td>False</td>\n",
       "      <td>False</td>\n",
       "    </tr>\n",
       "    <tr>\n",
       "      <th>730</th>\n",
       "      <td>False</td>\n",
       "      <td>False</td>\n",
       "      <td>False</td>\n",
       "      <td>False</td>\n",
       "      <td>False</td>\n",
       "      <td>False</td>\n",
       "      <td>False</td>\n",
       "      <td>False</td>\n",
       "      <td>False</td>\n",
       "      <td>False</td>\n",
       "      <td>False</td>\n",
       "      <td>False</td>\n",
       "      <td>False</td>\n",
       "    </tr>\n",
       "  </tbody>\n",
       "</table>\n",
       "<p>731 rows × 13 columns</p>\n",
       "</div>"
      ],
      "text/plain": [
       "     season     yr   mnth  holiday  weekday  workingday  weathersit   temp   \n",
       "0     False  False  False    False    False       False       False  False  \\\n",
       "1     False  False  False    False    False       False       False  False   \n",
       "2     False  False  False    False    False       False       False  False   \n",
       "3     False  False  False    False    False       False       False  False   \n",
       "4     False  False  False    False    False       False       False  False   \n",
       "..      ...    ...    ...      ...      ...         ...         ...    ...   \n",
       "726   False  False  False    False    False       False       False  False   \n",
       "727   False  False  False    False    False       False       False  False   \n",
       "728   False  False  False    False    False       False       False  False   \n",
       "729   False  False  False    False    False       False       False  False   \n",
       "730   False  False  False    False    False       False       False  False   \n",
       "\n",
       "     atemp    hum  windspeed(mph)  windspeed(ms)    cnt  \n",
       "0    False  False           False          False  False  \n",
       "1    False  False           False          False  False  \n",
       "2    False  False           False          False  False  \n",
       "3    False  False           False          False  False  \n",
       "4    False  False           False          False  False  \n",
       "..     ...    ...             ...            ...    ...  \n",
       "726  False  False           False          False  False  \n",
       "727  False  False           False          False  False  \n",
       "728  False  False           False          False  False  \n",
       "729  False  False           False          False  False  \n",
       "730  False  False           False          False  False  \n",
       "\n",
       "[731 rows x 13 columns]"
      ]
     },
     "execution_count": 43,
     "metadata": {},
     "output_type": "execute_result"
    }
   ],
   "source": [
    "# применяем метод isnull(), которые заменяет пропуски на True и обычные значения (не пропуски) на False\n",
    "df.isnull()"
   ]
  },
  {
   "cell_type": "code",
   "execution_count": 44,
   "metadata": {},
   "outputs": [
    {
     "data": {
      "text/plain": [
       "season            0\n",
       "yr                0\n",
       "mnth              0\n",
       "holiday           0\n",
       "weekday           0\n",
       "workingday        0\n",
       "weathersit        0\n",
       "temp              0\n",
       "atemp             0\n",
       "hum               0\n",
       "windspeed(mph)    0\n",
       "windspeed(ms)     0\n",
       "cnt               0\n",
       "dtype: int64"
      ]
     },
     "execution_count": 44,
     "metadata": {},
     "output_type": "execute_result"
    }
   ],
   "source": [
    "# Суммируем все пропуски и смотрим на количество пропусков по столбцам\n",
    "df.isnull().sum()"
   ]
  },
  {
   "cell_type": "markdown",
   "metadata": {},
   "source": [
    "Можно видеть, что пропусков нет. Нам повезло!"
   ]
  },
  {
   "cell_type": "markdown",
   "metadata": {},
   "source": [
    "Для удобства давайте разделим категориальные и числовые переменные (так как для них будет разная предобработка и разные методы визуализации, а также отделим целевую переменную:"
   ]
  },
  {
   "cell_type": "code",
   "execution_count": 45,
   "metadata": {},
   "outputs": [],
   "source": [
    "# категориальные переменные \n",
    "var_cat = ['season', 'yr', 'mnth', 'holiday', 'weekday', 'workingday', 'weathersit']\n",
    "\n",
    "# непрерывные переменные\n",
    "var_real = ['temp', 'atemp', 'hum', 'windspeed(mph)', 'windspeed(ms)']\n",
    "\n",
    "# определяем целевую переменную\n",
    "target = 'cnt'"
   ]
  },
  {
   "cell_type": "markdown",
   "metadata": {},
   "source": [
    "## Исследование на наличие мультиколлинеарности"
   ]
  },
  {
   "cell_type": "markdown",
   "metadata": {},
   "source": [
    "Мультиколлинеарность — сильная корреляционная связь между признаками, отбираемыми для обучения. \n",
    "Сильно скоррелированные признаки сообщают для модели одну и ту же информацию. Поэтому для обучения не нужно использовать их все. Часть из них необходимо удалить из набора данных. "
   ]
  },
  {
   "cell_type": "markdown",
   "metadata": {},
   "source": [
    "Для того, чтобы изучить, наблюдается ли в данных мультиколлинеарность, необходимо построить матрицу корреляций. Строить мы ее будем, разумеется, только для числовых признаков."
   ]
  },
  {
   "cell_type": "code",
   "execution_count": 46,
   "metadata": {},
   "outputs": [
    {
     "data": {
      "text/html": [
       "<div>\n",
       "<style scoped>\n",
       "    .dataframe tbody tr th:only-of-type {\n",
       "        vertical-align: middle;\n",
       "    }\n",
       "\n",
       "    .dataframe tbody tr th {\n",
       "        vertical-align: top;\n",
       "    }\n",
       "\n",
       "    .dataframe thead th {\n",
       "        text-align: right;\n",
       "    }\n",
       "</style>\n",
       "<table border=\"1\" class=\"dataframe\">\n",
       "  <thead>\n",
       "    <tr style=\"text-align: right;\">\n",
       "      <th></th>\n",
       "      <th>temp</th>\n",
       "      <th>atemp</th>\n",
       "      <th>hum</th>\n",
       "      <th>windspeed(mph)</th>\n",
       "      <th>windspeed(ms)</th>\n",
       "      <th>cnt</th>\n",
       "    </tr>\n",
       "  </thead>\n",
       "  <tbody>\n",
       "    <tr>\n",
       "      <th>temp</th>\n",
       "      <td>1.000000</td>\n",
       "      <td>0.991702</td>\n",
       "      <td>0.126963</td>\n",
       "      <td>-0.157944</td>\n",
       "      <td>-0.157944</td>\n",
       "      <td>0.627494</td>\n",
       "    </tr>\n",
       "    <tr>\n",
       "      <th>atemp</th>\n",
       "      <td>0.991702</td>\n",
       "      <td>1.000000</td>\n",
       "      <td>0.139988</td>\n",
       "      <td>-0.183643</td>\n",
       "      <td>-0.183643</td>\n",
       "      <td>0.631066</td>\n",
       "    </tr>\n",
       "    <tr>\n",
       "      <th>hum</th>\n",
       "      <td>0.126963</td>\n",
       "      <td>0.139988</td>\n",
       "      <td>1.000000</td>\n",
       "      <td>-0.248489</td>\n",
       "      <td>-0.248489</td>\n",
       "      <td>-0.100659</td>\n",
       "    </tr>\n",
       "    <tr>\n",
       "      <th>windspeed(mph)</th>\n",
       "      <td>-0.157944</td>\n",
       "      <td>-0.183643</td>\n",
       "      <td>-0.248489</td>\n",
       "      <td>1.000000</td>\n",
       "      <td>1.000000</td>\n",
       "      <td>-0.234545</td>\n",
       "    </tr>\n",
       "    <tr>\n",
       "      <th>windspeed(ms)</th>\n",
       "      <td>-0.157944</td>\n",
       "      <td>-0.183643</td>\n",
       "      <td>-0.248489</td>\n",
       "      <td>1.000000</td>\n",
       "      <td>1.000000</td>\n",
       "      <td>-0.234545</td>\n",
       "    </tr>\n",
       "    <tr>\n",
       "      <th>cnt</th>\n",
       "      <td>0.627494</td>\n",
       "      <td>0.631066</td>\n",
       "      <td>-0.100659</td>\n",
       "      <td>-0.234545</td>\n",
       "      <td>-0.234545</td>\n",
       "      <td>1.000000</td>\n",
       "    </tr>\n",
       "  </tbody>\n",
       "</table>\n",
       "</div>"
      ],
      "text/plain": [
       "                    temp     atemp       hum  windspeed(mph)  windspeed(ms)   \n",
       "temp            1.000000  0.991702  0.126963       -0.157944      -0.157944  \\\n",
       "atemp           0.991702  1.000000  0.139988       -0.183643      -0.183643   \n",
       "hum             0.126963  0.139988  1.000000       -0.248489      -0.248489   \n",
       "windspeed(mph) -0.157944 -0.183643 -0.248489        1.000000       1.000000   \n",
       "windspeed(ms)  -0.157944 -0.183643 -0.248489        1.000000       1.000000   \n",
       "cnt             0.627494  0.631066 -0.100659       -0.234545      -0.234545   \n",
       "\n",
       "                     cnt  \n",
       "temp            0.627494  \n",
       "atemp           0.631066  \n",
       "hum            -0.100659  \n",
       "windspeed(mph) -0.234545  \n",
       "windspeed(ms)  -0.234545  \n",
       "cnt             1.000000  "
      ]
     },
     "execution_count": 46,
     "metadata": {},
     "output_type": "execute_result"
    }
   ],
   "source": [
    "# отбираем только числовые колонки и с помощью метода corr() выводим корреляционную матрицу\n",
    "df[var_real+[target]].corr()"
   ]
  },
  {
   "cell_type": "markdown",
   "metadata": {},
   "source": [
    "Можно также представить результаты в визуальном виде:"
   ]
  },
  {
   "cell_type": "code",
   "execution_count": 47,
   "metadata": {},
   "outputs": [
    {
     "data": {
      "image/png": "[encoded data removed]",
      "text/plain": [
       "<Figure size 640x480 with 2 Axes>"
      ]
     },
     "metadata": {},
     "output_type": "display_data"
    }
   ],
   "source": [
    "# выводим матрицу корреляций в виде тепловой карты\n",
    "# используем метод heatmap() из библиотеки seaborn\n",
    "# с помощью cmap='coolwarm' настраиваем цветовую схему\n",
    "# annot = True отвечает за то, что подписаны значения корреляций\n",
    "sns.heatmap(df[var_real+[target]].corr(), cmap='coolwarm', annot = True);"
   ]
  },
  {
   "cell_type": "markdown",
   "metadata": {},
   "source": [
    "Из набора нескольких коррелирующих признаков следует оставлять один. Поэтому оставим среди числовых признаков только те, которые слабо коррелируют между собой. То есть, надо удалить один из признаков temp и atemp. Удалим реальную температуру и оставим atemp."
   ]
  },
  {
   "cell_type": "code",
   "execution_count": 48,
   "metadata": {},
   "outputs": [
    {
     "data": {
      "text/plain": [
       "(731, 13)"
      ]
     },
     "execution_count": 48,
     "metadata": {},
     "output_type": "execute_result"
    }
   ],
   "source": [
    "# выводим размерность таблицы с помощью атрибута shape\n",
    "# 731 строка\n",
    "# 13 столбцов\n",
    "df.shape"
   ]
  },
  {
   "cell_type": "code",
   "execution_count": 49,
   "metadata": {},
   "outputs": [],
   "source": [
    "# записываем в переменную matrix матрицу корреляций для признаков\n",
    "matrix = df.corr()"
   ]
  },
  {
   "cell_type": "code",
   "execution_count": 50,
   "metadata": {},
   "outputs": [
    {
     "name": "stdout",
     "output_type": "stream",
     "text": [
      "Rank: 12\n",
      "Determinant: 0.0000\n"
     ]
    }
   ],
   "source": [
    "# выводим ранг матрицы корреляций\n",
    "print('Rank:', np.linalg.matrix_rank(matrix))\n",
    "# выводим определитель матрицы корреляций\n",
    "print('Determinant: {:.4f}'.format(np.linalg.det(matrix)))"
   ]
  },
  {
   "cell_type": "code",
   "execution_count": 51,
   "metadata": {},
   "outputs": [],
   "source": [
    "# с помощью метода drop() удаляем скорость ветра в милях в час\n",
    "#  axis=1 показывает, что удаляем столбец\n",
    "# inplace=True показывает, что перезаписываем результат\n",
    "df.drop('windspeed(mph)', axis=1, inplace=True)"
   ]
  },
  {
   "cell_type": "code",
   "execution_count": 52,
   "metadata": {},
   "outputs": [],
   "source": [
    "# с помощью метода drop() удаляем температуру\n",
    "df.drop('temp', axis=1, inplace=True)"
   ]
  },
  {
   "cell_type": "code",
   "execution_count": 53,
   "metadata": {},
   "outputs": [
    {
     "data": {
      "text/plain": [
       "(731, 11)"
      ]
     },
     "execution_count": 53,
     "metadata": {},
     "output_type": "execute_result"
    }
   ],
   "source": [
    "# выводим размерность оставшейся таблицы\n",
    "df.shape"
   ]
  },
  {
   "cell_type": "markdown",
   "metadata": {},
   "source": [
    "## Обработка категориальных признаков "
   ]
  },
  {
   "cell_type": "markdown",
   "metadata": {},
   "source": [
    "Как эти признаки мешают просто взять и запустить LinearRegression? Дело в том, что некоторых из этих признаков содержат числа, которые не несут содержательного смысла (например, день недели). Значит, их нужно перекодировать."
   ]
  },
  {
   "cell_type": "markdown",
   "metadata": {},
   "source": [
    "Для этого нам понадобятся дамми-переменные.\n",
    "Как ввести дамми-переменную в модель?\n",
    "Как правило, это переменная, которая принимает только два\n",
    "возможных значения: 0 или 1 (дихотомическая, бинарная).\n",
    "При этом 0 означает отсутствие признака у данного\n",
    "объекта; 1 – наличие признака. "
   ]
  },
  {
   "cell_type": "markdown",
   "metadata": {},
   "source": [
    "Например, для дня недели это будет выглядеть следующим образом:"
   ]
  },
  {
   "cell_type": "markdown",
   "metadata": {},
   "source": [
    "<a href=\"https://imgbb.com/\"><img src=\"https://i.ibb.co/pWv0VcP/sadxa.jpg\" alt=\"sadxa\" border=\"0\"></a>"
   ]
  },
  {
   "cell_type": "markdown",
   "metadata": {},
   "source": [
    "Давайте сделаем это OHE-кодирование. Сколько свежих OHE-признаков у нас появилось? "
   ]
  },
  {
   "cell_type": "code",
   "execution_count": 54,
   "metadata": {},
   "outputs": [
    {
     "name": "stdout",
     "output_type": "stream",
     "text": [
      "<class 'pandas.core.frame.DataFrame'>\n",
      "RangeIndex: 731 entries, 0 to 730\n",
      "Data columns (total 11 columns):\n",
      " #   Column         Non-Null Count  Dtype  \n",
      "---  ------         --------------  -----  \n",
      " 0   season         731 non-null    object \n",
      " 1   yr             731 non-null    object \n",
      " 2   mnth           731 non-null    object \n",
      " 3   holiday        731 non-null    object \n",
      " 4   weekday        731 non-null    object \n",
      " 5   workingday     731 non-null    object \n",
      " 6   weathersit     731 non-null    object \n",
      " 7   atemp          731 non-null    float64\n",
      " 8   hum            731 non-null    float64\n",
      " 9   windspeed(ms)  731 non-null    float64\n",
      " 10  cnt            731 non-null    int64  \n",
      "dtypes: float64(3), int64(1), object(7)\n",
      "memory usage: 62.9+ KB\n"
     ]
    }
   ],
   "source": [
    "df[var_cat] = df[var_cat].astype(str)  # чтобы все категории стали object\n",
    "df.info() # выводим информацию про таблицу"
   ]
  },
  {
   "cell_type": "code",
   "execution_count": 55,
   "metadata": {},
   "outputs": [
    {
     "data": {
      "text/plain": [
       "(731, 11)"
      ]
     },
     "execution_count": 55,
     "metadata": {},
     "output_type": "execute_result"
    }
   ],
   "source": [
    "df.shape # выводим размерность таблицы"
   ]
  },
  {
   "cell_type": "code",
   "execution_count": 56,
   "metadata": {},
   "outputs": [
    {
     "data": {
      "text/html": [
       "<div>\n",
       "<style scoped>\n",
       "    .dataframe tbody tr th:only-of-type {\n",
       "        vertical-align: middle;\n",
       "    }\n",
       "\n",
       "    .dataframe tbody tr th {\n",
       "        vertical-align: top;\n",
       "    }\n",
       "\n",
       "    .dataframe thead th {\n",
       "        text-align: right;\n",
       "    }\n",
       "</style>\n",
       "<table border=\"1\" class=\"dataframe\">\n",
       "  <thead>\n",
       "    <tr style=\"text-align: right;\">\n",
       "      <th></th>\n",
       "      <th>atemp</th>\n",
       "      <th>hum</th>\n",
       "      <th>windspeed(ms)</th>\n",
       "      <th>cnt</th>\n",
       "      <th>season_2</th>\n",
       "      <th>season_3</th>\n",
       "      <th>season_4</th>\n",
       "      <th>yr_1</th>\n",
       "      <th>mnth_10</th>\n",
       "      <th>mnth_11</th>\n",
       "      <th>...</th>\n",
       "      <th>holiday_1</th>\n",
       "      <th>weekday_1</th>\n",
       "      <th>weekday_2</th>\n",
       "      <th>weekday_3</th>\n",
       "      <th>weekday_4</th>\n",
       "      <th>weekday_5</th>\n",
       "      <th>weekday_6</th>\n",
       "      <th>workingday_1</th>\n",
       "      <th>weathersit_2</th>\n",
       "      <th>weathersit_3</th>\n",
       "    </tr>\n",
       "  </thead>\n",
       "  <tbody>\n",
       "    <tr>\n",
       "      <th>0</th>\n",
       "      <td>18.18125</td>\n",
       "      <td>80.5833</td>\n",
       "      <td>4.805490</td>\n",
       "      <td>985</td>\n",
       "      <td>False</td>\n",
       "      <td>False</td>\n",
       "      <td>False</td>\n",
       "      <td>False</td>\n",
       "      <td>False</td>\n",
       "      <td>False</td>\n",
       "      <td>...</td>\n",
       "      <td>False</td>\n",
       "      <td>False</td>\n",
       "      <td>False</td>\n",
       "      <td>False</td>\n",
       "      <td>False</td>\n",
       "      <td>False</td>\n",
       "      <td>True</td>\n",
       "      <td>False</td>\n",
       "      <td>True</td>\n",
       "      <td>False</td>\n",
       "    </tr>\n",
       "    <tr>\n",
       "      <th>1</th>\n",
       "      <td>17.68695</td>\n",
       "      <td>69.6087</td>\n",
       "      <td>7.443949</td>\n",
       "      <td>801</td>\n",
       "      <td>False</td>\n",
       "      <td>False</td>\n",
       "      <td>False</td>\n",
       "      <td>False</td>\n",
       "      <td>False</td>\n",
       "      <td>False</td>\n",
       "      <td>...</td>\n",
       "      <td>False</td>\n",
       "      <td>False</td>\n",
       "      <td>False</td>\n",
       "      <td>False</td>\n",
       "      <td>False</td>\n",
       "      <td>False</td>\n",
       "      <td>False</td>\n",
       "      <td>False</td>\n",
       "      <td>True</td>\n",
       "      <td>False</td>\n",
       "    </tr>\n",
       "    <tr>\n",
       "      <th>2</th>\n",
       "      <td>9.47025</td>\n",
       "      <td>43.7273</td>\n",
       "      <td>7.437060</td>\n",
       "      <td>1349</td>\n",
       "      <td>False</td>\n",
       "      <td>False</td>\n",
       "      <td>False</td>\n",
       "      <td>False</td>\n",
       "      <td>False</td>\n",
       "      <td>False</td>\n",
       "      <td>...</td>\n",
       "      <td>False</td>\n",
       "      <td>True</td>\n",
       "      <td>False</td>\n",
       "      <td>False</td>\n",
       "      <td>False</td>\n",
       "      <td>False</td>\n",
       "      <td>False</td>\n",
       "      <td>True</td>\n",
       "      <td>False</td>\n",
       "      <td>False</td>\n",
       "    </tr>\n",
       "    <tr>\n",
       "      <th>3</th>\n",
       "      <td>10.60610</td>\n",
       "      <td>59.0435</td>\n",
       "      <td>4.800998</td>\n",
       "      <td>1562</td>\n",
       "      <td>False</td>\n",
       "      <td>False</td>\n",
       "      <td>False</td>\n",
       "      <td>False</td>\n",
       "      <td>False</td>\n",
       "      <td>False</td>\n",
       "      <td>...</td>\n",
       "      <td>False</td>\n",
       "      <td>False</td>\n",
       "      <td>True</td>\n",
       "      <td>False</td>\n",
       "      <td>False</td>\n",
       "      <td>False</td>\n",
       "      <td>False</td>\n",
       "      <td>True</td>\n",
       "      <td>False</td>\n",
       "      <td>False</td>\n",
       "    </tr>\n",
       "    <tr>\n",
       "      <th>4</th>\n",
       "      <td>11.46350</td>\n",
       "      <td>43.6957</td>\n",
       "      <td>5.597810</td>\n",
       "      <td>1600</td>\n",
       "      <td>False</td>\n",
       "      <td>False</td>\n",
       "      <td>False</td>\n",
       "      <td>False</td>\n",
       "      <td>False</td>\n",
       "      <td>False</td>\n",
       "      <td>...</td>\n",
       "      <td>False</td>\n",
       "      <td>False</td>\n",
       "      <td>False</td>\n",
       "      <td>True</td>\n",
       "      <td>False</td>\n",
       "      <td>False</td>\n",
       "      <td>False</td>\n",
       "      <td>True</td>\n",
       "      <td>False</td>\n",
       "      <td>False</td>\n",
       "    </tr>\n",
       "  </tbody>\n",
       "</table>\n",
       "<p>5 rows × 29 columns</p>\n",
       "</div>"
      ],
      "text/plain": [
       "      atemp      hum  windspeed(ms)   cnt  season_2  season_3  season_4   \n",
       "0  18.18125  80.5833       4.805490   985     False     False     False  \\\n",
       "1  17.68695  69.6087       7.443949   801     False     False     False   \n",
       "2   9.47025  43.7273       7.437060  1349     False     False     False   \n",
       "3  10.60610  59.0435       4.800998  1562     False     False     False   \n",
       "4  11.46350  43.6957       5.597810  1600     False     False     False   \n",
       "\n",
       "    yr_1  mnth_10  mnth_11  ...  holiday_1  weekday_1  weekday_2  weekday_3   \n",
       "0  False    False    False  ...      False      False      False      False  \\\n",
       "1  False    False    False  ...      False      False      False      False   \n",
       "2  False    False    False  ...      False       True      False      False   \n",
       "3  False    False    False  ...      False      False       True      False   \n",
       "4  False    False    False  ...      False      False      False       True   \n",
       "\n",
       "   weekday_4  weekday_5  weekday_6  workingday_1  weathersit_2  weathersit_3  \n",
       "0      False      False       True         False          True         False  \n",
       "1      False      False      False         False          True         False  \n",
       "2      False      False      False          True         False         False  \n",
       "3      False      False      False          True         False         False  \n",
       "4      False      False      False          True         False         False  \n",
       "\n",
       "[5 rows x 29 columns]"
      ]
     },
     "execution_count": 56,
     "metadata": {},
     "output_type": "execute_result"
    }
   ],
   "source": [
    "# в переменную dff записываем таблицу, которая получится, если добавить дамми-переменные\n",
    "# дамми-переменные добавляем с помощью метода get_dummies(), удаляем одну колонку и не создаем колонку для пропусков\n",
    "dff = pd.get_dummies(df, drop_first=True, dummy_na=False)\n",
    "dff.head() # выводим первые 5 строк"
   ]
  },
  {
   "cell_type": "code",
   "execution_count": 57,
   "metadata": {},
   "outputs": [
    {
     "data": {
      "text/plain": [
       "(731, 29)"
      ]
     },
     "execution_count": 57,
     "metadata": {},
     "output_type": "execute_result"
    }
   ],
   "source": [
    "dff.shape # выводим размерность получившейся таблицы"
   ]
  },
  {
   "cell_type": "markdown",
   "metadata": {},
   "source": [
    "Теперь определим целевую переменую:"
   ]
  },
  {
   "cell_type": "code",
   "execution_count": 58,
   "metadata": {},
   "outputs": [],
   "source": [
    "y = dff['cnt'] # то, что прогнозируем, записываем в переменную у"
   ]
  },
  {
   "cell_type": "markdown",
   "metadata": {},
   "source": [
    "А в качестве предикторов (признаков) возьмем все, кроме целевой переменной:"
   ]
  },
  {
   "cell_type": "code",
   "execution_count": 59,
   "metadata": {},
   "outputs": [],
   "source": [
    "X = dff.drop('cnt', axis=1) # то, с помощью чего прогнозируем, записываем в переменную х"
   ]
  },
  {
   "cell_type": "markdown",
   "metadata": {},
   "source": [
    "Посмотрим, какие признаки у нас будут отвечать за предсказание аренды:"
   ]
  },
  {
   "cell_type": "code",
   "execution_count": 60,
   "metadata": {},
   "outputs": [
    {
     "name": "stdout",
     "output_type": "stream",
     "text": [
      "<class 'pandas.core.frame.DataFrame'>\n",
      "RangeIndex: 731 entries, 0 to 730\n",
      "Data columns (total 28 columns):\n",
      " #   Column         Non-Null Count  Dtype  \n",
      "---  ------         --------------  -----  \n",
      " 0   atemp          731 non-null    float64\n",
      " 1   hum            731 non-null    float64\n",
      " 2   windspeed(ms)  731 non-null    float64\n",
      " 3   season_2       731 non-null    bool   \n",
      " 4   season_3       731 non-null    bool   \n",
      " 5   season_4       731 non-null    bool   \n",
      " 6   yr_1           731 non-null    bool   \n",
      " 7   mnth_10        731 non-null    bool   \n",
      " 8   mnth_11        731 non-null    bool   \n",
      " 9   mnth_12        731 non-null    bool   \n",
      " 10  mnth_2         731 non-null    bool   \n",
      " 11  mnth_3         731 non-null    bool   \n",
      " 12  mnth_4         731 non-null    bool   \n",
      " 13  mnth_5         731 non-null    bool   \n",
      " 14  mnth_6         731 non-null    bool   \n",
      " 15  mnth_7         731 non-null    bool   \n",
      " 16  mnth_8         731 non-null    bool   \n",
      " 17  mnth_9         731 non-null    bool   \n",
      " 18  holiday_1      731 non-null    bool   \n",
      " 19  weekday_1      731 non-null    bool   \n",
      " 20  weekday_2      731 non-null    bool   \n",
      " 21  weekday_3      731 non-null    bool   \n",
      " 22  weekday_4      731 non-null    bool   \n",
      " 23  weekday_5      731 non-null    bool   \n",
      " 24  weekday_6      731 non-null    bool   \n",
      " 25  workingday_1   731 non-null    bool   \n",
      " 26  weathersit_2   731 non-null    bool   \n",
      " 27  weathersit_3   731 non-null    bool   \n",
      "dtypes: bool(25), float64(3)\n",
      "memory usage: 35.1 KB\n"
     ]
    }
   ],
   "source": [
    "X.info() # выводим информацию про таблицу"
   ]
  },
  {
   "cell_type": "markdown",
   "metadata": {},
   "source": [
    "## Время регрессии"
   ]
  },
  {
   "cell_type": "code",
   "execution_count": 61,
   "metadata": {},
   "outputs": [
    {
     "name": "stdout",
     "output_type": "stream",
     "text": [
      "<class 'pandas.core.frame.DataFrame'>\n",
      "RangeIndex: 731 entries, 0 to 730\n",
      "Data columns (total 28 columns):\n",
      " #   Column         Non-Null Count  Dtype  \n",
      "---  ------         --------------  -----  \n",
      " 0   atemp          731 non-null    float64\n",
      " 1   hum            731 non-null    float64\n",
      " 2   windspeed(ms)  731 non-null    float64\n",
      " 3   season_2       731 non-null    bool   \n",
      " 4   season_3       731 non-null    bool   \n",
      " 5   season_4       731 non-null    bool   \n",
      " 6   yr_1           731 non-null    bool   \n",
      " 7   mnth_10        731 non-null    bool   \n",
      " 8   mnth_11        731 non-null    bool   \n",
      " 9   mnth_12        731 non-null    bool   \n",
      " 10  mnth_2         731 non-null    bool   \n",
      " 11  mnth_3         731 non-null    bool   \n",
      " 12  mnth_4         731 non-null    bool   \n",
      " 13  mnth_5         731 non-null    bool   \n",
      " 14  mnth_6         731 non-null    bool   \n",
      " 15  mnth_7         731 non-null    bool   \n",
      " 16  mnth_8         731 non-null    bool   \n",
      " 17  mnth_9         731 non-null    bool   \n",
      " 18  holiday_1      731 non-null    bool   \n",
      " 19  weekday_1      731 non-null    bool   \n",
      " 20  weekday_2      731 non-null    bool   \n",
      " 21  weekday_3      731 non-null    bool   \n",
      " 22  weekday_4      731 non-null    bool   \n",
      " 23  weekday_5      731 non-null    bool   \n",
      " 24  weekday_6      731 non-null    bool   \n",
      " 25  workingday_1   731 non-null    bool   \n",
      " 26  weathersit_2   731 non-null    bool   \n",
      " 27  weathersit_3   731 non-null    bool   \n",
      "dtypes: bool(25), float64(3)\n",
      "memory usage: 35.1 KB\n"
     ]
    }
   ],
   "source": [
    "X.info() # выводим информацию про таблицу"
   ]
  },
  {
   "cell_type": "code",
   "execution_count": 62,
   "metadata": {},
   "outputs": [],
   "source": [
    "X1 = X.astype(float) # преобразуем все колонки в данные типа float"
   ]
  },
  {
   "cell_type": "code",
   "execution_count": 63,
   "metadata": {},
   "outputs": [
    {
     "data": {
      "text/html": [
       "<div>\n",
       "<style scoped>\n",
       "    .dataframe tbody tr th:only-of-type {\n",
       "        vertical-align: middle;\n",
       "    }\n",
       "\n",
       "    .dataframe tbody tr th {\n",
       "        vertical-align: top;\n",
       "    }\n",
       "\n",
       "    .dataframe thead th {\n",
       "        text-align: right;\n",
       "    }\n",
       "</style>\n",
       "<table border=\"1\" class=\"dataframe\">\n",
       "  <thead>\n",
       "    <tr style=\"text-align: right;\">\n",
       "      <th></th>\n",
       "      <th>atemp</th>\n",
       "      <th>hum</th>\n",
       "      <th>windspeed(ms)</th>\n",
       "      <th>season_2</th>\n",
       "      <th>season_3</th>\n",
       "      <th>season_4</th>\n",
       "      <th>yr_1</th>\n",
       "      <th>mnth_10</th>\n",
       "      <th>mnth_11</th>\n",
       "      <th>mnth_12</th>\n",
       "      <th>...</th>\n",
       "      <th>holiday_1</th>\n",
       "      <th>weekday_1</th>\n",
       "      <th>weekday_2</th>\n",
       "      <th>weekday_3</th>\n",
       "      <th>weekday_4</th>\n",
       "      <th>weekday_5</th>\n",
       "      <th>weekday_6</th>\n",
       "      <th>workingday_1</th>\n",
       "      <th>weathersit_2</th>\n",
       "      <th>weathersit_3</th>\n",
       "    </tr>\n",
       "  </thead>\n",
       "  <tbody>\n",
       "    <tr>\n",
       "      <th>0</th>\n",
       "      <td>18.18125</td>\n",
       "      <td>80.5833</td>\n",
       "      <td>4.805490</td>\n",
       "      <td>0.0</td>\n",
       "      <td>0.0</td>\n",
       "      <td>0.0</td>\n",
       "      <td>0.0</td>\n",
       "      <td>0.0</td>\n",
       "      <td>0.0</td>\n",
       "      <td>0.0</td>\n",
       "      <td>...</td>\n",
       "      <td>0.0</td>\n",
       "      <td>0.0</td>\n",
       "      <td>0.0</td>\n",
       "      <td>0.0</td>\n",
       "      <td>0.0</td>\n",
       "      <td>0.0</td>\n",
       "      <td>1.0</td>\n",
       "      <td>0.0</td>\n",
       "      <td>1.0</td>\n",
       "      <td>0.0</td>\n",
       "    </tr>\n",
       "    <tr>\n",
       "      <th>1</th>\n",
       "      <td>17.68695</td>\n",
       "      <td>69.6087</td>\n",
       "      <td>7.443949</td>\n",
       "      <td>0.0</td>\n",
       "      <td>0.0</td>\n",
       "      <td>0.0</td>\n",
       "      <td>0.0</td>\n",
       "      <td>0.0</td>\n",
       "      <td>0.0</td>\n",
       "      <td>0.0</td>\n",
       "      <td>...</td>\n",
       "      <td>0.0</td>\n",
       "      <td>0.0</td>\n",
       "      <td>0.0</td>\n",
       "      <td>0.0</td>\n",
       "      <td>0.0</td>\n",
       "      <td>0.0</td>\n",
       "      <td>0.0</td>\n",
       "      <td>0.0</td>\n",
       "      <td>1.0</td>\n",
       "      <td>0.0</td>\n",
       "    </tr>\n",
       "    <tr>\n",
       "      <th>2</th>\n",
       "      <td>9.47025</td>\n",
       "      <td>43.7273</td>\n",
       "      <td>7.437060</td>\n",
       "      <td>0.0</td>\n",
       "      <td>0.0</td>\n",
       "      <td>0.0</td>\n",
       "      <td>0.0</td>\n",
       "      <td>0.0</td>\n",
       "      <td>0.0</td>\n",
       "      <td>0.0</td>\n",
       "      <td>...</td>\n",
       "      <td>0.0</td>\n",
       "      <td>1.0</td>\n",
       "      <td>0.0</td>\n",
       "      <td>0.0</td>\n",
       "      <td>0.0</td>\n",
       "      <td>0.0</td>\n",
       "      <td>0.0</td>\n",
       "      <td>1.0</td>\n",
       "      <td>0.0</td>\n",
       "      <td>0.0</td>\n",
       "    </tr>\n",
       "    <tr>\n",
       "      <th>3</th>\n",
       "      <td>10.60610</td>\n",
       "      <td>59.0435</td>\n",
       "      <td>4.800998</td>\n",
       "      <td>0.0</td>\n",
       "      <td>0.0</td>\n",
       "      <td>0.0</td>\n",
       "      <td>0.0</td>\n",
       "      <td>0.0</td>\n",
       "      <td>0.0</td>\n",
       "      <td>0.0</td>\n",
       "      <td>...</td>\n",
       "      <td>0.0</td>\n",
       "      <td>0.0</td>\n",
       "      <td>1.0</td>\n",
       "      <td>0.0</td>\n",
       "      <td>0.0</td>\n",
       "      <td>0.0</td>\n",
       "      <td>0.0</td>\n",
       "      <td>1.0</td>\n",
       "      <td>0.0</td>\n",
       "      <td>0.0</td>\n",
       "    </tr>\n",
       "    <tr>\n",
       "      <th>4</th>\n",
       "      <td>11.46350</td>\n",
       "      <td>43.6957</td>\n",
       "      <td>5.597810</td>\n",
       "      <td>0.0</td>\n",
       "      <td>0.0</td>\n",
       "      <td>0.0</td>\n",
       "      <td>0.0</td>\n",
       "      <td>0.0</td>\n",
       "      <td>0.0</td>\n",
       "      <td>0.0</td>\n",
       "      <td>...</td>\n",
       "      <td>0.0</td>\n",
       "      <td>0.0</td>\n",
       "      <td>0.0</td>\n",
       "      <td>1.0</td>\n",
       "      <td>0.0</td>\n",
       "      <td>0.0</td>\n",
       "      <td>0.0</td>\n",
       "      <td>1.0</td>\n",
       "      <td>0.0</td>\n",
       "      <td>0.0</td>\n",
       "    </tr>\n",
       "    <tr>\n",
       "      <th>...</th>\n",
       "      <td>...</td>\n",
       "      <td>...</td>\n",
       "      <td>...</td>\n",
       "      <td>...</td>\n",
       "      <td>...</td>\n",
       "      <td>...</td>\n",
       "      <td>...</td>\n",
       "      <td>...</td>\n",
       "      <td>...</td>\n",
       "      <td>...</td>\n",
       "      <td>...</td>\n",
       "      <td>...</td>\n",
       "      <td>...</td>\n",
       "      <td>...</td>\n",
       "      <td>...</td>\n",
       "      <td>...</td>\n",
       "      <td>...</td>\n",
       "      <td>...</td>\n",
       "      <td>...</td>\n",
       "      <td>...</td>\n",
       "      <td>...</td>\n",
       "    </tr>\n",
       "    <tr>\n",
       "      <th>726</th>\n",
       "      <td>11.33210</td>\n",
       "      <td>65.2917</td>\n",
       "      <td>10.486773</td>\n",
       "      <td>0.0</td>\n",
       "      <td>0.0</td>\n",
       "      <td>0.0</td>\n",
       "      <td>1.0</td>\n",
       "      <td>0.0</td>\n",
       "      <td>0.0</td>\n",
       "      <td>1.0</td>\n",
       "      <td>...</td>\n",
       "      <td>0.0</td>\n",
       "      <td>0.0</td>\n",
       "      <td>0.0</td>\n",
       "      <td>0.0</td>\n",
       "      <td>1.0</td>\n",
       "      <td>0.0</td>\n",
       "      <td>0.0</td>\n",
       "      <td>1.0</td>\n",
       "      <td>1.0</td>\n",
       "      <td>0.0</td>\n",
       "    </tr>\n",
       "    <tr>\n",
       "      <th>727</th>\n",
       "      <td>12.75230</td>\n",
       "      <td>59.0000</td>\n",
       "      <td>4.656485</td>\n",
       "      <td>0.0</td>\n",
       "      <td>0.0</td>\n",
       "      <td>0.0</td>\n",
       "      <td>1.0</td>\n",
       "      <td>0.0</td>\n",
       "      <td>0.0</td>\n",
       "      <td>1.0</td>\n",
       "      <td>...</td>\n",
       "      <td>0.0</td>\n",
       "      <td>0.0</td>\n",
       "      <td>0.0</td>\n",
       "      <td>0.0</td>\n",
       "      <td>0.0</td>\n",
       "      <td>1.0</td>\n",
       "      <td>0.0</td>\n",
       "      <td>1.0</td>\n",
       "      <td>1.0</td>\n",
       "      <td>0.0</td>\n",
       "    </tr>\n",
       "    <tr>\n",
       "      <th>728</th>\n",
       "      <td>12.12000</td>\n",
       "      <td>75.2917</td>\n",
       "      <td>3.725374</td>\n",
       "      <td>0.0</td>\n",
       "      <td>0.0</td>\n",
       "      <td>0.0</td>\n",
       "      <td>1.0</td>\n",
       "      <td>0.0</td>\n",
       "      <td>0.0</td>\n",
       "      <td>1.0</td>\n",
       "      <td>...</td>\n",
       "      <td>0.0</td>\n",
       "      <td>0.0</td>\n",
       "      <td>0.0</td>\n",
       "      <td>0.0</td>\n",
       "      <td>0.0</td>\n",
       "      <td>0.0</td>\n",
       "      <td>1.0</td>\n",
       "      <td>0.0</td>\n",
       "      <td>1.0</td>\n",
       "      <td>0.0</td>\n",
       "    </tr>\n",
       "    <tr>\n",
       "      <th>729</th>\n",
       "      <td>11.58500</td>\n",
       "      <td>48.3333</td>\n",
       "      <td>10.505372</td>\n",
       "      <td>0.0</td>\n",
       "      <td>0.0</td>\n",
       "      <td>0.0</td>\n",
       "      <td>1.0</td>\n",
       "      <td>0.0</td>\n",
       "      <td>0.0</td>\n",
       "      <td>1.0</td>\n",
       "      <td>...</td>\n",
       "      <td>0.0</td>\n",
       "      <td>0.0</td>\n",
       "      <td>0.0</td>\n",
       "      <td>0.0</td>\n",
       "      <td>0.0</td>\n",
       "      <td>0.0</td>\n",
       "      <td>0.0</td>\n",
       "      <td>0.0</td>\n",
       "      <td>0.0</td>\n",
       "      <td>0.0</td>\n",
       "    </tr>\n",
       "    <tr>\n",
       "      <th>730</th>\n",
       "      <td>11.17435</td>\n",
       "      <td>57.7500</td>\n",
       "      <td>4.637766</td>\n",
       "      <td>0.0</td>\n",
       "      <td>0.0</td>\n",
       "      <td>0.0</td>\n",
       "      <td>1.0</td>\n",
       "      <td>0.0</td>\n",
       "      <td>0.0</td>\n",
       "      <td>1.0</td>\n",
       "      <td>...</td>\n",
       "      <td>0.0</td>\n",
       "      <td>1.0</td>\n",
       "      <td>0.0</td>\n",
       "      <td>0.0</td>\n",
       "      <td>0.0</td>\n",
       "      <td>0.0</td>\n",
       "      <td>0.0</td>\n",
       "      <td>1.0</td>\n",
       "      <td>1.0</td>\n",
       "      <td>0.0</td>\n",
       "    </tr>\n",
       "  </tbody>\n",
       "</table>\n",
       "<p>731 rows × 28 columns</p>\n",
       "</div>"
      ],
      "text/plain": [
       "        atemp      hum  windspeed(ms)  season_2  season_3  season_4  yr_1   \n",
       "0    18.18125  80.5833       4.805490       0.0       0.0       0.0   0.0  \\\n",
       "1    17.68695  69.6087       7.443949       0.0       0.0       0.0   0.0   \n",
       "2     9.47025  43.7273       7.437060       0.0       0.0       0.0   0.0   \n",
       "3    10.60610  59.0435       4.800998       0.0       0.0       0.0   0.0   \n",
       "4    11.46350  43.6957       5.597810       0.0       0.0       0.0   0.0   \n",
       "..        ...      ...            ...       ...       ...       ...   ...   \n",
       "726  11.33210  65.2917      10.486773       0.0       0.0       0.0   1.0   \n",
       "727  12.75230  59.0000       4.656485       0.0       0.0       0.0   1.0   \n",
       "728  12.12000  75.2917       3.725374       0.0       0.0       0.0   1.0   \n",
       "729  11.58500  48.3333      10.505372       0.0       0.0       0.0   1.0   \n",
       "730  11.17435  57.7500       4.637766       0.0       0.0       0.0   1.0   \n",
       "\n",
       "     mnth_10  mnth_11  mnth_12  ...  holiday_1  weekday_1  weekday_2   \n",
       "0        0.0      0.0      0.0  ...        0.0        0.0        0.0  \\\n",
       "1        0.0      0.0      0.0  ...        0.0        0.0        0.0   \n",
       "2        0.0      0.0      0.0  ...        0.0        1.0        0.0   \n",
       "3        0.0      0.0      0.0  ...        0.0        0.0        1.0   \n",
       "4        0.0      0.0      0.0  ...        0.0        0.0        0.0   \n",
       "..       ...      ...      ...  ...        ...        ...        ...   \n",
       "726      0.0      0.0      1.0  ...        0.0        0.0        0.0   \n",
       "727      0.0      0.0      1.0  ...        0.0        0.0        0.0   \n",
       "728      0.0      0.0      1.0  ...        0.0        0.0        0.0   \n",
       "729      0.0      0.0      1.0  ...        0.0        0.0        0.0   \n",
       "730      0.0      0.0      1.0  ...        0.0        1.0        0.0   \n",
       "\n",
       "     weekday_3  weekday_4  weekday_5  weekday_6  workingday_1  weathersit_2   \n",
       "0          0.0        0.0        0.0        1.0           0.0           1.0  \\\n",
       "1          0.0        0.0        0.0        0.0           0.0           1.0   \n",
       "2          0.0        0.0        0.0        0.0           1.0           0.0   \n",
       "3          0.0        0.0        0.0        0.0           1.0           0.0   \n",
       "4          1.0        0.0        0.0        0.0           1.0           0.0   \n",
       "..         ...        ...        ...        ...           ...           ...   \n",
       "726        0.0        1.0        0.0        0.0           1.0           1.0   \n",
       "727        0.0        0.0        1.0        0.0           1.0           1.0   \n",
       "728        0.0        0.0        0.0        1.0           0.0           1.0   \n",
       "729        0.0        0.0        0.0        0.0           0.0           0.0   \n",
       "730        0.0        0.0        0.0        0.0           1.0           1.0   \n",
       "\n",
       "     weathersit_3  \n",
       "0             0.0  \n",
       "1             0.0  \n",
       "2             0.0  \n",
       "3             0.0  \n",
       "4             0.0  \n",
       "..            ...  \n",
       "726           0.0  \n",
       "727           0.0  \n",
       "728           0.0  \n",
       "729           0.0  \n",
       "730           0.0  \n",
       "\n",
       "[731 rows x 28 columns]"
      ]
     },
     "execution_count": 63,
     "metadata": {},
     "output_type": "execute_result"
    }
   ],
   "source": [
    "X1 # смотрим, что записано в Х1"
   ]
  },
  {
   "cell_type": "code",
   "execution_count": 64,
   "metadata": {},
   "outputs": [
    {
     "data": {
      "text/plain": [
       "731"
      ]
     },
     "execution_count": 64,
     "metadata": {},
     "output_type": "execute_result"
    }
   ],
   "source": [
    "X1.shape[0] # выводим количество строк в Х1"
   ]
  },
  {
   "cell_type": "code",
   "execution_count": 65,
   "metadata": {},
   "outputs": [],
   "source": [
    "n = X1.shape[0] # записываем количество строк в Х1 в переменную n\n",
    "X1 = np.column_stack((np.ones(n), X1)) # прицепляем к Х1 столбец с единицами\n",
    "w_hat = np.linalg.inv(X1.T@X1)@X1.T@np.array(y) # в переменную w_hat записываем оцененные коэффициенты регрессии"
   ]
  },
  {
   "cell_type": "code",
   "execution_count": 66,
   "metadata": {},
   "outputs": [
    {
     "data": {
      "text/plain": [
       "array([ 1863.15626233,   126.00923291,    -8.31243272,   -81.28132264,\n",
       "        1013.75870783,   837.18875694,  1743.81419718,  2014.84511557,\n",
       "          64.7470699 ,  -564.28922585,  -446.22771476,   171.99262551,\n",
       "         267.09107164,   -26.26556676,   181.3909513 ,   -59.67095146,\n",
       "        -690.64621976,   -54.30823899,   371.61431102, -5386.14072576,\n",
       "        3520.54811119,  4553.76186656,  2076.56592701,  5446.86422257,\n",
       "        5177.86772669,   444.32101015, -6862.95322871,  -467.09679617,\n",
       "       -1955.7679963 ])"
      ]
     },
     "execution_count": 66,
     "metadata": {},
     "output_type": "execute_result"
    }
   ],
   "source": [
    "w_hat # выводим оцененные коэффициенты регрессии"
   ]
  },
  {
   "cell_type": "code",
   "execution_count": 67,
   "metadata": {},
   "outputs": [],
   "source": [
    "y_pred = X1 @ w_hat # вычисляем предсказание "
   ]
  },
  {
   "cell_type": "code",
   "execution_count": 68,
   "metadata": {},
   "outputs": [
    {
     "data": {
      "text/plain": [
       "array([ 3070.9459679 ,  2441.10684556, -1253.88422182,     9.4048558 ,\n",
       "       -2296.93912971,  1267.54928754,   201.46457762,  1767.72891849,\n",
       "        1353.06741305, -1473.53705349,  -574.67913658, -3152.14182198,\n",
       "         273.90155175,   610.02152479,  2604.46614105,  2477.98818846,\n",
       "        -274.91079659,  -522.89698361, -2633.83285119,   662.50042971,\n",
       "         -67.40310037,  2054.50381191,  1522.69864287, -1530.43548231,\n",
       "        -264.33212532, -5028.53339303,   982.66926155,   158.59569812,\n",
       "        2748.33255835,  2659.89173342, -1730.45601802,   -82.60633202,\n",
       "       -2903.39353995,   699.66211583,   525.49578469,  2379.24927422,\n",
       "        3055.18386031,  -118.34889646,  -353.28762534, -3180.2884923 ,\n",
       "         657.41492384,  1010.09821368,  2999.76714705,  3061.90247221,\n",
       "        -127.24912121,   357.36810413, -1724.01647517,  2339.8502838 ,\n",
       "        2501.3719054 ,  3553.90138264,  2900.00045159,   239.92745124,\n",
       "         -58.60184499, -1783.8722455 ,   784.4801208 ,   655.41344765,\n",
       "        3356.07344981,  3377.14315492,  -687.12059836,   512.02604983,\n",
       "       -1762.65959286,  1160.89124658,   586.52153229,  3224.79879969,\n",
       "        2346.75906342,  -999.01306973,  1082.7854458 , -2497.97680638,\n",
       "         550.75218764,   792.60715501,  3595.2364904 ,  3427.83591252,\n",
       "         133.16480076,   364.93142333, -1951.36378514,  2288.06686199,\n",
       "        2766.58104581,  4302.42968114,  3283.13631525,   600.04676834,\n",
       "        2542.30681404, -1248.48411804,  1703.86439396,  2100.65222289,\n",
       "        4373.30597277,  3394.93084127,   656.65742081,  1866.51230902,\n",
       "       -1194.45933114,   101.78557534,  1284.10762877,  3793.16647407,\n",
       "        4394.47245706,  1635.97962442,  1105.69604101,  -525.41715919,\n",
       "        3270.73542621,  1495.10836589,  3926.26505613,  4002.10573156,\n",
       "        1216.39726459,  1897.22425423, -1064.79897438,  3631.33780314,\n",
       "        4317.56326893,  2451.9000213 ,  4521.24615287,  1829.1523751 ,\n",
       "        2218.87193862,   520.7174818 ,  3164.08252265,  1586.05364871,\n",
       "        4364.08185887,  4718.07569885,  2031.07768941,  2883.49444921,\n",
       "        -233.64239565,  3251.18866446,  3335.44363468,  5227.84810803,\n",
       "        4522.71213723,  1552.48202377,  2535.73540136, -1059.31361036,\n",
       "        3338.17225666,  3314.29102416,  5891.85910731,  5621.05371375,\n",
       "        2107.33666645,  3354.28695657,   781.27850306,  3856.55760896,\n",
       "        2865.27182886,  5094.37396996,  4875.08102722,  2220.5696436 ,\n",
       "        2303.28374651,   -87.54181811,  3440.00685139,  3803.9437201 ,\n",
       "        6291.70522601,  5694.51829649,  1725.35928409,  2972.65279033,\n",
       "        1195.89283243,  4717.8691963 ,  4257.32033571,  6194.29055325,\n",
       "        5735.15482768,  4532.04131145,  4519.11308272,  1039.21052855,\n",
       "        4493.2016952 ,  3920.75992376,  6329.3874654 ,  5356.273187  ,\n",
       "        2597.33657239,  3686.61814991,  1762.87468865,  4869.8510717 ,\n",
       "        4718.14993079,  6612.42625468,  5850.59302173,  2111.06094184,\n",
       "        3158.00213965,   933.13606567,  3610.19883395,  3954.99642634,\n",
       "        6470.80093687,  5616.79954709,  1759.8864527 ,  2825.09554258,\n",
       "        1218.26316297,  3962.96095993,  4075.27820557,  6226.2080372 ,\n",
       "        6001.19060917,  2035.43971169,  3816.52205463,   927.84498668,\n",
       "        4425.99966561,  3854.36150841,  6008.69978055,  4630.46789704,\n",
       "        3140.82300674,  3289.61025656,   560.34376703,  3992.30370442,\n",
       "        2903.79183934,  5723.38368001,  5429.78977024,  2049.53060327,\n",
       "        3405.97049861,   686.0535797 ,  3613.28852473,  3321.86976456,\n",
       "        5481.89735812,  5131.22734034,  2035.63646383,  3551.37721848,\n",
       "        1063.97231138,  4217.9374437 ,  4816.15422608,  6786.32754614,\n",
       "        6147.77507501,  2359.27414385,  3154.71644924,   793.28021024,\n",
       "        4335.93281093,  4401.68975453,  6246.62499662,  5806.83348372,\n",
       "        2895.30113167,  3882.24081976,   799.85815836,  3841.70509137,\n",
       "        4123.61893903,  5700.0930908 ,  6036.34081797,  2774.63516858,\n",
       "        4057.09127651,  1335.25598011,  4581.40506827,  4430.93471281,\n",
       "        5571.23091686,  4891.34394403,  2085.16744298,  3349.85181043,\n",
       "        1231.92393595,  4290.62964372,  3543.38185115,  6364.61647417,\n",
       "        5656.52142152,  2260.51011801,  3419.49885555,   714.22109864,\n",
       "        3677.32544587,  4280.38789392,  5006.58230116,  5519.83931194,\n",
       "        2283.96951058,  3323.63221386,  1010.10926148,  4653.65897533,\n",
       "        3785.31463596,  6458.9268204 ,  6144.98561325,  3506.30348017,\n",
       "         478.41120164, -1239.81269155,  1948.89193585,  3518.22306984,\n",
       "        6346.22209248,  6036.99100708,  2731.43258727,  3627.96223341,\n",
       "        1248.60359449,  3427.57669394,  2936.80828347,  5005.16762963,\n",
       "        5150.34815038,  1656.68935672,  2587.81303614,   304.27782506,\n",
       "        3623.53321175,  4116.86767595,  6604.09815785,  6294.31958253,\n",
       "        2905.65546524,  3798.39187102,  1281.51506094,  5180.13494029,\n",
       "        4685.29188388,  4912.04172128,  4181.73142332,  1496.94850426,\n",
       "        3250.42734206,  1236.46133946,  4437.926757  ,  4541.38955403,\n",
       "        6656.25680171,  6213.85744574,  4513.89114645,  3315.590706  ,\n",
       "       -1166.00287099,  4174.63090811,  3716.32389505,  6228.18065971,\n",
       "        5751.45740721,  2638.39106692,  3337.55650187, -1169.49614561,\n",
       "        3638.06851344,  3639.23401746,  6048.25194671,  5474.19382984,\n",
       "        2278.06438272,  3358.48764339,   436.679283  ,  3510.95801552,\n",
       "        2482.57476282,  2007.26285825,  4747.78658885,  1729.12986735,\n",
       "        2336.92514895,   -82.99171726,  3267.406984  ,  2252.97538416,\n",
       "        4635.61724295,  4490.98605079,  1455.93165278,  2562.88129765,\n",
       "          51.9091578 ,  2377.75987085,  3630.49636677,  4766.34073393,\n",
       "        4688.52510326,  1771.17467231,  2405.86116733, -1957.89962733,\n",
       "        1973.89330557,  2324.77023664,  4567.51914604,  4433.52117868,\n",
       "        -543.91176755,   345.3373671 ,  -945.78117997,  4586.36058241,\n",
       "        2980.12973891,  5180.03048389,  4825.26047619,  1824.63359998,\n",
       "        1791.32938966,  -952.8176736 ,  2697.76684175,  2798.33882354,\n",
       "        4819.35024318,  4510.93626215,   994.20045565,   415.76958408,\n",
       "       -2514.31840467,  2296.95317763,  2696.5428575 ,  4293.9631904 ,\n",
       "        4186.42864428,   808.60634646,  1916.26533104,  -661.04176807,\n",
       "        2695.16037199,  2225.30085259,  3650.95456151,  3807.37017734,\n",
       "         637.52220484,  2237.47083964, -2392.32003264,  1473.74669873,\n",
       "         872.27231827,  2832.37861758,  2236.92255082,   534.98364995,\n",
       "        -387.71420709, -2739.99884584,   895.50682275,   884.24491667,\n",
       "        3422.54366953,  5201.13154001,  2482.5334573 ,  1107.40957122,\n",
       "       -1417.86544916,  3463.8802868 ,  3477.38978488,  5917.02751219,\n",
       "        5168.95768595,   803.70904278,  2583.55931554,  -617.50855278,\n",
       "        3293.2281253 ,  2421.67332162,  4639.87489969,  3936.21050553,\n",
       "        2216.12124758,  1951.65325983,  -554.01437908,  2709.73390901,\n",
       "        2250.31372729,  3724.03863125,  3285.26973026,   572.89434224,\n",
       "        2772.26733615,    21.8914812 ,  3419.70637431,  2892.56144193,\n",
       "        5413.7677108 ,  4753.15710791,  1331.73197784,  2987.55298948,\n",
       "        1320.53608486,  3665.45590493,  3441.60440142,  4800.73965251,\n",
       "        4249.22304352,  1683.6142705 ,  3244.63431936,  -451.3708248 ,\n",
       "        3344.95064692,  3013.83429215,  2553.76802534,  3308.10161991,\n",
       "        1394.45630494,  2611.13259049,   595.33892302,  3398.55509239,\n",
       "        3551.72036078,  5824.48233626,  4212.51490211,  2927.0744853 ,\n",
       "        2605.29672646,   694.70664396,  4508.35980175,  3295.73353466,\n",
       "        4749.68868181,  4900.03025698,  1902.35168905,  3168.27719703,\n",
       "        -112.98877579,  4659.91208032,  3361.12454374,  5818.95965051,\n",
       "        4904.50282221,  1344.21734331,  2574.16335111,   516.52911674,\n",
       "        4487.56038706,  3146.52447101,  5498.61654645,  5472.83686551,\n",
       "        2786.04689886,  4166.47047847,  2113.62432111,  5239.39085527,\n",
       "        3765.81895327,  6406.55596044,  5619.2133967 ,  3158.78561474,\n",
       "        4262.10471145,  2238.44630416,  6114.71070867,  5738.20677826,\n",
       "        6997.40185275,  6178.48010426,  3241.81468498,  4141.65694384,\n",
       "        2229.57406751,  5638.27573917,  4554.32482099,  6569.18335286,\n",
       "        6045.99603537,  3037.49822779,  4890.36425923,  2609.17748101,\n",
       "        5320.4768553 ,  4597.6963924 ,  7114.19260502,  7172.47335414,\n",
       "        3390.20141542,  4336.09243709,  1094.93869831,  4796.88967544,\n",
       "        5183.08943855,  7501.59271536,  7510.9056763 ,  5713.93144928,\n",
       "        5336.38188321,  1609.67240635,  5886.18555283,  5487.80979483,\n",
       "        7472.42196499,  3830.5692347 ,  1577.08867078,  4125.14123383,\n",
       "        2397.42597679,  4970.14704241,  4852.74867506,  6497.78892399,\n",
       "        6928.8499788 ,  3048.03713464,  5004.08083839,  2677.09266308,\n",
       "        5610.69094426,  6103.14174958,  7732.25090195,  7070.75786097,\n",
       "        3471.12564105,  4518.42778841,  2158.5532864 ,  5532.03826159,\n",
       "        5793.15008737,  8250.96701116,  7733.38220685,  3554.15091083,\n",
       "        4909.16500228,  3163.29409355,  6273.89800461,  6092.29205724,\n",
       "        8505.56707797,  7692.26524011,  3585.54445024,  5032.06417907,\n",
       "        2610.81234642,  6462.92206122,  6378.61927347,  8473.43320001,\n",
       "        8011.15759547,  6446.91461562,  5715.93053294,  2786.11250062,\n",
       "        6749.59667922,  5304.07925756,  7933.62007101,  7597.46352696,\n",
       "        4034.83975644,  4349.13606523,  2766.53792578,  6149.30410032,\n",
       "        6097.8974871 ,  8646.84080403,  8239.53072951,  4184.76660294,\n",
       "        4607.68706073,  2576.4753733 ,  6258.74075184,  6005.67981417,\n",
       "        8198.51837836,  7585.32827062,  3383.29592481,  5713.8628253 ,\n",
       "        3818.94334953,  7219.53483877,  6610.68604482,  8330.84212959,\n",
       "        8151.05401153,  4283.52993323,  4936.59244388,  2945.54902159,\n",
       "        6726.39522961,  7117.49033842,  8539.5548197 ,  7912.37147604,\n",
       "        4258.30120581,  5426.01448523,  4552.66992332,  6552.42555677,\n",
       "        6350.23747399,  8732.98486357,  8221.64115187,  3327.29489206,\n",
       "        4512.5275207 ,  2439.32499855,  5935.7323879 ,  5479.97774956,\n",
       "        7267.18402786,  7465.09930595,  4308.60481079,  5777.46317365,\n",
       "        3121.38265546,  6209.20938518,  4524.27576257,  4739.15767845,\n",
       "        6620.95446851,  4114.92695706,  5107.07666449,  2583.74310321,\n",
       "        6076.81669046,  6098.67106477,  7971.2036615 ,  7299.52285151,\n",
       "        4068.00737595,  4903.85158919,  3171.98353245,  6836.59486445,\n",
       "        6003.68831594,  8701.93611244,  8017.61753826,  4467.58082834,\n",
       "        5410.33479579,  3037.49106192,  6756.28223116,  5540.63458877,\n",
       "        7547.58921611,  7982.87313991,  4706.00816609,  5633.11786115,\n",
       "        3066.90763305,  6592.88119176,  3465.30911896,  8064.81199535,\n",
       "        7194.42793917,  3679.54938346,  5401.21898722,  3058.54050601,\n",
       "        6523.76181925,  5898.87889049,  7348.57176447,  6688.60033031,\n",
       "        4522.76606594,  5567.94618621,  3146.96494396,  6679.08558568,\n",
       "        6420.69527601,  8684.91594445,  7875.26729115,  6364.50992352,\n",
       "        5902.42594745,  3693.9704281 ,  6312.12441184,  6512.54230567,\n",
       "        7565.73927113,  7732.67083438,  4259.7198531 ,  5613.56138128,\n",
       "        3091.48490588,  6591.24837396,  6332.85646327,  8202.77497593,\n",
       "        7941.39715664,  3781.74844446,  4274.91438419,  2735.27974966,\n",
       "        6222.11477147,  6074.04466992,  8149.57749025,  8331.17891001,\n",
       "        5060.68031439,  6063.69881203,  3846.62639279,  7039.46905038,\n",
       "        6559.21270145,  8773.47547501,  8441.50659551,  4342.2237588 ,\n",
       "        3859.64580807,  3386.09174122,  6746.82110195,  6876.41493526,\n",
       "        8319.23867047,  6932.03369391,  4744.38379504,  4574.17729884,\n",
       "        3088.58704226,  6159.79726555,  5709.52739259,  7829.9660057 ,\n",
       "        7677.87514605,  3965.16485968,  5373.19667313,  2913.29903497,\n",
       "        5850.91950625,  5917.3723994 ,  8347.63603164,  7734.09301452,\n",
       "        4716.12565731,  5954.98357353,  3714.32024073,  6172.53069745,\n",
       "        5834.58101963,  7737.08871186,  6620.34392465,  1553.30087621,\n",
       "        3658.13210641,  1748.27150535,  4638.58930677,  4533.70401025,\n",
       "        6008.19422282,  6254.75602133,  2670.04325674,  3628.54566362,\n",
       "         338.84209656,  4671.52270893,  4639.81384423,  7306.51148659,\n",
       "        6856.19333614,  5148.14317231,  2933.96817702,  1100.22500006,\n",
       "        4330.63438452,  4707.57965759,  6667.2967451 ,  6055.39107187,\n",
       "        2524.2116035 ,  3908.82509954,  1808.60505544,  6714.57022696,\n",
       "        4925.80513539,  5815.25898848,  5924.73585967,  3292.37439432,\n",
       "        2822.94081171,  1162.72483601,  4778.52001682,  4730.6471407 ,\n",
       "        6333.57059345,  5984.48370905,  3865.54968911,  4787.82138805,\n",
       "        1893.91016041,  4537.97961552,  4098.7426813 ,  6602.62047748,\n",
       "        6029.3880773 ,  2878.21555476,  3314.48222355,   951.32393107,\n",
       "        4785.26655619,  4490.15784159,  6952.32023302,  6096.81531022,\n",
       "        2902.51044232,  4354.93482717,  1576.94399282,  4526.74879604,\n",
       "        1806.72306483,  4005.2689299 ,  4314.14087778,   407.68214973,\n",
       "        2966.02621977, -3377.18517681,  1581.42545338,  2017.58011374,\n",
       "        4007.56928661,  3635.93276069,   173.33629683])"
      ]
     },
     "execution_count": 68,
     "metadata": {},
     "output_type": "execute_result"
    }
   ],
   "source": [
    "y_pred # выводим предсказание "
   ]
  },
  {
   "cell_type": "code",
   "execution_count": 69,
   "metadata": {},
   "outputs": [
    {
     "data": {
      "text/plain": [
       "0       985\n",
       "1       801\n",
       "2      1349\n",
       "3      1562\n",
       "4      1600\n",
       "       ... \n",
       "726    2114\n",
       "727    3095\n",
       "728    1341\n",
       "729    1796\n",
       "730    2729\n",
       "Name: cnt, Length: 731, dtype: int64"
      ]
     },
     "execution_count": 69,
     "metadata": {},
     "output_type": "execute_result"
    }
   ],
   "source": [
    "y # целевая переменная"
   ]
  },
  {
   "cell_type": "markdown",
   "metadata": {},
   "source": [
    "Выясним точность наших предсказаний:"
   ]
  },
  {
   "cell_type": "code",
   "execution_count": 70,
   "metadata": {},
   "outputs": [],
   "source": [
    "from sklearn.metrics import mean_squared_error # импортируем функцию для вычисления MSE\n",
    "\n",
    "def rmse(y_test, y_pred): # определяем функцию для поиска RMSE\n",
    "    return np.sqrt(mean_squared_error(y_test, y_pred))"
   ]
  },
  {
   "cell_type": "code",
   "execution_count": 71,
   "metadata": {},
   "outputs": [
    {
     "data": {
      "text/plain": [
       "2050.0118235859377"
      ]
     },
     "execution_count": 71,
     "metadata": {},
     "output_type": "execute_result"
    }
   ],
   "source": [
    "rmse(y, y_pred) # вычисляем значение ошибки RMSE"
   ]
  },
  {
   "cell_type": "markdown",
   "metadata": {},
   "source": [
    "Еще давайте сделаем наивный прогноз:"
   ]
  },
  {
   "cell_type": "code",
   "execution_count": 72,
   "metadata": {},
   "outputs": [
    {
     "data": {
      "text/plain": [
       "array([4504.34883721, 4504.34883721, 4504.34883721, 4504.34883721,\n",
       "       4504.34883721])"
      ]
     },
     "execution_count": 72,
     "metadata": {},
     "output_type": "execute_result"
    }
   ],
   "source": [
    "y_mean = np.mean(y)                     # посчитали среднее \n",
    "y_pred_naive = np.ones(len(y)) * y_mean  # спрогнозировали им продажи\n",
    "y_pred_naive[:5] # посмотрели первые 5 значений"
   ]
  },
  {
   "cell_type": "code",
   "execution_count": 73,
   "metadata": {},
   "outputs": [
    {
     "data": {
      "text/plain": [
       "1935.8859561152221"
      ]
     },
     "execution_count": 73,
     "metadata": {},
     "output_type": "execute_result"
    }
   ],
   "source": [
    "rmse(y, y_pred_naive) # вычисляем значение ошибки RMSE"
   ]
  },
  {
   "cell_type": "markdown",
   "metadata": {},
   "source": [
    "  Теперь будем использовать для предсказания линейную регрессию из готовой библиотеки:"
   ]
  },
  {
   "cell_type": "code",
   "execution_count": 74,
   "metadata": {},
   "outputs": [],
   "source": [
    "from sklearn.linear_model import LinearRegression\n",
    "\n",
    "# Объявили модель\n",
    "model = LinearRegression()\n",
    "\n",
    "# Обучили модель \n",
    "model.fit(X, y)\n",
    "\n",
    "# Сделали прогнозы \n",
    "y_pred = model.predict(X)"
   ]
  },
  {
   "cell_type": "markdown",
   "metadata": {},
   "source": [
    "Оценим качество:"
   ]
  },
  {
   "cell_type": "code",
   "execution_count": 75,
   "metadata": {},
   "outputs": [
    {
     "data": {
      "text/plain": [
       "756.0689821350974"
      ]
     },
     "execution_count": 75,
     "metadata": {},
     "output_type": "execute_result"
    }
   ],
   "source": [
    "rmse(y, y_pred) # вычисляем значение ошибки RMSE"
   ]
  },
  {
   "cell_type": "markdown",
   "metadata": {},
   "source": [
    "### Полиномиальная регрессия и регуляризация"
   ]
  },
  {
   "cell_type": "code",
   "execution_count": 76,
   "metadata": {},
   "outputs": [],
   "source": [
    "from sklearn.preprocessing import PolynomialFeatures, StandardScaler\n",
    "from sklearn.linear_model import LinearRegression, Lasso, Ridge, ElasticNet\n",
    "from sklearn.model_selection import GridSearchCV\n",
    "from sklearn.model_selection import cross_validate"
   ]
  },
  {
   "cell_type": "code",
   "execution_count": 77,
   "metadata": {},
   "outputs": [
    {
     "name": "stdout",
     "output_type": "stream",
     "text": [
      "Количество факторов: 4494\n"
     ]
    },
    {
     "name": "stdout",
     "output_type": "stream",
     "text": [
      "MAPE на тренировочных фолдах: 0.0\n",
      "MAPE на валидационных фолдах: 304.3\n"
     ]
    }
   ],
   "source": [
    "poly = PolynomialFeatures(degree=3, include_bias=False)\n",
    "X_poly = poly.fit_transform(X)\n",
    "print('Количество факторов: {}'.format(X_poly.shape[1]))\n",
    "\n",
    "lr = LinearRegression()\n",
    "lr.fit(X_poly, y)\n",
    "\n",
    "cv_results = cross_validate(lr, X_poly, y, scoring='neg_mean_absolute_percentage_error', cv=5, return_train_score=True)\n",
    "print('MAPE на тренировочных фолдах: {:.1f}'.format(-cv_results['train_score'].mean() * 100))\n",
    "print('MAPE на валидационных фолдах: {:.1f}'.format(-cv_results['test_score'].mean() * 100))\n"
   ]
  },
  {
   "cell_type": "code",
   "execution_count": 78,
   "metadata": {},
   "outputs": [
    {
     "name": "stderr",
     "output_type": "stream",
     "text": [
      "c:\\Users\\smart\\AppData\\Local\\Programs\\Python\\Python39\\lib\\site-packages\\sklearn\\linear_model\\_coordinate_descent.py:634: ConvergenceWarning: Objective did not converge. You might want to increase the number of iterations, check the scale of the features or consider increasing regularisation. Duality gap: 7.356e+06, tolerance: 2.740e+05\n",
      "  model = cd_fast.enet_coordinate_descent(\n",
      "c:\\Users\\smart\\AppData\\Local\\Programs\\Python\\Python39\\lib\\site-packages\\sklearn\\linear_model\\_coordinate_descent.py:634: ConvergenceWarning: Objective did not converge. You might want to increase the number of iterations, check the scale of the features or consider increasing regularisation. Duality gap: 6.698e+06, tolerance: 1.741e+05\n",
      "  model = cd_fast.enet_coordinate_descent(\n",
      "c:\\Users\\smart\\AppData\\Local\\Programs\\Python\\Python39\\lib\\site-packages\\sklearn\\linear_model\\_coordinate_descent.py:634: ConvergenceWarning: Objective did not converge. You might want to increase the number of iterations, check the scale of the features or consider increasing regularisation. Duality gap: 4.972e+06, tolerance: 2.645e+05\n",
      "  model = cd_fast.enet_coordinate_descent(\n",
      "c:\\Users\\smart\\AppData\\Local\\Programs\\Python\\Python39\\lib\\site-packages\\sklearn\\linear_model\\_coordinate_descent.py:634: ConvergenceWarning: Objective did not converge. You might want to increase the number of iterations, check the scale of the features or consider increasing regularisation. Duality gap: 8.548e+06, tolerance: 2.360e+05\n",
      "  model = cd_fast.enet_coordinate_descent(\n",
      "c:\\Users\\smart\\AppData\\Local\\Programs\\Python\\Python39\\lib\\site-packages\\sklearn\\linear_model\\_coordinate_descent.py:634: ConvergenceWarning: Objective did not converge. You might want to increase the number of iterations, check the scale of the features or consider increasing regularisation. Duality gap: 7.793e+06, tolerance: 1.945e+05\n",
      "  model = cd_fast.enet_coordinate_descent(\n"
     ]
    },
    {
     "name": "stdout",
     "output_type": "stream",
     "text": [
      "MAPE на тренировочных фолдах: 5.2\n",
      "MAPE на валидационных фолдах: 55.6\n"
     ]
    },
    {
     "name": "stderr",
     "output_type": "stream",
     "text": [
      "c:\\Users\\smart\\AppData\\Local\\Programs\\Python\\Python39\\lib\\site-packages\\sklearn\\linear_model\\_coordinate_descent.py:634: ConvergenceWarning: Objective did not converge. You might want to increase the number of iterations, check the scale of the features or consider increasing regularisation. Duality gap: 6.710e+06, tolerance: 1.875e+05\n",
      "  model = cd_fast.enet_coordinate_descent(\n"
     ]
    }
   ],
   "source": [
    "scaler = StandardScaler()\n",
    "\n",
    "X_scaled = scaler.fit_transform(X)\n",
    "\n",
    "poly = PolynomialFeatures(degree=3, include_bias=False)\n",
    "X_poly = poly.fit_transform(X_scaled)\n",
    "\n",
    "lasso = Lasso(alpha=5)\n",
    "lasso.fit(X_poly, y)\n",
    "\n",
    "# оцениваем качество модели на кросс-валидации\n",
    "cv_results = cross_validate(lasso, X_poly, y, scoring='neg_mean_absolute_percentage_error', cv=5, return_train_score=True)\n",
    "print('MAPE на тренировочных фолдах: {:.1f}'.format(-cv_results['train_score'].mean() * 100))\n",
    "print('MAPE на валидационных фолдах: {:.1f}'.format(-cv_results['test_score'].mean() * 100))\n"
   ]
  },
  {
   "cell_type": "code",
   "execution_count": null,
   "metadata": {},
   "outputs": [],
   "source": []
  }
 ],
 "metadata": {
  "kernelspec": {
   "display_name": "Python 3 (ipykernel)",
   "language": "python",
   "name": "python3"
  },
  "language_info": {
   "codemirror_mode": {
    "name": "ipython",
    "version": 3
   },
   "file_extension": ".py",
   "mimetype": "text/x-python",
   "name": "python",
   "nbconvert_exporter": "python",
   "pygments_lexer": "ipython3",
   "version": "3.9.10"
  }
 },
 "nbformat": 4,
 "nbformat_minor": 2
}
