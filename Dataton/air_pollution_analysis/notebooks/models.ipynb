{
 "cells": [
  {
   "cell_type": "markdown",
   "metadata": {},
   "source": [
    "## **Обучение моделей**"
   ]
  },
  {
   "cell_type": "code",
   "execution_count": 1,
   "metadata": {},
   "outputs": [],
   "source": [
    "# импортируем необходимые библиотеки для работы с данными\n",
    "import pandas as pd\n",
    "import numpy as np\n",
    "import pickle \n",
    "\n",
    "# импортируем необходимые библиотеки для визуализации данных\n",
    "import matplotlib.pyplot as plt \n",
    "import seaborn as sns\n",
    "\n",
    "# импортируем необходимые библиотеки для создания и обучения моделей\n",
    "from sklearn.model_selection import train_test_split\n",
    "from sklearn.linear_model import LinearRegression, Lasso\n",
    "from sklearn.model_selection import GridSearchCV\n",
    "from sklearn.metrics import r2_score, mean_absolute_error\n",
    "from sklearn.ensemble import RandomForestRegressor\n",
    "from sklearn.svm import SVR\n",
    "from sklearn.ensemble import GradientBoostingRegressor\n",
    "from sklearn.neighbors import KNeighborsRegressor\n",
    "from sklearn.preprocessing import StandardScaler\n",
    "from torch.utils.data import Dataset, DataLoader\n",
    "from torch import nn\n",
    "import torch"
   ]
  },
  {
   "attachments": {},
   "cell_type": "markdown",
   "metadata": {},
   "source": [
    "### Загружаем обработанную таблицу и разбиваем на обучающий и валидационный набор"
   ]
  },
  {
   "cell_type": "code",
   "execution_count": 2,
   "metadata": {},
   "outputs": [],
   "source": [
    "df = pd.read_csv('../data/df_after_cleaning.csv', sep = ',') #загрузка таблицы"
   ]
  },
  {
   "cell_type": "code",
   "execution_count": 3,
   "metadata": {},
   "outputs": [
    {
     "name": "stdout",
     "output_type": "stream",
     "text": [
      "<class 'pandas.core.frame.DataFrame'>\n",
      "RangeIndex: 6800 entries, 0 to 6799\n",
      "Data columns (total 20 columns):\n",
      " #   Column         Non-Null Count  Dtype  \n",
      "---  ------         --------------  -----  \n",
      " 0   Unnamed: 0     6800 non-null   int64  \n",
      " 1   Date           6800 non-null   object \n",
      " 2   Month          6800 non-null   object \n",
      " 3   Weekday        6800 non-null   object \n",
      " 4   DateTime       6800 non-null   object \n",
      " 5   Hour           6800 non-null   int64  \n",
      " 6   CO(GT)         6800 non-null   float64\n",
      " 7   PT08.S1(CO)    6800 non-null   float64\n",
      " 8   C6H6(GT)       6800 non-null   float64\n",
      " 9   PT08.S2(NMHC)  6800 non-null   float64\n",
      " 10  NOx(GT)        6800 non-null   float64\n",
      " 11  PT08.S3(NOx)   6800 non-null   float64\n",
      " 12  NO2(GT)        6800 non-null   float64\n",
      " 13  PT08.S4(NO2)   6800 non-null   float64\n",
      " 14  PT08.S5(O3)    6800 non-null   float64\n",
      " 15  T              6800 non-null   float64\n",
      " 16  RH             6800 non-null   float64\n",
      " 17  AH             6800 non-null   float64\n",
      " 18  Month_num      6800 non-null   int64  \n",
      " 19  Weekday_num    6800 non-null   int64  \n",
      "dtypes: float64(12), int64(4), object(4)\n",
      "memory usage: 1.0+ MB\n"
     ]
    }
   ],
   "source": [
    "df.info() #посмотрим информацию по датасету"
   ]
  },
  {
   "cell_type": "code",
   "execution_count": 4,
   "metadata": {},
   "outputs": [],
   "source": [
    "y = df['CO(GT)'] #берём таргет\n",
    "x = df.loc[:, ['Month_num', 'Weekday_num', 'Hour', 'PT08.S1(CO)', 'C6H6(GT)', 'PT08.S2(NMHC)', 'NOx(GT)', 'PT08.S3(NOx)', 'NO2(GT)', 'PT08.S4(NO2)', 'PT08.S5(O3)', 'T', 'RH', 'AH']] #оставляем столбцы без таргета\n",
    "X_train, X_test, y_train, y_test = train_test_split(x, y, test_size=0.1, random_state=42) #разбиваем на обучающую и валидационные выборки"
   ]
  },
  {
   "attachments": {},
   "cell_type": "markdown",
   "metadata": {},
   "source": [
    "### Нормализуем данные при помощи класса StandardScaler пакета sklearn. "
   ]
  },
  {
   "cell_type": "code",
   "execution_count": 6,
   "metadata": {},
   "outputs": [],
   "source": [
    "scaler = StandardScaler()\n",
    "X_train = scaler.fit_transform(X_train) #находим параметры нормализации и на месте нормализуем обучающий набор\n",
    "X_test = scaler.transform(X_test) # также валидационынй набор"
   ]
  },
  {
   "cell_type": "code",
   "execution_count": 19,
   "metadata": {},
   "outputs": [],
   "source": [
    "with open('web-api\\models\\scaler.pkl', 'wb') as file: #сохраняем StandartScaler для использования его параметрах на данных для предсказания\n",
    "    pickle.dump(scaler, file)"
   ]
  },
  {
   "attachments": {},
   "cell_type": "markdown",
   "metadata": {},
   "source": [
    "### Далее поочерёдно обучаем Линейную модель, Лассо, Случайный лес, Support Vector Regressor (SVR), К-ближайших соседей и полносвязанную нейронную сеть"
   ]
  },
  {
   "cell_type": "code",
   "execution_count": 16,
   "metadata": {},
   "outputs": [
    {
     "name": "stdout",
     "output_type": "stream",
     "text": [
      "Метрика R2: 0.9194408850611999\n",
      "MAE: 0.23543254284690215\n"
     ]
    }
   ],
   "source": [
    "lin_model = LinearRegression() #загружаем модель\n",
    "lin_model.fit(X_train, y_train) #обучаем на данных\n",
    "y_pred = lin_model.predict(X_test) #делаем предсказания\n",
    "print('Метрика R2:', r2_score(y_test, y_pred)) #смотрим метрику r2\n",
    "print('MAE:', mean_absolute_error(y_test, y_pred)) # смотрим размер ошибки MAE"
   ]
  },
  {
   "cell_type": "code",
   "execution_count": 17,
   "metadata": {},
   "outputs": [],
   "source": [
    "with open('models/linear_model.pkl', 'wb') as file: #сохраняем линейную модель\n",
    "    pickle.dump(lin_model, file)"
   ]
  },
  {
   "attachments": {},
   "cell_type": "markdown",
   "metadata": {},
   "source": [
    "### Обучаем Lasso и подбираем лучшие гиперапараметры методом \"поиска по сетке\" с кросс-валидацией на k-folds = 5"
   ]
  },
  {
   "cell_type": "code",
   "execution_count": 18,
   "metadata": {},
   "outputs": [
    {
     "name": "stdout",
     "output_type": "stream",
     "text": [
      "Лучшие гиперпараметры {'alpha': 0.1}\n",
      "Метрика R2: 0.8995855098014857\n",
      "MAE: 0.2642299409443292\n"
     ]
    }
   ],
   "source": [
    "lasso_model = Lasso() #загружаем модель\n",
    "parameters = {'alpha': [0.1, 0.5, 1, 3, 5]} #гиперпараметы (всего 5 вариантов модели с  разными гиперпараметрами будет построено)\n",
    "lasso = GridSearchCV(lasso_model, parameters)\n",
    "lasso.fit(X_train, y_train) #обучаем на данных\n",
    "y_pred = lasso.predict(X_test) #делаем предсказания\n",
    "print('Лучшие гиперпараметры', lasso.best_params_)  #смотрим лучший вариант гиперпараметров\n",
    "print('Метрика R2:', r2_score(y_test, y_pred)) #смотрим метрику r2\n",
    "print('MAE:', mean_absolute_error(y_test, y_pred)) # смотрим размер ошибки MAE"
   ]
  },
  {
   "cell_type": "code",
   "execution_count": 19,
   "metadata": {},
   "outputs": [],
   "source": [
    "with open('models/lasso_model.pkl', 'wb') as file: #сохраняем модель\n",
    "    pickle.dump(lasso, file)"
   ]
  },
  {
   "attachments": {},
   "cell_type": "markdown",
   "metadata": {},
   "source": [
    "### Обучаем Support Vector Regressor и подбираем лучшие гиперапараметры методом \"поиска по сетке\" с кросс-валидацией на k-folds = 5"
   ]
  },
  {
   "cell_type": "code",
   "execution_count": 12,
   "metadata": {},
   "outputs": [
    {
     "name": "stdout",
     "output_type": "stream",
     "text": [
      "Лучшие гиперпараметры {'C': 12, 'kernel': 'rbf'}\n",
      "Метрика R2: 0.9458188874682436\n",
      "MAE: 0.16925426995840126\n"
     ]
    }
   ],
   "source": [
    "parameters = {'kernel':('linear', 'rbf'), 'C':[1, 5, 10, 12]}  #гиперпараметы (всего 8 вариантов модели с  разными гиперпараметрами будет построено)\n",
    "svr_model = SVR() #загружаем модель\n",
    "svr = GridSearchCV(svr_model, parameters)\n",
    "svr.fit(X_train, y_train) #обучаем на данных\n",
    "print('Лучшие гиперпараметры', svr.best_params_) #смотрим лучший вариант гиперпараметров\n",
    "y_pred = svr.predict(X_test)#делаем предсказания\n",
    "print('Метрика R2:', r2_score(y_test, y_pred)) #смотрим метрику r2\n",
    "print('MAE:', mean_absolute_error(y_test, y_pred)) # смотрим размер ошибки MAE"
   ]
  },
  {
   "cell_type": "code",
   "execution_count": null,
   "metadata": {},
   "outputs": [],
   "source": [
    "with open('models/svr_model.pkl', 'wb') as file: #сохраняем модель\n",
    "    pickle.dump(svr, file)"
   ]
  },
  {
   "attachments": {},
   "cell_type": "markdown",
   "metadata": {},
   "source": [
    "### Обучаем Случайный лес и подбираем лучшие гиперапараметры методом \"поиска по сетке\" с кросс-валидацией на k-folds = 3"
   ]
  },
  {
   "cell_type": "code",
   "execution_count": 22,
   "metadata": {},
   "outputs": [
    {
     "name": "stdout",
     "output_type": "stream",
     "text": [
      "Лучшие гиперпараметры {'criterion': 'squared_error', 'max_depth': 20, 'max_features': 'log2', 'n_estimators': 200}\n",
      "Метрика R2: 0.9437061778622663\n",
      "MAE: 0.19322033489646473\n"
     ]
    }
   ],
   "source": [
    "forest_model = RandomForestRegressor(warm_start = True) #загружаем модель\n",
    "parameters = {'n_estimators':(100, 150, 200), \n",
    "                'criterion':['squared_error', 'absolute_error'],\n",
    "                'max_depth': [15, 20],\n",
    "                'max_features': ['sqrt', 'log2']}  #гиперпараметы (всего 24 вариантов модели с  разными гиперпараметрами будет построено)\n",
    "\n",
    "\n",
    "forest = GridSearchCV(forest_model, parameters, cv = 3)\n",
    "forest.fit(X_train, y_train) #обучаем на данных\n",
    "print('Лучшие гиперпараметры', forest.best_params_) #смотрим лучший вариант гиперпараметров\n",
    "y_pred = forest.predict(X_test) #делаем предсказания\n",
    "print('Метрика R2:', r2_score(y_test, y_pred)) #смотрим метрику r2\n",
    "print('MAE:', mean_absolute_error(y_test, y_pred)) # смотрим размер ошибки MAE"
   ]
  },
  {
   "cell_type": "code",
   "execution_count": 26,
   "metadata": {},
   "outputs": [],
   "source": [
    "with open(r'models/forest_model.pkl', 'wb') as file: #сохраняем модель\n",
    "    pickle.dump(forest, file)"
   ]
  },
  {
   "attachments": {},
   "cell_type": "markdown",
   "metadata": {},
   "source": [
    "### Обучаем К ближайших соседей и подбираем лучшие гиперапараметры методом \"поиска по сетке\" с кросс-валидацией на k-folds = 5"
   ]
  },
  {
   "cell_type": "code",
   "execution_count": 24,
   "metadata": {},
   "outputs": [
    {
     "name": "stdout",
     "output_type": "stream",
     "text": [
      "Лучшие гиперпараметры {'algorithm': 'auto', 'n_neighbors': 5, 'weights': 'distance'}\n",
      "Метрика R2: 0.9355555625990593\n",
      "MAE: 0.20553727282589399\n"
     ]
    }
   ],
   "source": [
    "#K-ближайших соседей\n",
    "neigh_model = KNeighborsRegressor()\n",
    "parameters = {'n_neighbors': (3, 5, 7, 9, 11), \n",
    "                'weights': ['uniform', 'distance'],\n",
    "                'algorithm': ['auto', 'ball_tree', 'kd_tree']} #гиперпараметы (всего 30 вариантов модели с  разными гиперпараметрами будет построено)\n",
    "\n",
    "\n",
    "neigh = GridSearchCV(neigh_model, parameters)\n",
    "neigh.fit(X_train, y_train) #обучаем на данных\n",
    "print('Лучшие гиперпараметры', neigh.best_params_) #смотрим лучший вариант гиперпараметров\n",
    "y_pred = neigh.predict(X_test)  #делаем предсказания\n",
    "print('Метрика R2:', r2_score(y_test, y_pred)) #смотрим метрику r2\n",
    "print('MAE:', mean_absolute_error(y_test, y_pred)) # смотрим размер ошибки MAE"
   ]
  },
  {
   "cell_type": "code",
   "execution_count": 25,
   "metadata": {},
   "outputs": [],
   "source": [
    "with open(r'models/knn_model.pkl', 'wb') as file: #сохраняем модель\n",
    "    pickle.dump(neigh, file)"
   ]
  },
  {
   "cell_type": "code",
   "execution_count": 15,
   "metadata": {},
   "outputs": [
    {
     "name": "stdout",
     "output_type": "stream",
     "text": [
      "Лучшие гиперпараметры {'learning_rate': 0.1, 'loss': 'squared_error', 'n_estimators': 200}\n",
      "Метрика R2: 0.9415820372150157\n",
      "MAE: 0.20725566742946644\n"
     ]
    }
   ],
   "source": [
    "boosting_model = GradientBoostingRegressor()\n",
    "parameters = {'loss': ['squared_error', 'huber'], \n",
    "                'learning_rate': [0.1, 0.05],\n",
    "                'n_estimators': [100, 150, 200]} #гиперпараметы (всего 12 вариантов модели с  разными гиперпараметрами будет построено)\n",
    "\n",
    "boosting = GridSearchCV(boosting_model, parameters)\n",
    "boosting.fit(X_train, y_train) #обучаем на данных\n",
    "print('Лучшие гиперпараметры', boosting.best_params_) #смотрим лучший вариант гиперпараметров\n",
    "y_pred = boosting.predict(X_test)  #делаем предсказания\n",
    "print('Метрика R2:', r2_score(y_test, y_pred)) #смотрим метрику r2\n",
    "print('MAE:', mean_absolute_error(y_test, y_pred)) # смотрим размер ошибки MAE"
   ]
  },
  {
   "cell_type": "code",
   "execution_count": 16,
   "metadata": {},
   "outputs": [],
   "source": [
    "with open(r'web-api\\models\\boosting_model.pkl', 'wb') as file: #сохраняем модель\n",
    "    pickle.dump(boosting, file)"
   ]
  },
  {
   "attachments": {},
   "cell_type": "markdown",
   "metadata": {},
   "source": [
    "### Далее создаём полносвязанную нейронную сеть, состоящую из 4 линейных слоёв, функции активации ReLu, нормализации и Dropout с вероятность 0.2. Для этого используем пакет pytroch"
   ]
  },
  {
   "cell_type": "code",
   "execution_count": 31,
   "metadata": {},
   "outputs": [],
   "source": [
    "#создаём класс для загрузки данных\n",
    "class air_dataset(Dataset): #наследуем от родительского класса Dataset\n",
    "    def __init__(self, x_train, y_train):\n",
    "        self.x = x_train\n",
    "        self.y = y_train\n",
    "    \n",
    "    def __len__(self):\n",
    "        return len(self.x)\n",
    "\n",
    "    def __getitem__(self, ind): \n",
    "        features = torch.from_numpy(self.x[ind]).to(torch.float32)  #переводим столбец таблицы в формата тензора с числами float 32\n",
    "        label = torch.tensor(self.y.iloc[ind]).to(torch.float32) #переводим столбец таблицы в формата тензора с числами float 32\n",
    "        return features, label  #возвращаем тензор с признаками и тензор с таргетами"
   ]
  },
  {
   "cell_type": "code",
   "execution_count": 32,
   "metadata": {},
   "outputs": [],
   "source": [
    "train_dataset = air_dataset(X_train, y_train) #инициализируем класс загрузки данных для обучающего набора\n",
    "test_dataset = air_dataset(X_test, y_test) #инициализируем класс загрузки данных для валидационного набора\n",
    "\n",
    "train_loader = DataLoader(train_dataset, batch_size = 64, shuffle = True) #создаём dataloader для обучающего набора\n",
    "test_loader = DataLoader(test_dataset, batch_size = 128, shuffle = False) #создаём dataloader для валидационного набора"
   ]
  },
  {
   "attachments": {},
   "cell_type": "markdown",
   "metadata": {},
   "source": [
    "### Создаём класс полносвязанной нейронной сети"
   ]
  },
  {
   "cell_type": "code",
   "execution_count": 40,
   "metadata": {},
   "outputs": [],
   "source": [
    "class DenseNet(nn.Module):\n",
    "    def __init__(self):\n",
    "        super().__init__()\n",
    "        #простая последовательность слоёв\n",
    "        self.layers = nn.Sequential(nn.Linear(in_features=14, out_features = 14), #линейный слой\n",
    "                                    nn.ReLU(), #нелинейная функция активации\n",
    "                                    nn.BatchNorm1d(14), #нормализации данных\n",
    "                                    nn.Dropout(0.2), #отключение нейроной в вероятностью 0.2\n",
    "\n",
    "                                    nn.Linear(in_features=14, out_features = 8), #линейный слой\n",
    "                                    nn.ReLU(), #нелинейная функция активации\n",
    "                                    nn.BatchNorm1d(8), #нормализации данных\n",
    "                                    nn.Dropout(0.2), #отключение нейроной в вероятностью 0.2\n",
    "\n",
    "                                    nn.Linear(in_features=8, out_features = 4), #линейный слой\n",
    "                                    nn.ReLU(), #нелинейная функция активации\n",
    "                                    nn.BatchNorm1d(4), #нормализации данных\n",
    "                                    nn.Dropout(0.2), #отключение нейроной в вероятностью 0.2\n",
    "\n",
    "                                    nn.Linear(in_features=4, out_features = 1), #линейный слой\n",
    "                                    nn.ReLU() #нелинейная функция активации\n",
    "        )\n",
    "    \n",
    "    def forward(self, input): #функция прямого прохода нейроннйо сети\n",
    "        return self.layers(input)"
   ]
  },
  {
   "cell_type": "code",
   "execution_count": 43,
   "metadata": {},
   "outputs": [
    {
     "name": "stdout",
     "output_type": "stream",
     "text": [
      "Обучение будет проходить на cpu\n"
     ]
    }
   ],
   "source": [
    "device = 'cuda' if torch.cuda.is_available() else 'cpu' #если видеокарта доступна, то обучаем на ней\n",
    "model = DenseNet().to(device) #инициализируем модель и переносим на доступное устрйоство\n",
    "epochs = 20 #количество эпох\n",
    "lr = 0.01 #шаг обучения\n",
    "optimizer = torch.optim.Adam(model.parameters(), lr=lr) # оптимизаторв Adam\n",
    "loss_fn = nn.MSELoss() #функция потерь MSE\n",
    "print(f'Обучение будет проходить на {device}')"
   ]
  },
  {
   "cell_type": "code",
   "execution_count": 44,
   "metadata": {},
   "outputs": [
    {
     "name": "stdout",
     "output_type": "stream",
     "text": [
      "Эпоха обучения 1\n",
      "Потеря на обучении: 1.4492462525765095 R2 на обучении: 0.16137309284600931\n",
      "Потеря на валидации: 0.20125182221333185 R2 на валидации: 0.8784871090155029\n",
      "Эпоха обучения 2\n",
      "Потеря на обучении: 0.6406502764051161 R2 на обучении: 0.6388231063810172\n",
      "Потеря на валидации: 0.1838674172759056 R2 на валидации: 0.889802342633299\n",
      "Эпоха обучения 3\n",
      "Потеря на обучении: 0.5524034093444545 R2 на обучении: 0.6897773502160301\n",
      "Потеря на валидации: 0.21292011191447574 R2 на валидации: 0.8720426889656273\n",
      "Эпоха обучения 4\n",
      "Потеря на обучении: 0.4826528217333058 R2 на обучении: 0.7243061614729703\n",
      "Потеря на валидации: 0.16578197479248047 R2 на валидации: 0.9013293728649274\n",
      "Эпоха обучения 5\n",
      "Потеря на обучении: 0.45153858171155054 R2 на обучении: 0.7455593430983709\n",
      "Потеря на валидации: 0.18200962990522385 R2 на валидации: 0.8893667412995526\n",
      "Эпоха обучения 6\n",
      "Потеря на обучении: 0.44363441225141287 R2 на обучении: 0.7467682496178081\n",
      "Потеря на валидации: 0.1573389582335949 R2 на валидации: 0.9061953976999155\n",
      "Эпоха обучения 7\n",
      "Потеря на обучении: 0.4209780171513557 R2 на обучении: 0.7600536485913103\n",
      "Потеря на валидации: 0.16145377606153488 R2 на валидации: 0.9020908879979287\n",
      "Эпоха обучения 8\n",
      "Потеря на обучении: 0.3973254701122642 R2 на обучении: 0.7776144244055675\n",
      "Потеря на валидации: 0.17796594525376958 R2 на валидации: 0.8936867072672778\n",
      "Эпоха обучения 9\n",
      "Потеря на обучении: 0.39919173996895546 R2 на обучении: 0.776870304769681\n",
      "Потеря на валидации: 0.15520334740479785 R2 на валидации: 0.9070300839920601\n",
      "Эпоха обучения 10\n",
      "Потеря на обучении: 0.4104793073299031 R2 на обучении: 0.7637522008219451\n",
      "Потеря на валидации: 0.1450563222169876 R2 на валидации: 0.9121169683857392\n",
      "Эпоха обучения 11\n",
      "Потеря на обучении: 0.39773191434020805 R2 на обучении: 0.7743670540280132\n",
      "Потеря на валидации: 0.14400500555833182 R2 на валидации: 0.9144152848123025\n",
      "Эпоха обучения 12\n",
      "Потеря на обучении: 0.411475855236252 R2 на обучении: 0.7672100487843245\n",
      "Потеря на валидации: 0.14585062861442566 R2 на валидации: 0.9128805808157517\n",
      "Эпоха обучения 13\n",
      "Потеря на обучении: 0.40109279286116356 R2 на обучении: 0.7708241947749913\n",
      "Потеря на валидации: 0.14400109897057217 R2 на валидации: 0.9130583786591328\n",
      "Эпоха обучения 14\n",
      "Потеря на обучении: 0.42129966476932174 R2 на обучении: 0.7614900994626692\n",
      "Потеря на валидации: 0.13819052278995514 R2 на валидации: 0.9170201689267605\n",
      "Эпоха обучения 15\n",
      "Потеря на обучении: 0.38404816466694097 R2 на обучении: 0.782757819312904\n",
      "Потеря на валидации: 0.1526609001060327 R2 на валидации: 0.9081750350678413\n",
      "Эпоха обучения 16\n",
      "Потеря на обучении: 0.39946845515320684 R2 на обучении: 0.7732215178606126\n",
      "Потеря на валидации: 0.1820324088136355 R2 на валидации: 0.8906905514955652\n",
      "Эпоха обучения 17\n",
      "Потеря на обучении: 0.39244958820442355 R2 на обучении: 0.7762709833262532\n",
      "Потеря на валидации: 0.14605754241347313 R2 на валидации: 0.9115709687286938\n",
      "Эпоха обучения 18\n",
      "Потеря на обучении: 0.4049357239467405 R2 на обучении: 0.7678387745213077\n",
      "Потеря на валидации: 0.1438235715031624 R2 на валидации: 0.9140075872794572\n",
      "Эпоха обучения 19\n",
      "Потеря на обучении: 0.40828888583928347 R2 на обучении: 0.7651324404874138\n",
      "Потеря на валидации: 0.13432881732781726 R2 на валидации: 0.9195979161770667\n",
      "Эпоха обучения 20\n",
      "Потеря на обучении: 0.38959789307167136 R2 на обучении: 0.780626381928313\n",
      "Потеря на валидации: 0.14915197094281515 R2 на валидации: 0.9101873112669301\n"
     ]
    }
   ],
   "source": [
    "for epoch in range(epochs): # начинаем обучение в цикле\n",
    "    \n",
    "    #инициализруем метрики, которые будем считать по эпохам\n",
    "    train_loss = 0\n",
    "    r2_train = 0\n",
    "    r2_test = 0\n",
    "    test_loss = 0\n",
    "\n",
    "    model.train() #переводим модель в режим обучения\n",
    "    for batch, y in train_loader: #берём батч и таргет\n",
    "        batch, y = batch.to(device), y.to(device)  #переносим на доступное устрйоство\n",
    "        y_pred = model(batch).squeeze() #делаем предсказание\n",
    "        loss = loss_fn(y, y_pred) #счиатем потери\n",
    "        train_loss += loss.item()/len(train_loader) #сохраняем потери на текущей итерации\n",
    "        r2_train += r2_score(y.cpu().detach().numpy(), y_pred.cpu().detach().numpy())/len(train_loader) #счиатем метрику на текущей итерации\n",
    "        loss.backward() #обратное распространение ошибки\n",
    "        optimizer.step() #обновляем веса модели\n",
    "        optimizer.zero_grad() #обнулдяем градиент\n",
    "\n",
    "    model.eval() #переводим модель в режим предсказания\n",
    "    with torch.no_grad(): #отключаем подсчёт градиента \n",
    "        for batch, y in test_loader: #берём батч и таргет\n",
    "            batch, y = batch.to(device), y.to(device) #переносим на доступное устрйоство\n",
    "            y_pred = model(batch).squeeze() #делаем предсказание\n",
    "            loss = loss_fn(y, y_pred) #счиатем потери\n",
    "            test_loss += loss.item()/len(test_loader) #сохраняем потери на текущей итерации\n",
    "            r2_test += r2_score(y.cpu().detach().numpy(), y_pred.cpu().detach().numpy())/len(test_loader) #счиатем метрику на текущей итерации\n",
    "    \n",
    "    print(f'Эпоха обучения {epoch + 1}')\n",
    "    print(f'Потеря на обучении: {train_loss}', f'R2 на обучении: {r2_train}')\n",
    "    print(f'Потеря на валидации: {test_loss}', f'R2 на валидации: {r2_test}')"
   ]
  },
  {
   "cell_type": "code",
   "execution_count": 36,
   "metadata": {},
   "outputs": [],
   "source": [
    "torch.save(model, r'models/nn.pt') #сохраняем обученную модель"
   ]
  },
  {
   "attachments": {},
   "cell_type": "markdown",
   "metadata": {},
   "source": [
    "### Итоговые потери и метрика R2 по всем построенным моделям с лучшей комбинацией гиперпараметров"
   ]
  },
  {
   "cell_type": "code",
   "execution_count": 45,
   "metadata": {},
   "outputs": [
    {
     "data": {
      "text/html": [
       "<div>\n",
       "<style scoped>\n",
       "    .dataframe tbody tr th:only-of-type {\n",
       "        vertical-align: middle;\n",
       "    }\n",
       "\n",
       "    .dataframe tbody tr th {\n",
       "        vertical-align: top;\n",
       "    }\n",
       "\n",
       "    .dataframe thead th {\n",
       "        text-align: right;\n",
       "    }\n",
       "</style>\n",
       "<table border=\"1\" class=\"dataframe\">\n",
       "  <thead>\n",
       "    <tr style=\"text-align: right;\">\n",
       "      <th></th>\n",
       "      <th>R2</th>\n",
       "      <th>MAE</th>\n",
       "      <th>Модель</th>\n",
       "    </tr>\n",
       "  </thead>\n",
       "  <tbody>\n",
       "    <tr>\n",
       "      <th>0</th>\n",
       "      <td>0.919</td>\n",
       "      <td>0.235</td>\n",
       "      <td>Линейная модель</td>\n",
       "    </tr>\n",
       "    <tr>\n",
       "      <th>1</th>\n",
       "      <td>0.900</td>\n",
       "      <td>0.264</td>\n",
       "      <td>Лассо</td>\n",
       "    </tr>\n",
       "    <tr>\n",
       "      <th>2</th>\n",
       "      <td>0.946</td>\n",
       "      <td>0.169</td>\n",
       "      <td>SVR</td>\n",
       "    </tr>\n",
       "    <tr>\n",
       "      <th>3</th>\n",
       "      <td>0.944</td>\n",
       "      <td>0.193</td>\n",
       "      <td>Случайный лес</td>\n",
       "    </tr>\n",
       "    <tr>\n",
       "      <th>4</th>\n",
       "      <td>0.936</td>\n",
       "      <td>0.206</td>\n",
       "      <td>KNN</td>\n",
       "    </tr>\n",
       "    <tr>\n",
       "      <th>5</th>\n",
       "      <td>0.942</td>\n",
       "      <td>0.207</td>\n",
       "      <td>Градиентный \\nбустинг</td>\n",
       "    </tr>\n",
       "    <tr>\n",
       "      <th>6</th>\n",
       "      <td>0.910</td>\n",
       "      <td>0.149</td>\n",
       "      <td>Полносвязанная \\n нейронная сеть</td>\n",
       "    </tr>\n",
       "  </tbody>\n",
       "</table>\n",
       "</div>"
      ],
      "text/plain": [
       "      R2    MAE                            Модель\n",
       "0  0.919  0.235                   Линейная модель\n",
       "1  0.900  0.264                             Лассо\n",
       "2  0.946  0.169                               SVR\n",
       "3  0.944  0.193                     Случайный лес\n",
       "4  0.936  0.206                               KNN\n",
       "5  0.942  0.207             Градиентный \\nбустинг\n",
       "6  0.910  0.149  Полносвязанная \\n нейронная сеть"
      ]
     },
     "execution_count": 45,
     "metadata": {},
     "output_type": "execute_result"
    }
   ],
   "source": [
    "# Создание DataFrame с результатами моделей\n",
    "metrics_df = pd.DataFrame(data = [[0.919, 0.235, 'Линейная модель'],\n",
    "                                 [0.900, 0.264, 'Лассо'],       \n",
    "                                 [0.946, 0.169, 'SVR'],\n",
    "                                 [0.944, 0.193, 'Случайный лес'],\n",
    "                                 [0.936, 0.206, 'KNN'],\n",
    "                                 [0.942, 0.207, 'Градиентный \\nбустинг'],\n",
    "                                 [0.910, 0.149, 'Полносвязанная \\n нейронная сеть']], columns = ['R2', 'MAE', 'Модель'])\n",
    "metrics_df                                 "
   ]
  },
  {
   "cell_type": "code",
   "execution_count": 46,
   "metadata": {},
   "outputs": [
    {
     "data": {
      "image/png": "[encoded data removed]",
      "text/plain": [
       "<Figure size 1000x600 with 1 Axes>"
      ]
     },
     "metadata": {},
     "output_type": "display_data"
    }
   ],
   "source": [
    "# Настройка размера графика\n",
    "plt.figure(figsize=(10, 6))\n",
    "\n",
    "# Настройка стиля графика\n",
    "sns.set_style(\"darkgrid\", {\"grid.color\": \".6\", \"grid.linestyle\": \":\"})\n",
    "\n",
    "# Создание графика для метрики R2\n",
    "ax = sns.barplot(x='Модель', y='R2', data=metrics_df, color='green', alpha=0.7, label='R2')\n",
    "\n",
    "# Создание графика для метрики MAE поверх графика R2\n",
    "sns.barplot(x='Модель', y='MAE', data=metrics_df, color='red', alpha=0.7, label='MAE', ax = ax)\n",
    "\n",
    "# Настройка шкалы оси y\n",
    "plt.yticks(np.arange(0, 1, 0.05))  \n",
    "\n",
    "# Подписи осей\n",
    "plt.xlabel('Модель')\n",
    "plt.ylabel('Значение')\n",
    "\n",
    "# Заголовок графика\n",
    "plt.title('Диаграмма метрики R2 и потерь MAE')\n",
    "\n",
    "# Легенда графика\n",
    "plt.legend() \n",
    "\n",
    "# Отображение графика\n",
    "plt.show() \n",
    "\n",
    "# Сохранение графика в файл\n",
    "fig = ax.get_figure()\n",
    "fig.savefig('Диаграмма метрики R2 и потерь MAE')"
   ]
  },
  {
   "cell_type": "markdown",
   "metadata": {},
   "source": [
    "## Выводы по диаграмме метрик R2 и потерь MAE\n",
    "\n",
    "- **SVR (Support Vector Regression)**: Эта модель демонстрирует наивысший коэффициент детерминации `R^2` и наименьшее значение средней абсолютной ошибки (MAE). Это указывает на то, что SVR является наиболее эффективной моделью для предсказания исходов в данном наборе данных.\n",
    "\n",
    "- **Случайный лес, KNN (K-ближайших соседей) и Градиентный бустинг**: Эти модели показывают сильные результаты как по `R^2`, так и по MAE. Все они имеют хорошие показатели и могут быть рассмотрены как надежные варианты для задачи прогнозирования.\n",
    "\n",
    "- **Линейная модель и Лассо**: Обе модели имеют более низкие значения `R^2` и более высокие значения MAE по сравнению с другими рассмотренными моделями. Это может свидетельствовать о том, что они менее способны улавливать сложности в данных и могут не быть оптимальным выбором для данной задачи.\n",
    "\n",
    "- **Полносвязанная нейронная сеть**: Несмотря на то что эта модель не имеет самого высокого `R^2`, она показывает наименьший MAE, что указывает на ее потенциал в точности предсказаний.\n",
    "\n",
    "В целом, модели с более высоким `R^2` и низким MAE предпочтительны, так как они обеспечивают лучшую объясняющую способность и точность предсказаний, но в веб-интерфейсе будет возможность использования всех обученных моделей"
   ]
  }
 ],
 "metadata": {
  "kernelspec": {
   "display_name": "Python 3",
   "language": "python",
   "name": "python3"
  },
  "language_info": {
   "codemirror_mode": {
    "name": "ipython",
    "version": 3
   },
   "file_extension": ".py",
   "mimetype": "text/x-python",
   "name": "python",
   "nbconvert_exporter": "python",
   "pygments_lexer": "ipython3",
   "version": "3.10.9"
  },
  "orig_nbformat": 4,
  "vscode": {
   "interpreter": {
    "hash": "7b1f2b33e866b0bf2409397e5f58ba9cdf170d3b7f64c8f359c79998e2f88ad4"
   }
  }
 },
 "nbformat": 4,
 "nbformat_minor": 2
}
