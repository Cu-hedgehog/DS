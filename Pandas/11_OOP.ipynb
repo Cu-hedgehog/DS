{
 "cells": [
  {
   "cell_type": "markdown",
   "metadata": {},
   "source": [
    "1. **НАСЛЕДОВАНИЕ**\n",
    "\n",
    "Этот принцип базируется на том, что новый класс описывается на основе уже существующего (родительского), то есть не только перенимает все свойства родительского класса, но ещё и получает новые.\n",
    "\n",
    "2. **АБСТРАКЦИЯ**\n",
    "\n",
    "Абстракция означает выделение главных, наиболее значимых характеристик предмета и, наоборот, отбрасывание второстепенных, незначительных. \n",
    "\n",
    "3. **ИНКАПСУЛЯЦИЯ**\n",
    "\n",
    "Это свойство системы, позволяющее объединить данные и методы, работающие с ними, в классе и скрыть детали реализации от пользователя. Инкапсуляция также означает ограничение доступа к данным и возможностям их изменения.\n",
    "\n",
    "4. **ПОЛИМОРФИЗМ**\n",
    "\n",
    "Это свойство системы, позволяющее иметь множество реализаций одного интерфейса. "
   ]
  },
  {
   "cell_type": "markdown",
   "metadata": {},
   "source": [
    "### Работа с модулем `os`"
   ]
  },
  {
   "cell_type": "code",
   "execution_count": 1,
   "metadata": {},
   "outputs": [
    {
     "name": "stdout",
     "output_type": "stream",
     "text": [
      "c:\\Users\\smart\\Documents\\VS Code DS_study\\Pandas\n"
     ]
    }
   ],
   "source": [
    "import os\n",
    "\n",
    "start_path = os.getcwd()\n",
    "print(start_path) "
   ]
  },
  {
   "cell_type": "code",
   "execution_count": 2,
   "metadata": {},
   "outputs": [
    {
     "data": {
      "text/plain": [
       "'c:\\\\Users\\\\smart\\\\Documents\\\\VS Code DS_study'"
      ]
     },
     "execution_count": 2,
     "metadata": {},
     "output_type": "execute_result"
    }
   ],
   "source": [
    "os.chdir(\"..\") # подняться на один уровень выше\n",
    "os.getcwd()"
   ]
  },
  {
   "cell_type": "code",
   "execution_count": 3,
   "metadata": {},
   "outputs": [
    {
     "name": "stdout",
     "output_type": "stream",
     "text": [
      "['Math', 'ML', 'Numpy', 'Pandas']\n",
      "Файл отсутствует в данной директории\n"
     ]
    }
   ],
   "source": [
    "print(os.listdir())\n",
    "\n",
    "if 'tmp.py' not in os.listdir():\n",
    "    print(\"Файл отсутствует в данной директории\")"
   ]
  },
  {
   "cell_type": "code",
   "execution_count": 4,
   "metadata": {},
   "outputs": [
    {
     "name": "stdout",
     "output_type": "stream",
     "text": [
      "Текущая директория c:\\Users\\smart\\Documents\\VS Code DS_study\n",
      "---\n",
      "Список папок ['Math', 'ML', 'Numpy', 'Pandas']\n",
      "---\n",
      "Файлов нет\n",
      "---\n",
      "Папка  c:\\Users\\smart\\Documents\\VS Code DS_study\\Math\n",
      "Папка  c:\\Users\\smart\\Documents\\VS Code DS_study\\ML\n",
      "Папка  c:\\Users\\smart\\Documents\\VS Code DS_study\\Numpy\n",
      "Папка  c:\\Users\\smart\\Documents\\VS Code DS_study\\Pandas\n",
      "===\n",
      "Текущая директория c:\\Users\\smart\\Documents\\VS Code DS_study\\Math\n",
      "---\n",
      "Список папок ['data']\n",
      "---\n",
      "Список файлов ['Derivatives.ipynb', 'HW1.ipynb', 'HW2.ipynb', 'HW3.ipynb', 'Matrix.ipynb', 'С1_Основные_термины_Базовая_математика.ipynb']\n",
      "---\n",
      "Все пути:\n",
      "Файл  c:\\Users\\smart\\Documents\\VS Code DS_study\\Math\\Derivatives.ipynb\n",
      "Файл  c:\\Users\\smart\\Documents\\VS Code DS_study\\Math\\HW1.ipynb\n",
      "Файл  c:\\Users\\smart\\Documents\\VS Code DS_study\\Math\\HW2.ipynb\n",
      "Файл  c:\\Users\\smart\\Documents\\VS Code DS_study\\Math\\HW3.ipynb\n",
      "Файл  c:\\Users\\smart\\Documents\\VS Code DS_study\\Math\\Matrix.ipynb\n",
      "Файл  c:\\Users\\smart\\Documents\\VS Code DS_study\\Math\\С1_Основные_термины_Базовая_математика.ipynb\n",
      "Папка  c:\\Users\\smart\\Documents\\VS Code DS_study\\Math\\data\n",
      "===\n",
      "Текущая директория c:\\Users\\smart\\Documents\\VS Code DS_study\\Math\\data\n",
      "---\n",
      "Папок нет\n",
      "---\n",
      "Список файлов ['lecture_02_assignments_01.csv']\n",
      "---\n",
      "Файл  c:\\Users\\smart\\Documents\\VS Code DS_study\\Math\\data\\lecture_02_assignments_01.csv\n",
      "===\n",
      "Текущая директория c:\\Users\\smart\\Documents\\VS Code DS_study\\ML\n",
      "---\n",
      "Список папок ['data']\n",
      "---\n",
      "Список файлов ['ML_3.ipynb', 'ML_DataFrame_analys.ipynb', 'ML_Data_preprocessing.ipynb', 'ML_test1.ipynb', 'pie.ipynb', 'VideoGames.ipynb']\n",
      "---\n",
      "Все пути:\n",
      "Файл  c:\\Users\\smart\\Documents\\VS Code DS_study\\ML\\ML_3.ipynb\n",
      "Файл  c:\\Users\\smart\\Documents\\VS Code DS_study\\ML\\ML_DataFrame_analys.ipynb\n",
      "Файл  c:\\Users\\smart\\Documents\\VS Code DS_study\\ML\\ML_Data_preprocessing.ipynb\n",
      "Файл  c:\\Users\\smart\\Documents\\VS Code DS_study\\ML\\ML_test1.ipynb\n",
      "Файл  c:\\Users\\smart\\Documents\\VS Code DS_study\\ML\\pie.ipynb\n",
      "Файл  c:\\Users\\smart\\Documents\\VS Code DS_study\\ML\\VideoGames.ipynb\n",
      "Папка  c:\\Users\\smart\\Documents\\VS Code DS_study\\ML\\data\n",
      "===\n",
      "Текущая директория c:\\Users\\smart\\Documents\\VS Code DS_study\\ML\\data\n",
      "---\n",
      "Папок нет\n",
      "---\n",
      "Список файлов ['EC.csv', 'Electric_Car.csv', 'EVP.csv', 'fruits.csv', 'police.csv', 'train.csv', 'vgsales.csv']\n",
      "---\n",
      "Файл  c:\\Users\\smart\\Documents\\VS Code DS_study\\ML\\data\\EC.csv\n",
      "Файл  c:\\Users\\smart\\Documents\\VS Code DS_study\\ML\\data\\Electric_Car.csv\n",
      "Файл  c:\\Users\\smart\\Documents\\VS Code DS_study\\ML\\data\\EVP.csv\n",
      "Файл  c:\\Users\\smart\\Documents\\VS Code DS_study\\ML\\data\\fruits.csv\n",
      "Файл  c:\\Users\\smart\\Documents\\VS Code DS_study\\ML\\data\\police.csv\n",
      "Файл  c:\\Users\\smart\\Documents\\VS Code DS_study\\ML\\data\\train.csv\n",
      "Файл  c:\\Users\\smart\\Documents\\VS Code DS_study\\ML\\data\\vgsales.csv\n",
      "===\n",
      "Текущая директория c:\\Users\\smart\\Documents\\VS Code DS_study\\Numpy\n",
      "---\n",
      "Папок нет\n",
      "---\n",
      "Список файлов ['Numpy_array.ipynb', 'Numpy_random.ipynb', 'Numpy_vector.ipynb']\n",
      "---\n",
      "Файл  c:\\Users\\smart\\Documents\\VS Code DS_study\\Numpy\\Numpy_array.ipynb\n",
      "Файл  c:\\Users\\smart\\Documents\\VS Code DS_study\\Numpy\\Numpy_random.ipynb\n",
      "Файл  c:\\Users\\smart\\Documents\\VS Code DS_study\\Numpy\\Numpy_vector.ipynb\n",
      "===\n",
      "Текущая директория c:\\Users\\smart\\Documents\\VS Code DS_study\\Pandas\n",
      "---\n",
      "Список папок ['data']\n",
      "---\n",
      "Список файлов ['10_InternetFiles.ipynb', '11_OOP.ipynb', '4_2_Series.ipynb', '4_3_Dataframe.ipynb', '4_9_Student_Data.ipynb', '5_0_Feature_engineering.ipynb', '5_7_Bikes.ipynb', '6_0_DataFrame_cont.ipynb', '6_5_Join_dataframes.ipynb', '7_Visualization.ipynb', '8_Data_Cleaning.ipynb', '9_Reading.ipynb', 'menu.xml', 'new_menu.xml', 'recipes.csv', 'recipes.json']\n",
      "---\n",
      "Все пути:\n",
      "Файл  c:\\Users\\smart\\Documents\\VS Code DS_study\\Pandas\\10_InternetFiles.ipynb\n",
      "Файл  c:\\Users\\smart\\Documents\\VS Code DS_study\\Pandas\\11_OOP.ipynb\n",
      "Файл  c:\\Users\\smart\\Documents\\VS Code DS_study\\Pandas\\4_2_Series.ipynb\n",
      "Файл  c:\\Users\\smart\\Documents\\VS Code DS_study\\Pandas\\4_3_Dataframe.ipynb\n",
      "Файл  c:\\Users\\smart\\Documents\\VS Code DS_study\\Pandas\\4_9_Student_Data.ipynb\n",
      "Файл  c:\\Users\\smart\\Documents\\VS Code DS_study\\Pandas\\5_0_Feature_engineering.ipynb\n",
      "Файл  c:\\Users\\smart\\Documents\\VS Code DS_study\\Pandas\\5_7_Bikes.ipynb\n",
      "Файл  c:\\Users\\smart\\Documents\\VS Code DS_study\\Pandas\\6_0_DataFrame_cont.ipynb\n",
      "Файл  c:\\Users\\smart\\Documents\\VS Code DS_study\\Pandas\\6_5_Join_dataframes.ipynb\n",
      "Файл  c:\\Users\\smart\\Documents\\VS Code DS_study\\Pandas\\7_Visualization.ipynb\n",
      "Файл  c:\\Users\\smart\\Documents\\VS Code DS_study\\Pandas\\8_Data_Cleaning.ipynb\n",
      "Файл  c:\\Users\\smart\\Documents\\VS Code DS_study\\Pandas\\9_Reading.ipynb\n",
      "Файл  c:\\Users\\smart\\Documents\\VS Code DS_study\\Pandas\\menu.xml\n",
      "Файл  c:\\Users\\smart\\Documents\\VS Code DS_study\\Pandas\\new_menu.xml\n",
      "Файл  c:\\Users\\smart\\Documents\\VS Code DS_study\\Pandas\\recipes.csv\n",
      "Файл  c:\\Users\\smart\\Documents\\VS Code DS_study\\Pandas\\recipes.json\n",
      "Папка  c:\\Users\\smart\\Documents\\VS Code DS_study\\Pandas\\data\n",
      "===\n",
      "Текущая директория c:\\Users\\smart\\Documents\\VS Code DS_study\\Pandas\\data\n",
      "---\n",
      "Папок нет\n",
      "---\n",
      "Список файлов ['citibike-tripdata.csv', 'countries.csv', 'countries.txt', 'country_vaccinations.csv', 'covid_data.csv', 'dates.csv', 'diabetes_data.csv', 'ErrorEnCoding.csv', 'grades.xlsx', 'grades_new.xlsx', 'melb_data.csv', 'melb_data_fe.csv', 'movies.csv', 'orders.csv', 'out.zip', 'products.csv', 'ratings+movies.xlsx', 'ratings1.csv', 'ratings2.csv', 'sber_data.csv', 'students_performance.csv', 'students_performance.zip', 'ufo_data.csv']\n",
      "---\n",
      "Файл  c:\\Users\\smart\\Documents\\VS Code DS_study\\Pandas\\data\\citibike-tripdata.csv\n",
      "Файл  c:\\Users\\smart\\Documents\\VS Code DS_study\\Pandas\\data\\countries.csv\n",
      "Файл  c:\\Users\\smart\\Documents\\VS Code DS_study\\Pandas\\data\\countries.txt\n",
      "Файл  c:\\Users\\smart\\Documents\\VS Code DS_study\\Pandas\\data\\country_vaccinations.csv\n",
      "Файл  c:\\Users\\smart\\Documents\\VS Code DS_study\\Pandas\\data\\covid_data.csv\n",
      "Файл  c:\\Users\\smart\\Documents\\VS Code DS_study\\Pandas\\data\\dates.csv\n",
      "Файл  c:\\Users\\smart\\Documents\\VS Code DS_study\\Pandas\\data\\diabetes_data.csv\n",
      "Файл  c:\\Users\\smart\\Documents\\VS Code DS_study\\Pandas\\data\\ErrorEnCoding.csv\n",
      "Файл  c:\\Users\\smart\\Documents\\VS Code DS_study\\Pandas\\data\\grades.xlsx\n",
      "Файл  c:\\Users\\smart\\Documents\\VS Code DS_study\\Pandas\\data\\grades_new.xlsx\n",
      "Файл  c:\\Users\\smart\\Documents\\VS Code DS_study\\Pandas\\data\\melb_data.csv\n",
      "Файл  c:\\Users\\smart\\Documents\\VS Code DS_study\\Pandas\\data\\melb_data_fe.csv\n",
      "Файл  c:\\Users\\smart\\Documents\\VS Code DS_study\\Pandas\\data\\movies.csv\n",
      "Файл  c:\\Users\\smart\\Documents\\VS Code DS_study\\Pandas\\data\\orders.csv\n",
      "Файл  c:\\Users\\smart\\Documents\\VS Code DS_study\\Pandas\\data\\out.zip\n",
      "Файл  c:\\Users\\smart\\Documents\\VS Code DS_study\\Pandas\\data\\products.csv\n",
      "Файл  c:\\Users\\smart\\Documents\\VS Code DS_study\\Pandas\\data\\ratings+movies.xlsx\n",
      "Файл  c:\\Users\\smart\\Documents\\VS Code DS_study\\Pandas\\data\\ratings1.csv\n",
      "Файл  c:\\Users\\smart\\Documents\\VS Code DS_study\\Pandas\\data\\ratings2.csv\n",
      "Файл  c:\\Users\\smart\\Documents\\VS Code DS_study\\Pandas\\data\\sber_data.csv\n",
      "Файл  c:\\Users\\smart\\Documents\\VS Code DS_study\\Pandas\\data\\students_performance.csv\n",
      "Файл  c:\\Users\\smart\\Documents\\VS Code DS_study\\Pandas\\data\\students_performance.zip\n",
      "Файл  c:\\Users\\smart\\Documents\\VS Code DS_study\\Pandas\\data\\ufo_data.csv\n",
      "===\n"
     ]
    }
   ],
   "source": [
    "def walk_desc(path=None):\n",
    "    start_path = path if path is not None else os.getcwd()\n",
    "\n",
    "    for root, dirs, files in os.walk(start_path):\n",
    "        print(\"Текущая директория\", root)\n",
    "        print(\"---\")\n",
    "\n",
    "        if dirs:\n",
    "            print(\"Список папок\", dirs)\n",
    "        else:\n",
    "            print(\"Папок нет\")\n",
    "        print(\"---\")\n",
    "\n",
    "        if files:\n",
    "            print(\"Список файлов\", files)\n",
    "        else:\n",
    "            print(\"Файлов нет\")\n",
    "        print(\"---\")\n",
    "\n",
    "        if files and dirs:\n",
    "            print(\"Все пути:\")\n",
    "        for f in files:\n",
    "            print(\"Файл \", os.path.join(root, f))\n",
    "        for d in dirs:\n",
    "            print(\"Папка \", os.path.join(root, d))\n",
    "        print(\"===\")\n",
    "\n",
    "walk_desc()"
   ]
  },
  {
   "cell_type": "markdown",
   "metadata": {},
   "source": [
    "`f = open('path/to/file', 'filemode', encoding='utf8')`\n",
    "\n",
    "- `path/to/file` — путь к файлу может быть относительным или абсолютным. Можно указывать в Unix-стиле (path/to/file) или в Windows-стиле (path\\to\\file).\n",
    "- `filemode` — режим, в котором файл нужно открывать. Записывается в виде строки, может принимать следующие значения:\n",
    "  - r — открыть на чтение (по умолчанию);\n",
    "  - w — перезаписать и открыть на запись (если файла нет, то он создастся);\n",
    "  - x — создать и открыть на запись (если уже есть — исключение);\n",
    "  - a — открыть на дозапись (указатель будет поставлен в конец);\n",
    "  - t — открыть в текстовом виде (по умолчанию);\n",
    "  - b — открыть в бинарном виде.\n",
    "- `encoding` — указание, в какой кодировке файл записан (utf8, cp1251 и т. д.) По умолчанию стоит utf-8. При этом можно записывать кодировку как через дефис, так и без: utf-8 или utf8."
   ]
  },
  {
   "cell_type": "code",
   "execution_count": 5,
   "metadata": {},
   "outputs": [
    {
     "data": {
      "text/plain": [
       "21"
      ]
     },
     "execution_count": 5,
     "metadata": {},
     "output_type": "execute_result"
    }
   ],
   "source": [
    "f = open('test.txt', 'w', encoding='utf8')\n",
    "\n",
    "# Запишем в файл строку\n",
    "f.write(\"This is a test string\\n\")\n",
    "f.write(\"This is a new string\\n\")"
   ]
  },
  {
   "cell_type": "code",
   "execution_count": 6,
   "metadata": {},
   "outputs": [],
   "source": [
    "f.close()"
   ]
  },
  {
   "cell_type": "code",
   "execution_count": 13,
   "metadata": {},
   "outputs": [
    {
     "name": "stdout",
     "output_type": "stream",
     "text": [
      "This is a \n"
     ]
    }
   ],
   "source": [
    "f = open('test.txt', 'r', encoding='utf8')\n",
    "print(f.read(10)) # This is a "
   ]
  },
  {
   "cell_type": "code",
   "execution_count": 14,
   "metadata": {},
   "outputs": [
    {
     "data": {
      "text/plain": [
       "'test string\\nThis is a new string\\n'"
      ]
     },
     "execution_count": 14,
     "metadata": {},
     "output_type": "execute_result"
    }
   ],
   "source": [
    "# считали остаток файла\n",
    "f.read()"
   ]
  },
  {
   "cell_type": "code",
   "execution_count": 15,
   "metadata": {},
   "outputs": [],
   "source": [
    "f.close()"
   ]
  },
  {
   "cell_type": "markdown",
   "metadata": {},
   "source": [
    "Зачастую с файлами удобнее работать построчно, поэтому для этого есть отдельные методы:\n",
    "\n",
    "- `writelines` — записывает список строк в файл;\n",
    "- `readline` — считывает из файла одну строку и возвращает её;\n",
    "- `readlines` — считывает из файла все строки в список и возвращает их."
   ]
  },
  {
   "cell_type": "code",
   "execution_count": 16,
   "metadata": {},
   "outputs": [],
   "source": [
    "f = open('test.txt', 'a', encoding='utf8') # открываем файл на дозапись\n",
    "\n",
    "sequence = [\"other string\\n\", \"123\\n\", \"test test\\n\"]\n",
    "f.writelines(sequence) # берет строки из sequence и записывает в файл (без переносов)\n",
    "\n",
    "f.close()"
   ]
  },
  {
   "cell_type": "code",
   "execution_count": 17,
   "metadata": {},
   "outputs": [
    {
     "name": "stdout",
     "output_type": "stream",
     "text": [
      "['This is a test string\\n', 'This is a new string\\n', 'other string\\n', '123\\n', 'test test\\n']\n"
     ]
    }
   ],
   "source": [
    "f = open('test.txt', 'r', encoding='utf8')\n",
    "\n",
    "print(f.readlines()) # считывает все строки в список и возвращает список\n",
    "\n",
    "f.close()"
   ]
  },
  {
   "cell_type": "code",
   "execution_count": 18,
   "metadata": {},
   "outputs": [
    {
     "name": "stdout",
     "output_type": "stream",
     "text": [
      "This is a test string\n",
      "\n",
      "This\n",
      " is a new string\n",
      "\n"
     ]
    }
   ],
   "source": [
    "f = open('test.txt', 'r', encoding='utf8')\n",
    "\n",
    "print(f.readline()) # This is a test string\n",
    "print(f.read(4)) # This\n",
    "print(f.readline()) # is a new string\n",
    "\n",
    "f.close()"
   ]
  },
  {
   "cell_type": "markdown",
   "metadata": {},
   "source": [
    "### Файл как итератор"
   ]
  },
  {
   "cell_type": "code",
   "execution_count": 19,
   "metadata": {},
   "outputs": [
    {
     "name": "stdout",
     "output_type": "stream",
     "text": [
      "This is a test string\n",
      "This is a new string\n",
      "other string\n",
      "123\n",
      "test test\n"
     ]
    }
   ],
   "source": [
    "f = open('test.txt')  # можно перечислять строки в файле\n",
    "for line in f:\n",
    "    print(line, end='')\n",
    "f.close()"
   ]
  },
  {
   "cell_type": "code",
   "execution_count": null,
   "metadata": {},
   "outputs": [],
   "source": [
    "with open(\"test.txt\", 'rb') as f:\n",
    "    a = f.read(10)\n",
    "    b = f.read(23)\n",
    "\n",
    "f.read(3) # Error!"
   ]
  },
  {
   "cell_type": "markdown",
   "metadata": {},
   "source": [
    "### Исключения"
   ]
  },
  {
   "cell_type": "code",
   "execution_count": 21,
   "metadata": {},
   "outputs": [
    {
     "name": "stdout",
     "output_type": "stream",
     "text": [
      "message\n"
     ]
    }
   ],
   "source": [
    "class MyException(Exception):  # создаём пустой класс исключения \n",
    "    pass\n",
    "\n",
    " \n",
    "try:\n",
    "    raise MyException(\"message\")  # поднимаем наше исключение\n",
    "except MyException as e:  # ловим его\n",
    "    print(e)  # выводим информацию об исключении"
   ]
  },
  {
   "cell_type": "code",
   "execution_count": 22,
   "metadata": {},
   "outputs": [
    {
     "name": "stdout",
     "output_type": "stream",
     "text": [
      "message\n"
     ]
    }
   ],
   "source": [
    "class ParentException(Exception):  # создаём пустой класс исключения, наследуемся от exception\n",
    "    pass\n",
    "\n",
    " \n",
    "class ChildException(ParentException):  # создаём пустой класс исключения-потомка, наследуемся от ParentException\n",
    "    pass\n",
    "\n",
    " \n",
    "try:\n",
    "    raise ChildException(\"message\")  # поднимаем исключение-потомок\n",
    "except ParentException as e:  # ловим его родителя\n",
    "    print(e)  # выводим информацию об исключении"
   ]
  }
 ],
 "metadata": {
  "kernelspec": {
   "display_name": "Python 3",
   "language": "python",
   "name": "python3"
  },
  "language_info": {
   "codemirror_mode": {
    "name": "ipython",
    "version": 3
   },
   "file_extension": ".py",
   "mimetype": "text/x-python",
   "name": "python",
   "nbconvert_exporter": "python",
   "pygments_lexer": "ipython3",
   "version": "3.9.10"
  }
 },
 "nbformat": 4,
 "nbformat_minor": 2
}
