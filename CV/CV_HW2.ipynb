{
  "cells": [
    {
      "cell_type": "markdown",
      "metadata": {
        "id": "tJSkS1KoEVAH"
      },
      "source": [
        "* Модифицируйте код ячеек ниже и реализуйте [Wasserstein GAN](https://arxiv.org/abs/1701.07875) с клиппингом весов. (10 баллов)\n",
        "\n",
        "* Замените клиппинг весов на [штраф градентов](https://arxiv.org/pdf/1704.00028v3.pdf). (10 баллов)\n",
        "\n",
        "* Добавьте лейблы в WGAN, тем самым решая задачу [условной генерации](https://arxiv.org/pdf/1411.1784.pdf). (30 баллов)\n",
        "\n",
        "Добавьте в этот файл анализ полученных результатов с различными графиками обучения и визуализацию генерации. Сравните как работает клиппинг весов и штраф градиентов и попробуйте пронаблюдать какие недостатки имеет модель GAN."
      ]
    },
    {
      "cell_type": "markdown",
      "metadata": {
        "id": "NV1VD-aNLYpv"
      },
      "source": [
        "## Подготовка"
      ]
    },
    {
      "cell_type": "code",
      "execution_count": 1,
      "metadata": {
        "id": "_PBZhPXoEVAI"
      },
      "outputs": [],
      "source": [
        "import torch\n",
        "import torch.nn as nn\n",
        "import torch.nn.functional as F\n",
        "import torch.optim as optim\n",
        "from torch.utils.data import DataLoader, Dataset\n",
        "\n",
        "import torchvision\n",
        "import matplotlib.pyplot as plt\n",
        "import numpy as np\n",
        "\n",
        "from torch.autograd import Variable"
      ]
    },
    {
      "cell_type": "markdown",
      "metadata": {
        "id": "JA1WUmq7EVAI"
      },
      "source": [
        "### Простой конфиг (для хранения параметров, можете использовать и модифицировать)"
      ]
    },
    {
      "cell_type": "code",
      "execution_count": 2,
      "metadata": {
        "id": "6ZOVySNaEVAJ"
      },
      "outputs": [],
      "source": [
        "class Config:\n",
        "    pass\n",
        "\n",
        "config = Config()\n",
        "config.mnist_path = None\n",
        "config.batch_size = 16\n",
        "config.num_workers = 3\n",
        "config.num_epochs = 25\n",
        "config.noise_size = 50\n",
        "config.print_freq = 1000\n",
        "config.weight_clip = 0.01\n",
        "config.class_size = 10\n",
        "config.embedding_dim = 5"
      ]
    },
    {
      "cell_type": "markdown",
      "metadata": {
        "id": "H4z2spNOEVAJ"
      },
      "source": [
        "### Создаем dataloader"
      ]
    },
    {
      "cell_type": "code",
      "execution_count": 4,
      "metadata": {
        "colab": {
          "base_uri": "https://localhost:8080/"
        },
        "id": "rJQdF3-xEVAJ",
        "outputId": "5cef4c13-29e7-4d96-9afa-f1c720d3695b"
      },
      "outputs": [
        {
          "name": "stdout",
          "output_type": "stream",
          "text": [
            "Downloading http://fashion-mnist.s3-website.eu-central-1.amazonaws.com/train-images-idx3-ubyte.gz\n",
            "Downloading http://fashion-mnist.s3-website.eu-central-1.amazonaws.com/train-images-idx3-ubyte.gz to data/fashion_mnist\\FashionMNIST\\raw\\train-images-idx3-ubyte.gz\n"
          ]
        },
        {
          "name": "stderr",
          "output_type": "stream",
          "text": [
            "100%|██████████| 26421880/26421880 [00:09<00:00, 2903472.21it/s]\n"
          ]
        },
        {
          "name": "stdout",
          "output_type": "stream",
          "text": [
            "Extracting data/fashion_mnist\\FashionMNIST\\raw\\train-images-idx3-ubyte.gz to data/fashion_mnist\\FashionMNIST\\raw\n",
            "\n",
            "Downloading http://fashion-mnist.s3-website.eu-central-1.amazonaws.com/train-labels-idx1-ubyte.gz\n",
            "Downloading http://fashion-mnist.s3-website.eu-central-1.amazonaws.com/train-labels-idx1-ubyte.gz to data/fashion_mnist\\FashionMNIST\\raw\\train-labels-idx1-ubyte.gz\n"
          ]
        },
        {
          "name": "stderr",
          "output_type": "stream",
          "text": [
            "100%|██████████| 29515/29515 [00:00<00:00, 665241.99it/s]\n"
          ]
        },
        {
          "name": "stdout",
          "output_type": "stream",
          "text": [
            "Extracting data/fashion_mnist\\FashionMNIST\\raw\\train-labels-idx1-ubyte.gz to data/fashion_mnist\\FashionMNIST\\raw\n",
            "\n",
            "Downloading http://fashion-mnist.s3-website.eu-central-1.amazonaws.com/t10k-images-idx3-ubyte.gz\n",
            "Downloading http://fashion-mnist.s3-website.eu-central-1.amazonaws.com/t10k-images-idx3-ubyte.gz to data/fashion_mnist\\FashionMNIST\\raw\\t10k-images-idx3-ubyte.gz\n"
          ]
        },
        {
          "name": "stderr",
          "output_type": "stream",
          "text": [
            "100%|██████████| 4422102/4422102 [00:01<00:00, 3806729.82it/s]\n"
          ]
        },
        {
          "name": "stdout",
          "output_type": "stream",
          "text": [
            "Extracting data/fashion_mnist\\FashionMNIST\\raw\\t10k-images-idx3-ubyte.gz to data/fashion_mnist\\FashionMNIST\\raw\n",
            "\n",
            "Downloading http://fashion-mnist.s3-website.eu-central-1.amazonaws.com/t10k-labels-idx1-ubyte.gz\n",
            "Downloading http://fashion-mnist.s3-website.eu-central-1.amazonaws.com/t10k-labels-idx1-ubyte.gz to data/fashion_mnist\\FashionMNIST\\raw\\t10k-labels-idx1-ubyte.gz\n"
          ]
        },
        {
          "name": "stderr",
          "output_type": "stream",
          "text": [
            "100%|██████████| 5148/5148 [00:00<00:00, 5372549.64it/s]"
          ]
        },
        {
          "name": "stdout",
          "output_type": "stream",
          "text": [
            "Extracting data/fashion_mnist\\FashionMNIST\\raw\\t10k-labels-idx1-ubyte.gz to data/fashion_mnist\\FashionMNIST\\raw\n",
            "\n"
          ]
        },
        {
          "name": "stderr",
          "output_type": "stream",
          "text": [
            "\n"
          ]
        }
      ],
      "source": [
        "train = torchvision.datasets.FashionMNIST(\"data/fashion_mnist\", train=True, transform=torchvision.transforms.ToTensor(), download=True)"
      ]
    },
    {
      "cell_type": "code",
      "execution_count": 5,
      "metadata": {
        "colab": {
          "base_uri": "https://localhost:8080/"
        },
        "id": "DsFXiFsIEVAJ",
        "outputId": "78adcddb-a3ce-46c1-c1a0-72401989bc2b"
      },
      "outputs": [
        {
          "data": {
            "text/plain": [
              "3750"
            ]
          },
          "execution_count": 5,
          "metadata": {},
          "output_type": "execute_result"
        }
      ],
      "source": [
        "dataloader = DataLoader(train, batch_size=16, shuffle=True)\n",
        "len(dataloader)"
      ]
    },
    {
      "cell_type": "code",
      "execution_count": 6,
      "metadata": {
        "colab": {
          "base_uri": "https://localhost:8080/"
        },
        "id": "GXozdEFQEVAJ",
        "outputId": "75b54b96-b4b9-421f-a6d5-bb516c4d8161"
      },
      "outputs": [
        {
          "data": {
            "text/plain": [
              "torch.Size([16, 1, 28, 28])"
            ]
          },
          "execution_count": 6,
          "metadata": {},
          "output_type": "execute_result"
        }
      ],
      "source": [
        "image, label = next(iter(dataloader))\n",
        "image.size()"
      ]
    },
    {
      "cell_type": "markdown",
      "metadata": {
        "id": "EDfo1POdLezU"
      },
      "source": [
        "## GAN"
      ]
    },
    {
      "cell_type": "markdown",
      "metadata": {
        "id": "Ki7mSwhrEVAK"
      },
      "source": [
        "### Создаем модель GAN"
      ]
    },
    {
      "cell_type": "code",
      "execution_count": null,
      "metadata": {
        "id": "diozgmg4EVAK"
      },
      "outputs": [],
      "source": [
        "class Generator(nn.Module):\n",
        "    def __init__(self):\n",
        "        super(Generator, self).__init__()\n",
        "        self.model = nn.Sequential(\n",
        "            nn.Linear(config.noise_size, 200),\n",
        "            nn.ReLU(inplace=True),\n",
        "            nn.Linear(200, 28*28),\n",
        "            nn.Sigmoid())\n",
        "\n",
        "    def forward(self, x):\n",
        "        return self.model(x)\n",
        "\n",
        "class Discriminator(nn.Module):\n",
        "    def __init__(self):\n",
        "        super(Discriminator, self).__init__()\n",
        "        self.model = nn.Sequential(\n",
        "            nn.Linear(28*28, 200),\n",
        "            nn.ReLU(inplace=True),\n",
        "            nn.Linear(200, 50),\n",
        "            nn.ReLU(inplace=True),\n",
        "            nn.Linear(50, 1),\n",
        "            nn.Sigmoid())\n",
        "    def forward(self, x):\n",
        "        return self.model(x)"
      ]
    },
    {
      "cell_type": "code",
      "execution_count": null,
      "metadata": {
        "id": "ZJUbCECuEVAK"
      },
      "outputs": [],
      "source": [
        "generator = Generator()\n",
        "discriminator = Discriminator()"
      ]
    },
    {
      "cell_type": "markdown",
      "metadata": {
        "id": "jUJaHpFbEVAL"
      },
      "source": [
        "### Оптимизатор и функция потерь"
      ]
    },
    {
      "cell_type": "code",
      "execution_count": null,
      "metadata": {
        "id": "VltlxWoyEVAL"
      },
      "outputs": [],
      "source": [
        "device = 'cuda' if torch.cuda.is_available() else 'cpu'\n",
        "generator = generator.to(device)\n",
        "discrimi8nator = discriminator.to(device)\n",
        "optim_G = optim.Adam(params=generator.parameters(), lr=0.0001)\n",
        "optim_D = optim.Adam(params=discriminator.parameters(), lr=0.0001)\n",
        "\n",
        "criterion = nn.BCELoss()"
      ]
    },
    {
      "cell_type": "markdown",
      "metadata": {
        "id": "CRbESDzYEVAL"
      },
      "source": [
        "### Для оптимизации процесса обучения можно заранее определить переменные и заполнять их значения новыми данными"
      ]
    },
    {
      "cell_type": "code",
      "execution_count": null,
      "metadata": {
        "id": "vXAHDeLlEVAL"
      },
      "outputs": [],
      "source": [
        "noise = Variable(torch.FloatTensor(config.batch_size, config.noise_size, device=device))\n",
        "# fixed_noise = Variable(torch.FloatTensor(config.batch_size, config.noise_size, device=device).normal_(0, 1))\n",
        "label = Variable(torch.FloatTensor(config.batch_size, device=device))\n",
        "real_label = 1\n",
        "fake_label = 0"
      ]
    },
    {
      "cell_type": "markdown",
      "metadata": {
        "id": "x3XozpMxEVAL"
      },
      "source": [
        "### GAN обучение"
      ]
    },
    {
      "cell_type": "code",
      "execution_count": null,
      "metadata": {
        "colab": {
          "base_uri": "https://localhost:8080/"
        },
        "collapsed": true,
        "id": "9W_1xrPXEVAL",
        "outputId": "5df599f8-a592-49e8-810c-76ae29f66ebe",
        "scrolled": true
      },
      "outputs": [
        {
          "name": "stdout",
          "output_type": "stream",
          "text": [
            "Epoch:1 Iter: 1000 errD_x: 0.29 errD_z: 0.18 errG: 2.20\n",
            "Epoch:1 Iter: 2000 errD_x: 0.04 errD_z: 0.14 errG: 2.82\n",
            "Epoch:1 Iter: 3000 errD_x: 0.02 errD_z: 0.04 errG: 5.31\n",
            "Epoch:2 Iter: 1000 errD_x: 0.00 errD_z: 0.07 errG: 4.08\n",
            "Epoch:2 Iter: 2000 errD_x: 0.38 errD_z: 0.05 errG: 3.68\n",
            "Epoch:2 Iter: 3000 errD_x: 0.01 errD_z: 0.07 errG: 3.55\n",
            "Epoch:3 Iter: 1000 errD_x: 0.06 errD_z: 0.10 errG: 3.63\n",
            "Epoch:3 Iter: 2000 errD_x: 0.05 errD_z: 0.11 errG: 2.80\n",
            "Epoch:3 Iter: 3000 errD_x: 0.06 errD_z: 0.04 errG: 3.98\n",
            "Epoch:4 Iter: 1000 errD_x: 0.24 errD_z: 0.23 errG: 1.95\n",
            "Epoch:4 Iter: 2000 errD_x: 0.50 errD_z: 0.22 errG: 3.12\n",
            "Epoch:4 Iter: 3000 errD_x: 0.05 errD_z: 0.05 errG: 4.68\n",
            "Epoch:5 Iter: 1000 errD_x: 0.41 errD_z: 0.07 errG: 2.43\n",
            "Epoch:5 Iter: 2000 errD_x: 0.35 errD_z: 0.10 errG: 2.86\n",
            "Epoch:5 Iter: 3000 errD_x: 0.39 errD_z: 0.04 errG: 3.17\n",
            "Epoch:6 Iter: 1000 errD_x: 0.32 errD_z: 0.01 errG: 4.79\n",
            "Epoch:6 Iter: 2000 errD_x: 0.04 errD_z: 0.25 errG: 2.30\n",
            "Epoch:6 Iter: 3000 errD_x: 0.52 errD_z: 0.29 errG: 1.88\n",
            "Epoch:7 Iter: 1000 errD_x: 0.61 errD_z: 0.11 errG: 3.03\n",
            "Epoch:7 Iter: 2000 errD_x: 0.19 errD_z: 0.16 errG: 2.85\n",
            "Epoch:7 Iter: 3000 errD_x: 0.06 errD_z: 0.03 errG: 3.07\n",
            "Epoch:8 Iter: 1000 errD_x: 0.43 errD_z: 0.05 errG: 3.73\n",
            "Epoch:8 Iter: 2000 errD_x: 0.01 errD_z: 0.53 errG: 1.24\n",
            "Epoch:8 Iter: 3000 errD_x: 0.50 errD_z: 0.49 errG: 1.89\n",
            "Epoch:9 Iter: 1000 errD_x: 0.57 errD_z: 0.42 errG: 3.02\n",
            "Epoch:9 Iter: 2000 errD_x: 0.74 errD_z: 0.18 errG: 1.82\n",
            "Epoch:9 Iter: 3000 errD_x: 0.24 errD_z: 0.16 errG: 2.46\n",
            "Epoch:10 Iter: 1000 errD_x: 0.20 errD_z: 0.22 errG: 1.81\n",
            "Epoch:10 Iter: 2000 errD_x: 0.27 errD_z: 0.49 errG: 1.77\n",
            "Epoch:10 Iter: 3000 errD_x: 0.65 errD_z: 0.26 errG: 1.74\n",
            "Epoch:11 Iter: 1000 errD_x: 0.26 errD_z: 0.45 errG: 1.29\n",
            "Epoch:11 Iter: 2000 errD_x: 0.28 errD_z: 0.16 errG: 2.68\n",
            "Epoch:11 Iter: 3000 errD_x: 0.60 errD_z: 0.25 errG: 1.92\n",
            "Epoch:12 Iter: 1000 errD_x: 0.38 errD_z: 0.36 errG: 1.58\n",
            "Epoch:12 Iter: 2000 errD_x: 0.30 errD_z: 0.82 errG: 1.07\n",
            "Epoch:12 Iter: 3000 errD_x: 0.93 errD_z: 0.12 errG: 3.00\n",
            "Epoch:13 Iter: 1000 errD_x: 0.46 errD_z: 0.77 errG: 1.83\n",
            "Epoch:13 Iter: 2000 errD_x: 0.29 errD_z: 0.25 errG: 2.06\n",
            "Epoch:13 Iter: 3000 errD_x: 1.06 errD_z: 0.07 errG: 2.42\n",
            "Epoch:14 Iter: 1000 errD_x: 0.18 errD_z: 0.41 errG: 1.76\n",
            "Epoch:14 Iter: 2000 errD_x: 0.16 errD_z: 0.39 errG: 1.75\n",
            "Epoch:14 Iter: 3000 errD_x: 0.24 errD_z: 0.28 errG: 2.33\n",
            "Epoch:15 Iter: 1000 errD_x: 0.53 errD_z: 0.32 errG: 1.83\n",
            "Epoch:15 Iter: 2000 errD_x: 0.39 errD_z: 0.19 errG: 2.34\n",
            "Epoch:15 Iter: 3000 errD_x: 0.43 errD_z: 0.53 errG: 1.23\n",
            "Epoch:16 Iter: 1000 errD_x: 0.29 errD_z: 0.27 errG: 1.57\n",
            "Epoch:16 Iter: 2000 errD_x: 0.17 errD_z: 0.23 errG: 2.09\n",
            "Epoch:16 Iter: 3000 errD_x: 0.42 errD_z: 0.21 errG: 1.91\n",
            "Epoch:17 Iter: 1000 errD_x: 0.81 errD_z: 0.36 errG: 1.60\n",
            "Epoch:17 Iter: 2000 errD_x: 0.21 errD_z: 0.36 errG: 1.61\n",
            "Epoch:17 Iter: 3000 errD_x: 0.53 errD_z: 0.20 errG: 2.11\n",
            "Epoch:18 Iter: 1000 errD_x: 0.29 errD_z: 0.22 errG: 1.88\n",
            "Epoch:18 Iter: 2000 errD_x: 0.26 errD_z: 0.35 errG: 2.01\n",
            "Epoch:18 Iter: 3000 errD_x: 0.66 errD_z: 0.27 errG: 1.53\n",
            "Epoch:19 Iter: 1000 errD_x: 1.06 errD_z: 0.20 errG: 1.79\n",
            "Epoch:19 Iter: 2000 errD_x: 1.02 errD_z: 0.25 errG: 1.83\n",
            "Epoch:19 Iter: 3000 errD_x: 0.42 errD_z: 0.26 errG: 1.90\n",
            "Epoch:20 Iter: 1000 errD_x: 0.31 errD_z: 0.53 errG: 1.07\n",
            "Epoch:20 Iter: 2000 errD_x: 0.53 errD_z: 0.41 errG: 1.58\n",
            "Epoch:20 Iter: 3000 errD_x: 0.44 errD_z: 0.25 errG: 1.78\n",
            "Epoch:21 Iter: 1000 errD_x: 0.46 errD_z: 0.47 errG: 1.22\n",
            "Epoch:21 Iter: 2000 errD_x: 0.28 errD_z: 0.38 errG: 1.68\n",
            "Epoch:21 Iter: 3000 errD_x: 0.22 errD_z: 0.46 errG: 1.31\n",
            "Epoch:22 Iter: 1000 errD_x: 0.26 errD_z: 0.33 errG: 1.59\n",
            "Epoch:22 Iter: 2000 errD_x: 0.54 errD_z: 0.23 errG: 1.82\n",
            "Epoch:22 Iter: 3000 errD_x: 0.97 errD_z: 0.20 errG: 1.95\n",
            "Epoch:23 Iter: 1000 errD_x: 0.34 errD_z: 0.21 errG: 2.32\n",
            "Epoch:23 Iter: 2000 errD_x: 0.26 errD_z: 0.40 errG: 1.37\n",
            "Epoch:23 Iter: 3000 errD_x: 0.38 errD_z: 0.33 errG: 1.61\n",
            "Epoch:24 Iter: 1000 errD_x: 0.48 errD_z: 0.44 errG: 1.39\n",
            "Epoch:24 Iter: 2000 errD_x: 0.76 errD_z: 0.51 errG: 1.39\n",
            "Epoch:24 Iter: 3000 errD_x: 0.35 errD_z: 0.41 errG: 1.27\n",
            "Epoch:25 Iter: 1000 errD_x: 0.42 errD_z: 0.31 errG: 1.59\n",
            "Epoch:25 Iter: 2000 errD_x: 0.69 errD_z: 0.15 errG: 1.62\n",
            "Epoch:25 Iter: 3000 errD_x: 0.47 errD_z: 0.54 errG: 1.10\n"
          ]
        }
      ],
      "source": [
        "ERRD_x = np.zeros(config.num_epochs)\n",
        "ERRD_z = np.zeros(config.num_epochs)\n",
        "ERRG = np.zeros(config.num_epochs)\n",
        "N = len(dataloader)\n",
        "\n",
        "for epoch in range(config.num_epochs):\n",
        "    for iteration, (images, cat) in enumerate(dataloader):\n",
        "        #######\n",
        "        # Discriminator stage: maximize log(D(x)) + log(1 - D(G(z)))\n",
        "        #######\n",
        "        discriminator.zero_grad()\n",
        "\n",
        "        # real\n",
        "        label.data.fill_(real_label)\n",
        "        input_data = images.view(images.shape[0], -1).to(device)\n",
        "        output = discriminator(input_data).view(-1)\n",
        "        errD_x = criterion(output, label)\n",
        "        ERRD_x[epoch] += errD_x.item()\n",
        "        errD_x.backward()\n",
        "\n",
        "        # fake\n",
        "        noise.data.normal_(0, 1)\n",
        "        fake = generator(noise)\n",
        "        label.data.fill_(fake_label)\n",
        "        output = discriminator(fake.detach()).view(-1)\n",
        "        errD_z = criterion(output, label)\n",
        "        ERRD_z[epoch] += errD_z.item()\n",
        "        errD_z.backward()\n",
        "\n",
        "        optim_D.step()\n",
        "\n",
        "        #######\n",
        "        # Generator stage: maximize log(D(G(x))\n",
        "        #######\n",
        "        generator.zero_grad()\n",
        "        label.data.fill_(real_label)\n",
        "        output = discriminator(fake).view(-1)\n",
        "        errG = criterion(output, label)\n",
        "        ERRG[epoch] += errG.item()\n",
        "        errG.backward()\n",
        "\n",
        "        optim_G.step()\n",
        "\n",
        "        if (iteration+1) % config.print_freq == 0:\n",
        "            print('Epoch:{} Iter: {} errD_x: {:.2f} errD_z: {:.2f} errG: {:.2f}'.format(epoch+1,\n",
        "                                                                                            iteration+1,\n",
        "                                                                                            errD_x.item(),\n",
        "                                                                                            errD_z.item(),\n",
        "                                                                                            errG.item()))"
      ]
    },
    {
      "cell_type": "code",
      "execution_count": null,
      "metadata": {
        "colab": {
          "base_uri": "https://localhost:8080/",
          "height": 559
        },
        "id": "Mx7WhHRTEVAL",
        "outputId": "65c389fe-5e52-4b4a-b6f0-ef7c46226389"
      },
      "outputs": [
        {
          "data": {
            "image/png": "[encoded data removed]",
            "text/plain": [
              "<Figure size 600x700 with 16 Axes>"
            ]
          },
          "metadata": {},
          "output_type": "display_data"
        }
      ],
      "source": [
        "noise.data.normal_(0, 1)\n",
        "fake = generator(noise)\n",
        "\n",
        "plt.figure(figsize=(6, 7))\n",
        "for i in range(16):\n",
        "    plt.subplot(4, 4, i + 1)\n",
        "    plt.imshow(fake[i].detach().numpy().reshape(28, 28), cmap=plt.cm.Greys_r)\n",
        "    plt.axis('off')"
      ]
    },
    {
      "cell_type": "markdown",
      "metadata": {
        "id": "C0AkweGGLIhF"
      },
      "source": [
        "## WGAN_clipping"
      ]
    },
    {
      "cell_type": "markdown",
      "metadata": {
        "id": "h9oTAu1oLigK"
      },
      "source": [
        "### Создаем модель WGAN_clipping"
      ]
    },
    {
      "cell_type": "code",
      "execution_count": null,
      "metadata": {
        "id": "HAjUnTlEF91F"
      },
      "outputs": [],
      "source": [
        "class Gen_wgan_clip(nn.Module):\n",
        "    def __init__(self):\n",
        "        super(Gen_wgan_clip, self).__init__()\n",
        "        self.model = nn.Sequential(\n",
        "            nn.Linear(config.noise_size, 200),\n",
        "            nn.ReLU(inplace=True),\n",
        "            nn.Linear(200, 28*28),\n",
        "            nn.Tanh())\n",
        "\n",
        "    def forward(self, x):\n",
        "        return self.model(x)\n",
        "\n",
        "class Disc_wgan_clip(nn.Module):\n",
        "    def __init__(self):\n",
        "        super(Disc_wgan_clip, self).__init__()\n",
        "        self.model = nn.Sequential(\n",
        "            nn.Linear(28*28, 200),\n",
        "            nn.ReLU(inplace=True),\n",
        "            nn.Linear(200, 50),\n",
        "            nn.ReLU(inplace=True),\n",
        "            nn.Linear(50, 1)\n",
        "            )\n",
        "\n",
        "    def forward(self, x):\n",
        "        return self.model(x)"
      ]
    },
    {
      "cell_type": "code",
      "execution_count": null,
      "metadata": {
        "id": "qLhmfYemMesl"
      },
      "outputs": [],
      "source": [
        "gen_wgan_clip = Gen_wgan_clip()\n",
        "critic_clip = Disc_wgan_clip()"
      ]
    },
    {
      "cell_type": "markdown",
      "metadata": {
        "id": "TmyhX7UHNCHI"
      },
      "source": [
        "### Оптимизатор и функция потерь"
      ]
    },
    {
      "cell_type": "code",
      "execution_count": null,
      "metadata": {
        "id": "tgxocMKQNUDM"
      },
      "outputs": [],
      "source": [
        "device = 'cuda' if torch.cuda.is_available() else 'cpu'\n",
        "gen_wgan_clip = gen_wgan_clip.to(device)\n",
        "critic_clip = critic_clip.to(device)\n",
        "optim_G_wgan_clip = optim.RMSprop(params=gen_wgan_clip.parameters(), lr=0.0001)\n",
        "optim_C_clip = optim.RMSprop(params=critic_clip.parameters(), lr=0.0001)\n",
        "\n",
        "criterion = nn.BCEWithLogitsLoss()"
      ]
    },
    {
      "cell_type": "markdown",
      "metadata": {
        "id": "sm2xUKBLNsIh"
      },
      "source": [
        "### Для оптимизации процесса обучения можно заранее определить переменные и заполнять их значения новыми данными"
      ]
    },
    {
      "cell_type": "code",
      "execution_count": null,
      "metadata": {
        "id": "84HyH_cINsIh"
      },
      "outputs": [],
      "source": [
        "noise = Variable(torch.FloatTensor(config.batch_size, config.noise_size, device=device))\n",
        "label = Variable(torch.FloatTensor(config.batch_size, device=device))\n",
        "real_label = 1\n",
        "fake_label = 0"
      ]
    },
    {
      "cell_type": "markdown",
      "metadata": {
        "id": "MYJgAkmENxqg"
      },
      "source": [
        "### WGAN clipping обучение"
      ]
    },
    {
      "cell_type": "code",
      "execution_count": null,
      "metadata": {
        "colab": {
          "base_uri": "https://localhost:8080/"
        },
        "collapsed": true,
        "id": "jaA7lQBpL6R9",
        "outputId": "1598bd80-aba1-4fdc-8181-757c62a2fddd"
      },
      "outputs": [
        {
          "name": "stdout",
          "output_type": "stream",
          "text": [
            "Epoch:1, Iter:1000, errD_real:0.68, errD_fake:0.69, errG:0.70\n",
            "Epoch:1, Iter:2000, errD_real:0.68, errD_fake:0.69, errG:0.69\n",
            "Epoch:1, Iter:3000, errD_real:0.69, errD_fake:0.69, errG:0.70\n",
            "Epoch:2, Iter:1000, errD_real:0.69, errD_fake:0.69, errG:0.70\n",
            "Epoch:2, Iter:2000, errD_real:0.69, errD_fake:0.70, errG:0.69\n",
            "Epoch:2, Iter:3000, errD_real:0.69, errD_fake:0.69, errG:0.70\n",
            "Epoch:3, Iter:1000, errD_real:0.69, errD_fake:0.69, errG:0.70\n",
            "Epoch:3, Iter:2000, errD_real:0.68, errD_fake:0.70, errG:0.69\n",
            "Epoch:3, Iter:3000, errD_real:0.69, errD_fake:0.69, errG:0.70\n",
            "Epoch:4, Iter:1000, errD_real:0.69, errD_fake:0.69, errG:0.69\n",
            "Epoch:4, Iter:2000, errD_real:0.69, errD_fake:0.69, errG:0.70\n",
            "Epoch:4, Iter:3000, errD_real:0.69, errD_fake:0.69, errG:0.70\n",
            "Epoch:5, Iter:1000, errD_real:0.69, errD_fake:0.69, errG:0.70\n",
            "Epoch:5, Iter:2000, errD_real:0.70, errD_fake:0.69, errG:0.70\n",
            "Epoch:5, Iter:3000, errD_real:0.69, errD_fake:0.71, errG:0.70\n",
            "Epoch:6, Iter:1000, errD_real:0.69, errD_fake:0.69, errG:0.70\n",
            "Epoch:6, Iter:2000, errD_real:0.69, errD_fake:0.69, errG:0.70\n",
            "Epoch:6, Iter:3000, errD_real:0.69, errD_fake:0.69, errG:0.70\n",
            "Epoch:7, Iter:1000, errD_real:0.69, errD_fake:0.69, errG:0.69\n",
            "Epoch:7, Iter:2000, errD_real:0.69, errD_fake:0.69, errG:0.70\n",
            "Epoch:7, Iter:3000, errD_real:0.69, errD_fake:0.69, errG:0.69\n",
            "Epoch:8, Iter:1000, errD_real:0.68, errD_fake:0.70, errG:0.68\n",
            "Epoch:8, Iter:2000, errD_real:0.69, errD_fake:0.70, errG:0.69\n",
            "Epoch:8, Iter:3000, errD_real:0.69, errD_fake:0.69, errG:0.70\n",
            "Epoch:9, Iter:1000, errD_real:0.69, errD_fake:0.69, errG:0.69\n",
            "Epoch:9, Iter:2000, errD_real:0.70, errD_fake:0.69, errG:0.70\n",
            "Epoch:9, Iter:3000, errD_real:0.69, errD_fake:0.70, errG:0.69\n",
            "Epoch:10, Iter:1000, errD_real:0.70, errD_fake:0.69, errG:0.70\n",
            "Epoch:10, Iter:2000, errD_real:0.70, errD_fake:0.69, errG:0.70\n",
            "Epoch:10, Iter:3000, errD_real:0.69, errD_fake:0.69, errG:0.69\n",
            "Epoch:11, Iter:1000, errD_real:0.70, errD_fake:0.69, errG:0.69\n",
            "Epoch:11, Iter:2000, errD_real:0.70, errD_fake:0.69, errG:0.70\n",
            "Epoch:11, Iter:3000, errD_real:0.70, errD_fake:0.69, errG:0.70\n",
            "Epoch:12, Iter:1000, errD_real:0.69, errD_fake:0.69, errG:0.69\n",
            "Epoch:12, Iter:2000, errD_real:0.69, errD_fake:0.69, errG:0.70\n",
            "Epoch:12, Iter:3000, errD_real:0.70, errD_fake:0.68, errG:0.70\n",
            "Epoch:13, Iter:1000, errD_real:0.69, errD_fake:0.69, errG:0.69\n",
            "Epoch:13, Iter:2000, errD_real:0.68, errD_fake:0.70, errG:0.68\n",
            "Epoch:13, Iter:3000, errD_real:0.71, errD_fake:0.68, errG:0.70\n",
            "Epoch:14, Iter:1000, errD_real:0.69, errD_fake:0.70, errG:0.69\n",
            "Epoch:14, Iter:2000, errD_real:0.69, errD_fake:0.69, errG:0.70\n",
            "Epoch:14, Iter:3000, errD_real:0.70, errD_fake:0.68, errG:0.70\n",
            "Epoch:15, Iter:1000, errD_real:0.69, errD_fake:0.69, errG:0.69\n",
            "Epoch:15, Iter:2000, errD_real:0.69, errD_fake:0.69, errG:0.70\n",
            "Epoch:15, Iter:3000, errD_real:0.70, errD_fake:0.69, errG:0.70\n",
            "Epoch:16, Iter:1000, errD_real:0.70, errD_fake:0.69, errG:0.70\n",
            "Epoch:16, Iter:2000, errD_real:0.70, errD_fake:0.68, errG:0.70\n",
            "Epoch:16, Iter:3000, errD_real:0.69, errD_fake:0.69, errG:0.70\n",
            "Epoch:17, Iter:1000, errD_real:0.70, errD_fake:0.69, errG:0.70\n",
            "Epoch:17, Iter:2000, errD_real:0.69, errD_fake:0.69, errG:0.70\n",
            "Epoch:17, Iter:3000, errD_real:0.70, errD_fake:0.68, errG:0.70\n",
            "Epoch:18, Iter:1000, errD_real:0.69, errD_fake:0.69, errG:0.69\n",
            "Epoch:18, Iter:2000, errD_real:0.69, errD_fake:0.69, errG:0.69\n",
            "Epoch:18, Iter:3000, errD_real:0.69, errD_fake:0.69, errG:0.69\n",
            "Epoch:19, Iter:1000, errD_real:0.69, errD_fake:0.69, errG:0.69\n",
            "Epoch:19, Iter:2000, errD_real:0.68, errD_fake:0.70, errG:0.69\n",
            "Epoch:19, Iter:3000, errD_real:0.69, errD_fake:0.70, errG:0.69\n",
            "Epoch:20, Iter:1000, errD_real:0.69, errD_fake:0.69, errG:0.69\n",
            "Epoch:20, Iter:2000, errD_real:0.69, errD_fake:0.69, errG:0.70\n",
            "Epoch:20, Iter:3000, errD_real:0.69, errD_fake:0.69, errG:0.70\n",
            "Epoch:21, Iter:1000, errD_real:0.69, errD_fake:0.69, errG:0.69\n",
            "Epoch:21, Iter:2000, errD_real:0.69, errD_fake:0.69, errG:0.70\n",
            "Epoch:21, Iter:3000, errD_real:0.69, errD_fake:0.69, errG:0.70\n",
            "Epoch:22, Iter:1000, errD_real:0.69, errD_fake:0.69, errG:0.70\n",
            "Epoch:22, Iter:2000, errD_real:0.70, errD_fake:0.69, errG:0.70\n",
            "Epoch:22, Iter:3000, errD_real:0.69, errD_fake:0.70, errG:0.69\n",
            "Epoch:23, Iter:1000, errD_real:0.70, errD_fake:0.68, errG:0.70\n",
            "Epoch:23, Iter:2000, errD_real:0.69, errD_fake:0.69, errG:0.70\n",
            "Epoch:23, Iter:3000, errD_real:0.70, errD_fake:0.69, errG:0.70\n",
            "Epoch:24, Iter:1000, errD_real:0.68, errD_fake:0.71, errG:0.68\n",
            "Epoch:24, Iter:2000, errD_real:0.69, errD_fake:0.70, errG:0.69\n",
            "Epoch:24, Iter:3000, errD_real:0.69, errD_fake:0.69, errG:0.70\n",
            "Epoch:25, Iter:1000, errD_real:0.69, errD_fake:0.70, errG:0.70\n",
            "Epoch:25, Iter:2000, errD_real:0.69, errD_fake:0.69, errG:0.69\n",
            "Epoch:25, Iter:3000, errD_real:0.69, errD_fake:0.70, errG:0.69\n"
          ]
        }
      ],
      "source": [
        "ERRD_real = np.zeros(config.num_epochs)\n",
        "ERRD_fake = np.zeros(config.num_epochs)\n",
        "ERRG = np.zeros(config.num_epochs)\n",
        "N = len(dataloader)\n",
        "\n",
        "for epoch in range(config.num_epochs):\n",
        "    for iteration, (images, cat) in enumerate(dataloader):\n",
        "        #######\n",
        "        # Discriminator stage:\n",
        "        #######\n",
        "        critic_clip.zero_grad()\n",
        "\n",
        "        # real\n",
        "        label.data.fill_(real_label)\n",
        "        input_data = images.view(images.shape[0], -1).to(device)\n",
        "        output = critic_clip(input_data).view(-1)\n",
        "        errD_real = criterion(output, label)\n",
        "        ERRD_real[epoch] += errD_real.item()\n",
        "        errD_real.backward()\n",
        "\n",
        "        # fake\n",
        "        noise.data.normal_(0, 1)\n",
        "        fake = gen_wgan_clip(noise)\n",
        "        label.data.fill_(fake_label)\n",
        "        output = critic_clip(fake.detach()).view(-1)\n",
        "        errD_fake = criterion(output, label)\n",
        "        ERRD_fake[epoch] += errD_fake.item()\n",
        "        errD_fake.backward()\n",
        "\n",
        "        optim_C_clip.step()\n",
        "\n",
        "        for p in critic_clip.parameters():\n",
        "                p.data.clamp_(-config.weight_clip, config.weight_clip)\n",
        "\n",
        "        #######\n",
        "        # Generator stage:\n",
        "        #######\n",
        "        gen_wgan_clip.zero_grad()\n",
        "        label.data.fill_(real_label)\n",
        "        output = critic_clip(fake).view(-1)\n",
        "        errG = criterion(output, label)\n",
        "        ERRG[epoch] += errG.item()\n",
        "        errG.backward()\n",
        "\n",
        "        optim_G_wgan_clip.step()\n",
        "\n",
        "        if (iteration+1) % config.print_freq == 0:\n",
        "            print('Epoch:{},  Iter:{},  errD_real:{:.2f},  errD_fake:{:.2f},  errG:{:.2f}'.format(\n",
        "                epoch+1,\n",
        "                iteration+1,\n",
        "                errD_real.item(),\n",
        "                errD_fake.item(),\n",
        "                errG.item()))"
      ]
    },
    {
      "cell_type": "code",
      "execution_count": null,
      "metadata": {
        "colab": {
          "base_uri": "https://localhost:8080/",
          "height": 559
        },
        "id": "9ju2QCnzT8hb",
        "outputId": "b0f3e97d-f7e7-4fa3-ed70-2b6ee32ac725"
      },
      "outputs": [
        {
          "data": {
            "image/png": "[encoded data removed]",
            "text/plain": [
              "<Figure size 600x700 with 16 Axes>"
            ]
          },
          "metadata": {},
          "output_type": "display_data"
        }
      ],
      "source": [
        "noise.data.normal_(0, 1)\n",
        "fake = gen_wgan_clip(noise)\n",
        "\n",
        "plt.figure(figsize=(6, 7))\n",
        "for i in range(16):\n",
        "    plt.subplot(4, 4, i + 1)\n",
        "    plt.imshow(fake[i].detach().numpy().reshape(28, 28), cmap=plt.cm.Greys_r)\n",
        "    plt.axis('off')"
      ]
    },
    {
      "cell_type": "markdown",
      "metadata": {
        "id": "lIAhOGCphts4"
      },
      "source": [
        "## WGAN gradient penalty"
      ]
    },
    {
      "cell_type": "code",
      "execution_count": null,
      "metadata": {
        "id": "maICcfarlHOr"
      },
      "outputs": [],
      "source": [
        "class Gen_wgan_gp(nn.Module):\n",
        "    def __init__(self):\n",
        "        super(Gen_wgan_gp, self).__init__()\n",
        "        self.model = nn.Sequential(\n",
        "            nn.Linear(config.noise_size, 200),\n",
        "            nn.ReLU(inplace=True),\n",
        "            nn.Linear(200, 28*28),\n",
        "            nn.Tanh())\n",
        "\n",
        "    def forward(self, x):\n",
        "        return self.model(x)\n",
        "\n",
        "class Disc_wgan_gp(nn.Module):\n",
        "    def __init__(self):\n",
        "        super(Disc_wgan_gp, self).__init__()\n",
        "        self.model = nn.Sequential(\n",
        "            nn.Linear(28*28, 200),\n",
        "            nn.ReLU(inplace=True),\n",
        "            nn.Linear(200, 50),\n",
        "            nn.ReLU(inplace=True),\n",
        "            nn.Linear(50, 1)\n",
        "            )\n",
        "\n",
        "    def forward(self, x):\n",
        "        return self.model(x)"
      ]
    },
    {
      "cell_type": "code",
      "execution_count": null,
      "metadata": {
        "id": "6qpOdbbhlHOr"
      },
      "outputs": [],
      "source": [
        "gen_wgan_gp = Gen_wgan_gp()\n",
        "critic_gp = Disc_wgan_gp()"
      ]
    },
    {
      "cell_type": "code",
      "execution_count": null,
      "metadata": {
        "id": "KxqqOzvslHOs"
      },
      "outputs": [],
      "source": [
        "device = 'cuda' if torch.cuda.is_available() else 'cpu'\n",
        "gen_wgan_gp = gen_wgan_gp.to(device)\n",
        "critic_gp = critic_gp.to(device)\n",
        "optim_G_wgan_gp = optim.Adam(params=gen_wgan_gp.parameters(), lr=0.0001)\n",
        "optim_C_gp = optim.Adam(params=critic_gp.parameters(), lr=0.0001)\n",
        "\n",
        "criterion = nn.BCEWithLogitsLoss()"
      ]
    },
    {
      "cell_type": "code",
      "execution_count": null,
      "metadata": {
        "id": "kFKSo4NSlHOs"
      },
      "outputs": [],
      "source": [
        "noise = Variable(torch.FloatTensor(config.batch_size, config.noise_size, device=device))\n",
        "label = Variable(torch.FloatTensor(config.batch_size, device=device))\n",
        "real_label = 1\n",
        "fake_label = 0"
      ]
    },
    {
      "cell_type": "code",
      "execution_count": null,
      "metadata": {
        "id": "XRhQ3kejXjD5"
      },
      "outputs": [],
      "source": [
        "def gradient_penalty( critic, real_image, fake_image, device=\"cpu\"):\n",
        "    height, width = real_image.shape\n",
        "    # alpha is selected randomly between 0 and 1\n",
        "    alpha = torch.rand(config.batch_size,1,1,1).repeat(1, 1, height, width)\n",
        "\n",
        "    # interpolated image=randomly weighted average between a real and fake image\n",
        "    interpolatted_image = alpha*real_image + (1-alpha) * fake_image\n",
        "\n",
        "    # calculate the critic score on the interpolated image\n",
        "    interpolated_score= critic(interpolatted_image)\n",
        "\n",
        "    # take the gradient of the score wrt to the interpolated image\n",
        "    gradient = torch.autograd.grad(\n",
        "        inputs=interpolatted_image,\n",
        "        outputs=interpolated_score,\n",
        "        # retain_graph=True,\n",
        "        # create_graph=True,\n",
        "        grad_outputs=torch.ones_like(interpolated_score)\n",
        "        )[0]\n",
        "    gradient = gradient.view(gradient.shape[0], -1)\n",
        "    gradient_norm = gradient.norm(2, dim=1)\n",
        "    gradient_penalty = torch.mean((gradient_norm-1)**2)\n",
        "    return gradient_penalty"
      ]
    },
    {
      "cell_type": "code",
      "execution_count": null,
      "metadata": {
        "colab": {
          "base_uri": "https://localhost:8080/"
        },
        "id": "2r_PGch9lHOu",
        "outputId": "142ddcbd-0efe-4e4b-fcf9-0bde430e025e"
      },
      "outputs": [
        {
          "name": "stdout",
          "output_type": "stream",
          "text": [
            "Epoch:1, Iter:1000, errD_real:0.14, errD_fake:0.13, errG:2.30\n",
            "Epoch:1, Iter:2000, errD_real:0.35, errD_fake:0.19, errG:2.06\n",
            "Epoch:1, Iter:3000, errD_real:0.54, errD_fake:0.30, errG:1.71\n",
            "Epoch:2, Iter:1000, errD_real:0.37, errD_fake:0.28, errG:1.83\n",
            "Epoch:2, Iter:2000, errD_real:0.48, errD_fake:0.28, errG:1.67\n",
            "Epoch:2, Iter:3000, errD_real:0.16, errD_fake:0.20, errG:1.81\n",
            "Epoch:3, Iter:1000, errD_real:0.24, errD_fake:0.22, errG:2.28\n",
            "Epoch:3, Iter:2000, errD_real:0.59, errD_fake:0.33, errG:1.75\n",
            "Epoch:3, Iter:3000, errD_real:0.94, errD_fake:0.18, errG:2.26\n",
            "Epoch:4, Iter:1000, errD_real:0.61, errD_fake:0.60, errG:1.22\n",
            "Epoch:4, Iter:2000, errD_real:0.69, errD_fake:0.33, errG:1.72\n",
            "Epoch:4, Iter:3000, errD_real:0.79, errD_fake:0.37, errG:1.84\n",
            "Epoch:5, Iter:1000, errD_real:0.50, errD_fake:0.56, errG:1.71\n",
            "Epoch:5, Iter:2000, errD_real:0.28, errD_fake:0.18, errG:2.15\n",
            "Epoch:5, Iter:3000, errD_real:0.30, errD_fake:0.28, errG:1.95\n",
            "Epoch:6, Iter:1000, errD_real:0.49, errD_fake:0.36, errG:1.75\n",
            "Epoch:6, Iter:2000, errD_real:0.37, errD_fake:0.15, errG:2.26\n",
            "Epoch:6, Iter:3000, errD_real:0.69, errD_fake:0.26, errG:2.04\n",
            "Epoch:7, Iter:1000, errD_real:0.37, errD_fake:0.36, errG:1.61\n",
            "Epoch:7, Iter:2000, errD_real:0.58, errD_fake:0.47, errG:1.75\n",
            "Epoch:7, Iter:3000, errD_real:0.47, errD_fake:0.24, errG:1.88\n",
            "Epoch:8, Iter:1000, errD_real:0.51, errD_fake:0.43, errG:1.55\n",
            "Epoch:8, Iter:2000, errD_real:0.26, errD_fake:0.25, errG:2.40\n",
            "Epoch:8, Iter:3000, errD_real:0.39, errD_fake:0.18, errG:2.37\n",
            "Epoch:9, Iter:1000, errD_real:0.60, errD_fake:0.35, errG:2.20\n",
            "Epoch:9, Iter:2000, errD_real:0.71, errD_fake:0.16, errG:2.55\n",
            "Epoch:9, Iter:3000, errD_real:0.30, errD_fake:0.11, errG:2.48\n",
            "Epoch:10, Iter:1000, errD_real:0.54, errD_fake:0.26, errG:1.58\n",
            "Epoch:10, Iter:2000, errD_real:0.57, errD_fake:0.60, errG:0.94\n",
            "Epoch:10, Iter:3000, errD_real:0.80, errD_fake:0.39, errG:1.57\n",
            "Epoch:11, Iter:1000, errD_real:0.38, errD_fake:0.55, errG:1.61\n",
            "Epoch:11, Iter:2000, errD_real:0.56, errD_fake:0.22, errG:1.84\n",
            "Epoch:11, Iter:3000, errD_real:0.56, errD_fake:0.44, errG:1.52\n",
            "Epoch:12, Iter:1000, errD_real:0.58, errD_fake:0.37, errG:1.40\n",
            "Epoch:12, Iter:2000, errD_real:0.82, errD_fake:0.24, errG:2.34\n",
            "Epoch:12, Iter:3000, errD_real:0.62, errD_fake:0.20, errG:2.05\n",
            "Epoch:13, Iter:1000, errD_real:0.45, errD_fake:0.32, errG:1.50\n",
            "Epoch:13, Iter:2000, errD_real:0.72, errD_fake:0.30, errG:1.50\n",
            "Epoch:13, Iter:3000, errD_real:0.29, errD_fake:0.31, errG:1.93\n",
            "Epoch:14, Iter:1000, errD_real:0.22, errD_fake:0.33, errG:1.75\n",
            "Epoch:14, Iter:2000, errD_real:0.40, errD_fake:0.29, errG:1.77\n",
            "Epoch:14, Iter:3000, errD_real:0.52, errD_fake:0.29, errG:1.55\n",
            "Epoch:15, Iter:1000, errD_real:0.60, errD_fake:0.27, errG:1.72\n",
            "Epoch:15, Iter:2000, errD_real:0.43, errD_fake:0.27, errG:2.00\n",
            "Epoch:15, Iter:3000, errD_real:0.30, errD_fake:0.44, errG:1.52\n",
            "Epoch:16, Iter:1000, errD_real:0.45, errD_fake:0.64, errG:1.58\n",
            "Epoch:16, Iter:2000, errD_real:0.68, errD_fake:0.30, errG:1.74\n",
            "Epoch:16, Iter:3000, errD_real:0.43, errD_fake:0.45, errG:1.46\n",
            "Epoch:17, Iter:1000, errD_real:0.42, errD_fake:0.31, errG:1.90\n",
            "Epoch:17, Iter:2000, errD_real:0.38, errD_fake:0.34, errG:1.59\n",
            "Epoch:17, Iter:3000, errD_real:0.44, errD_fake:0.42, errG:1.45\n",
            "Epoch:18, Iter:1000, errD_real:0.51, errD_fake:0.43, errG:1.24\n",
            "Epoch:18, Iter:2000, errD_real:0.71, errD_fake:0.29, errG:1.52\n",
            "Epoch:18, Iter:3000, errD_real:0.34, errD_fake:0.37, errG:1.53\n",
            "Epoch:19, Iter:1000, errD_real:0.83, errD_fake:0.48, errG:1.61\n",
            "Epoch:19, Iter:2000, errD_real:0.85, errD_fake:0.27, errG:1.68\n",
            "Epoch:19, Iter:3000, errD_real:0.80, errD_fake:0.35, errG:2.03\n",
            "Epoch:20, Iter:1000, errD_real:0.38, errD_fake:0.38, errG:1.28\n",
            "Epoch:20, Iter:2000, errD_real:0.52, errD_fake:0.35, errG:1.60\n",
            "Epoch:20, Iter:3000, errD_real:0.73, errD_fake:0.24, errG:1.64\n",
            "Epoch:21, Iter:1000, errD_real:0.46, errD_fake:0.82, errG:0.94\n",
            "Epoch:21, Iter:2000, errD_real:0.59, errD_fake:0.23, errG:1.86\n",
            "Epoch:21, Iter:3000, errD_real:0.39, errD_fake:0.36, errG:1.53\n",
            "Epoch:22, Iter:1000, errD_real:0.23, errD_fake:0.33, errG:1.39\n",
            "Epoch:22, Iter:2000, errD_real:0.28, errD_fake:0.38, errG:1.42\n",
            "Epoch:22, Iter:3000, errD_real:0.50, errD_fake:0.36, errG:1.52\n",
            "Epoch:23, Iter:1000, errD_real:0.49, errD_fake:0.33, errG:1.47\n",
            "Epoch:23, Iter:2000, errD_real:0.43, errD_fake:0.46, errG:1.19\n",
            "Epoch:23, Iter:3000, errD_real:0.67, errD_fake:0.61, errG:1.16\n",
            "Epoch:24, Iter:1000, errD_real:0.54, errD_fake:0.48, errG:1.38\n",
            "Epoch:24, Iter:2000, errD_real:0.53, errD_fake:0.45, errG:1.08\n",
            "Epoch:24, Iter:3000, errD_real:0.54, errD_fake:0.29, errG:1.47\n",
            "Epoch:25, Iter:1000, errD_real:0.50, errD_fake:0.63, errG:1.16\n",
            "Epoch:25, Iter:2000, errD_real:0.50, errD_fake:0.45, errG:1.22\n",
            "Epoch:25, Iter:3000, errD_real:0.44, errD_fake:0.49, errG:1.06\n"
          ]
        }
      ],
      "source": [
        "ERRD_real = np.zeros(config.num_epochs)\n",
        "ERRD_fake = np.zeros(config.num_epochs)\n",
        "ERRD = np.zeros(config.num_epochs)\n",
        "ERRG = np.zeros(config.num_epochs)\n",
        "N = len(dataloader)\n",
        "\n",
        "for epoch in range(config.num_epochs):\n",
        "    for iteration, (images, cat) in enumerate(dataloader):\n",
        "        #######\n",
        "        # Discriminator stage:\n",
        "        #######\n",
        "        critic_gp.zero_grad()\n",
        "\n",
        "        # real\n",
        "        label.data.fill_(real_label)\n",
        "        input_data = images.view(images.shape[0], -1).to(device)\n",
        "        output = critic_gp(input_data).view(-1)\n",
        "        errD_real = criterion(output, label)\n",
        "        ERRD_real[epoch] += errD_real.item()\n",
        "        errD_real.backward()\n",
        "\n",
        "        # fake\n",
        "        noise.data.normal_(0, 1)\n",
        "        fake = gen_wgan_gp(noise)\n",
        "        label.data.fill_(fake_label)\n",
        "        output = critic_gp(fake.detach()).view(-1)\n",
        "\n",
        "        errD_fake = criterion(output, label)\n",
        "        ERRD_fake[epoch] += errD_fake.item()\n",
        "        errD_fake.backward()\n",
        "\n",
        "        gp = gradient_penalty(critic_gp, input_data, fake, device)\n",
        "        errD = errD_fake - errD_real + gp\n",
        "        ERRD[epoch] += errD.item()\n",
        "\n",
        "        optim_C_gp.step()\n",
        "\n",
        "        #######\n",
        "        # Generator stage:\n",
        "        #######\n",
        "        gen_wgan_gp.zero_grad()\n",
        "        label.data.fill_(real_label)\n",
        "        output = critic_gp(fake).view(-1)\n",
        "        errG = criterion(output, label)\n",
        "        ERRG[epoch] += errG.item()\n",
        "        errG.backward()\n",
        "\n",
        "        optim_G_wgan_gp.step()\n",
        "\n",
        "        if (iteration+1) % config.print_freq == 0:\n",
        "            print('Epoch:{},  Iter:{},  errD_real:{:.2f},  errD_fake:{:.2f},  errG:{:.2f}'.format(\n",
        "                epoch+1,\n",
        "                iteration+1,\n",
        "                errD_real.item(),\n",
        "                errD_fake.item(),\n",
        "                errG.item()))"
      ]
    },
    {
      "cell_type": "code",
      "execution_count": null,
      "metadata": {
        "colab": {
          "base_uri": "https://localhost:8080/",
          "height": 559
        },
        "id": "xMgYDLZblHOu",
        "outputId": "640acc85-d8fc-49ea-fe43-ef8ce8cff20f"
      },
      "outputs": [
        {
          "data": {
            "image/png": "[encoded data removed]",
            "text/plain": [
              "<Figure size 600x700 with 16 Axes>"
            ]
          },
          "metadata": {},
          "output_type": "display_data"
        }
      ],
      "source": [
        "noise.data.normal_(0, 1)\n",
        "fake = gen_wgan_gp(noise)\n",
        "\n",
        "plt.figure(figsize=(6, 7))\n",
        "for i in range(16):\n",
        "    plt.subplot(4, 4, i + 1)\n",
        "    plt.imshow(fake[i].detach().numpy().reshape(28, 28), cmap=plt.cm.Greys_r)\n",
        "    plt.axis('off')"
      ]
    },
    {
      "cell_type": "markdown",
      "metadata": {
        "id": "5uLQjHR7aOqy"
      },
      "source": [
        "## Conditinal WGAN"
      ]
    },
    {
      "cell_type": "code",
      "execution_count": 8,
      "metadata": {
        "id": "1Ap0u73rdoYX"
      },
      "outputs": [],
      "source": [
        "class Gen_cond_wgan(nn.Module):\n",
        "    def __init__(self):\n",
        "        super(Gen_cond_wgan, self).__init__()\n",
        "\n",
        "        self.embedding = nn.Embedding(config.class_size, config.embedding_dim)\n",
        "\n",
        "        self.model = nn.Sequential(\n",
        "            nn.Linear(config.noise_size + config.embedding_dim, 200),\n",
        "            nn.ReLU(inplace=True),\n",
        "            nn.Linear(200, 28*28),\n",
        "            nn.Tanh())\n",
        "\n",
        "    def forward(self, input, label):\n",
        "        #embed label\n",
        "        label = self.embedding(label)\n",
        "\n",
        "        #concatenate latent vector (input) and label\n",
        "        x = torch.cat([input, label], 1)\n",
        "\n",
        "        result = self.model(x)\n",
        "        result = result.view(-1, 1, 28, 28)\n",
        "        return result\n",
        "\n",
        "class Disc_cond_wgan(nn.Module):\n",
        "    def __init__(self):\n",
        "        super(Disc_cond_wgan, self).__init__()\n",
        "\n",
        "        self.embedding = nn.Embedding(config.class_size, config.embedding_dim)\n",
        "\n",
        "        self.model = nn.Sequential(\n",
        "            nn.Linear(28*28 + config.embedding_dim, 200),\n",
        "            nn.ReLU(inplace=True),\n",
        "            nn.Linear(200, 50),\n",
        "            nn.ReLU(inplace=True),\n",
        "            nn.Linear(50, 1),\n",
        "            nn.Sigmoid()\n",
        "            )\n",
        "\n",
        "    def forward(self, input, label):\n",
        "        #embed label\n",
        "        label = self.embedding(label)\n",
        "\n",
        "        #flatten image to 2d tensor\n",
        "        input = input.view(input.size(0), -1)\n",
        "\n",
        "        #concatenate image vector and label\n",
        "        x = torch.cat([input, label], 1)\n",
        "        result = self.model(x)\n",
        "        return result"
      ]
    },
    {
      "cell_type": "code",
      "execution_count": 7,
      "metadata": {
        "id": "tmjHobxPnOX2"
      },
      "outputs": [],
      "source": [
        "gen_cond_wgan = Gen_cond_wgan()\n",
        "critic_cond = Disc_cond_wgan()"
      ]
    },
    {
      "cell_type": "code",
      "execution_count": 8,
      "metadata": {
        "id": "UPtrXIBnnsvS"
      },
      "outputs": [],
      "source": [
        "device = 'cuda' if torch.cuda.is_available() else 'cpu'\n",
        "gen_cond_wgan = gen_cond_wgan.to(device)\n",
        "critic_cond = critic_cond.to(device)\n",
        "optim_G_cond_wgan = optim.Adam(params=gen_cond_wgan.parameters(), lr=0.0001)\n",
        "optim_C_cond = optim.Adam(params=critic_cond.parameters(), lr=0.0001)\n",
        "\n",
        "criterion = nn.BCEWithLogitsLoss()"
      ]
    },
    {
      "cell_type": "code",
      "execution_count": 14,
      "metadata": {
        "id": "NbMGBMv7nOX3"
      },
      "outputs": [],
      "source": [
        "noise = Variable(torch.FloatTensor(config.batch_size, config.noise_size, device=device))\n",
        "label = Variable(torch.FloatTensor(config.batch_size, device=device))\n",
        "real_label = 1\n",
        "fake_label = 0"
      ]
    },
    {
      "cell_type": "code",
      "execution_count": 10,
      "metadata": {
        "id": "2P9BVWWVt4L3"
      },
      "outputs": [],
      "source": [
        "def gradient_penalty(critic, real_samples, fake_samples, labels):\n",
        "        # Random weight term for interpolation between real and fake samples\n",
        "        alpha = torch.Tensor(np.random.random((real_samples.size(0), 1, 1, 1))).to(device)\n",
        "        # Get random interpolation between real and fake samples\n",
        "        interpolates = (alpha * real_samples + ((1 - alpha) * fake_samples)).requires_grad_(True)\n",
        "        d_interpolates = critic(interpolates, labels)\n",
        "        fake = torch.Tensor(real_samples.shape[0], 1).fill_(1.0).to(device)\n",
        "        fake.requires_grad = False\n",
        "        # Get gradient w.r.t. interpolates\n",
        "        gradients = torch.autograd.grad(\n",
        "            outputs=d_interpolates,\n",
        "            inputs=interpolates,\n",
        "            grad_outputs=fake,\n",
        "            create_graph=True,\n",
        "            retain_graph=True,\n",
        "            only_inputs=True,\n",
        "        )\n",
        "        gradients = gradients[0].view(gradients[0].size(0), -1)\n",
        "        gradient_penalty = ((gradients.norm(2, dim=1) - 1) ** 2).mean()\n",
        "        return gradient_penalty"
      ]
    },
    {
      "cell_type": "code",
      "execution_count": 11,
      "metadata": {
        "colab": {
          "base_uri": "https://localhost:8080/"
        },
        "id": "BUAyuud5pHiz",
        "outputId": "26b837f6-f868-4d1b-abc3-b46cabf0123c"
      },
      "outputs": [
        {
          "name": "stdout",
          "output_type": "stream",
          "text": [
            "Epoch 0,    Gen Loss: -46.9270,   Dis Loss: 234.2795,   Was Loss: -0.5140\n",
            "Epoch 1,    Gen Loss: -46.9992,   Dis Loss: 231.8232,   Was Loss: -0.3139\n",
            "Epoch 2,    Gen Loss: -50.9929,   Dis Loss: 230.9479,   Was Loss: -0.3305\n",
            "Epoch 3,    Gen Loss: -60.6123,   Dis Loss: 230.4598,   Was Loss: -0.2567\n",
            "Epoch 4,    Gen Loss: -62.3577,   Dis Loss: 222.7550,   Was Loss: -0.2497\n",
            "Epoch 5,    Gen Loss: -71.1157,   Dis Loss: 223.5363,   Was Loss: -0.1956\n",
            "Epoch 6,    Gen Loss: -76.1021,   Dis Loss: 226.0704,   Was Loss: -0.0390\n",
            "Epoch 7,    Gen Loss: -81.1751,   Dis Loss: 229.1840,   Was Loss: -0.2241\n",
            "Epoch 8,    Gen Loss: -85.7856,   Dis Loss: 231.1193,   Was Loss: -0.2054\n",
            "Epoch 9,    Gen Loss: -88.2004,   Dis Loss: 229.3983,   Was Loss: -0.2390\n",
            "Epoch 10,    Gen Loss: -88.2269,   Dis Loss: 230.0510,   Was Loss: -0.1357\n",
            "Epoch 11,    Gen Loss: -91.0042,   Dis Loss: 232.7186,   Was Loss: -0.0260\n",
            "Epoch 12,    Gen Loss: -91.0633,   Dis Loss: 233.5027,   Was Loss: -0.0972\n",
            "Epoch 13,    Gen Loss: -91.7198,   Dis Loss: 234.6178,   Was Loss: -0.0876\n",
            "Epoch 14,    Gen Loss: -93.5361,   Dis Loss: 234.5578,   Was Loss: -0.1549\n",
            "Epoch 15,    Gen Loss: -95.0851,   Dis Loss: 235.4492,   Was Loss: -0.1934\n",
            "Epoch 16,    Gen Loss: -94.5236,   Dis Loss: 234.0763,   Was Loss: -0.2241\n",
            "Epoch 17,    Gen Loss: -95.7560,   Dis Loss: 233.0822,   Was Loss: -0.0034\n",
            "Epoch 18,    Gen Loss: -95.6224,   Dis Loss: 232.9624,   Was Loss: -0.1888\n",
            "Epoch 19,    Gen Loss: -98.7006,   Dis Loss: 235.9564,   Was Loss: -0.2507\n",
            "Epoch 20,    Gen Loss: -96.8013,   Dis Loss: 229.0294,   Was Loss: -0.0910\n",
            "Epoch 21,    Gen Loss: -97.8100,   Dis Loss: 232.3552,   Was Loss: 0.0067\n",
            "Epoch 22,    Gen Loss: -100.0605,   Dis Loss: 237.2481,   Was Loss: 0.2775\n",
            "Epoch 23,    Gen Loss: -99.5091,   Dis Loss: 235.6801,   Was Loss: 0.0029\n",
            "Epoch 24,    Gen Loss: -100.4058,   Dis Loss: 232.6462,   Was Loss: -0.0380\n"
          ]
        }
      ],
      "source": [
        "for epoch in range(config.num_epochs):\n",
        "    gen_loss_list = []\n",
        "    dis_loss_list = []\n",
        "    was_loss_list = []\n",
        "    gen_loss = 0\n",
        "    dis_loss = 0\n",
        "    for images, labels in dataloader:\n",
        "        b_size = len(images)\n",
        "        #train Discriminator with Wasserstein Loss\n",
        "        critic_cond.zero_grad()\n",
        "\n",
        "        #fake loss\n",
        "        noise.data.normal_(0, 1)\n",
        "        fake_images = gen_cond_wgan(noise, labels.to(device))\n",
        "        fake_pred = critic_cond(fake_images, labels.to(device))\n",
        "        d_loss_fake = torch.mean(fake_pred)\n",
        "\n",
        "        #real loss\n",
        "        real_pred = critic_cond(images.to(device), labels.to(device))\n",
        "        d_loss_real = -torch.mean(real_pred)\n",
        "\n",
        "        gp = gradient_penalty(critic_cond, images.to(device), fake_images, labels.to(device))\n",
        "\n",
        "        d_loss = d_loss_fake - d_loss_real\n",
        "        was_loss = (d_loss_fake + d_loss_real) + gp\n",
        "        was_loss.backward()\n",
        "        optim_C_cond.step()\n",
        "\n",
        "        dis_loss += d_loss.item()/b_size\n",
        "\n",
        "        #train Generator\n",
        "        gen_cond_wgan.zero_grad()\n",
        "\n",
        "        noise.data.normal_(0, 1)\n",
        "        fake_images = gen_cond_wgan(noise, labels.to(device))\n",
        "        fake_pred = critic_cond(fake_images, labels.to(device))\n",
        "        g_loss = -torch.mean(fake_pred)\n",
        "        g_loss.backward()\n",
        "        optim_G_cond_wgan.step()\n",
        "\n",
        "        gen_loss += g_loss.item()/b_size\n",
        "\n",
        "    print('Epoch {},    Gen Loss: {:.4f},   Dis Loss: {:.4f},   Was Loss: {:.4f}'.format(epoch+1, gen_loss, dis_loss, was_loss))\n",
        "    gen_loss_list.append(gen_loss)\n",
        "    dis_loss_list.append(dis_loss)\n",
        "    was_loss_list.append(was_loss)\n"
      ]
    },
    {
      "cell_type": "code",
      "execution_count": 11,
      "metadata": {
        "id": "FE4PLUSLi86G"
      },
      "outputs": [],
      "source": [
        "# Создаем словарь, для удобства проверки качества классификации\n",
        "glossary = {0: 'Футболка', 1: 'Брюки', 2: 'Свитер', 3: 'Платье',\n",
        "            4: 'Пальто', 5: 'Сандалия', 6: 'Рубашка', 7: 'Кроссовок',\n",
        "            8: 'Сумка', 9: 'Сапог'}"
      ]
    },
    {
      "cell_type": "code",
      "execution_count": null,
      "metadata": {},
      "outputs": [],
      "source": [
        "# Посмотрим примеры картинок для классификации\n",
        "plt.figure(figsize=(10,10))\n",
        "for i in range(25):\n",
        "    plt.subplot(5,5,i+1)\n",
        "    plt.xticks([])\n",
        "    plt.yticks([])\n",
        "    plt.grid(False)\n",
        "    plt.imshow(x_train[i], cmap=\"Greys\")\n",
        "    plt.xlabel(str(y_train[i]) + ' - ' + glossary[y_train[i]])\n",
        "plt.show()"
      ]
    },
    {
      "cell_type": "code",
      "execution_count": 18,
      "metadata": {
        "colab": {
          "base_uri": "https://localhost:8080/",
          "height": 559
        },
        "id": "4Fzt5mi6nOX3",
        "outputId": "542ead53-79c1-4f58-859d-cf9abf95e139"
      },
      "outputs": [
        {
          "data": {
            "image/png": "[encoded data removed]",
            "text/plain": [
              "<Figure size 600x700 with 16 Axes>"
            ]
          },
          "metadata": {},
          "output_type": "display_data"
        }
      ],
      "source": [
        "noise.data.normal_(0, 1)\n",
        "labels = np.array([0, 1, 2, 3, 4, 5, 6, 7, 8, 9, 0, 1, 2, 3, 4, 5])\n",
        "labels_tensor = torch.LongTensor(labels).to(device)\n",
        "fake = gen_cond_wgan(noise, labels_tensor)\n",
        "\n",
        "plt.figure(figsize=(6, 7))\n",
        "for i in range(16):\n",
        "    plt.subplot(4, 4, i + 1)\n",
        "    #plt.axis('off')\n",
        "    plt.xticks([])\n",
        "    plt.yticks([])\n",
        "    plt.grid(False)\n",
        "    plt.imshow(fake[i].detach().numpy().reshape(28, 28), cmap=plt.cm.Greys_r)\n",
        "    plt.xlabel(str(labels[i]) + ' - ' + glossary[labels[i]])"
      ]
    },
    {
      "cell_type": "code",
      "execution_count": 47,
      "metadata": {
        "id": "KbobunXNomA7"
      },
      "outputs": [],
      "source": [
        "torch.save(gen_cond_wgan, 'CondGen')\n",
        "torch.save(critic_cond, 'CondCritic')"
      ]
    },
    {
      "cell_type": "code",
      "execution_count": 9,
      "metadata": {},
      "outputs": [
        {
          "name": "stderr",
          "output_type": "stream",
          "text": [
            "C:\\Users\\smart\\AppData\\Local\\Temp\\ipykernel_20840\\4161799510.py:2: FutureWarning: You are using `torch.load` with `weights_only=False` (the current default value), which uses the default pickle module implicitly. It is possible to construct malicious pickle data which will execute arbitrary code during unpickling (See https://github.com/pytorch/pytorch/blob/main/SECURITY.md#untrusted-models for more details). In a future release, the default value for `weights_only` will be flipped to `True`. This limits the functions that could be executed during unpickling. Arbitrary objects will no longer be allowed to be loaded via this mode unless they are explicitly allowlisted by the user via `torch.serialization.add_safe_globals`. We recommend you start setting `weights_only=True` for any use case where you don't have full control of the loaded file. Please open an issue on GitHub for any issues related to this experimental feature.\n",
            "  gen_cond_wgan.load_state_dict(torch.load('models/CondGen'))\n",
            "C:\\Users\\smart\\AppData\\Local\\Temp\\ipykernel_20840\\4161799510.py:5: FutureWarning: You are using `torch.load` with `weights_only=False` (the current default value), which uses the default pickle module implicitly. It is possible to construct malicious pickle data which will execute arbitrary code during unpickling (See https://github.com/pytorch/pytorch/blob/main/SECURITY.md#untrusted-models for more details). In a future release, the default value for `weights_only` will be flipped to `True`. This limits the functions that could be executed during unpickling. Arbitrary objects will no longer be allowed to be loaded via this mode unless they are explicitly allowlisted by the user via `torch.serialization.add_safe_globals`. We recommend you start setting `weights_only=True` for any use case where you don't have full control of the loaded file. Please open an issue on GitHub for any issues related to this experimental feature.\n",
            "  critic_cond.load_state_dict(torch.load('models/CondCritic'))\n"
          ]
        },
        {
          "data": {
            "text/plain": [
              "<All keys matched successfully>"
            ]
          },
          "execution_count": 9,
          "metadata": {},
          "output_type": "execute_result"
        }
      ],
      "source": [
        "gen_cond_wgan = Gen_cond_wgan()\n",
        "gen_cond_wgan.load_state_dict(torch.load('models/CondGen'))\n",
        "\n",
        "critic_cond = Disc_cond_wgan()\n",
        "critic_cond.load_state_dict(torch.load('models/CondCritic'))"
      ]
    }
  ],
  "metadata": {
    "anaconda-cloud": {},
    "colab": {
      "collapsed_sections": [
        "EDfo1POdLezU",
        "x3XozpMxEVAL",
        "C0AkweGGLIhF",
        "lIAhOGCphts4"
      ],
      "provenance": []
    },
    "kernelspec": {
      "display_name": "Python 3 (ipykernel)",
      "language": "python",
      "name": "python3"
    },
    "language_info": {
      "codemirror_mode": {
        "name": "ipython",
        "version": 3
      },
      "file_extension": ".py",
      "mimetype": "text/x-python",
      "name": "python",
      "nbconvert_exporter": "python",
      "pygments_lexer": "ipython3",
      "version": "3.9.10"
    }
  },
  "nbformat": 4,
  "nbformat_minor": 0
}
