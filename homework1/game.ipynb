{
 "cells": [
  {
   "cell_type": "markdown",
   "metadata": {},
   "source": [
    "# Условие соревнования\n",
    "- Компьютер загадывает целое число от 1 до 100, и нам его нужно угадать. Под «угадать», подразумевается «написать программу, которая угадывает число».    \n",
    "- Алгоритм учитывает информацию о том, больше ли случайное число или меньше нужного нам.\n",
    "- Необходимо добиться того, чтобы программа угадывала число меньше, чем за 20 попыток. "
   ]
  },
  {
   "cell_type": "markdown",
   "metadata": {},
   "source": [
    "Импортируем библиотеку, которая нам пригодится для генерации случайных чисел."
   ]
  },
  {
   "cell_type": "code",
   "execution_count": 1,
   "metadata": {},
   "outputs": [],
   "source": [
    "import numpy as np"
   ]
  },
  {
   "cell_type": "markdown",
   "metadata": {},
   "source": [
    "# Функция для оценки\n",
    "Эта функция необходима, чтобы определить, за какое число попыток программа угадывает наше число."
   ]
  },
  {
   "cell_type": "code",
   "execution_count": 6,
   "metadata": {},
   "outputs": [],
   "source": [
    "def score_game(random_predict) -> int:\n",
    "    \"\"\"За какое количество попыток в среднем за 10000 подходов угадывает наш алгоритм\n",
    "\n",
    "    Args:\n",
    "        random_predict ([type]): функция угадывания\n",
    "\n",
    "    Returns:\n",
    "        int: среднее количество попыток\n",
    "    \"\"\"\n",
    "    count_ls = []\n",
    "    #np.random.seed(1)  # фиксируем сид для воспроизводимости\n",
    "    random_array = np.random.randint(1, 101, size=(10000))  # загадали список чисел\n",
    "\n",
    "    for number in random_array:\n",
    "        count_ls.append(random_predict(number))\n",
    "\n",
    "    score = int(np.mean(count_ls))\n",
    "    print(f\"Ваш алгоритм угадывает число в среднем за: {score} попыток(тки)\")\n"
   ]
  },
  {
   "cell_type": "markdown",
   "metadata": {},
   "source": [
    "# Функция угадывания\n",
    "Сначала устанавливаем любое случайное число, а потом уменьшаем пределы его генерации в зависимости от того больше или меньше это число, искомого"
   ]
  },
  {
   "cell_type": "code",
   "execution_count": 8,
   "metadata": {},
   "outputs": [],
   "source": [
    "def game_core_v3(number: int = 1) -> int:\n",
    "    \"\"\"Сначала устанавливаем любое random число, а потом уменьшаем пределы \n",
    "    его генерации в зависимости от того больше или меньше это число, искомого\n",
    "       \n",
    "       Функция принимает загаданное число и возвращает число попыток\n",
    "       \n",
    "    Args:\n",
    "        number (int, optional): Загаданное число. Defaults to 1.\n",
    "\n",
    "    Returns:\n",
    "        int: Число попыток\n",
    "    \"\"\"\n",
    "    count = 0\n",
    "    left, right = 1, 101 # устанавливаем пределы для генерации случайного числа\n",
    "    predict = np.random.randint(left, right)\n",
    "\n",
    "    while predict != number:\n",
    "      count += 1\n",
    "      if predict < number: \n",
    "        left = predict # сдвигаем нижний предел генерации\n",
    "      elif predict > number: \n",
    "        right = predict # сдвигаем верхний предел генерации\n",
    "      predict = np.random.randint(left, right) # генерируем новое случайное число\n",
    "\n",
    "    return count"
   ]
  },
  {
   "cell_type": "markdown",
   "metadata": {},
   "source": [
    "# Оценка работы алгоритма"
   ]
  },
  {
   "cell_type": "code",
   "execution_count": 9,
   "metadata": {},
   "outputs": [
    {
     "name": "stdout",
     "output_type": "stream",
     "text": [
      "Run benchmarking for game_core_v3: Ваш алгоритм угадывает число в среднем за: 7 попыток(тки)\n"
     ]
    }
   ],
   "source": [
    "#RUN\n",
    "print('Run benchmarking for game_core_v3: ', end='')\n",
    "score_game(game_core_v3)"
   ]
  },
  {
   "cell_type": "markdown",
   "metadata": {},
   "source": [
    "Вывод: написанная функция угадывает число в среднем за 7 попыток, что меньше 20, а следовательно задание выполнено корректно. Спасибо за потраченное на проверку время)"
   ]
  }
 ],
 "metadata": {
  "kernelspec": {
   "display_name": "Python 3",
   "language": "python",
   "name": "python3"
  },
  "language_info": {
   "codemirror_mode": {
    "name": "ipython",
    "version": 3
   },
   "file_extension": ".py",
   "mimetype": "text/x-python",
   "name": "python",
   "nbconvert_exporter": "python",
   "pygments_lexer": "ipython3",
   "version": "3.9.10"
  },
  "orig_nbformat": 4
 },
 "nbformat": 4,
 "nbformat_minor": 2
}
