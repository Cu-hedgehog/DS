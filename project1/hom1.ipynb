{
 "cells": [
  {
   "cell_type": "code",
   "execution_count": 11,
   "metadata": {},
   "outputs": [
    {
     "name": "stdout",
     "output_type": "stream",
     "text": [
      "{'': ['value2', 'value4'], 'value5': ['value6']}\n",
      ":value2::value4:value5:value6\n"
     ]
    }
   ],
   "source": [
    "def dict_create(in_str):\n",
    "    f = 0\n",
    "    final_dict = {}\n",
    "    in_list = in_str.split(':')\n",
    "    for i in range(len(in_list)-1):\n",
    "        if f == 0:\n",
    "            f = 1\n",
    "            if in_list[i] in final_dict:\n",
    "                final_dict[in_list[i]].append(in_list[i+1])\n",
    "            else: final_dict[in_list[i]] = [in_list[i+1]]\n",
    "        else: \n",
    "            f = 0\n",
    "    return final_dict\n",
    "\n",
    "def return_str(in_dict):\n",
    "    final_str = ''\n",
    "    for i in in_dict:\n",
    "        for j in in_dict[i]:\n",
    "            final_str += (f'{i}:{j}:')\n",
    "    final_str = final_str[:len(final_str) - 1]        \n",
    "    return final_str\n",
    "\n",
    "a = dict_create(':value2::value4:value5:value6')\n",
    "print(a)\n",
    "b = return_str(a)\n",
    "print(b)"
   ]
  }
 ],
 "metadata": {
  "kernelspec": {
   "display_name": "Python 3",
   "language": "python",
   "name": "python3"
  },
  "language_info": {
   "codemirror_mode": {
    "name": "ipython",
    "version": 3
   },
   "file_extension": ".py",
   "mimetype": "text/x-python",
   "name": "python",
   "nbconvert_exporter": "python",
   "pygments_lexer": "ipython3",
   "version": "3.9.10"
  },
  "orig_nbformat": 4
 },
 "nbformat": 4,
 "nbformat_minor": 2
}
