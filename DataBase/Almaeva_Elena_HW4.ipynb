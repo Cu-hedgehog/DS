{
  "cells": [
    {
      "cell_type": "markdown",
      "metadata": {
        "id": "LbOZ0b-MLYMG"
      },
      "source": [
        "# Выборка и агрегация данных в MongoDB\n",
        "\n",
        "###Цель домашней работы\n",
        "\n",
        "Закрепить на практике основные приемы работы с СУБД MongoDB, включая выборку, сортировку, объединение, агрегацию данных и передачу результатов выборки в программу на Python в целях аналитики и дальнейшей обработки."
      ]
    },
    {
      "cell_type": "markdown",
      "metadata": {
        "id": "VGMYMmFvEAQY"
      },
      "source": [
        "### Формулировка задания\n",
        "\n",
        "В этом задании вам предстоит выполнить несколько запросов к базе данных для получения выборок по условиям, а также воспользоваться фреймворком агрегации MongoDB для построения конвейера обработки данных.\n",
        "\n",
        "Максимальное количество баллов за выполнение домашней работы: 10."
      ]
    },
    {
      "cell_type": "markdown",
      "metadata": {
        "id": "3S2xr8EESZ8A"
      },
      "source": [
        "##Что нужно использовать в работе над заданием\n",
        "\n",
        "I. MongoDB:\n",
        "\n",
        "1. Зарегистрируйтесь в сервисе MongoDB Atlas: https://www.mongodb.com/atlas/database.\n",
        "1. Создайте кластер уровня M0 (это бесплатно).\n",
        "1. Добавьте в кластер тестовую базу данных `sample_mflix`, используя опцию Load Sample Dataset.\n",
        "\n",
        "В качестве альтернативы вы можете установить MongoDB на свой локальный компьютер и импортировать необходимые датасеты в свою СУБД, загрузив их по ссылке: https://github.com/neelabalan/mongodb-sample-dataset/tree/main/sample_mflix. Для этого подключитесь к своему серверу через Compass, создайте новую БД, создайте для каждого датасета коллекцию и щелкните «Add data» → «Import JSON or CSV file».\n",
        "\n",
        "II. MongoDB Compass — в качестве вспомогательного инструмента для конструирования запросов и агрегаций.\n",
        "\n",
        "III. Python и библиотека pymongo. Работа ведется в Jupyter Notebook или Google Colaboratory. Рекомендуется использовать версию Python 3.12."
      ]
    },
    {
      "cell_type": "markdown",
      "metadata": {
        "id": "xyG0RIatRiaQ"
      },
      "source": [
        "##Ожидаемые результаты\n",
        "\n",
        "Результаты работы необходимо оформить в виде ноутбука Jupyter. Можно загрузить файл в LMS либо поделиться ссылкой на Google Colaboratory."
      ]
    },
    {
      "cell_type": "markdown",
      "metadata": {
        "id": "O9MAw9odS5LD"
      },
      "source": [
        "##Место где нужно выполнить задание\n",
        "\n"
      ]
    },
    {
      "cell_type": "code",
      "execution_count": 3,
      "metadata": {
        "colab": {
          "base_uri": "https://localhost:8080/"
        },
        "id": "hUzn3aDI2stL",
        "outputId": "ec83cccf-e339-4f3c-aefc-29d13c2d612c"
      },
      "outputs": [
        {
          "name": "stdout",
          "output_type": "stream",
          "text": [
            "['sample_airbnb', 'sample_analytics', 'sample_geospatial', 'sample_guides', 'sample_mflix', 'sample_restaurants', 'sample_supplies', 'sample_training', 'sample_weatherdata', 'admin', 'local']\n"
          ]
        }
      ],
      "source": [
        "import pymongo\n",
        "\n",
        "client = pymongo.MongoClient(\"mongodb+srv://<username>:<paasword>@cluster0.ddqxx0x.mongodb.net/\")\n",
        "print(client.list_database_names())  # Вывести список БД для проверки подключения"
      ]
    },
    {
      "cell_type": "markdown",
      "metadata": {
        "id": "3hkkb3IAiJyx"
      },
      "source": [
        "### Упражнение 1. Запросы на выборку"
      ]
    },
    {
      "cell_type": "markdown",
      "metadata": {
        "id": "2t6Z-LgtiSwL"
      },
      "source": [
        "Цель этого упражнения — закрепить навык выполнения запросов на выборку. Все запросы выполняются на базе `sample_mflix` с данными о кинофильмах."
      ]
    },
    {
      "cell_type": "markdown",
      "metadata": {
        "id": "SZnDnHNo0sPv"
      },
      "source": [
        "#### Задача 1.1 — **1 балл**"
      ]
    },
    {
      "cell_type": "markdown",
      "metadata": {
        "id": "A_Y7zbHe0u1T"
      },
      "source": [
        "Выведите из коллекции `theaters` документы о кинотеатрах в городе Florence, штат KY.\n",
        "\n",
        "Для справки:\n",
        "\n",
        "* Обратите внимание на то, что информация об адресе кинотеатров хранится во вложенных документах. Для доступа к полям вложенных документов следует использовать точку: `родительский_документ.вложенный_документ.поле`.\n",
        "* В случае затруднений с написанием логического условия обращайтесь к сопоставлению синтаксиса SQL и Mongo: https://www.mongodb.com/docs/manual/reference/sql-comparison/.\n",
        "* Если вы предпочитаете сперва выполнять запросы в Compass, из этого приложения можно выгружать код готового запроса на Python (кнопка с символом `</>`)."
      ]
    },
    {
      "cell_type": "code",
      "execution_count": 59,
      "metadata": {
        "id": "_z2iic5S0zCk"
      },
      "outputs": [
        {
          "data": {
            "text/plain": [
              "[{'_id': ObjectId('59a47287cfa9a3a73e51e893'),\n",
              "  'theaterId': 161,\n",
              "  'location': {'address': {'street1': '100 Meijer Dr.',\n",
              "    'city': 'Florence',\n",
              "    'state': 'KY',\n",
              "    'zipcode': '41042'},\n",
              "   'geo': {'type': 'Point', 'coordinates': [-84.636383, 39.014843]}}},\n",
              " {'_id': ObjectId('59a47287cfa9a3a73e51ea02'),\n",
              "  'theaterId': 2823,\n",
              "  'location': {'address': {'street1': '2823 Florence Mall',\n",
              "    'street2': '#2148',\n",
              "    'city': 'Florence',\n",
              "    'state': 'KY',\n",
              "    'zipcode': '41042'},\n",
              "   'geo': {'type': 'Point', 'coordinates': [-84.6499595, 38.9967246]}}}]"
            ]
          },
          "execution_count": 59,
          "metadata": {},
          "output_type": "execute_result"
        }
      ],
      "source": [
        "db = client.sample_mflix\n",
        "list(db.theaters.find({\n",
        "    '$and': [\n",
        "        {'location.address.city': 'Florence'}, \n",
        "        {'location.address.state': 'KY'}]\n",
        "}))"
      ]
    },
    {
      "cell_type": "markdown",
      "metadata": {
        "id": "ZddwIpmPITB4"
      },
      "source": [
        "#### Задача 1.2 — **1 балл**"
      ]
    },
    {
      "cell_type": "markdown",
      "metadata": {
        "id": "n6hLPu2iODjH"
      },
      "source": [
        "Сделав запрос к коллекции `comments`, выведите _один_ комментарий (значение поля `text`) пользователя по имени Doreah."
      ]
    },
    {
      "cell_type": "code",
      "execution_count": 36,
      "metadata": {
        "id": "GXOz_fZCPFg_"
      },
      "outputs": [
        {
          "data": {
            "text/plain": [
              "[{'text': 'Porro explicabo cumque vitae sint quia quis. Consequuntur voluptatibus optio maxime ratione temporibus incidunt minus architecto.'}]"
            ]
          },
          "execution_count": 36,
          "metadata": {},
          "output_type": "execute_result"
        }
      ],
      "source": [
        "list(db.comments.find(\n",
        "    {\"name\": \"Doreah\"}, \n",
        "    {'text': 1, '_id': 0}).limit(1))"
      ]
    },
    {
      "cell_type": "markdown",
      "metadata": {
        "id": "tZEJx_DoXuDL"
      },
      "source": [
        "#### Задача 1.3 — **1 балл**"
      ]
    },
    {
      "cell_type": "markdown",
      "metadata": {
        "id": "h8k13yBRX0Uf"
      },
      "source": [
        "Сделав запрос к коллекции `movies`, выведите количество документов, в которых в качестве первого жанра фильма (поле `genres`) указано значение «Horror».\n",
        "\n",
        "Для справки:\n",
        "\n",
        "1. Обратите внимание, что поле `genres` представляет собой массив (индексация массивов начинается с нуля).\n",
        "1. При работе в MongoDB Shell для подсчета количества документов в курсоре можно использовать метод `count()`, однако он был удален в последних версиях библиотеки pymongo. В случае затруднений с использованием функций Mongo можно использовать для подсчета документов средства Python."
      ]
    },
    {
      "cell_type": "code",
      "execution_count": 53,
      "metadata": {
        "id": "3T6W4GVUX154"
      },
      "outputs": [
        {
          "data": {
            "text/plain": [
              "700"
            ]
          },
          "execution_count": 53,
          "metadata": {},
          "output_type": "execute_result"
        }
      ],
      "source": [
        "len(list(db.movies.find(\n",
        "    {'genres.0': 'Horror'})\n",
        "))"
      ]
    },
    {
      "cell_type": "markdown",
      "metadata": {
        "id": "kTue_nh7TFUx"
      },
      "source": [
        "#### Задача 1.4 — **2 балла**"
      ]
    },
    {
      "cell_type": "markdown",
      "metadata": {
        "id": "kuIndgkLT9Tm"
      },
      "source": [
        "Выведите из коллекции `movies` документы о фильмах, которые в качестве первого жанра определены как «Film-Noir» либо «Horror» и были выпущены в период с 1940 по 1949 гг. (включительно)."
      ]
    },
    {
      "cell_type": "code",
      "execution_count": 62,
      "metadata": {
        "id": "hQwJj-fyTtQ1"
      },
      "outputs": [
        {
          "data": {
            "text/plain": [
              "[{'_id': ObjectId('573a1393f29313caabcdc814'),\n",
              "  'plot': \"An American man marries a Serbian immigrant who fears that she will turn into the cat person of her homeland's fables if they are intimate together.\",\n",
              "  'genres': ['Horror', 'Thriller'],\n",
              "  'runtime': 73,\n",
              "  'rated': 'APPROVED',\n",
              "  'cast': ['Simone Simon', 'Kent Smith', 'Tom Conway', 'Jane Randolph'],\n",
              "  'poster': 'https://m.media-amazon.com/images/M/MV5BNzI4YWY0NWQtNWI5YS00MGE4LWE4YTgtMzBmOWIwMzdiYTRiL2ltYWdlL2ltYWdlXkEyXkFqcGdeQXVyNjc1NTYyMjg@._V1_SY1000_SX677_AL_.jpg',\n",
              "  'title': 'Cat People',\n",
              "  'fullplot': 'Irena Dubrovna, a beautiful and mysterious Serbian-born fashion artist living in New York City, falls in love with and marries average-Joe American Oliver Reed. Their marriage suffers though, as Irena believes that she suffers from an ancient curse- whenever emotionally aroused, she will turn into a panther and kill. Oliver thinks that is absurd and childish, so he sends her to psychiatrist Dr. Judd to cure her. Easier said than done...',\n",
              "  'languages': ['English', 'Czech', 'Serbian'],\n",
              "  'released': datetime.datetime(1942, 12, 25, 0, 0),\n",
              "  'directors': ['Jacques Tourneur'],\n",
              "  'writers': ['DeWitt Bodeen'],\n",
              "  'awards': {'wins': 1, 'nominations': 2, 'text': '1 win & 2 nominations.'},\n",
              "  'lastupdated': '2015-08-21 00:53:54.453000000',\n",
              "  'year': 1942,\n",
              "  'imdb': {'rating': 7.4, 'votes': 11589, 'id': 34587},\n",
              "  'countries': ['USA'],\n",
              "  'type': 'movie',\n",
              "  'tomatoes': {'viewer': {'rating': 3.6, 'numReviews': 7115},\n",
              "   'critic': {'rating': 8.3, 'numReviews': 40, 'meter': 93},\n",
              "   'lastUpdated': datetime.datetime(2015, 9, 15, 17, 3, 25),\n",
              "   'consensus': 'Influential noir director Jacques Tourneau infused this sexy, moody horror film with some sly commentary about the psychology and the taboos of desire.',\n",
              "   'rotten': 3,\n",
              "   'production': 'RKO Pictures',\n",
              "   'fresh': 37},\n",
              "  'num_mflix_comments': 0},\n",
              " {'_id': ObjectId('573a1393f29313caabcdcd9d'),\n",
              "  'plot': 'A young Canadian nurse (Betsy) comes to the West Indies to care for Jessica, the wife of a plantation manager (Paul Holland). Jessica seems to be suffering from a kind of mental paralysis ...',\n",
              "  'genres': ['Horror'],\n",
              "  'runtime': 69,\n",
              "  'rated': 'APPROVED',\n",
              "  'cast': ['James Ellison', 'Frances Dee', 'Tom Conway', 'Edith Barrett'],\n",
              "  'num_mflix_comments': 1,\n",
              "  'poster': 'https://m.media-amazon.com/images/M/MV5BZjQzMzliN2YtYTVhNC00Zjc4LThjMmYtMTE0ZGUzMWNmYzJlXkEyXkFqcGdeQXVyMTYxNjkxOQ@@._V1_SY1000_SX677_AL_.jpg',\n",
              "  'title': 'I Walked with a Zombie',\n",
              "  'fullplot': 'A young Canadian nurse (Betsy) comes to the West Indies to care for Jessica, the wife of a plantation manager (Paul Holland). Jessica seems to be suffering from a kind of mental paralysis as a result of fever. When she falls in love with Paul, Betsy determines to cure Jessica even if she needs to use a voodoo ceremony, to give Paul what she thinks he wants.',\n",
              "  'languages': ['English'],\n",
              "  'released': datetime.datetime(1943, 4, 30, 0, 0),\n",
              "  'directors': ['Jacques Tourneur'],\n",
              "  'writers': ['Curt Siodmak (screenplay)',\n",
              "   'Ardel Wray (screenplay)',\n",
              "   'Inez Wallace (original story)'],\n",
              "  'awards': {'wins': 0, 'nominations': 2, 'text': '2 nominations.'},\n",
              "  'lastupdated': '2015-08-16 00:16:16.823000000',\n",
              "  'year': 1943,\n",
              "  'imdb': {'rating': 7.3, 'votes': 6893, 'id': 36027},\n",
              "  'countries': ['USA'],\n",
              "  'type': 'movie',\n",
              "  'tomatoes': {'viewer': {'rating': 3.6, 'numReviews': 4884, 'meter': 75},\n",
              "   'dvd': datetime.datetime(2005, 10, 4, 0, 0),\n",
              "   'critic': {'rating': 8.1, 'numReviews': 26, 'meter': 92},\n",
              "   'lastUpdated': datetime.datetime(2015, 8, 26, 18, 16, 16),\n",
              "   'consensus': \"Evocative direction by Jacques Tourneur collides with the low-rent production values of exploitateer Val Lewton in I Walked with a Zombie, a sultry sleeper that's simultaneously smarmy, eloquent and fascinating.\",\n",
              "   'rotten': 2,\n",
              "   'production': 'Warner Home Video',\n",
              "   'fresh': 24}},\n",
              " {'_id': ObjectId('573a1393f29313caabcdcdf5'),\n",
              "  'plot': 'A seemingly tame leopard used for a publicity stunt escapes and kills a young girl, spreading panic throughout a sleepy new Mexico town.',\n",
              "  'genres': ['Horror', 'Thriller'],\n",
              "  'runtime': 66,\n",
              "  'rated': 'APPROVED',\n",
              "  'cast': [\"Dennis O'Keefe\", 'Margo', 'Jean Brooks', 'Isabel Jewell'],\n",
              "  'num_mflix_comments': 0,\n",
              "  'poster': 'https://m.media-amazon.com/images/M/MV5BYmU4ZDI5NGMtYzM1OC00YTQ3LWI1NTEtNGM0Mzc0ZDA5NzI4XkEyXkFqcGdeQXVyMTQxNzMzNDI@._V1_SY1000_SX677_AL_.jpg',\n",
              "  'title': 'The Leopard Man',\n",
              "  'fullplot': 'At the encouragement of her manager, a nightclub performer in New Mexico (Kiki Walker) takes a leashed leopard into the club as a publicity gimmick. But her rival, angered by the attempt to upstage, scares the animal and it bolts. In the days that follow, people are mauled and the countryside is combed for the loose creature. But Kiki and her manager begin to wonder if maybe the leopard is not responsible for the killings.',\n",
              "  'languages': ['English', 'Spanish'],\n",
              "  'released': datetime.datetime(1943, 5, 8, 0, 0),\n",
              "  'directors': ['Jacques Tourneur'],\n",
              "  'writers': ['Ardel Wray (screenplay)',\n",
              "   'Edward Dein (additional dialogue)',\n",
              "   'Cornell Woolrich (novel)'],\n",
              "  'awards': {'wins': 0, 'nominations': 2, 'text': '2 nominations.'},\n",
              "  'lastupdated': '2015-08-05 00:17:53.897000000',\n",
              "  'year': 1943,\n",
              "  'imdb': {'rating': 6.9, 'votes': 2889, 'id': 36104},\n",
              "  'countries': ['USA'],\n",
              "  'type': 'movie',\n",
              "  'tomatoes': {'viewer': {'rating': 3.5, 'numReviews': 1375, 'meter': 67},\n",
              "   'fresh': 15,\n",
              "   'critic': {'rating': 7.4, 'numReviews': 17, 'meter': 88},\n",
              "   'rotten': 2,\n",
              "   'lastUpdated': datetime.datetime(2015, 8, 27, 18, 6, 2)}},\n",
              " {'_id': ObjectId('573a1393f29313caabcdd38c'),\n",
              "  'plot': 'A ruthless doctor and his young prize student find themselves continually harassed by their murderous supplier of illegal cadavers.',\n",
              "  'genres': ['Horror', 'Thriller'],\n",
              "  'runtime': 77,\n",
              "  'rated': 'APPROVED',\n",
              "  'title': 'The Body Snatcher',\n",
              "  'num_mflix_comments': 0,\n",
              "  'poster': 'https://m.media-amazon.com/images/M/MV5BNzNmOTE0YTktZGZmYS00N2RhLWI5NTgtYTAyZjZhYWExMmRmXkEyXkFqcGdeQXVyMTQxNzMzNDI@._V1_SY1000_SX677_AL_.jpg',\n",
              "  'countries': ['USA'],\n",
              "  'fullplot': \"In Edinburgh in 1831, Dr. Wolfe MacFarlane runs a medical school where Donald Fettes is a student. Fettes is interested in helping a young girl who has lost the use of her legs. He is certain that MacFarlane's surgical skills could be put to great use but he is reluctant to do so. The good Dr. MacFarlane has a secret that soon becomes all too obvious to young Fettes, who has only recently been promoted as his assistant: he has been paying a local cabbie, John Gray, to supply him with dead bodies for anatomical research. Gray constantly harasses MacFarlane and clearly has a hold over him dating to a famous trial many years before where Gray refused to identify the man for whom he was robbing graves. Fettes isn't aware of any of this but soon realizes exactly how Gray obtains the bodies they use in their anatomy classes.\",\n",
              "  'languages': ['English'],\n",
              "  'cast': ['Boris Karloff', 'Bela Lugosi', 'Henry Daniell', 'Edith Atwater'],\n",
              "  'directors': ['Robert Wise'],\n",
              "  'writers': ['Robert Louis Stevenson (short story)',\n",
              "   'Philip MacDonald (written for the screen by)',\n",
              "   'Val Lewton (written for the screen by)'],\n",
              "  'awards': {'wins': 0, 'nominations': 3, 'text': '3 nominations.'},\n",
              "  'lastupdated': '2015-08-16 01:24:24.840000000',\n",
              "  'year': 1945,\n",
              "  'imdb': {'rating': 7.4, 'votes': 5509, 'id': 37549},\n",
              "  'type': 'movie',\n",
              "  'tomatoes': {'viewer': {'rating': 3.5, 'numReviews': 3664, 'meter': 75},\n",
              "   'critic': {'rating': 6.8, 'numReviews': 16, 'meter': 81},\n",
              "   'lastUpdated': datetime.datetime(2015, 8, 21, 19, 11, 47),\n",
              "   'rotten': 3,\n",
              "   'production': 'RKO Pictures',\n",
              "   'fresh': 13}},\n",
              " {'_id': ObjectId('573a1393f29313caabcdd3ed'),\n",
              "  'plot': 'An architect senses impending doom as his half-remembered recurring dream turns into reality. The guests at the country house encourage him to stay as they take turns telling supernatural tales.',\n",
              "  'genres': ['Horror'],\n",
              "  'runtime': 77,\n",
              "  'rated': 'APPROVED',\n",
              "  'cast': ['Mervyn Johns', 'Roland Culver', 'Mary Merrall', 'Googie Withers'],\n",
              "  'num_mflix_comments': 0,\n",
              "  'poster': 'https://m.media-amazon.com/images/M/MV5BYTY2OTJjZjgtMzExMy00MWJlLTg2N2ItM2NhMDQxNTNkNjFhXkEyXkFqcGdeQXVyMjI4MjA5MzA@._V1_SY1000_SX677_AL_.jpg',\n",
              "  'title': 'Dead of Night',\n",
              "  'fullplot': \"Architect Walter Craig, seeking the possibility of some work at a country farmhouse, soon finds himself once again stuck in his recurring nightmare. Dreading the end of the dream that he knows is coming, he must first listen to all the assembled guests' own bizarre tales.\",\n",
              "  'languages': ['English', 'French'],\n",
              "  'released': datetime.datetime(1945, 10, 15, 0, 0),\n",
              "  'directors': ['Alberto Cavalcanti',\n",
              "   'Charles Crichton',\n",
              "   'Basil Dearden',\n",
              "   'Robert Hamer'],\n",
              "  'writers': ['H.G. Wells (original story)',\n",
              "   'E.F. Benson (original story)',\n",
              "   'John Baines (original story)',\n",
              "   'Angus MacPhail (original story)',\n",
              "   'John Baines (screenplay)',\n",
              "   'Angus MacPhail (screenplay)',\n",
              "   'T.E.B. Clarke (additional dialogue)'],\n",
              "  'awards': {'wins': 1, 'nominations': 1, 'text': '1 win & 1 nomination.'},\n",
              "  'lastupdated': '2015-09-15 04:38:12.500000000',\n",
              "  'year': 1945,\n",
              "  'imdb': {'rating': 7.7, 'votes': 7116, 'id': 37635},\n",
              "  'countries': ['UK'],\n",
              "  'type': 'movie',\n",
              "  'tomatoes': {'viewer': {'rating': 4.0, 'numReviews': 3194, 'meter': 88},\n",
              "   'dvd': datetime.datetime(2009, 1, 27, 0, 0),\n",
              "   'critic': {'rating': 8.0, 'numReviews': 27, 'meter': 96},\n",
              "   'lastUpdated': datetime.datetime(2015, 7, 26, 18, 40, 43),\n",
              "   'consensus': 'With four accomplished directors contributing, Dead of Night is a classic horror anthology that remains highly influential.',\n",
              "   'rotten': 1,\n",
              "   'production': 'Universal Pictures',\n",
              "   'fresh': 26}},\n",
              " {'_id': ObjectId('573a1393f29313caabcdd6e7'),\n",
              "  'plot': \"Chuck Scott gets a job as chauffeur to tough guy Eddie Roman; but Chuck's involvement with Eddie's fearful wife becomes a nightmare.\",\n",
              "  'genres': ['Film-Noir'],\n",
              "  'runtime': 86,\n",
              "  'rated': 'APPROVED',\n",
              "  'cast': ['Robert Cummings',\n",
              "   'Michèle Morgan',\n",
              "   'Steve Cochran',\n",
              "   'Lloyd Corrigan'],\n",
              "  'num_mflix_comments': 0,\n",
              "  'poster': 'https://m.media-amazon.com/images/M/MV5BNDI3OTM4NzMtNzQxMC00M2YxLWFmOTctNmUyNDBmMzIwZGI0XkEyXkFqcGdeQXVyMjUxODE0MDY@._V1_SY1000_SX677_AL_.jpg',\n",
              "  'title': 'The Chase',\n",
              "  'fullplot': \"Returning a lost wallet gains unemployed veteran Chuck Scott a job as chauffeur to Eddie Roman, a seeming gangster whose enemies have a way of meeting violent ends. The job proves nerve-wracking, and soon Chuck finds himself pledged to help Eddie's lovely, fearful, prisoner-wife Lorna to escape. The result leaves Chuck caught like a rat in a trap, vainly seeking a way out through dark streets. But the real chase begins when the strange plot virtually starts all over again...\",\n",
              "  'languages': ['English', 'Spanish'],\n",
              "  'released': datetime.datetime(1946, 11, 16, 0, 0),\n",
              "  'directors': ['Arthur Ripley'],\n",
              "  'writers': ['Philip Yordan (written for the screen by)',\n",
              "   'Cornell Woolrich (book)'],\n",
              "  'awards': {'wins': 0, 'nominations': 1, 'text': '1 nomination.'},\n",
              "  'lastupdated': '2015-08-01 00:47:13.267000000',\n",
              "  'year': 1946,\n",
              "  'imdb': {'rating': 6.7, 'votes': 766, 'id': 38409},\n",
              "  'countries': ['USA'],\n",
              "  'type': 'movie',\n",
              "  'tomatoes': {'viewer': {'rating': 3.2, 'numReviews': 92, 'meter': 40},\n",
              "   'dvd': datetime.datetime(2003, 8, 5, 0, 0),\n",
              "   'production': 'VCI',\n",
              "   'lastUpdated': datetime.datetime(2015, 8, 20, 18, 14, 48)}},\n",
              " {'_id': ObjectId('573a1393f29313caabcde460'),\n",
              "  'plot': \"Over-the-hill boxer Bill 'Stoker' Thompson insists he can still win, though his sexy wife Julie pleads with him to quit. But his manager Tiny is so confident he will lose, he takes money ...\",\n",
              "  'genres': ['Film-Noir', 'Sport'],\n",
              "  'runtime': 73,\n",
              "  'rated': 'APPROVED',\n",
              "  'cast': ['Robert Ryan', 'Audrey Totter', 'George Tobias', 'Alan Baxter'],\n",
              "  'num_mflix_comments': 0,\n",
              "  'poster': 'https://m.media-amazon.com/images/M/MV5BMjEwNjU3NzE1Nl5BMl5BanBnXkFtZTgwMjQ0MDgyMTE@._V1_SY1000_SX677_AL_.jpg',\n",
              "  'title': 'The Set-Up',\n",
              "  'fullplot': 'Over-the-hill boxer Bill \\'Stoker\\' Thompson insists he can still win, though his sexy wife Julie pleads with him to quit. But his manager Tiny is so confident he will lose, he takes money for a \"dive\" from tough gambler Little Boy...without bothering to tell Stoker. Tension builds as Stoker hopes to \"take\" Tiger Nelson, unaware of what will happen to him if he does.',\n",
              "  'languages': ['English'],\n",
              "  'released': datetime.datetime(1949, 4, 2, 0, 0),\n",
              "  'directors': ['Robert Wise'],\n",
              "  'writers': ['Art Cohn (screenplay)',\n",
              "   'Joseph Moncure March (from the poem by)'],\n",
              "  'awards': {'wins': 3,\n",
              "   'nominations': 1,\n",
              "   'text': 'Nominated for 1 BAFTA Film Award. Another 2 wins & 1 nomination.'},\n",
              "  'lastupdated': '2015-08-26 00:13:18.837000000',\n",
              "  'year': 1949,\n",
              "  'imdb': {'rating': 7.8, 'votes': 5309, 'id': 41859},\n",
              "  'countries': ['USA'],\n",
              "  'type': 'movie',\n",
              "  'tomatoes': {'viewer': {'rating': 4.0, 'numReviews': 1692, 'meter': 88},\n",
              "   'dvd': datetime.datetime(2004, 7, 6, 0, 0),\n",
              "   'critic': {'rating': 5.9, 'numReviews': 7, 'meter': 86},\n",
              "   'lastUpdated': datetime.datetime(2015, 7, 26, 18, 33, 52),\n",
              "   'rotten': 1,\n",
              "   'fresh': 6}}]"
            ]
          },
          "execution_count": 62,
          "metadata": {},
          "output_type": "execute_result"
        }
      ],
      "source": [
        "list(db.movies.find({ \n",
        "                     '$and': [\n",
        "                        {'$or': [\n",
        "                            {'genres.0': 'Horror'},\n",
        "                            {'genres.0': 'Film-Noir'}]},\n",
        "                        {'year': {'$gte': 1940, '$lte': 1949}}\n",
        "]}))"
      ]
    },
    {
      "cell_type": "markdown",
      "metadata": {
        "id": "B56JNDs88fnh"
      },
      "source": [
        "#### Задача 1.5 — **1 балл**"
      ]
    },
    {
      "cell_type": "markdown",
      "metadata": {
        "id": "VvFx2iL98mTQ"
      },
      "source": [
        "Модифицируйте запрос из задачи 1.4 таким образом, чтобы осуществить _проекцию_: результатом выборки должен стать список словарей, каждый из которых содержит только два поля: `title` и `year`.\n",
        "\n",
        "Для справки о проекции см. документацию по методу `find()` в pymongo:\n",
        "https://pymongo.readthedocs.io/en/stable/api/pymongo/collection.html#pymongo.collection.Collection.find"
      ]
    },
    {
      "cell_type": "code",
      "execution_count": 65,
      "metadata": {
        "id": "tnkwb6HXY014"
      },
      "outputs": [
        {
          "data": {
            "text/plain": [
              "[{'title': 'Cat People', 'year': 1942},\n",
              " {'title': 'I Walked with a Zombie', 'year': 1943},\n",
              " {'title': 'The Leopard Man', 'year': 1943},\n",
              " {'title': 'The Body Snatcher', 'year': 1945},\n",
              " {'title': 'Dead of Night', 'year': 1945},\n",
              " {'title': 'The Chase', 'year': 1946},\n",
              " {'title': 'The Set-Up', 'year': 1949}]"
            ]
          },
          "execution_count": 65,
          "metadata": {},
          "output_type": "execute_result"
        }
      ],
      "source": [
        "list(db.movies.find({ \n",
        "                     '$and': [\n",
        "                        {'$or': [\n",
        "                            {'genres.0': 'Horror'},\n",
        "                            {'genres.0': 'Film-Noir'}]},\n",
        "                        {'year': {'$gte': 1940, '$lte': 1949}}\n",
        "                    ]},\n",
        "                    {'title': 1, 'year': 1, '_id': 0}\n",
        "))"
      ]
    },
    {
      "cell_type": "markdown",
      "metadata": {
        "id": "tzx1nDQ08ojw"
      },
      "source": [
        "### Упражнение 2. Конвейер агрегации"
      ]
    },
    {
      "cell_type": "markdown",
      "metadata": {
        "id": "nx6axWfJbBbc"
      },
      "source": [
        "#### Задача 2.1 — **3 балла**"
      ]
    },
    {
      "cell_type": "markdown",
      "metadata": {
        "id": "oj1sBQtGbLNQ"
      },
      "source": [
        "В рамках этой задачи требуется узнать, какие фильмы получили наибольшее число комментариев. Составьте для этого конвейер агрегации с перечисленными ниже этапами. Для удобства рекомендуется воспользоваться приложением Compass.\n",
        "\n",
        "1. Сгруппировать документы коллекции `comments` по полю `movie_id` и подсчитать количество комментариев для каждого фильма, записав его в поле `count`.\n",
        "1. Отсортировать получившийся набор данных по убыванию количества комментариев (так чтобы первый документ в этом наборе указывал на фильм с наибольшим количеством комментариев).\n",
        "1. Используя оператор `$lookup`, присоединить коллекцию `movies` (по полю `movie_id`).\n",
        "1. Выполнить проекцию, оставив в наборе данных только три поля: название фильма (`title`), год выпуска (`year`) и количество комментариев (поле `count`, добавленное на первом этапе). Для этого воспользуйтесь оператором `$project`: https://www.mongodb.com/docs/manual/reference/operator/aggregation/project/. Обратите внимание, что данные из коллекции `movies` (`title` и `year`) на этом этапе окажутся внутри массива.\n",
        "1. Применить оператор `$unwind`, чтобы деконструировать этот массив. См. https://www.mongodb.com/docs/manual/reference/operator/aggregation/unwind/. В результате массив должен превратиться в одиночный объект.\n",
        "1. Применить оператор `$addFields`, чтобы добавить поля `title` и `year` на вернхий уровень структуры документа. См. https://www.mongodb.com/docs/manual/reference/operator/aggregation/addFields/.\n",
        "1. Еще раз выполнить проекцию, чтобы удалить поле с массивом.\n",
        "\n",
        "Ваш алгоритм решения может отличаться от приведенного здесь. Главное — достичь цели: получить плоский набор данных с тремя полями (`count` — количество комментариев, `year` — год выпуска, `title` — название фильма).\n",
        "\n",
        "Скопируйте полученный конвейер в этот документ в виде кода на Python и выведите его на экран в виде списка словарей."
      ]
    },
    {
      "cell_type": "code",
      "execution_count": 92,
      "metadata": {
        "id": "MSI2ITxZjMk2"
      },
      "outputs": [
        {
          "data": {
            "text/plain": [
              "[{'count': 161, 'title': 'The Taking of Pelham 1 2 3', 'year': 2009},\n",
              " {'count': 158, 'title': \"Ocean's Eleven\", 'year': 2001},\n",
              " {'count': 158, 'title': 'About a Boy', 'year': 2002},\n",
              " {'count': 158, 'title': '50 First Dates', 'year': 2004},\n",
              " {'count': 158, 'title': 'Terminator Salvation', 'year': 2009},\n",
              " {'count': 157, 'title': 'Sherlock Holmes', 'year': 2009},\n",
              " {'count': 157, 'title': 'The Mummy', 'year': 1999},\n",
              " {'count': 155, 'title': 'Hellboy II: The Golden Army', 'year': 2008},\n",
              " {'count': 154,\n",
              "  'title': 'Anchorman: The Legend of Ron Burgundy',\n",
              "  'year': 2004},\n",
              " {'count': 154, 'title': 'The Mummy Returns', 'year': 2001},\n",
              " {'count': 153, 'title': 'Mission: Impossible', 'year': 1996},\n",
              " {'count': 153, 'title': 'Cinderella', 'year': 1950},\n",
              " {'count': 153, 'title': 'X-Men', 'year': 2000},\n",
              " {'count': 153, 'title': 'American Pie', 'year': 1999},\n",
              " {'count': 153, 'title': 'Bruce Almighty', 'year': 2003},\n",
              " {'count': 153,\n",
              "  'title': \"Pirates of the Caribbean: At World's End\",\n",
              "  'year': 2007},\n",
              " {'count': 153, 'title': 'E.T. the Extra-Terrestrial', 'year': 1982},\n",
              " {'count': 153, 'title': 'Wanted', 'year': 2008},\n",
              " {'count': 152, 'title': 'The Ring', 'year': 2002},\n",
              " {'count': 152, 'title': 'Gladiator', 'year': 2000},\n",
              " {'count': 151, 'title': 'The Mask', 'year': 1994},\n",
              " {'count': 151, 'title': 'Meet the Fockers', 'year': 2004},\n",
              " {'count': 151, 'title': 'The Matrix Reloaded', 'year': 2003},\n",
              " {'count': 150, 'title': 'Big Daddy', 'year': 1999},\n",
              " {'count': 150, 'title': 'Toy Story 2', 'year': 1999},\n",
              " {'count': 148, 'title': 'Braveheart', 'year': 1995},\n",
              " {'count': 148, 'title': 'I Am Legend', 'year': 2007},\n",
              " {'count': 148, 'title': 'Jurassic Park', 'year': 1993},\n",
              " {'count': 147, 'title': 'Jaws', 'year': 1975},\n",
              " {'count': 147, 'title': 'Scary Movie', 'year': 2000},\n",
              " {'count': 147, 'title': 'The Express', 'year': 2008},\n",
              " {'count': 146, 'title': 'I Now Pronounce You Chuck & Larry', 'year': 2007},\n",
              " {'count': 146, 'title': 'Twister', 'year': 1996},\n",
              " {'count': 145, 'title': 'Dumb & Dumber', 'year': 1994},\n",
              " {'count': 145, 'title': '300', 'year': 2006},\n",
              " {'count': 145, 'title': 'Cast Away', 'year': 2000},\n",
              " {'count': 144, 'title': 'Zoolander', 'year': 2001},\n",
              " {'count': 144, 'title': 'Spider-Man 3', 'year': 2007},\n",
              " {'count': 144, 'title': 'I Love You, Man', 'year': 2009},\n",
              " {'count': 144, 'title': 'Hostel: Part II', 'year': 2007},\n",
              " {'count': 144, 'title': 'The Green Mile', 'year': 1999},\n",
              " {'count': 144, 'title': 'Aladdin', 'year': 1992},\n",
              " {'count': 144, 'title': 'Saving Private Ryan', 'year': 1998},\n",
              " {'count': 144, 'title': 'Dègkeselyè', 'year': 1982},\n",
              " {'count': 144, 'title': 'King Kong', 'year': 2005},\n",
              " {'count': 144, 'title': 'School of Rock', 'year': 2003},\n",
              " {'count': 144, 'title': 'The Hangover', 'year': 2009},\n",
              " {'count': 144, 'title': 'The Simpsons Movie', 'year': 2007},\n",
              " {'count': 144, 'title': 'The Last House on the Left', 'year': 2009},\n",
              " {'count': 143, 'title': '8 Mile', 'year': 2002},\n",
              " {'count': 143, 'title': 'Rush Hour 2', 'year': 2001},\n",
              " {'count': 143, 'title': 'Ice Age', 'year': 2002},\n",
              " {'count': 143, 'title': 'The Jungle Creature: Hugo', 'year': 1993},\n",
              " {'count': 143, 'title': 'Kill Bill: Vol. 1', 'year': 2003},\n",
              " {'count': 143, 'title': 'Up', 'year': 2009},\n",
              " {'count': 143,\n",
              "  'title': 'Harry Potter and the Chamber of Secrets',\n",
              "  'year': 2002},\n",
              " {'count': 142, 'title': \"Ocean's Twelve\", 'year': 2004},\n",
              " {'count': 142, 'title': 'Star Trek', 'year': 2009},\n",
              " {'count': 142, 'title': 'Speed', 'year': 1994},\n",
              " {'count': 142, 'title': 'Shutter Island', 'year': 2010},\n",
              " {'count': 142, 'title': 'Back to the Future Part II', 'year': 1989},\n",
              " {'count': 141, 'title': 'The Princess Diaries', 'year': 2001},\n",
              " {'count': 141, 'title': '1408', 'year': 2007},\n",
              " {'count': 141, 'title': 'Live Free or Die Hard', 'year': 2007},\n",
              " {'count': 141, 'title': 'Billy Madison', 'year': 1995},\n",
              " {'count': 141, 'title': 'Freaky Friday', 'year': 2003},\n",
              " {'count': 141, 'title': 'Rush Hour', 'year': 1998},\n",
              " {'count': 141, 'title': 'Evan Almighty', 'year': 2007},\n",
              " {'count': 140, 'title': 'War of the Worlds', 'year': 2005},\n",
              " {'count': 140, 'title': 'Back to the Future Part III', 'year': 1990},\n",
              " {'count': 140, 'title': 'Ghost Rider', 'year': 2007},\n",
              " {'count': 140, 'title': 'The Bourne Ultimatum', 'year': 2007},\n",
              " {'count': 140, 'title': 'Cheaper by the Dozen', 'year': 2003},\n",
              " {'count': 140, 'title': 'Mr. & Mrs. Smith', 'year': 2005},\n",
              " {'count': 140, 'title': 'X-Men 2', 'year': 2003},\n",
              " {'count': 140, 'title': 'Men in Black II', 'year': 2002},\n",
              " {'count': 139, 'title': 'V for Vendetta', 'year': 2005},\n",
              " {'count': 139, 'title': 'Liar Liar', 'year': 1997},\n",
              " {'count': 139, 'title': 'The Wizard of Oz', 'year': 1939},\n",
              " {'count': 139, 'title': 'Happy Gilmore', 'year': 1996},\n",
              " {'count': 139, 'title': 'The Matrix Revolutions', 'year': 2003},\n",
              " {'count': 139, 'title': 'Ace Ventura: When Nature Calls', 'year': 1995},\n",
              " {'count': 139, 'title': 'Saw VI', 'year': 2009},\n",
              " {'count': 138, 'title': 'The Matrix', 'year': 1999},\n",
              " {'count': 138, 'title': 'Shark Tale', 'year': 2004},\n",
              " {'count': 138, 'title': 'How the Grinch Stole Christmas', 'year': 2000},\n",
              " {'count': 138, 'title': 'How to Lose a Guy in 10 Days', 'year': 2003},\n",
              " {'count': 138, 'title': 'Gone in Sixty Seconds', 'year': 2000},\n",
              " {'count': 138,\n",
              "  'title': 'Sweeney Todd: The Demon Barber of Fleet Street',\n",
              "  'year': 2007},\n",
              " {'count': 138,\n",
              "  'title': \"Harry Potter and the Sorcerer's Stone\",\n",
              "  'year': 2001},\n",
              " {'count': 138, 'title': 'Donnie Darko', 'year': 2001},\n",
              " {'count': 138, 'title': 'Men in Black 3', 'year': 2012},\n",
              " {'count': 138, 'title': 'A Christmas Carol', 'year': 2009},\n",
              " {'count': 137, 'title': 'Elf', 'year': 2003},\n",
              " {'count': 137, 'title': 'The 40-Year-Old Virgin', 'year': 2005},\n",
              " {'count': 137, 'title': 'Fight Club', 'year': 1999},\n",
              " {'count': 137, 'title': 'Independence Day', 'year': 1996},\n",
              " {'count': 137,\n",
              "  'title': 'Star Wars: Episode III - Revenge of the Sith',\n",
              "  'year': 2005},\n",
              " {'count': 137, 'title': 'My Big Fat Greek Wedding', 'year': 2002},\n",
              " {'count': 136, 'title': 'The Waterboy', 'year': 1998},\n",
              " {'count': 136,\n",
              "  'title': 'Harry Potter and the Prisoner of Azkaban',\n",
              "  'year': 2004},\n",
              " {'count': 136, 'title': 'Beetlejuice', 'year': 1988},\n",
              " {'count': 136, 'title': 'Rocky', 'year': 1976},\n",
              " {'count': 136, 'title': 'The Dark Knight', 'year': 2008},\n",
              " {'count': 136, 'title': 'Forrest Gump', 'year': 1994},\n",
              " {'count': 136, 'title': 'The Nightmare Before Christmas', 'year': 1993},\n",
              " {'count': 136, 'title': 'The Bourne Identity', 'year': 2002},\n",
              " {'count': 136, 'title': 'Cast Away', 'year': 2000},\n",
              " {'count': 135, 'title': 'Signs', 'year': 2002},\n",
              " {'count': 135, 'title': 'Honey, I Shrunk the Kids', 'year': 1989},\n",
              " {'count': 135,\n",
              "  'title': 'The Chronicles of Narnia: The Lion, the Witch and the Wardrobe',\n",
              "  'year': 2005},\n",
              " {'count': 135, 'title': 'Push', 'year': 2009},\n",
              " {'count': 135, 'title': 'Indiana Jones and the Last Crusade', 'year': 1989},\n",
              " {'count': 135, 'title': 'Bring It On', 'year': 2000},\n",
              " {'count': 134, 'title': 'American Pie 2', 'year': 2001},\n",
              " {'count': 134,\n",
              "  'title': 'Fantastic 4: Rise of the Silver Surfer',\n",
              "  'year': 2007},\n",
              " {'count': 134, 'title': 'Beauty and the Beast', 'year': 1991},\n",
              " {'count': 134, 'title': 'The Mummy', 'year': 1999},\n",
              " {'count': 134, 'title': 'Monsters, Inc.', 'year': 2001},\n",
              " {'count': 134, 'title': 'Spider-Man 2', 'year': 2004},\n",
              " {'count': 134, 'title': 'Transformers: Revenge of the Fallen', 'year': 2009},\n",
              " {'count': 134, 'title': 'Miss Congeniality', 'year': 2000},\n",
              " {'count': 134, 'title': 'The Jungle Book', 'year': 1967},\n",
              " {'count': 134, 'title': 'Fantastic Four', 'year': 2005},\n",
              " {'count': 134, 'title': 'The Uninvited', 'year': 2009},\n",
              " {'count': 134, 'title': 'Sin City', 'year': 2005},\n",
              " {'count': 133, 'title': 'The Ugly Truth', 'year': 2009},\n",
              " {'count': 133, 'title': 'Shrek 2', 'year': 2004},\n",
              " {'count': 133,\n",
              "  'title': 'The Lord of the Rings: The Return of the King',\n",
              "  'year': 2003},\n",
              " {'count': 133, 'title': 'The Fast and the Furious', 'year': 2001},\n",
              " {'count': 133, 'title': 'Blades of Glory', 'year': 2007},\n",
              " {'count': 132, 'title': 'The Lion King', 'year': 1994},\n",
              " {'count': 132, 'title': \"The Time Traveler's Wife\", 'year': 2009},\n",
              " {'count': 132, 'title': 'Free Willy', 'year': 1993},\n",
              " {'count': 132, 'title': 'Shrek the Third', 'year': 2007},\n",
              " {'count': 132, 'title': 'Ace Ventura: Pet Detective', 'year': 1994},\n",
              " {'count': 132, 'title': 'Catch Me If You Can', 'year': 2002},\n",
              " {'count': 132, 'title': 'Men in Black', 'year': 1997},\n",
              " {'count': 132, 'title': '2 Fast 2 Furious', 'year': 2003},\n",
              " {'count': 131, 'title': 'Meet the Parents', 'year': 2000},\n",
              " {'count': 131, 'title': 'The Sixth Sense', 'year': 1999},\n",
              " {'count': 131, 'title': 'Shark Tale', 'year': 2004},\n",
              " {'count': 131, 'title': 'Drag Me to Hell', 'year': 2009},\n",
              " {'count': 131, 'title': 'The Unborn', 'year': 2009},\n",
              " {'count': 131, 'title': 'The Shawshank Redemption', 'year': 1994},\n",
              " {'count': 131, 'title': 'Doctor Dolittle', 'year': 1998},\n",
              " {'count': 131, 'title': 'Toy Story', 'year': 1995},\n",
              " {'count': 131, 'title': 'American Beauty', 'year': 1999},\n",
              " {'count': 131, 'title': 'Shrek', 'year': 2001},\n",
              " {'count': 131, 'title': 'The Godfather', 'year': 1972},\n",
              " {'count': 131, 'title': 'Star Wars: Episode IV - A New Hope', 'year': 1977},\n",
              " {'count': 130, 'title': 'Pretty Woman', 'year': 1990},\n",
              " {'count': 130, 'title': 'Ice Age: The Meltdown', 'year': 2006},\n",
              " {'count': 130, 'title': 'G.I. Joe: The Rise of Cobra', 'year': 2009},\n",
              " {'count': 130, 'title': 'Hook', 'year': 1991},\n",
              " {'count': 130, 'title': 'The Day After Tomorrow', 'year': 2004},\n",
              " {'count': 130, 'title': 'Home Alone', 'year': 1990},\n",
              " {'count': 129, 'title': 'Avatar', 'year': 2009},\n",
              " {'count': 129, 'title': 'Bad Boys', 'year': 1995},\n",
              " {'count': 129, 'title': 'The Dark Knight Rises', 'year': 2012},\n",
              " {'count': 128, 'title': 'Liar Liar', 'year': 1997},\n",
              " {'count': 128, 'title': 'Sister Act', 'year': 1992},\n",
              " {'count': 128, 'title': 'A Walk to Remember', 'year': 2002},\n",
              " {'count': 128, 'title': 'X-Men', 'year': 2000},\n",
              " {'count': 128, 'title': 'Troy', 'year': 2004},\n",
              " {'count': 128, 'title': 'Stop-Loss', 'year': 2008},\n",
              " {'count': 128, 'title': 'The Curious Case of Benjamin Button', 'year': 2008},\n",
              " {'count': 128, 'title': 'A Cinderella Story', 'year': 2004},\n",
              " {'count': 128, 'title': 'Night at the Museum', 'year': 2006},\n",
              " {'count': 128, 'title': 'Titanic', 'year': 1997},\n",
              " {'count': 128, 'title': 'Mr. Deeds', 'year': 2002},\n",
              " {'count': 128,\n",
              "  'title': 'Austin Powers: International Man of Mystery',\n",
              "  'year': 1997},\n",
              " {'count': 128, 'title': 'Mary Poppins', 'year': 1964},\n",
              " {'count': 128, 'title': 'The Little Mermaid', 'year': 1989},\n",
              " {'count': 127, 'title': 'Inglourious Basterds', 'year': 2009},\n",
              " {'count': 127,\n",
              "  'title': 'The Lord of the Rings: The Two Towers',\n",
              "  'year': 2002},\n",
              " {'count': 127, 'title': 'The Wedding Singer', 'year': 1998},\n",
              " {'count': 127, 'title': 'Taken', 'year': 2008},\n",
              " {'count': 127, 'title': 'Funny People', 'year': 2009},\n",
              " {'count': 127, 'title': 'The Incredible Hulk', 'year': 2008},\n",
              " {'count': 127, 'title': 'Slumdog Millionaire', 'year': 2008},\n",
              " {'count': 127,\n",
              "  'title': 'Pirates of the Caribbean: The Curse of the Black Pearl',\n",
              "  'year': 2003},\n",
              " {'count': 126, 'title': 'Mrs. Doubtfire', 'year': 1993},\n",
              " {'count': 126, 'title': 'Anger Management', 'year': 2003},\n",
              " {'count': 126, 'title': 'Lady and the Tramp', 'year': 1955},\n",
              " {'count': 126, 'title': 'Raiders of the Lost Ark', 'year': 1981},\n",
              " {'count': 126, 'title': 'Austin Powers in Goldmember', 'year': 2002},\n",
              " {'count': 125, 'title': 'Batman', 'year': 1989},\n",
              " {'count': 125, 'title': 'Pearl Harbor', 'year': 2001},\n",
              " {'count': 125, 'title': 'Terminator 2: Judgment Day', 'year': 1991},\n",
              " {'count': 124,\n",
              "  'title': 'Austin Powers: The Spy Who Shagged Me',\n",
              "  'year': 1999},\n",
              " {'count': 124, 'title': 'Armageddon', 'year': 1998},\n",
              " {'count': 123, 'title': 'Scary Movie', 'year': 2000},\n",
              " {'count': 123, 'title': 'Cars', 'year': 2006},\n",
              " {'count': 123, 'title': 'National Treasure: Book of Secrets', 'year': 2007},\n",
              " {'count': 123,\n",
              "  'title': 'Harry Potter and the Half-Blood Prince',\n",
              "  'year': 2009},\n",
              " {'count': 122, 'title': 'The Shawshank Redemption', 'year': 1994},\n",
              " {'count': 122, 'title': 'The Proposal', 'year': 2009},\n",
              " {'count': 122, 'title': 'The Stepfather', 'year': 2009},\n",
              " {'count': 122, 'title': \"Ocean's Thirteen\", 'year': 2007},\n",
              " {'count': 122, 'title': 'The End of a Mystery', 'year': 2003},\n",
              " {'count': 122, 'title': 'Fighting', 'year': 2009},\n",
              " {'count': 121, 'title': 'G-Force', 'year': 2009},\n",
              " {'count': 121, 'title': 'Quarantine', 'year': 2008},\n",
              " {'count': 121, 'title': 'The Silence of the Lambs', 'year': 1991},\n",
              " {'count': 121, 'title': \"A Bug's Life\", 'year': 1998},\n",
              " {'count': 121, 'title': 'Madagascar', 'year': 2005},\n",
              " {'count': 121, 'title': 'Pulp Fiction', 'year': 1994},\n",
              " {'count': 121, 'title': 'The Invention of Lying', 'year': 2009},\n",
              " {'count': 120, 'title': 'Willy Wonka & the Chocolate Factory', 'year': 1971},\n",
              " {'count': 120, 'title': 'Finding Nemo', 'year': 2003},\n",
              " {'count': 119, 'title': 'The Hunger Games', 'year': 2012},\n",
              " {'count': 119, 'title': 'Harry Potter and the Goblet of Fire', 'year': 2005},\n",
              " {'count': 119, 'title': '10 Things I Hate About You', 'year': 1999},\n",
              " {'count': 119, 'title': 'Grease', 'year': 1978},\n",
              " {'count': 119, 'title': 'Watchmen', 'year': 2009},\n",
              " {'count': 119, 'title': 'Jumanji', 'year': 1995},\n",
              " {'count': 118, 'title': '101 Dalmatians', 'year': 1961},\n",
              " {'count': 117, 'title': 'Orphan', 'year': 2009},\n",
              " {'count': 117, 'title': 'The Avengers', 'year': 2012},\n",
              " {'count': 117,\n",
              "  'title': 'Star Wars: Episode II - Attack of the Clones',\n",
              "  'year': 2002},\n",
              " {'count': 117, 'title': 'Saw II', 'year': 2005},\n",
              " {'count': 116, 'title': 'Love Actually', 'year': 2003},\n",
              " {'count': 116, 'title': 'Scary Movie 3', 'year': 2003},\n",
              " {'count': 115,\n",
              "  'title': 'Star Wars: Episode V - The Empire Strikes Back',\n",
              "  'year': 1980},\n",
              " {'count': 115, 'title': 'The Departed', 'year': 2006},\n",
              " {'count': 115, 'title': 'Scary Movie 2', 'year': 2001},\n",
              " {'count': 115, 'title': 'Dirty Dancing', 'year': 1987},\n",
              " {'count': 115, 'title': 'Edward Scissorhands', 'year': 1990},\n",
              " {'count': 115,\n",
              "  'title': 'Borat: Cultural Learnings of America for Make Benefit Glorious Nation of Kazakhstan',\n",
              "  'year': 2006},\n",
              " {'count': 115, 'title': 'Sweet Home Alabama', 'year': 2002},\n",
              " {'count': 115, 'title': 'How to Lose a Guy in 10 Days', 'year': 2003},\n",
              " {'count': 114,\n",
              "  'title': 'The Lord of the Rings: The Fellowship of the Ring',\n",
              "  'year': 2001},\n",
              " {'count': 114, 'title': 'Hairspray', 'year': 2007},\n",
              " {'count': 113, 'title': 'Disturbia', 'year': 2007},\n",
              " {'count': 111, 'title': 'Coyote Ugly', 'year': 2000},\n",
              " {'count': 111, 'title': 'District 9', 'year': 2009},\n",
              " {'count': 111, 'title': \"Charlie's Angels\", 'year': 2000},\n",
              " {'count': 111, 'title': 'American Gangster', 'year': 2007},\n",
              " {'count': 109, 'title': 'The Amazing Spider-Man', 'year': 2012},\n",
              " {'count': 108, 'title': 'Home Alone 2: Lost in New York', 'year': 1992},\n",
              " {'count': 107, 'title': 'Norbit', 'year': 2007},\n",
              " {'count': 5, 'title': 'The Cure', 'year': 1995},\n",
              " {'count': 4, 'title': 'Night Catches Us', 'year': 2010},\n",
              " {'count': 4, 'title': 'Compliance', 'year': 2012},\n",
              " {'count': 4, 'title': 'Play It Again, Sam', 'year': 1972},\n",
              " {'count': 4, 'title': 'The Women', 'year': 2008},\n",
              " {'count': 4, 'title': 'Splice', 'year': 2009},\n",
              " {'count': 4,\n",
              "  'title': 'Cowards Bend the Knee or The Blue Hands',\n",
              "  'year': 2003},\n",
              " {'count': 3, 'title': 'Werner - Beinhart!', 'year': 1990},\n",
              " {'count': 3, 'title': 'Stand Clear of the Closing Doors', 'year': 2013},\n",
              " {'count': 3, 'title': 'Date Night', 'year': 2010},\n",
              " {'count': 3, 'title': 'Duck, You Sucker', 'year': 1971},\n",
              " {'count': 3, 'title': 'Good Neighbors', 'year': 2010},\n",
              " {'count': 3, 'title': 'Dig!', 'year': 2004},\n",
              " {'count': 3, 'title': \"Jackie Chan's First Strike\", 'year': 1996},\n",
              " {'count': 3, 'title': 'Scott Joplin', 'year': 1977},\n",
              " {'count': 3, 'title': 'Comeback Season', 'year': 2006},\n",
              " {'count': 3, 'title': 'Cairo Time', 'year': 2009},\n",
              " {'count': 3, 'title': \"Dead Man's Walk\", 'year': 1996},\n",
              " {'count': 3, 'title': 'The Cincinnati Kid', 'year': 1965},\n",
              " {'count': 3, 'title': 'Bringing Ashley Home', 'year': 2011},\n",
              " {'count': 3,\n",
              "  'title': 'Never Tear Us Apart: The Untold Story of INXS',\n",
              "  'year': 2014},\n",
              " {'count': 3, 'title': 'Exte: Hair Extensions', 'year': 2007},\n",
              " {'count': 3, 'title': 'Moebius', 'year': 1996},\n",
              " {'count': 3, 'title': 'Bleak Night', 'year': 2010},\n",
              " {'count': 3, 'title': 'Euridice BA 2O37', 'year': 1975},\n",
              " {'count': 3, 'title': 'The House by the Lake', 'year': 1976},\n",
              " {'count': 3, 'title': 'Slice', 'year': 2009},\n",
              " {'count': 3, 'title': 'Syriana', 'year': 2005},\n",
              " {'count': 3, 'title': 'Obitaemyy ostrov. Skhvatka', 'year': 2009},\n",
              " {'count': 3, 'title': 'La buena nueva', 'year': 2008},\n",
              " {'count': 3, 'title': 'Mr. Average', 'year': 2006},\n",
              " {'count': 3, 'title': 'A Wife Confesses', 'year': 1961},\n",
              " {'count': 3, 'title': 'Someone Like You', 'year': 2009},\n",
              " {'count': 3, 'title': 'Tired Moonlight', 'year': 2015},\n",
              " {'count': 3, 'title': 'They Are All Dead', 'year': 2014},\n",
              " {'count': 3, 'title': 'High Spirits', 'year': 1988},\n",
              " {'count': 3, 'title': 'Epic Movie', 'year': 2007},\n",
              " {'count': 3, 'title': 'Return of the Living Dead III', 'year': 1993},\n",
              " {'count': 3, 'title': 'Federal Hill', 'year': 1994},\n",
              " {'count': 3, 'title': 'Black Cloud', 'year': 2004},\n",
              " {'count': 3, 'title': 'Upstream', 'year': 1927},\n",
              " {'count': 3, 'title': 'Palimpsest', 'year': 2006},\n",
              " {'count': 3, 'title': 'From Beyond', 'year': 1986},\n",
              " {'count': 3, 'title': 'Christmas in Connecticut', 'year': 1992},\n",
              " {'count': 3, 'title': 'Nas: Time Is Illmatic', 'year': 2014},\n",
              " {'count': 3, 'title': 'Midnight FM', 'year': 2010},\n",
              " {'count': 3, 'title': 'Bride Wars', 'year': 2009},\n",
              " {'count': 3, 'title': 'Twice in a Lifetime', 'year': 1985},\n",
              " {'count': 3, 'title': 'Duelul', 'year': 1981},\n",
              " {'count': 3, 'title': 'A True Mob Story', 'year': 1998},\n",
              " {'count': 3, 'title': 'Mystery Men', 'year': 1999},\n",
              " {'count': 3, 'title': 'Green Dragon', 'year': 2001},\n",
              " {'count': 3, 'title': 'Batman: Gotham Knight', 'year': 2008},\n",
              " {'count': 3, 'title': 'Jesse Stone: Benefit of the Doubt', 'year': 2012},\n",
              " {'count': 3, 'title': \"That's Entertainment, Part II\", 'year': 1976},\n",
              " {'count': 3, 'title': 'Bionicle 3: Web of Shadows', 'year': 2005},\n",
              " {'count': 3, 'title': 'Horror Express', 'year': 1972},\n",
              " {'count': 3, 'title': 'King & Country', 'year': 1964},\n",
              " {'count': 3, 'title': 'Amistad', 'year': 1997},\n",
              " {'count': 3, 'title': 'The Saboteurs', 'year': 2015},\n",
              " {'count': 3, 'title': 'The Dark Side of Chocolate', 'year': 2010},\n",
              " {'count': 3, 'title': \"Betsy's Wedding\", 'year': 1990},\n",
              " {'count': 3, 'title': 'Naming Number Two', 'year': 2006},\n",
              " {'count': 3, 'title': 'Max Dugan Returns', 'year': 1983},\n",
              " {'count': 3, 'title': 'Taira Clan Saga', 'year': 1955},\n",
              " {'count': 3, 'title': 'Honey I Blew Up the Kid', 'year': 1992},\n",
              " {'count': 3, 'title': \"Je t'aime je t'aime\", 'year': 1968},\n",
              " {'count': 3, 'title': \"The King's Speech\", 'year': 2010},\n",
              " {'count': 3, 'title': 'Silent Running', 'year': 1972},\n",
              " {'count': 3, 'title': 'Cube Zero', 'year': 2004},\n",
              " {'count': 3, 'title': 'Kiss Kiss Bang Bang', 'year': 2005},\n",
              " {'count': 3, 'title': 'The Rising Place', 'year': 2001},\n",
              " {'count': 3, 'title': 'Yesterday, Today and Tomorrow', 'year': 1963},\n",
              " {'count': 3, 'title': 'Midnight Lace', 'year': 1960},\n",
              " {'count': 3, 'title': 'Gangster Squad', 'year': 2013},\n",
              " {'count': 3, 'title': 'Without Men', 'year': 2011},\n",
              " {'count': 3, 'title': 'Inherent Vice', 'year': 2014},\n",
              " {'count': 3, 'title': 'Chronicle of Poor Lovers', 'year': 1954},\n",
              " {'count': 3, 'title': 'Chile, the Obstinate Memory', 'year': 1997},\n",
              " {'count': 3, 'title': '61*', 'year': 2001},\n",
              " {'count': 3, 'title': 'Robin-B-Hood', 'year': 2006},\n",
              " {'count': 3, 'title': 'Metrobranding', 'year': 2010},\n",
              " {'count': 3, 'title': 'Olympus Has Fallen', 'year': 2013},\n",
              " {'count': 3, 'title': 'Jurassic Park III', 'year': 2001},\n",
              " {'count': 3, 'title': 'The Cow', 'year': 1989},\n",
              " {'count': 3, 'title': 'Hitler: The Rise of Evil', 'year': 2003},\n",
              " {'count': 3, 'title': 'Black Robe', 'year': 1991},\n",
              " {'count': 3, 'title': 'The Boxer', 'year': 1997},\n",
              " {'count': 3, 'title': 'Lord of Darkness', 'year': 2012},\n",
              " {'count': 3, 'title': 'Bonhoeffer: Agent of Grace', 'year': 2000},\n",
              " {'count': 3, 'title': 'The Promised Land', 'year': 1975},\n",
              " {'count': 3, 'title': 'Proteus', 'year': 2003},\n",
              " {'count': 3, 'title': 'Footsteps in the Fog', 'year': 1955},\n",
              " {'count': 3, 'title': 'Drifting Clouds', 'year': 1996},\n",
              " {'count': 3, 'title': 'Nacho Libre', 'year': 2006},\n",
              " {'count': 3, 'title': 'Peter and Vandy', 'year': 2009},\n",
              " {'count': 3, 'title': 'Cold Feet', 'year': 1989},\n",
              " {'count': 3, 'title': 'The Moth Diaries', 'year': 2011},\n",
              " {'count': 3, 'title': '3 1/2 Minutes, Ten Bullets', 'year': 2015},\n",
              " {'count': 3, 'title': 'La Cage aux Folles', 'year': 1978},\n",
              " {'count': 3, 'title': 'Exists', 'year': 2014},\n",
              " {'count': 3, 'title': 'City of Men', 'year': 2007},\n",
              " {'count': 3, 'title': 'Forgotten Silver', 'year': 1995},\n",
              " {'count': 3, 'title': 'The Roman Spring of Mrs. Stone', 'year': 1961},\n",
              " {'count': 3, 'title': \"Lilian's Story\", 'year': 1996},\n",
              " {'count': 3, 'title': 'Plastic', 'year': 2014},\n",
              " {'count': 3, 'title': 'Return to Paradise', 'year': 1998},\n",
              " {'count': 3, 'title': 'The Boys of St. Vincent', 'year': 1992},\n",
              " {'count': 3, 'title': 'The Valet', 'year': 2006},\n",
              " {'count': 3, 'title': 'The Motorcycle Diaries', 'year': 2004},\n",
              " {'count': 3, 'title': 'The Terminal', 'year': 2004},\n",
              " {'count': 3, 'title': 'The Dark House', 'year': 2009},\n",
              " {'count': 3, 'title': 'Misconception', 'year': 2014},\n",
              " {'count': 3, 'title': 'Pink Saris', 'year': 2010},\n",
              " {'count': 3, 'title': 'Metalhead', 'year': 2013},\n",
              " {'count': 3, 'title': 'I Am So Proud of You', 'year': 2008},\n",
              " {'count': 3, 'title': 'Overheard 2', 'year': 2011},\n",
              " {'count': 3, 'title': 'When Good Ghouls Go Bad', 'year': 2001},\n",
              " {'count': 3, 'title': 'SAGA: Curse of the Shadow', 'year': 2013},\n",
              " {'count': 3, 'title': '3rd World Hero', 'year': 2000},\n",
              " {'count': 3, 'title': 'American Courtesans', 'year': 2013},\n",
              " {'count': 3, 'title': '45 Years', 'year': 2015},\n",
              " {'count': 3, 'title': 'Roots', 'year': 1977},\n",
              " {'count': 3, 'title': 'The Unknown Woman', 'year': 2011},\n",
              " {'count': 3, 'title': 'Wah-Wah', 'year': 2005},\n",
              " {'count': 3, 'title': 'Rabbit è la Berlin', 'year': 2009},\n",
              " {'count': 3, 'title': 'Bartok the Magnificent', 'year': 1999},\n",
              " {'count': 3, 'title': \"Occupe-toi d'Amèlie..!\", 'year': 1949},\n",
              " {'count': 3, 'title': 'Monster High: Friday Night Frights', 'year': 2013},\n",
              " {'count': 3, 'title': 'The Shaman', 'year': 2015},\n",
              " {'count': 3, 'title': 'Great Migrations', 'year': 2010},\n",
              " {'count': 3, 'title': 'Macario', 'year': 1960},\n",
              " {'count': 3, 'title': 'Cesar Chavez', 'year': 2014},\n",
              " {'count': 3, 'title': 'The Mighty Ducks', 'year': 1992},\n",
              " {'count': 3, 'title': 'Deterrence', 'year': 1999},\n",
              " {'count': 3, 'title': 'The House', 'year': 1997},\n",
              " {'count': 3, 'title': 'Happenstance', 'year': 2000},\n",
              " {'count': 3, 'title': 'Pom Poko', 'year': 1994},\n",
              " {'count': 3, 'title': 'Ten Skies', 'year': 2004},\n",
              " {'count': 3, 'title': 'The Apartment', 'year': 1960},\n",
              " {'count': 3, 'title': 'Beauty Day', 'year': 2011},\n",
              " {'count': 3, 'title': 'Jibeuro ganeun gil', 'year': 2013},\n",
              " {'count': 3, 'title': \"Everybody's Famous!\", 'year': 2000},\n",
              " {'count': 2, 'title': 'Creature', 'year': 1999},\n",
              " {'count': 2, 'title': 'Bangkok Hilton', 'year': 1989},\n",
              " {'count': 2, 'title': 'My Entire Life', 'year': 1996},\n",
              " {'count': 2, 'title': '24 Hour Party People', 'year': 2002},\n",
              " {'count': 2, 'title': 'Two Deaths', 'year': 1995},\n",
              " {'count': 2, 'title': 'Cinderella Man', 'year': 2005},\n",
              " {'count': 2, 'title': 'Mortadelo & Filemon: The Big Adventure', 'year': 2003},\n",
              " {'count': 2, 'title': 'Exodus', 'year': 2007},\n",
              " {'count': 2, 'title': 'The Raven', 'year': 2012},\n",
              " {'count': 2, 'title': 'Kung Fu Panda 2', 'year': 2011},\n",
              " {'count': 2, 'title': 'Delbaran', 'year': 2001},\n",
              " {'count': 2, 'title': 'The Delay', 'year': 2012},\n",
              " {'count': 2, 'title': 'Dog Day Afternoon', 'year': 1975},\n",
              " {'count': 2, 'title': 'Wings of Hope', 'year': 2000},\n",
              " {'count': 2, 'title': 'Homer and Eddie', 'year': 1989},\n",
              " {'count': 2, 'title': 'Match Point', 'year': 2005},\n",
              " {'count': 2, 'title': 'Bugsy Malone', 'year': 1976},\n",
              " {'count': 2, 'title': 'Time Stood Still', 'year': 1959},\n",
              " {'count': 2, 'title': 'Beetle Queen Conquers Tokyo', 'year': 2009},\n",
              " {'count': 2, 'title': 'Goodnight, Mister Tom', 'year': 1998},\n",
              " {'count': 2, 'title': 'First Flight', 'year': 2006},\n",
              " {'count': 2, 'title': 'Nico and Dani', 'year': 2000},\n",
              " {'count': 2, 'title': 'Kabhi Khushi Kabhie Gham...', 'year': 2001},\n",
              " {'count': 2, 'title': 'Jekyll & Hyde', 'year': 1990},\n",
              " {'count': 2, 'title': 'WarGames: The Dead Code', 'year': 2008},\n",
              " {'count': 2, 'title': 'Dreamcatcher', 'year': 2015},\n",
              " {'count': 2, 'title': 'The Breach', 'year': 1970},\n",
              " {'count': 2, 'title': 'Happiness', 'year': 1998},\n",
              " {'count': 2, 'title': 'Villegas', 'year': 2012},\n",
              " {'count': 2, 'title': 'The Runway', 'year': 2010},\n",
              " {'count': 2, 'title': 'Mississippi Burning', 'year': 1988},\n",
              " {'count': 2, 'title': 'Broken Lullaby', 'year': 1932},\n",
              " {'count': 2, 'title': 'Ju-on: The Grudge', 'year': 2002},\n",
              " {'count': 2, 'title': 'Toad Road', 'year': 2012},\n",
              " {'count': 2, 'title': \"We Don't Live Here Anymore\", 'year': 2004},\n",
              " {'count': 2,\n",
              "  'title': 'The New Adventures of Pippi Longstocking',\n",
              "  'year': 1988},\n",
              " {'count': 2, 'title': 'Crows Zero', 'year': 2007},\n",
              " {'count': 2, 'title': 'Alien Nation', 'year': 1988},\n",
              " {'count': 2, 'title': 'Pyaar Impossible!', 'year': 2010},\n",
              " {'count': 2, 'title': 'Men Vs Women', 'year': 2010},\n",
              " {'count': 2, 'title': 'And While We Were Here', 'year': 2012},\n",
              " {'count': 2, 'title': 'Erebus: Into the Unknown', 'year': 2014},\n",
              " {'count': 2, 'title': 'S#x Acts', 'year': 2012},\n",
              " {'count': 2, 'title': 'The Cruise', 'year': 1998},\n",
              " {'count': 2, 'title': 'Black Souls', 'year': 2014},\n",
              " {'count': 2, 'title': 'Starter for 10', 'year': 2006},\n",
              " {'count': 2, 'title': \"Bill Maher... But I'm Not Wrong\", 'year': 2010},\n",
              " {'count': 2, 'title': 'Goyokin', 'year': 1969},\n",
              " {'count': 2, 'title': \"Winky's Horse\", 'year': 2005},\n",
              " {'count': 2, 'title': 'Sleeping with the Fishes', 'year': 2013},\n",
              " {'count': 2, 'title': 'Primer', 'year': 2004},\n",
              " {'count': 2, 'title': 'Precious', 'year': 2009},\n",
              " {'count': 2, 'title': 'Beaches', 'year': 1988},\n",
              " {'count': 2, 'title': 'Still Alice', 'year': 2014},\n",
              " {'count': 2, 'title': 'Afterwards', 'year': 2008},\n",
              " {'count': 2, 'title': 'What About Bob?', 'year': 1991},\n",
              " {'count': 2, 'title': 'Marnie', 'year': 1964},\n",
              " {'count': 2, 'title': 'Dustbin Baby', 'year': 2008},\n",
              " {'count': 2, 'title': 'The House of Small Cubes', 'year': 2008},\n",
              " {'count': 2, 'title': 'Princess Mononoke', 'year': 1997},\n",
              " {'count': 2, 'title': \"Porky's\", 'year': 1981},\n",
              " {'count': 2, 'title': 'Spun', 'year': 2002},\n",
              " {'count': 2, 'title': \"The Butterfly's Dream\", 'year': 2013},\n",
              " {'count': 2, 'title': 'Someone to Watch Over Me', 'year': 1987},\n",
              " {'count': 2, 'title': '40 Pounds of Trouble', 'year': 1962},\n",
              " {'count': 2, 'title': 'Summer Games', 'year': 2011},\n",
              " {'count': 2, 'title': 'Unforgiven', 'year': 1992},\n",
              " {'count': 2, 'title': \"Pao's Story\", 'year': 2006},\n",
              " {'count': 2, 'title': 'Yogi Bear', 'year': 2010},\n",
              " {'count': 2, 'title': 'Choking Man', 'year': 2006},\n",
              " {'count': 2, 'title': 'Shock Head Soul', 'year': 2011},\n",
              " {'count': 2, 'title': 'The Clockmaker of St. Paul', 'year': 1974},\n",
              " {'count': 2, 'title': \"Forever's End\", 'year': 2013},\n",
              " {'count': 2, 'title': 'Rated X', 'year': 2000},\n",
              " {'count': 2, 'title': 'Mister Johnson', 'year': 1990},\n",
              " {'count': 2, 'title': 'Some Girl', 'year': 1998},\n",
              " {'count': 2, 'title': 'The Corruptor', 'year': 1999},\n",
              " {'count': 2, 'title': 'Joy Ride', 'year': 2001},\n",
              " {'count': 2, 'title': 'The Things of Life', 'year': 1970},\n",
              " {'count': 2, 'title': 'Faintheart', 'year': 2008},\n",
              " {'count': 2, 'title': 'Short Circuit 2', 'year': 1988},\n",
              " {'count': 2, 'title': 'Warriors of Virtue', 'year': 1997},\n",
              " {'count': 2, 'title': 'Call Me Lucky', 'year': 2015},\n",
              " {'count': 2, 'title': 'Running Scared', 'year': 2006},\n",
              " {'count': 2, 'title': 'The Longest Week', 'year': 2014},\n",
              " {'count': 2, 'title': 'Sweetie', 'year': 1989},\n",
              " {'count': 2, 'title': 'In the Name of the Pope King', 'year': 1977},\n",
              " {'count': 2, 'title': 'Familiar Grounds', 'year': 2011},\n",
              " {'count': 2, 'title': 'Teenage', 'year': 2013},\n",
              " {'count': 2, 'title': 'Don', 'year': 1978},\n",
              " {'count': 2, 'title': 'Three', 'year': 1965},\n",
              " {'count': 2, 'title': 'Arthur Christmas', 'year': 2011},\n",
              " {'count': 2, 'title': \"The Band's Visit\", 'year': 2007},\n",
              " {'count': 2, 'title': 'Finding Amanda', 'year': 2008},\n",
              " {'count': 2, 'title': 'Chaotic Ana', 'year': 2007},\n",
              " {'count': 2, 'title': 'Doctor at Sea', 'year': 1955},\n",
              " {'count': 2, 'title': 'The Magnificent Yankee', 'year': 1950},\n",
              " {'count': 2, 'title': 'Tom and Jerry & The Wizard of Oz', 'year': 2011},\n",
              " {'count': 2, 'title': 'The Future Is Woman', 'year': 1984},\n",
              " {'count': 2, 'title': 'Blind Date', 'year': 1987},\n",
              " {'count': 2, 'title': 'The Grand Maneuver', 'year': 1955},\n",
              " {'count': 2, 'title': 'Bagdad Cafe', 'year': 1987},\n",
              " {'count': 2, 'title': 'The Siege', 'year': 1998},\n",
              " {'count': 2, 'title': \"A Birder's Guide to Everything\", 'year': 2013},\n",
              " {'count': 2, 'title': 'Wolf Totem', 'year': 2015},\n",
              " {'count': 2, 'title': 'Wild Flowers', 'year': 2000},\n",
              " {'count': 2,\n",
              "  'title': 'Prison Terminal: The Last Days of Private Jack Hall',\n",
              "  'year': 2013},\n",
              " {'count': 2, 'title': 'Lèon: The Professional', 'year': 1994},\n",
              " {'count': 2, 'title': 'The Vanishing Prairie', 'year': 1954},\n",
              " {'count': 2, 'title': 'End of the Spear', 'year': 2005},\n",
              " {'count': 2, 'title': 'The Stepfather', 'year': 1987},\n",
              " {'count': 2, 'title': 'Igor', 'year': 2008},\n",
              " {'count': 2, 'title': 'Talk Radio', 'year': 1988},\n",
              " {'count': 2, 'title': \"Cutter's Way\", 'year': 1981},\n",
              " {'count': 2, 'title': 'All the Rage', 'year': 1999},\n",
              " {'count': 2, 'title': 'Wedding Chest', 'year': 2005},\n",
              " {'count': 2, 'title': 'Brigadoon', 'year': 1954},\n",
              " {'count': 2, 'title': 'Vitus', 'year': 2006},\n",
              " {'count': 2, 'title': 'A Heartbeat Away', 'year': 2011},\n",
              " {'count': 2, 'title': 'Better Than Chocolate', 'year': 1999},\n",
              " {'count': 2, 'title': 'Just Eat It: A Food Waste Story', 'year': 2014},\n",
              " {'count': 2,\n",
              "  'title': 'Anacondas: The Hunt for the Blood Orchid',\n",
              "  'year': 2004},\n",
              " {'count': 2, 'title': 'The 6th Day', 'year': 2000},\n",
              " {'count': 2, 'title': 'Bessie', 'year': 2015},\n",
              " {'count': 2,\n",
              "  'title': 'Mermaid Chronicles Part 1: She Creature',\n",
              "  'year': 2001},\n",
              " {'count': 2, 'title': 'Johnny Handsome', 'year': 1989},\n",
              " {'count': 2, 'title': 'Jack the Bear', 'year': 1993},\n",
              " {'count': 2, 'title': 'Wreck-It Ralph', 'year': 2012},\n",
              " {'count': 2, 'title': 'BloodRayne', 'year': 2005},\n",
              " {'count': 2, 'title': 'Beautiful Creatures', 'year': 2013},\n",
              " {'count': 2, 'title': \"A Tailor's Maid\", 'year': 1957},\n",
              " {'count': 2, 'title': 'Sabotage', 'year': 2014},\n",
              " {'count': 2, 'title': 'Kiss Me in the Rain', 'year': 1999},\n",
              " {'count': 2, 'title': \"Say It Isn't So\", 'year': 2001},\n",
              " {'count': 2, 'title': \"That's the Way I Like It\", 'year': 1998},\n",
              " {'count': 2, 'title': 'Marine Battleground', 'year': 1963},\n",
              " {'count': 2, 'title': 'The Illusionist', 'year': 2006},\n",
              " {'count': 2, 'title': 'Inside Job', 'year': 2010},\n",
              " {'count': 2, 'title': 'Continental, un film sans fusil', 'year': 2007},\n",
              " {'count': 2, 'title': 'Black Mask', 'year': 1996},\n",
              " {'count': 2, 'title': 'Rosvo Roope', 'year': 1949},\n",
              " {'count': 2, 'title': 'Lad: A Yorkshire Story', 'year': 2013},\n",
              " {'count': 2, 'title': 'Brother', 'year': 2000},\n",
              " {'count': 2, 'title': 'Red Ants', 'year': 2007},\n",
              " {'count': 2, 'title': 'Super 8 Stories', 'year': 2001},\n",
              " {'count': 2, 'title': 'Our Town', 'year': 2007},\n",
              " {'count': 2, 'title': 'The Prisoner', 'year': 1955},\n",
              " {'count': 2, 'title': 'Panther', 'year': 1995},\n",
              " {'count': 2, 'title': 'Helter Skelter', 'year': 2012},\n",
              " {'count': 2, 'title': 'The Numbers Station', 'year': 2013},\n",
              " {'count': 2, 'title': 'Muzi bez krèdel', 'year': 1946},\n",
              " {'count': 2, 'title': 'The Adultress', 'year': 1953},\n",
              " {'count': 2, 'title': 'Love Without Pity', 'year': 1989},\n",
              " {'count': 2, 'title': 'China Blue', 'year': 2005},\n",
              " {'count': 2, 'title': 'Boogie', 'year': 2009},\n",
              " {'count': 2,\n",
              "  'title': 'Joseph and the Amazing Technicolor Dreamcoat',\n",
              "  'year': 1999},\n",
              " {'count': 2, 'title': 'Suspect X', 'year': 2008},\n",
              " {'count': 2, 'title': 'Joanna', 'year': 2013},\n",
              " {'count': 2, 'title': 'Cubeè: Hypercube', 'year': 2002},\n",
              " {'count': 2, 'title': 'The Terror Live', 'year': 2013},\n",
              " {'count': 2, 'title': 'Ab Tak Chhappan', 'year': 2004},\n",
              " {'count': 2, 'title': 'Echoes of the Rainbow', 'year': 2010},\n",
              " {'count': 2, 'title': 'Tuesdays with Morrie', 'year': 1999},\n",
              " {'count': 2, 'title': 'The Adderall Diaries', 'year': 2015},\n",
              " {'count': 2, 'title': 'PK', 'year': 2014},\n",
              " {'count': 2, 'title': 'The Homesman', 'year': 2014},\n",
              " {'count': 2, 'title': 'An American Girl Adventure', 'year': 2005},\n",
              " {'count': 2, 'title': 'Ivy', 'year': 2015},\n",
              " {'count': 2, 'title': 'Sex, Party and Lies', 'year': 2009},\n",
              " {'count': 2, 'title': 'National Velvet', 'year': 1944},\n",
              " {'count': 2, 'title': 'Boys', 'year': 1977},\n",
              " {'count': 2, 'title': 'Little Girl', 'year': 2009},\n",
              " {'count': 2, 'title': 'Dance, Girl, Dance', 'year': 1940},\n",
              " {'count': 2, 'title': 'Thorne: Sleepyhead', 'year': 2010},\n",
              " {'count': 2, 'title': 'Four Days Inside Guantanamo', 'year': 2010},\n",
              " {'count': 2, 'title': 'Daybreakers', 'year': 2009},\n",
              " {'count': 2, 'title': 'Larry Kramer in Love and Anger', 'year': 2015},\n",
              " {'count': 2, 'title': 'Road House', 'year': 1948},\n",
              " {'count': 2, 'title': 'The Medallion', 'year': 2003},\n",
              " {'count': 2, 'title': 'The Bridesmaid', 'year': 2004},\n",
              " {'count': 2, 'title': 'Two Weeks Notice', 'year': 2002},\n",
              " {'count': 2, 'title': 'Love in the Afternoon', 'year': 1957},\n",
              " {'count': 2, 'title': 'Enough', 'year': 2002},\n",
              " {'count': 2, 'title': 'Pathfinder', 'year': 2007},\n",
              " {'count': 2, 'title': 'Eight Men Out', 'year': 1988},\n",
              " {'count': 2,\n",
              "  'title': 'The Wonderful, Horrible Life of Leni Riefenstahl',\n",
              "  'year': 1993},\n",
              " {'count': 2, 'title': 'Lars and the Real Girl', 'year': 2007},\n",
              " {'count': 2, 'title': 'Exit Wounds', 'year': 2001},\n",
              " {'count': 2, 'title': \"Girls Can't Swim\", 'year': 2000},\n",
              " {'count': 2, 'title': 'The Names of Love', 'year': 2010},\n",
              " {'count': 2, 'title': 'Crazy', 'year': 2000},\n",
              " {'count': 2, 'title': 'The Theory of Everything', 'year': 2014},\n",
              " {'count': 2, 'title': 'S.O.B.', 'year': 1981},\n",
              " {'count': 2, 'title': 'Phobia 2', 'year': 2009},\n",
              " {'count': 2, 'title': 'The Russian Novel', 'year': 2012},\n",
              " {'count': 2, 'title': 'The Journey', 'year': 2014},\n",
              " {'count': 2, 'title': 'Out of the Blue', 'year': 2006},\n",
              " {'count': 2, 'title': 'Road, Movie', 'year': 2009},\n",
              " {'count': 2, 'title': 'The Rain People', 'year': 1969},\n",
              " {'count': 2, 'title': 'Tadpole', 'year': 2000},\n",
              " {'count': 2, 'title': 'Made in America', 'year': 2013},\n",
              " {'count': 2, 'title': 'Im Sommer wohnt er unten', 'year': 2015},\n",
              " {'count': 2, 'title': 'Destino', 'year': 2003},\n",
              " {'count': 2, 'title': 'On Tour', 'year': 1990},\n",
              " {'count': 2, 'title': 'Beautiful', 'year': 2009},\n",
              " {'count': 2, 'title': 'The Truce', 'year': 1997},\n",
              " {'count': 2, 'title': 'Three Colors: Blue', 'year': 1993},\n",
              " {'count': 2, 'title': 'Spontaneous Combustion', 'year': 1990},\n",
              " {'count': 2, 'title': 'Semi-Pro', 'year': 2008},\n",
              " {'count': 2, 'title': 'The Awakening', 'year': 2011},\n",
              " {'count': 2, 'title': 'The Kite Runner', 'year': 2007},\n",
              " {'count': 2, 'title': 'How to Stop Being a Loser', 'year': 2011},\n",
              " {'count': 2, 'title': 'The First Wives Club', 'year': 1996},\n",
              " {'count': 2, 'title': 'Storage 24', 'year': 2012},\n",
              " {'count': 2, 'title': 'Richard Pryor: Omit the Logic', 'year': 2013},\n",
              " {'count': 2, 'title': 'Source Code', 'year': 2011},\n",
              " {'count': 2, 'title': 'The Big Lebowski', 'year': 1998},\n",
              " {'count': 2, 'title': 'Room for One More', 'year': 1952},\n",
              " {'count': 2, 'title': 'Cattle Annie and Little Britches', 'year': 1981},\n",
              " {'count': 2, 'title': \"A Knight's Tale\", 'year': 2001},\n",
              " {'count': 2, 'title': 'Day & Night', 'year': 2010},\n",
              " {'count': 2, 'title': 'Mujhse Dosti Karoge!', 'year': 2002},\n",
              " {'count': 2, 'title': 'Percy Jackson: Sea of Monsters', 'year': 2013},\n",
              " {'count': 2, 'title': 'White Bird in a Blizzard', 'year': 2014},\n",
              " {'count': 2, 'title': 'The Girl and Death', 'year': 2012},\n",
              " {'count': 2, 'title': 'The Quiet Family', 'year': 1998},\n",
              " {'count': 2, 'title': 'Charms Zwischenfèlle', 'year': 1996},\n",
              " {'count': 2, 'title': 'Due Date', 'year': 2010},\n",
              " {'count': 2, 'title': 'Radio', 'year': 2003},\n",
              " {'count': 2, 'title': 'Head in the Clouds', 'year': 2004},\n",
              " {'count': 2, 'title': 'Not Suitable for Children', 'year': 2012},\n",
              " {'count': 2, 'title': 'Hawaii, Oslo', 'year': 2004},\n",
              " {'count': 2, 'title': 'The Princess and the Warrior', 'year': 2000},\n",
              " {'count': 2, 'title': 'The Boxcar Children', 'year': 2014},\n",
              " {'count': 2, 'title': \"Lord's Lantern in Budapest\", 'year': 1999},\n",
              " {'count': 2, 'title': '10 Minutes', 'year': 2013},\n",
              " {'count': 2, 'title': 'Equals', 'year': 2015},\n",
              " {'count': 2, 'title': \"Nobody's Daughter Haewon\", 'year': 2013},\n",
              " {'count': 2, 'title': 'Il minestrone', 'year': 1981},\n",
              " {'count': 2, 'title': 'Oktober November', 'year': 2013},\n",
              " {'count': 2, 'title': 'Jungle', 'year': 2000},\n",
              " {'count': 2, 'title': 'The Mangler', 'year': 1995},\n",
              " {'count': 2, 'title': 'Grizzly Falls', 'year': 1999},\n",
              " {'count': 2, 'title': 'Azzurro', 'year': 2000},\n",
              " {'count': 2, 'title': 'Butterfly', 'year': 1999},\n",
              " {'count': 2, 'title': 'The Lost Bladesman', 'year': 2011},\n",
              " {'count': 2, 'title': 'Overheard', 'year': 2009},\n",
              " {'count': 2, 'title': 'The Fox and the Hound 2', 'year': 2006},\n",
              " {'count': 2, 'title': 'Look', 'year': 2007},\n",
              " {'count': 2, 'title': 'Cop & è', 'year': 1993},\n",
              " {'count': 2, 'title': 'Sue', 'year': 1997},\n",
              " {'count': 2, 'title': 'Local Color', 'year': 2006},\n",
              " {'count': 2, 'title': 'Slaughterhouse-Five', 'year': 1972},\n",
              " {'count': 2, 'title': 'The Christmas Party', 'year': 2009},\n",
              " {'count': 2, 'title': 'My Favorite Season', 'year': 1993},\n",
              " {'count': 2, 'title': 'The Witches of Eastwick', 'year': 1987},\n",
              " {'count': 2, 'title': 'Soft Shell Man', 'year': 2001},\n",
              " {'count': 2, 'title': 'Ronin', 'year': 1998},\n",
              " {'count': 2, 'title': 'Broken Embraces', 'year': 2009},\n",
              " {'count': 2, 'title': 'The Assassination Bureau', 'year': 1969},\n",
              " {'count': 2, 'title': 'Tamala 2010: A Punk Cat in Space', 'year': 2002},\n",
              " {'count': 2, 'title': 'The Dark Hours', 'year': 2005},\n",
              " {'count': 2, 'title': 'Beefcake', 'year': 1998},\n",
              " {'count': 2, 'title': 'Tomorrow Never Dies', 'year': 1997},\n",
              " {'count': 2, 'title': 'Den ofrivillige golfaren', 'year': 1991},\n",
              " {'count': 2, 'title': 'Murder in Greenwich', 'year': 2002},\n",
              " {'count': 2, 'title': \"I Don't Kiss\", 'year': 1991},\n",
              " {'count': 2, 'title': 'What Happened Was...', 'year': 1994},\n",
              " {'count': 2, 'title': 'The Life of Buddha', 'year': 2007},\n",
              " {'count': 2, 'title': 'Oklahoma Crude', 'year': 1973},\n",
              " {'count': 2, 'title': 'China Seas', 'year': 1935},\n",
              " {'count': 2, 'title': 'My Girl', 'year': 2003},\n",
              " {'count': 2, 'title': 'Cèo Sem Dono', 'year': 2007},\n",
              " {'count': 2, 'title': 'Son of Rambow', 'year': 2007},\n",
              " {'count': 2, 'title': 'Possession', 'year': 1981},\n",
              " {'count': 2, 'title': 'Schoolgirls Growing Up', 'year': 1972},\n",
              " {'count': 2, 'title': 'Beavis and Butt-Head Do America', 'year': 1996},\n",
              " {'count': 2, 'title': 'The Out of Towners', 'year': 1970},\n",
              " {'count': 2, 'title': 'Like You Know It All', 'year': 2009},\n",
              " {'count': 2, 'title': 'Cinderfella', 'year': 1960},\n",
              " {'count': 2, 'title': 'Ghostbusters II', 'year': 1989},\n",
              " {'count': 2, 'title': 'Primal Fear', 'year': 1996},\n",
              " {'count': 2, 'title': 'Houdini', 'year': 2014},\n",
              " {'count': 2, 'title': 'No Turning Back', 'year': 2001},\n",
              " {'count': 2, 'title': 'Solomon Kane', 'year': 2009},\n",
              " {'count': 2, 'title': 'Carrie', 'year': 2013},\n",
              " {'count': 2, 'title': 'Monica Z', 'year': 2013},\n",
              " {'count': 2, 'title': 'Black Day Blue Night', 'year': 1995},\n",
              " {'count': 2, 'title': 'Snakes and Earrings', 'year': 2008},\n",
              " {'count': 2, 'title': 'Anna M.', 'year': 2007},\n",
              " {'count': 2, 'title': '009 Re: Cyborg', 'year': 2012},\n",
              " {'count': 2, 'title': 'Crazy for Christmas', 'year': 2005},\n",
              " {'count': 2, 'title': 'Sissi: The Fateful Years of an Empress', 'year': 1957},\n",
              " {'count': 2, 'title': 'Patlabor 2: The Movie', 'year': 1993},\n",
              " {'count': 2, 'title': 'Shadows', 'year': 2007},\n",
              " {'count': 2, 'title': 'Hit & Miss', 'year': '2012è'},\n",
              " {'count': 2, 'title': 'Balance', 'year': 1989},\n",
              " {'count': 2, 'title': \"Tuya's Marriage\", 'year': 2006},\n",
              " {'count': 2, 'title': 'The Eagle', 'year': 2011},\n",
              " {'count': 2, 'title': 'The Naked and the Dead', 'year': 1958},\n",
              " {'count': 2, 'title': 'Le poulpe', 'year': 1998},\n",
              " {'count': 2, 'title': 'Undertow', 'year': 2004},\n",
              " {'count': 2, 'title': 'Niezwykla podrèz Baltazara Kobera', 'year': 1988},\n",
              " {'count': 2, 'title': 'Up Close & Personal', 'year': 1996},\n",
              " {'count': 2, 'title': 'American Psycho', 'year': 2000},\n",
              " {'count': 2,\n",
              "  'title': 'B-Movie: Lust & Sound in West-Berlin 1979-1989',\n",
              "  'year': 2015},\n",
              " {'count': 2, 'title': 'Princess Arete', 'year': 2001},\n",
              " {'count': 2, 'title': 'Youth', 'year': 2015},\n",
              " {'count': 2, 'title': 'Fatso', 'year': 1980},\n",
              " {'count': 2, 'title': 'The Intouchables', 'year': 2011},\n",
              " {'count': 2, 'title': 'Lakota Woman: Siege at Wounded Knee', 'year': 1994},\n",
              " {'count': 2, 'title': 'The Catered Affair', 'year': 1956},\n",
              " {'count': 2, 'title': 'Oxygen', 'year': 1999},\n",
              " {'count': 2, 'title': 'Lucky Luke and the Daltons', 'year': 2004},\n",
              " {'count': 2, 'title': 'Amityville 3-D', 'year': 1983},\n",
              " {'count': 2, 'title': 'The Santa Clause 2', 'year': 2002},\n",
              " {'count': 2, 'title': 'Girl Walks Into a Bar', 'year': 2011},\n",
              " {'count': 2, 'title': 'Heaven', 'year': 1998},\n",
              " {'count': 2, 'title': 'Melancholia', 'year': 2011},\n",
              " {'count': 2, 'title': 'Catch That Kid', 'year': 2004},\n",
              " {'count': 2, 'title': 'Notting Hill', 'year': 1999},\n",
              " {'count': 2, 'title': 'The Bridge', 'year': 1999},\n",
              " {'count': 2, 'title': \"Jacob's Ladder\", 'year': 1990},\n",
              " {'count': 2, 'title': 'Como agua para chocolate', 'year': 1992},\n",
              " {'count': 2, 'title': \"What Doesn't Kill You\", 'year': 2008},\n",
              " {'count': 2, 'title': 'Locke', 'year': 2013},\n",
              " {'count': 2,\n",
              "  'title': 'We Steal Secrets: The Story of WikiLeaks',\n",
              "  'year': 2013},\n",
              " {'count': 2, 'title': 'Priceless', 'year': 2006},\n",
              " {'count': 2, 'title': 'The French Connection', 'year': 1971},\n",
              " {'count': 2, 'title': 'Terminator Genisys', 'year': 2015},\n",
              " {'count': 2,\n",
              "  'title': 'The Wild and Wonderful Whites of West Virginia',\n",
              "  'year': 2009},\n",
              " {'count': 2, 'title': 'Detention', 'year': 2003},\n",
              " {'count': 2, 'title': 'Drowsiness', 'year': 2008},\n",
              " {'count': 2, 'title': 'My Good Enemy', 'year': 2010},\n",
              " {'count': 2, 'title': 'Lakota Woman: Siege at Wounded Knee', 'year': 1994},\n",
              " {'count': 2, 'title': 'Eloise at the Plaza', 'year': 2003},\n",
              " {'count': 2, 'title': 'The River', 'year': 1984},\n",
              " {'count': 2, 'title': \"Devil's Pass\", 'year': 2013},\n",
              " {'count': 2, 'title': 'The Signal', 'year': 2007},\n",
              " {'count': 2, 'title': 'Between the Lines', 'year': 1977},\n",
              " {'count': 2, 'title': 'Hellraiser: Inferno', 'year': 2000},\n",
              " {'count': 2, 'title': 'A Slipping-Down Life', 'year': 1999},\n",
              " {'count': 2, 'title': 'The Untouchables', 'year': 1987},\n",
              " {'count': 2, 'title': 'Happy Ever Afters', 'year': 2009},\n",
              " {'count': 2, 'title': 'Multiple SIDosis', 'year': 1970},\n",
              " {'count': 2, 'title': 'Easy Money II: Hard to Kill', 'year': 2012},\n",
              " {'count': 2, 'title': 'American Promise', 'year': 2013},\n",
              " {'count': 2, 'title': 'Wife', 'year': 1953},\n",
              " {'count': 2, 'title': 'How Do You Know', 'year': 2010},\n",
              " {'count': 2, 'title': 'Wife! Be Like a Rose!', 'year': 1935},\n",
              " {'count': 2, 'title': \"The Devil's Backbone\", 'year': 2001},\n",
              " {'count': 2, 'title': 'The Floating Castle', 'year': 2012},\n",
              " {'count': 2, 'title': 'Nine Months', 'year': 1995},\n",
              " {'count': 2, 'title': 'Flashdance', 'year': 1983},\n",
              " {'count': 2, 'title': 'Archangel', 'year': 1990},\n",
              " {'count': 2, 'title': 'Hotel Swooni', 'year': 2011},\n",
              " {'count': 2, 'title': 'Fresh Bait', 'year': 1995},\n",
              " {'count': 2, 'title': 'No Path Through Fire', 'year': 1968},\n",
              " {'count': 2, 'title': 'Titanica', 'year': 1995},\n",
              " {'count': 2, 'title': 'La dèsenchantèe', 'year': 1990},\n",
              " {'count': 2, 'title': 'Pop Skull', 'year': 2007},\n",
              " {'count': 2, 'title': \"Love's Enduring Promise\", 'year': 2004},\n",
              " {'count': 2, 'title': \"Dave Chappelle: For What It's Worth\", 'year': 2004},\n",
              " {'count': 2, 'title': 'Bright Lights, Big City', 'year': 1988},\n",
              " {'count': 2,\n",
              "  'title': 'Thirty Two Short Films About Glenn Gould',\n",
              "  'year': 1993},\n",
              " {'count': 2, 'title': 'Lady in the Water', 'year': 2006},\n",
              " {'count': 2, 'title': 'Ruhr', 'year': 2009},\n",
              " {'count': 2, 'title': 'Breathing Room', 'year': 1996},\n",
              " {'count': 2, 'title': 'Smashed', 'year': 2012},\n",
              " {'count': 2, 'title': 'Hammer & Tickle', 'year': 2006},\n",
              " {'count': 2, 'title': 'Wandering Sagittarius', 'year': 1993},\n",
              " {'count': 2, 'title': 'Yankee Doodle Dandy', 'year': 1942},\n",
              " {'count': 2, 'title': 'Parenthood', 'year': 1989},\n",
              " {'count': 2, 'title': 'Yoru no onnatachi', 'year': 1948},\n",
              " {'count': 2, 'title': 'Big Trouble in Little China', 'year': 1986},\n",
              " {'count': 2, 'title': 'The End of the Affair', 'year': 1955},\n",
              " {'count': 2, 'title': 'THX 1138', 'year': 1971},\n",
              " {'count': 2, 'title': \"Child's Play 2\", 'year': 1990},\n",
              " {'count': 2,\n",
              "  'title': 'The Land Before Time XIII: The Wisdom of Friends',\n",
              "  'year': 2007},\n",
              " {'count': 2, 'title': 'Action Jackson', 'year': 1988},\n",
              " {'count': 2, 'title': 'Cheap Smokes', 'year': 2000},\n",
              " {'count': 2, 'title': 'The Wind and the Lion', 'year': 1975},\n",
              " {'count': 2, 'title': 'Cocktail', 'year': 1988},\n",
              " {'count': 2, 'title': 'Eye in the Sky', 'year': 2007},\n",
              " {'count': 2, 'title': 'The House on Carroll Street', 'year': 1988},\n",
              " {'count': 2, 'title': 'Passion of Love', 'year': 1981},\n",
              " {'count': 2, 'title': 'Freeway', 'year': 1996},\n",
              " {'count': 2, 'title': 'To Rome with Love', 'year': 2012},\n",
              " {'count': 2, 'title': 'Gold', 'year': 1974},\n",
              " {'count': 2, 'title': 'Auk Nr. 8', 'year': 2010},\n",
              " {'count': 2, 'title': 'Night Owls', 'year': 2015},\n",
              " {'count': 2, 'title': 'Torque', 'year': 2004},\n",
              " {'count': 2, 'title': 'Poppy Shakespeare', 'year': 2008},\n",
              " {'count': 2, 'title': 'My Sweet Pepper Land', 'year': 2013},\n",
              " {'count': 2, 'title': 'Raising Victor Vargas', 'year': 2002},\n",
              " {'count': 2, 'title': 'How to Meet Girls from a Distance', 'year': 2012},\n",
              " {'count': 2, 'title': 'Boy A', 'year': 2007},\n",
              " {'count': 2, 'title': \"Refugee All Stars, Sierra Leone's\", 'year': 2005},\n",
              " {'count': 2, 'title': 'Where the Green Ants Dream', 'year': 1984},\n",
              " {'count': 2, 'title': 'Chan Is Missing', 'year': 1982},\n",
              " {'count': 2, 'title': 'Rozygrysh', 'year': 2008},\n",
              " {'count': 2, 'title': 'PiraMMMida', 'year': 2011},\n",
              " {'count': 2, 'title': 'Isdraken', 'year': 2012},\n",
              " {'count': 2, 'title': \"Marie's Story\", 'year': 2014},\n",
              " {'count': 2, 'title': 'Best Laid Plans', 'year': 1999},\n",
              " {'count': 2,\n",
              "  'title': 'The Crimson Wing: Mystery of the Flamingos',\n",
              "  'year': 2008},\n",
              " {'count': 2, 'title': 'It Should Happen to You', 'year': 1954},\n",
              " {'count': 2, 'title': 'Unbreakable', 'year': 2000},\n",
              " {'count': 2, 'title': 'Keep Your Distance', 'year': 2005},\n",
              " {'count': 2, 'title': 'Hatchet II', 'year': 2010},\n",
              " {'count': 2, 'title': 'Like the Wind', 'year': 2013},\n",
              " {'count': 2, 'title': 'Nomad: The Warrior', 'year': 2005},\n",
              " {'count': 2, 'title': \"I'm the One You Want\", 'year': 2014},\n",
              " {'count': 2, 'title': 'Sword Art Online Extra Edition', 'year': 2013},\n",
              " {'count': 2, 'title': 'Circle', 'year': 2015},\n",
              " {'count': 2, 'title': 'The Clan - Tale of the Frogs', 'year': 1984},\n",
              " {'count': 2, 'title': 'Oye Lucky! Lucky Oye!', 'year': 2008},\n",
              " {'count': 2, 'title': 'Secret Smile', 'year': 2005},\n",
              " {'count': 2, 'title': 'The Children', 'year': 2008},\n",
              " {'count': 2, 'title': 'Godzilla 1985', 'year': 1984},\n",
              " {'count': 2, 'title': \"Feudin' Fools\", 'year': 1952},\n",
              " {'count': 2, 'title': 'Hors la vie', 'year': 1991},\n",
              " {'count': 2, 'title': \"The Tiger's Tail\", 'year': 2006},\n",
              " {'count': 2, 'title': 'Fixing Frank', 'year': 2002},\n",
              " {'count': 2, 'title': 'Our Beloved Month of August', 'year': 2008},\n",
              " {'count': 2, 'title': 'Galaxy Express 999', 'year': 1979},\n",
              " {'count': 2, 'title': 'Swimming with Sharks', 'year': 1994},\n",
              " {'count': 2, 'title': 'Shotgun Stories', 'year': 2007},\n",
              " {'count': 2, 'title': 'Concerning Violence', 'year': 2014},\n",
              " {'count': 2, 'title': 'The Green Pastures', 'year': 1936},\n",
              " {'count': 2, 'title': 'April and the Extraordinary World', 'year': 2015},\n",
              " {'count': 2, 'title': 'Me and Morrison', 'year': 2001},\n",
              " {'count': 2, 'title': 'The Pearl Button', 'year': 2015},\n",
              " {'count': 2, 'title': 'Munich', 'year': 2005},\n",
              " {'count': 2, 'title': '9/11', 'year': 2002},\n",
              " {'count': 2, 'title': 'Raincoat', 'year': 2004},\n",
              " {'count': 2, 'title': 'Slap Shot', 'year': 1977},\n",
              " {'count': 2, 'title': 'Kopps', 'year': 2003},\n",
              " {'count': 2, 'title': 'The War', 'year': 2007},\n",
              " {'count': 2, 'title': 'Sweet Evil', 'year': 2010},\n",
              " {'count': 2, 'title': 'Jack Brooks: Monster Slayer', 'year': 2007},\n",
              " {'count': 2, 'title': 'Return to Oz', 'year': 1985},\n",
              " {'count': 2,\n",
              "  'title': 'Forklift Driver Klaus: The First Day on the Job',\n",
              "  'year': 2000},\n",
              " {'count': 2, 'title': 'Maya the Bee Movie', 'year': 2014},\n",
              " {'count': 2, 'title': 'Mouth to Mouth', 'year': 2005},\n",
              " {'count': 2, 'title': 'A Nightmare on Elm Street', 'year': 2010},\n",
              " {'count': 2, 'title': \"We Don't Care About Music Anyway\", 'year': 2009},\n",
              " {'count': 2, 'title': 'Sorry for the Disturbance', 'year': 2008},\n",
              " {'count': 2, 'title': 'The Bachelor', 'year': 1955},\n",
              " {'count': 2, 'title': 'Songs She Wrote About People She Knows', 'year': 2014},\n",
              " {'count': 2, 'title': 'Police Story', 'year': 1985},\n",
              " {'count': 2, 'title': 'Baggage Claim', 'year': 2013},\n",
              " {'count': 2, 'title': 'A Sunday in Kigali', 'year': 2006},\n",
              " {'count': 2, 'title': 'Justice League: Doom', 'year': 2012},\n",
              " {'count': 2, 'title': 'The Dirt Bike Kid', 'year': 1985},\n",
              " {'count': 2, 'title': 'Against All Odds', 'year': 1984},\n",
              " {'count': 2, 'title': 'La strega in amore', 'year': 1966},\n",
              " {'count': 2, 'title': 'Pride', 'year': 2014},\n",
              " {'count': 2, 'title': 'The Returned', 'year': 2013},\n",
              " {'count': 2, 'title': 'The Deluge', 'year': 1974},\n",
              " {'count': 2, 'title': 'Corporate', 'year': 2006},\n",
              " {'count': 2, 'title': 'Year of the Devil', 'year': 2002},\n",
              " {'count': 2, 'title': 'Small Apartments', 'year': 2012},\n",
              " {'count': 2, 'title': 'Life, Autumn', 'year': 1999},\n",
              " {'count': 2, 'title': 'Bodysong', 'year': 2003},\n",
              " {'count': 2, 'title': 'My Life Without Me', 'year': 2003},\n",
              " {'count': 2, 'title': 'The Count of Monte Cristo', 'year': 1954},\n",
              " {'count': 2, 'title': 'Hitman Hart: Wrestling with Shadows', 'year': 1998},\n",
              " {'count': 2, 'title': 'The Soul of a Man', 'year': 2003},\n",
              " {'count': 2, 'title': 'Tell Me a Riddle', 'year': 1980},\n",
              " {'count': 2, 'title': 'Ghulam', 'year': 1998},\n",
              " {'count': 2, 'title': 'Saint Jack', 'year': 1979},\n",
              " {'count': 2, 'title': 'The Settlement', 'year': 2002},\n",
              " {'count': 2, 'title': 'The Clone Returns Home', 'year': 2008},\n",
              " {'count': 2, 'title': 'Heat', 'year': 1995},\n",
              " {'count': 2, 'title': 'Drive Thru', 'year': 2007},\n",
              " {'count': 2, 'title': 'Lucky Luke', 'year': 1991},\n",
              " {'count': 2, 'title': 'Ambassada', 'year': 2013},\n",
              " {'count': 2, 'title': 'American Heart', 'year': 1992},\n",
              " {'count': 2, 'title': 'We Are Young. We Are Strong.', 'year': 2014},\n",
              " {'count': 2, 'title': 'Transistor Love Story', 'year': 2001},\n",
              " {'count': 2, 'title': 'My Little Business', 'year': 1999},\n",
              " {'count': 2, 'title': 'Night Must Fall', 'year': 1937},\n",
              " {'count': 2, 'title': 'Pierrepoint: The Last Hangman', 'year': 2005},\n",
              " {'count': 2, 'title': 'Road House', 'year': 1989},\n",
              " {'count': 2, 'title': 'The Stranger', 'year': 1991},\n",
              " {'count': 2, 'title': 'Robot Jox', 'year': 1989},\n",
              " {'count': 2, 'title': 'Eating', 'year': 1990},\n",
              " {'count': 2, 'title': 'Mann tut was Mann kann', 'year': 2012},\n",
              " {'count': 2, 'title': 'Kung Fury', 'year': 2015},\n",
              " {'count': 2, 'title': 'So Normal', 'year': 2003},\n",
              " {'count': 2,\n",
              "  'title': 'The Toxic Avenger Part III: The Last Temptation of Toxie',\n",
              "  'year': 1989},\n",
              " {'count': 2, 'title': 'The Amati Girls', 'year': 2000},\n",
              " {'count': 2, 'title': 'Madeline', 'year': 1998},\n",
              " {'count': 2, 'title': 'The Bandit', 'year': 1946},\n",
              " {'count': 2, 'title': 'Looking for Eric', 'year': 2009},\n",
              " {'count': 2, 'title': 'A City of Sadness', 'year': 1989},\n",
              " {'count': 2, 'title': 'Sebbe', 'year': 2010},\n",
              " {'count': 2, 'title': 'Animal Factory', 'year': 2000},\n",
              " {'count': 2, 'title': 'Pieces of Dreams', 'year': 1970},\n",
              " {'count': 2, 'title': 'Girl Fight', 'year': 2011},\n",
              " {'count': 2, 'title': 'Hiroshima', 'year': 2005},\n",
              " {'count': 2, 'title': 'Goon', 'year': 2011},\n",
              " {'count': 2, 'title': 'Frenzy', 'year': 1972},\n",
              " {'count': 2, 'title': 'Lucky Break', 'year': 2001},\n",
              " {'count': 2, 'title': 'Latter Days', 'year': 2003},\n",
              " {'count': 2, 'title': 'El amor brujo', 'year': 1986},\n",
              " {'count': 2, 'title': 'Ghosts of the Abyss', 'year': 2003},\n",
              " {'count': 2, 'title': 'Bitva za Sevastopol', 'year': 2015},\n",
              " {'count': 2, 'title': \"A Hard Day's Night\", 'year': 1964},\n",
              " {'count': 2, 'title': 'John Adams', 'year': 2008},\n",
              " {'count': 2, 'title': 'Aalavandhan', 'year': 2001},\n",
              " {'count': 2,\n",
              "  'title': \"Marilyn Hotchkiss' Ballroom Dancing & Charm School\",\n",
              "  'year': 2005},\n",
              " {'count': 2, 'title': 'Saving Face', 'year': 2004},\n",
              " {'count': 2, 'title': \"Varian's War\", 'year': 2001},\n",
              " {'count': 2, 'title': 'Trial', 'year': 1955},\n",
              " {'count': 2, 'title': 'Savage', 'year': 2011},\n",
              " {'count': 2, 'title': 'Redacted', 'year': 2007},\n",
              " {'count': 2, 'title': 'Once Upon a Time in Shanghai', 'year': 2014},\n",
              " {'count': 2, 'title': 'Funeral March', 'year': 2001},\n",
              " {'count': 2, 'title': 'The Jew in the Lotus', 'year': 1998},\n",
              " {'count': 2, 'title': 'Twilight Time', 'year': 1982},\n",
              " {'count': 2, 'title': '28 Up', 'year': 1984},\n",
              " {'count': 2, 'title': 'West', 'year': 2013},\n",
              " {'count': 2, 'title': 'Class Action', 'year': 1991},\n",
              " {'count': 2, 'title': 'Images', 'year': 1972},\n",
              " {'count': 2, 'title': 'Alfie', 'year': 1966},\n",
              " {'count': 2, 'title': 'Jesus Christ Vampire Hunter', 'year': 2001},\n",
              " {'count': 2, 'title': 'Testament', 'year': 1983},\n",
              " {'count': 2, 'title': 'Messi', 'year': 2014},\n",
              " {'count': 2, 'title': 'Dark Horse', 'year': 2015},\n",
              " {'count': 2, 'title': 'If I Were You 2', 'year': 2009},\n",
              " {'count': 2, 'title': 'I Am Maria', 'year': 1979},\n",
              " {'count': 2, 'title': 'Above and Below', 'year': 2015},\n",
              " {'count': 2, 'title': 'Sand Castles', 'year': 2014},\n",
              " {'count': 2, 'title': 'Corpse Bride', 'year': 2005},\n",
              " {'count': 2, 'title': 'Hell and Back Again', 'year': 2011},\n",
              " {'count': 2, 'title': 'Carriers', 'year': 2009},\n",
              " {'count': 2, 'title': 'Ride Along', 'year': 2014},\n",
              " {'count': 2, 'title': 'EuroTrip', 'year': 2004},\n",
              " {'count': 2, 'title': 'The Last Sentence', 'year': 2012},\n",
              " {'count': 2, 'title': 'Red Riding Hood', 'year': 2011},\n",
              " {'count': 2, 'title': 'Imperial Dreams', 'year': 2014},\n",
              " {'count': 2, 'title': 'Moonrise Kingdom', 'year': 2012},\n",
              " {'count': 2, 'title': 'Martha', 'year': 1974},\n",
              " {'count': 2, 'title': 'Ek Thi Daayan', 'year': 2013},\n",
              " {'count': 2, 'title': 'Disclosure', 'year': 1994},\n",
              " {'count': 2, 'title': 'No', 'year': 2012},\n",
              " {'count': 2, 'title': 'All the Wilderness', 'year': 2014},\n",
              " {'count': 2, 'title': 'El Estudiante', 'year': 2009},\n",
              " {'count': 2, 'title': 'Powder', 'year': 1995},\n",
              " {'count': 2, 'title': 'Our Song', 'year': 2000},\n",
              " {'count': 2, 'title': 'Reversal of Fortune', 'year': 1990},\n",
              " {'count': 2, 'title': 'Miss Minoes', 'year': 2001},\n",
              " {'count': 2, 'title': 'Om Shanti Om', 'year': 2007},\n",
              " {'count': 2, 'title': 'The Brotherhood', 'year': 1968},\n",
              " {'count': 2, 'title': 'In the Grayscale', 'year': 2015},\n",
              " {'count': 2, 'title': 'Tizoc', 'year': 1957},\n",
              " {'count': 2, 'title': 'Boy s tenyu', 'year': 2005},\n",
              " {'count': 2, 'title': 'Mondo', 'year': 1995},\n",
              " {'count': 2, 'title': 'Appleseed Saga: Ex Machina', 'year': 2007},\n",
              " {'count': 2, 'title': 'Blue Caprice', 'year': 2013},\n",
              " {'count': 2, 'title': 'It Rains in My Village', 'year': 1968},\n",
              " {'count': 2, 'title': 'The Blue Umbrella', 'year': 2013},\n",
              " {'count': 2, 'title': 'Delicacy', 'year': 2011},\n",
              " {'count': 2, 'title': 'Truly Human', 'year': 2001},\n",
              " {'count': 2,\n",
              "  'title': 'Breaking the Surface: The Greg Louganis Story',\n",
              "  'year': 1997},\n",
              " {'count': 2, 'title': 'White Lion', 'year': 2010},\n",
              " {'count': 2, 'title': 'Suburban Gothic', 'year': 2014},\n",
              " {'count': 2,\n",
              "  'title': 'Police Academy 5: Assignment: Miami Beach',\n",
              "  'year': 1988},\n",
              " {'count': 2, 'title': 'The Incident', 'year': 1967},\n",
              " {'count': 2, 'title': 'The King of the Street Cleaners', 'year': 1977},\n",
              " {'count': 2, 'title': \"Patrick's Day\", 'year': 2014},\n",
              " {'count': 2, 'title': \"This Isn't Funny\", 'year': 2015},\n",
              " {'count': 2, 'title': 'Quo Vadis, Baby?', 'year': 2005},\n",
              " {'count': 2, 'title': 'Dancemaker', 'year': 1998},\n",
              " {'count': 2, 'title': 'Tetro', 'year': 2009},\n",
              " {'count': 2, 'title': 'My Bloody Valentine', 'year': 2009},\n",
              " {'count': 2, 'title': 'The Castle', 'year': 1997},\n",
              " {'count': 2, 'title': 'The Last of the High Kings', 'year': 1996},\n",
              " {'count': 2, 'title': 'Bes Sehir', 'year': 2010},\n",
              " {'count': 2, 'title': 'Topsy-Turvy', 'year': 1999},\n",
              " {'count': 2, 'title': 'Century of Birthing', 'year': 2011},\n",
              " {'count': 2, 'title': 'Fort Tilden', 'year': 2014},\n",
              " {'count': 2, 'title': 'Der letzte schène Herbsttag', 'year': 2010},\n",
              " {'count': 2, 'title': 'The Moon in the Gutter', 'year': 1983},\n",
              " {'count': 2, 'title': \"Everybody's Got Somebody... Not Me\", 'year': 2012},\n",
              " {'count': 2, 'title': \"Charlotte's Web\", 'year': 2006},\n",
              " {'count': 2, 'title': 'Fiorile', 'year': 1993},\n",
              " {'count': 2, 'title': 'An Injury to One', 'year': 2002},\n",
              " {'count': 2, 'title': 'City of Men', 'year': 2007},\n",
              " {'count': 2, 'title': 'Iron Sky', 'year': 2012},\n",
              " {'count': 2, 'title': 'No Good Deed', 'year': 2002},\n",
              " {'count': 2, 'title': 'Barefoot in the Park', 'year': 1967},\n",
              " {'count': 2, 'title': 'What the Deaf Man Heard', 'year': 1997},\n",
              " {'count': 2, 'title': 'Melissa P.', 'year': 2005},\n",
              " {'count': 2, 'title': 'Lola', 'year': 1981},\n",
              " {'count': 2, 'title': 'Somewhere Under the Broad Sky', 'year': 1954},\n",
              " {'count': 2, 'title': 'The Art of War', 'year': 2000},\n",
              " {'count': 2, 'title': 'The Bank Job', 'year': 2008},\n",
              " {'count': 2, 'title': 'Whisper If I Forget', 'year': 2014},\n",
              " {'count': 2, 'title': 'The Answer Man', 'year': 2009},\n",
              " {'count': 2, 'title': 'The Story of Piera', 'year': 1983},\n",
              " {'count': 2, 'title': 'Hansel & Gretel: Witch Hunters', 'year': 2013},\n",
              " {'count': 2, 'title': 'Downfall', 'year': 2004},\n",
              " {'count': 2, 'title': 'The Tough Ones', 'year': 1999},\n",
              " {'count': 2, 'title': 'Approaching the Elephant', 'year': 2014},\n",
              " {'count': 2, 'title': 'Noise', 'year': 2004},\n",
              " {'count': 2, 'title': 'Fear No Evil', 'year': 1981},\n",
              " {'count': 2, 'title': 'De vlaschaard', 'year': 1985},\n",
              " {'count': 2, 'title': 'Bad Eggs', 'year': 2003},\n",
              " {'count': 2, 'title': \"Winter's Tale\", 'year': 2014},\n",
              " {'count': 2, 'title': \"A Stranger's Heart\", 'year': 2007},\n",
              " {'count': 2, 'title': 'The Delta Force', 'year': 1986},\n",
              " {'count': 2, 'title': 'What Lies Beneath', 'year': 2000},\n",
              " ...]"
            ]
          },
          "execution_count": 92,
          "metadata": {},
          "output_type": "execute_result"
        }
      ],
      "source": [
        "result = db.comments.aggregate([\n",
        "    {\n",
        "        '$group': {\n",
        "            '_id': '$movie_id', \n",
        "            'count': {\n",
        "                '$count': {}\n",
        "            }\n",
        "        }\n",
        "    }, {\n",
        "        '$sort': {\n",
        "            'count': -1\n",
        "        }\n",
        "    }, {\n",
        "        '$lookup': {\n",
        "            'as': 'movies_comments', \n",
        "            'from': 'movies', \n",
        "            'foreignField': '_id', \n",
        "            'localField': '_id'\n",
        "        }\n",
        "    }, {\n",
        "        '$project': {\n",
        "            'count': 1, \n",
        "            '_id': 0, \n",
        "            'movies_comments.year': 1, \n",
        "            'movies_comments.title': 1\n",
        "        }\n",
        "    }, {\n",
        "        '$unwind': {\n",
        "            'path': '$movies_comments'\n",
        "        }\n",
        "    }, {\n",
        "        '$addFields': {\n",
        "            'title': '$movies_comments.title', \n",
        "            'year': '$movies_comments.year'\n",
        "        }\n",
        "    }, {\n",
        "        '$project': {\n",
        "            'count': 1, \n",
        "            'title': 1, \n",
        "            'year': 1\n",
        "        }\n",
        "    }\n",
        "])\n",
        "result = list(result)\n",
        "result"
      ]
    },
    {
      "cell_type": "markdown",
      "metadata": {
        "id": "AFZpD6MVqVff"
      },
      "source": [
        "#### Задача 2.2 — **1 балл**"
      ]
    },
    {
      "cell_type": "markdown",
      "metadata": {
        "id": "fqF1_fs1qWvj"
      },
      "source": [
        "Используя данные, полученные в задаче 2.1, выведите на экран столбчатую диаграмму, показывающую топ-20 наиболее комментируемых фильмов. По оси ординат выведите названия этих фильмов (подписи разместите слева диаграммы), по оси абсцисс — количество комментариев.\n",
        "\n",
        "Для решения задачи можно использовать любую библиотеку, например Seaborn или Matplotlib."
      ]
    },
    {
      "cell_type": "code",
      "execution_count": 110,
      "metadata": {},
      "outputs": [
        {
          "data": {
            "application/vnd.plotly.v1+json": {
              "config": {
                "plotlyServerURL": "https://plot.ly"
              },
              "data": [
                {
                  "alignmentgroup": "True",
                  "hovertemplate": "count=%{x}<br>title=%{y}<extra></extra>",
                  "legendgroup": "",
                  "marker": {
                    "color": "#636efa",
                    "pattern": {
                      "shape": ""
                    }
                  },
                  "name": "",
                  "offsetgroup": "",
                  "orientation": "h",
                  "showlegend": false,
                  "textposition": "auto",
                  "type": "bar",
                  "x": [
                    161,
                    158,
                    158,
                    158,
                    158,
                    157,
                    157,
                    155,
                    154,
                    154,
                    153,
                    153,
                    153,
                    153,
                    153,
                    153,
                    153,
                    153,
                    152,
                    152
                  ],
                  "xaxis": "x",
                  "y": [
                    "The Taking of Pelham 1 2 3",
                    "Ocean's Eleven",
                    "About a Boy",
                    "50 First Dates",
                    "Terminator Salvation",
                    "Sherlock Holmes",
                    "The Mummy",
                    "Hellboy II: The Golden Army",
                    "Anchorman: The Legend of Ron Burgundy",
                    "The Mummy Returns",
                    "Mission: Impossible",
                    "Cinderella",
                    "X-Men",
                    "American Pie",
                    "Bruce Almighty",
                    "Pirates of the Caribbean: At World's End",
                    "E.T. the Extra-Terrestrial",
                    "Wanted",
                    "The Ring",
                    "Gladiator"
                  ],
                  "yaxis": "y"
                }
              ],
              "layout": {
                "barmode": "relative",
                "height": 500,
                "legend": {
                  "tracegroupgap": 0
                },
                "template": {
                  "data": {
                    "bar": [
                      {
                        "error_x": {
                          "color": "#2a3f5f"
                        },
                        "error_y": {
                          "color": "#2a3f5f"
                        },
                        "marker": {
                          "line": {
                            "color": "#E5ECF6",
                            "width": 0.5
                          },
                          "pattern": {
                            "fillmode": "overlay",
                            "size": 10,
                            "solidity": 0.2
                          }
                        },
                        "type": "bar"
                      }
                    ],
                    "barpolar": [
                      {
                        "marker": {
                          "line": {
                            "color": "#E5ECF6",
                            "width": 0.5
                          },
                          "pattern": {
                            "fillmode": "overlay",
                            "size": 10,
                            "solidity": 0.2
                          }
                        },
                        "type": "barpolar"
                      }
                    ],
                    "carpet": [
                      {
                        "aaxis": {
                          "endlinecolor": "#2a3f5f",
                          "gridcolor": "white",
                          "linecolor": "white",
                          "minorgridcolor": "white",
                          "startlinecolor": "#2a3f5f"
                        },
                        "baxis": {
                          "endlinecolor": "#2a3f5f",
                          "gridcolor": "white",
                          "linecolor": "white",
                          "minorgridcolor": "white",
                          "startlinecolor": "#2a3f5f"
                        },
                        "type": "carpet"
                      }
                    ],
                    "choropleth": [
                      {
                        "colorbar": {
                          "outlinewidth": 0,
                          "ticks": ""
                        },
                        "type": "choropleth"
                      }
                    ],
                    "contour": [
                      {
                        "colorbar": {
                          "outlinewidth": 0,
                          "ticks": ""
                        },
                        "colorscale": [
                          [
                            0,
                            "#0d0887"
                          ],
                          [
                            0.1111111111111111,
                            "#46039f"
                          ],
                          [
                            0.2222222222222222,
                            "#7201a8"
                          ],
                          [
                            0.3333333333333333,
                            "#9c179e"
                          ],
                          [
                            0.4444444444444444,
                            "#bd3786"
                          ],
                          [
                            0.5555555555555556,
                            "#d8576b"
                          ],
                          [
                            0.6666666666666666,
                            "#ed7953"
                          ],
                          [
                            0.7777777777777778,
                            "#fb9f3a"
                          ],
                          [
                            0.8888888888888888,
                            "#fdca26"
                          ],
                          [
                            1,
                            "#f0f921"
                          ]
                        ],
                        "type": "contour"
                      }
                    ],
                    "contourcarpet": [
                      {
                        "colorbar": {
                          "outlinewidth": 0,
                          "ticks": ""
                        },
                        "type": "contourcarpet"
                      }
                    ],
                    "heatmap": [
                      {
                        "colorbar": {
                          "outlinewidth": 0,
                          "ticks": ""
                        },
                        "colorscale": [
                          [
                            0,
                            "#0d0887"
                          ],
                          [
                            0.1111111111111111,
                            "#46039f"
                          ],
                          [
                            0.2222222222222222,
                            "#7201a8"
                          ],
                          [
                            0.3333333333333333,
                            "#9c179e"
                          ],
                          [
                            0.4444444444444444,
                            "#bd3786"
                          ],
                          [
                            0.5555555555555556,
                            "#d8576b"
                          ],
                          [
                            0.6666666666666666,
                            "#ed7953"
                          ],
                          [
                            0.7777777777777778,
                            "#fb9f3a"
                          ],
                          [
                            0.8888888888888888,
                            "#fdca26"
                          ],
                          [
                            1,
                            "#f0f921"
                          ]
                        ],
                        "type": "heatmap"
                      }
                    ],
                    "heatmapgl": [
                      {
                        "colorbar": {
                          "outlinewidth": 0,
                          "ticks": ""
                        },
                        "colorscale": [
                          [
                            0,
                            "#0d0887"
                          ],
                          [
                            0.1111111111111111,
                            "#46039f"
                          ],
                          [
                            0.2222222222222222,
                            "#7201a8"
                          ],
                          [
                            0.3333333333333333,
                            "#9c179e"
                          ],
                          [
                            0.4444444444444444,
                            "#bd3786"
                          ],
                          [
                            0.5555555555555556,
                            "#d8576b"
                          ],
                          [
                            0.6666666666666666,
                            "#ed7953"
                          ],
                          [
                            0.7777777777777778,
                            "#fb9f3a"
                          ],
                          [
                            0.8888888888888888,
                            "#fdca26"
                          ],
                          [
                            1,
                            "#f0f921"
                          ]
                        ],
                        "type": "heatmapgl"
                      }
                    ],
                    "histogram": [
                      {
                        "marker": {
                          "pattern": {
                            "fillmode": "overlay",
                            "size": 10,
                            "solidity": 0.2
                          }
                        },
                        "type": "histogram"
                      }
                    ],
                    "histogram2d": [
                      {
                        "colorbar": {
                          "outlinewidth": 0,
                          "ticks": ""
                        },
                        "colorscale": [
                          [
                            0,
                            "#0d0887"
                          ],
                          [
                            0.1111111111111111,
                            "#46039f"
                          ],
                          [
                            0.2222222222222222,
                            "#7201a8"
                          ],
                          [
                            0.3333333333333333,
                            "#9c179e"
                          ],
                          [
                            0.4444444444444444,
                            "#bd3786"
                          ],
                          [
                            0.5555555555555556,
                            "#d8576b"
                          ],
                          [
                            0.6666666666666666,
                            "#ed7953"
                          ],
                          [
                            0.7777777777777778,
                            "#fb9f3a"
                          ],
                          [
                            0.8888888888888888,
                            "#fdca26"
                          ],
                          [
                            1,
                            "#f0f921"
                          ]
                        ],
                        "type": "histogram2d"
                      }
                    ],
                    "histogram2dcontour": [
                      {
                        "colorbar": {
                          "outlinewidth": 0,
                          "ticks": ""
                        },
                        "colorscale": [
                          [
                            0,
                            "#0d0887"
                          ],
                          [
                            0.1111111111111111,
                            "#46039f"
                          ],
                          [
                            0.2222222222222222,
                            "#7201a8"
                          ],
                          [
                            0.3333333333333333,
                            "#9c179e"
                          ],
                          [
                            0.4444444444444444,
                            "#bd3786"
                          ],
                          [
                            0.5555555555555556,
                            "#d8576b"
                          ],
                          [
                            0.6666666666666666,
                            "#ed7953"
                          ],
                          [
                            0.7777777777777778,
                            "#fb9f3a"
                          ],
                          [
                            0.8888888888888888,
                            "#fdca26"
                          ],
                          [
                            1,
                            "#f0f921"
                          ]
                        ],
                        "type": "histogram2dcontour"
                      }
                    ],
                    "mesh3d": [
                      {
                        "colorbar": {
                          "outlinewidth": 0,
                          "ticks": ""
                        },
                        "type": "mesh3d"
                      }
                    ],
                    "parcoords": [
                      {
                        "line": {
                          "colorbar": {
                            "outlinewidth": 0,
                            "ticks": ""
                          }
                        },
                        "type": "parcoords"
                      }
                    ],
                    "pie": [
                      {
                        "automargin": true,
                        "type": "pie"
                      }
                    ],
                    "scatter": [
                      {
                        "fillpattern": {
                          "fillmode": "overlay",
                          "size": 10,
                          "solidity": 0.2
                        },
                        "type": "scatter"
                      }
                    ],
                    "scatter3d": [
                      {
                        "line": {
                          "colorbar": {
                            "outlinewidth": 0,
                            "ticks": ""
                          }
                        },
                        "marker": {
                          "colorbar": {
                            "outlinewidth": 0,
                            "ticks": ""
                          }
                        },
                        "type": "scatter3d"
                      }
                    ],
                    "scattercarpet": [
                      {
                        "marker": {
                          "colorbar": {
                            "outlinewidth": 0,
                            "ticks": ""
                          }
                        },
                        "type": "scattercarpet"
                      }
                    ],
                    "scattergeo": [
                      {
                        "marker": {
                          "colorbar": {
                            "outlinewidth": 0,
                            "ticks": ""
                          }
                        },
                        "type": "scattergeo"
                      }
                    ],
                    "scattergl": [
                      {
                        "marker": {
                          "colorbar": {
                            "outlinewidth": 0,
                            "ticks": ""
                          }
                        },
                        "type": "scattergl"
                      }
                    ],
                    "scattermapbox": [
                      {
                        "marker": {
                          "colorbar": {
                            "outlinewidth": 0,
                            "ticks": ""
                          }
                        },
                        "type": "scattermapbox"
                      }
                    ],
                    "scatterpolar": [
                      {
                        "marker": {
                          "colorbar": {
                            "outlinewidth": 0,
                            "ticks": ""
                          }
                        },
                        "type": "scatterpolar"
                      }
                    ],
                    "scatterpolargl": [
                      {
                        "marker": {
                          "colorbar": {
                            "outlinewidth": 0,
                            "ticks": ""
                          }
                        },
                        "type": "scatterpolargl"
                      }
                    ],
                    "scatterternary": [
                      {
                        "marker": {
                          "colorbar": {
                            "outlinewidth": 0,
                            "ticks": ""
                          }
                        },
                        "type": "scatterternary"
                      }
                    ],
                    "surface": [
                      {
                        "colorbar": {
                          "outlinewidth": 0,
                          "ticks": ""
                        },
                        "colorscale": [
                          [
                            0,
                            "#0d0887"
                          ],
                          [
                            0.1111111111111111,
                            "#46039f"
                          ],
                          [
                            0.2222222222222222,
                            "#7201a8"
                          ],
                          [
                            0.3333333333333333,
                            "#9c179e"
                          ],
                          [
                            0.4444444444444444,
                            "#bd3786"
                          ],
                          [
                            0.5555555555555556,
                            "#d8576b"
                          ],
                          [
                            0.6666666666666666,
                            "#ed7953"
                          ],
                          [
                            0.7777777777777778,
                            "#fb9f3a"
                          ],
                          [
                            0.8888888888888888,
                            "#fdca26"
                          ],
                          [
                            1,
                            "#f0f921"
                          ]
                        ],
                        "type": "surface"
                      }
                    ],
                    "table": [
                      {
                        "cells": {
                          "fill": {
                            "color": "#EBF0F8"
                          },
                          "line": {
                            "color": "white"
                          }
                        },
                        "header": {
                          "fill": {
                            "color": "#C8D4E3"
                          },
                          "line": {
                            "color": "white"
                          }
                        },
                        "type": "table"
                      }
                    ]
                  },
                  "layout": {
                    "annotationdefaults": {
                      "arrowcolor": "#2a3f5f",
                      "arrowhead": 0,
                      "arrowwidth": 1
                    },
                    "autotypenumbers": "strict",
                    "coloraxis": {
                      "colorbar": {
                        "outlinewidth": 0,
                        "ticks": ""
                      }
                    },
                    "colorscale": {
                      "diverging": [
                        [
                          0,
                          "#8e0152"
                        ],
                        [
                          0.1,
                          "#c51b7d"
                        ],
                        [
                          0.2,
                          "#de77ae"
                        ],
                        [
                          0.3,
                          "#f1b6da"
                        ],
                        [
                          0.4,
                          "#fde0ef"
                        ],
                        [
                          0.5,
                          "#f7f7f7"
                        ],
                        [
                          0.6,
                          "#e6f5d0"
                        ],
                        [
                          0.7,
                          "#b8e186"
                        ],
                        [
                          0.8,
                          "#7fbc41"
                        ],
                        [
                          0.9,
                          "#4d9221"
                        ],
                        [
                          1,
                          "#276419"
                        ]
                      ],
                      "sequential": [
                        [
                          0,
                          "#0d0887"
                        ],
                        [
                          0.1111111111111111,
                          "#46039f"
                        ],
                        [
                          0.2222222222222222,
                          "#7201a8"
                        ],
                        [
                          0.3333333333333333,
                          "#9c179e"
                        ],
                        [
                          0.4444444444444444,
                          "#bd3786"
                        ],
                        [
                          0.5555555555555556,
                          "#d8576b"
                        ],
                        [
                          0.6666666666666666,
                          "#ed7953"
                        ],
                        [
                          0.7777777777777778,
                          "#fb9f3a"
                        ],
                        [
                          0.8888888888888888,
                          "#fdca26"
                        ],
                        [
                          1,
                          "#f0f921"
                        ]
                      ],
                      "sequentialminus": [
                        [
                          0,
                          "#0d0887"
                        ],
                        [
                          0.1111111111111111,
                          "#46039f"
                        ],
                        [
                          0.2222222222222222,
                          "#7201a8"
                        ],
                        [
                          0.3333333333333333,
                          "#9c179e"
                        ],
                        [
                          0.4444444444444444,
                          "#bd3786"
                        ],
                        [
                          0.5555555555555556,
                          "#d8576b"
                        ],
                        [
                          0.6666666666666666,
                          "#ed7953"
                        ],
                        [
                          0.7777777777777778,
                          "#fb9f3a"
                        ],
                        [
                          0.8888888888888888,
                          "#fdca26"
                        ],
                        [
                          1,
                          "#f0f921"
                        ]
                      ]
                    },
                    "colorway": [
                      "#636efa",
                      "#EF553B",
                      "#00cc96",
                      "#ab63fa",
                      "#FFA15A",
                      "#19d3f3",
                      "#FF6692",
                      "#B6E880",
                      "#FF97FF",
                      "#FECB52"
                    ],
                    "font": {
                      "color": "#2a3f5f"
                    },
                    "geo": {
                      "bgcolor": "white",
                      "lakecolor": "white",
                      "landcolor": "#E5ECF6",
                      "showlakes": true,
                      "showland": true,
                      "subunitcolor": "white"
                    },
                    "hoverlabel": {
                      "align": "left"
                    },
                    "hovermode": "closest",
                    "mapbox": {
                      "style": "light"
                    },
                    "paper_bgcolor": "white",
                    "plot_bgcolor": "#E5ECF6",
                    "polar": {
                      "angularaxis": {
                        "gridcolor": "white",
                        "linecolor": "white",
                        "ticks": ""
                      },
                      "bgcolor": "#E5ECF6",
                      "radialaxis": {
                        "gridcolor": "white",
                        "linecolor": "white",
                        "ticks": ""
                      }
                    },
                    "scene": {
                      "xaxis": {
                        "backgroundcolor": "#E5ECF6",
                        "gridcolor": "white",
                        "gridwidth": 2,
                        "linecolor": "white",
                        "showbackground": true,
                        "ticks": "",
                        "zerolinecolor": "white"
                      },
                      "yaxis": {
                        "backgroundcolor": "#E5ECF6",
                        "gridcolor": "white",
                        "gridwidth": 2,
                        "linecolor": "white",
                        "showbackground": true,
                        "ticks": "",
                        "zerolinecolor": "white"
                      },
                      "zaxis": {
                        "backgroundcolor": "#E5ECF6",
                        "gridcolor": "white",
                        "gridwidth": 2,
                        "linecolor": "white",
                        "showbackground": true,
                        "ticks": "",
                        "zerolinecolor": "white"
                      }
                    },
                    "shapedefaults": {
                      "line": {
                        "color": "#2a3f5f"
                      }
                    },
                    "ternary": {
                      "aaxis": {
                        "gridcolor": "white",
                        "linecolor": "white",
                        "ticks": ""
                      },
                      "baxis": {
                        "gridcolor": "white",
                        "linecolor": "white",
                        "ticks": ""
                      },
                      "bgcolor": "#E5ECF6",
                      "caxis": {
                        "gridcolor": "white",
                        "linecolor": "white",
                        "ticks": ""
                      }
                    },
                    "title": {
                      "x": 0.05
                    },
                    "xaxis": {
                      "automargin": true,
                      "gridcolor": "white",
                      "linecolor": "white",
                      "ticks": "",
                      "title": {
                        "standoff": 15
                      },
                      "zerolinecolor": "white",
                      "zerolinewidth": 2
                    },
                    "yaxis": {
                      "automargin": true,
                      "gridcolor": "white",
                      "linecolor": "white",
                      "ticks": "",
                      "title": {
                        "standoff": 15
                      },
                      "zerolinecolor": "white",
                      "zerolinewidth": 2
                    }
                  }
                },
                "title": {
                  "text": "Top 20 Films for Comment"
                },
                "width": 800,
                "xaxis": {
                  "anchor": "y",
                  "domain": [
                    0,
                    1
                  ],
                  "title": {
                    "text": "count"
                  }
                },
                "yaxis": {
                  "anchor": "x",
                  "domain": [
                    0,
                    1
                  ],
                  "title": {
                    "text": "title"
                  }
                }
              }
            }
          },
          "metadata": {},
          "output_type": "display_data"
        }
      ],
      "source": [
        "import plotly\n",
        "import plotly.express as px\n",
        "import pandas as pd\n",
        "\n",
        "df = pd.DataFrame.from_dict(result, orient='columns')\n",
        "df = df.head(20)\n",
        "fig = px.bar(\n",
        "    data_frame=df,\n",
        "    x=\"count\", \n",
        "    y=\"title\",\n",
        "    orientation='h',\n",
        "    height=500,\n",
        "    width=800,\n",
        "    title='Top 20 Films for Comment'\n",
        ")\n",
        "fig.show()"
      ]
    }
  ],
  "metadata": {
    "colab": {
      "provenance": []
    },
    "kernelspec": {
      "display_name": "Python 3",
      "name": "python3"
    },
    "language_info": {
      "codemirror_mode": {
        "name": "ipython",
        "version": 3
      },
      "file_extension": ".py",
      "mimetype": "text/x-python",
      "name": "python",
      "nbconvert_exporter": "python",
      "pygments_lexer": "ipython3",
      "version": "3.9.10"
    }
  },
  "nbformat": 4,
  "nbformat_minor": 0
}
