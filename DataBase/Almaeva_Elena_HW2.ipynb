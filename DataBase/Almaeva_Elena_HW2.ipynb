{
 "cells": [
  {
   "cell_type": "markdown",
   "metadata": {},
   "source": [
    "### Создание таблиц\n",
    "~~~sql\n",
    "create table transaction_2 (\n",
    "  transaction_id int4 primary key\n",
    "  ,product_id int4\n",
    "  ,customer_id int4\n",
    "  ,transaction_date varchar(30)\n",
    "  ,online_order varchar(30)\n",
    "  ,order_status varchar(30)\n",
    "  ,brand varchar(30)\n",
    "  ,product_line varchar(30)\n",
    "  ,product_class varchar(30)\n",
    "  ,product_size varchar(30)\n",
    "  ,list_price float4\n",
    "  ,standard_cost float4\n",
    ")\n",
    "\n",
    "create table customer_2 (\n",
    "  customer_id int4 primary key\n",
    "  ,first_name varchar(50)\n",
    "  ,last_name varchar(50)\n",
    "  ,gender varchar(30)\n",
    "  ,DOB varchar(50)\n",
    "  ,job_title varchar(50)\n",
    "  ,job_industry_category varchar(50)\n",
    "  ,wealth_segment varchar(50)\n",
    "  ,deceased_indicator varchar(50)\n",
    "  ,owns_car varchar(30)\n",
    "  ,address varchar(50)\n",
    "  ,postcode varchar(30)\n",
    "  ,state varchar(30)\n",
    "  ,country varchar(30)\n",
    "  ,property_valuation int4\n",
    ")\n",
    "~~~"
   ]
  },
  {
   "cell_type": "markdown",
   "metadata": {},
   "source": [
    "### Задание 1\n",
    "Вывести все уникальные бренды, у которых стандартная стоимость выше 1500 долларов.\n",
    "~~~sql \n",
    "select distinct brand\n",
    "from transaction_2 t\n",
    "where standard_cost > 1500 \n",
    "~~~"
   ]
  },
  {
   "cell_type": "markdown",
   "metadata": {},
   "source": [
    "<img src=img/HW2_1.JPG width=150px height=30%>"
   ]
  },
  {
   "cell_type": "markdown",
   "metadata": {},
   "source": [
    "### Задание 2\n",
    "Вывести все подтвержденные транзакции за период '2017-04-01' по '2017-04-09' включительно.\n",
    "~~~sql\n",
    "select * \n",
    "from transaction_2 t \n",
    "where (transaction_date::date between '2017-04-01'::date and '2017-04-09'::date) \n",
    "    and (order_status = 'Approved')\n",
    "~~~"
   ]
  },
  {
   "cell_type": "markdown",
   "metadata": {},
   "source": [
    "<img src=img/HW2_2.JPG width=800px height=30%>"
   ]
  },
  {
   "cell_type": "markdown",
   "metadata": {},
   "source": [
    "### Задание 3\n",
    "Вывести все профессии у клиентов из сферы IT или Financial Services, которые начинаются с фразы 'Senior'.\n",
    "~~~sql\n",
    "select distict job_title\n",
    "from customer_2 c \n",
    "where (job_title like 'Senior%') and ((job_industry_category='IT') \n",
    "    or (job_industry_category='Financial Services'))\n",
    "~~~"
   ]
  },
  {
   "cell_type": "markdown",
   "metadata": {},
   "source": [
    "<img src=img/HW2_3.JPG width=200px height=30%>"
   ]
  },
  {
   "cell_type": "markdown",
   "metadata": {},
   "source": [
    "### Задание 4\n",
    "Вывести все бренды, которые закупают клиенты, работающие в сфере Financial Services.\n",
    "~~~sql\n",
    "select distinct brand\n",
    "from transaction_2 t, customer_2 c \n",
    "where job_industry_category = 'Financial Services'\n",
    "~~~"
   ]
  },
  {
   "cell_type": "markdown",
   "metadata": {},
   "source": [
    "<img src=img/HW2_4.JPG width=150px height=30%>"
   ]
  },
  {
   "cell_type": "markdown",
   "metadata": {},
   "source": [
    "### Задание 5\n",
    "Вывести 10 клиентов, которые оформили онлайн-заказ продукции из брендов 'Giant Bicycles', 'Norco Bicycles', 'Trek Bicycles'.\n",
    "~~~sql\n",
    "select distinct c.customer_id, first_name, last_name \n",
    "from customer_2 c, transaction_2 t \n",
    "where brand in ('Giant Bicycles', 'Norco Bicycles', 'Trek Bicycles') \n",
    "    and online_order = 'True'\n",
    "limit 10\n",
    "~~~"
   ]
  },
  {
   "cell_type": "markdown",
   "metadata": {},
   "source": [
    "<img src=img/HW2_5.JPG width=400px height=30%>"
   ]
  },
  {
   "cell_type": "markdown",
   "metadata": {},
   "source": [
    "### Задание 6\n",
    "Вывести всех клиентов, у которых нет транзакций.\n",
    "~~~sql\n",
    "select distinct c.customer_id, first_name, last_name\n",
    "from customer_2 c\n",
    "left join transaction_2 t on c.customer_id = t.customer_id \n",
    "where t.customer_id is null\n",
    "~~~"
   ]
  },
  {
   "cell_type": "markdown",
   "metadata": {},
   "source": [
    "<img src=img/HW2_6.JPG width=400px height=30%>"
   ]
  },
  {
   "cell_type": "markdown",
   "metadata": {},
   "source": [
    "### Задание 7\n",
    "Вывести всех клиентов из IT, у которых транзакции с максимальной стандартной стоимостью.\n",
    "~~~sql\n",
    "with new_transaction as(\n",
    "\tselect * \n",
    "\tfrom transaction_2 t \n",
    "\twhere standard_cost = (select max(standard_cost) from transaction_2 t)\n",
    ")\n",
    "select c.customer_id, first_name, last_name, job_industry_category, standard_cost\n",
    "from customer_2 c\n",
    "left join new_transaction on new_transaction.customer_id = c.customer_id\n",
    "where job_industry_category = 'IT' \n",
    "    and standard_cost = (select max(standard_cost) from new_transaction)\n",
    "\n",
    "~~~"
   ]
  },
  {
   "cell_type": "markdown",
   "metadata": {},
   "source": [
    "<img src=img/HW2_7.JPG width=500px height=30%>"
   ]
  },
  {
   "cell_type": "markdown",
   "metadata": {},
   "source": [
    "### Задание 8\n",
    "Вывести всех клиентов из сферы IT и Health, у которых есть подтвержденные транзакции за период '2017-07-07' по '2017-07-17'.\n",
    "~~~sql\n",
    "with new_customer as(\n",
    "    select * \n",
    "    from customer_2 c \n",
    "    where job_industry_category in ('IT', 'Health') \n",
    ")\n",
    "select distinct new_customer.customer_id, first_name, last_name, job_industry_category\n",
    "from transaction_2 t \n",
    "left join new_customer on new_customer.customer_id = t.customer_id \n",
    "where job_industry_category in ('IT', 'Health') \n",
    "\tand transaction_date::date between '2017-07-07'::date and '2017-07-17'::date\n",
    "\tand order_status = 'Approved'\n",
    "~~~"
   ]
  },
  {
   "cell_type": "markdown",
   "metadata": {},
   "source": [
    "<img src=img/HW2_8.JPG width=500px height=30%>"
   ]
  }
 ],
 "metadata": {
  "language_info": {
   "name": "python"
  }
 },
 "nbformat": 4,
 "nbformat_minor": 2
}
