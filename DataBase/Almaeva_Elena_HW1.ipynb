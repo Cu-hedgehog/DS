{
 "cells": [
  {
   "cell_type": "markdown",
   "metadata": {},
   "source": [
    "### 1. Структура базы данных"
   ]
  },
  {
   "cell_type": "markdown",
   "metadata": {},
   "source": [
    "<img src=img/scheme.JPG width=700px height=30%>"
   ]
  },
  {
   "cell_type": "markdown",
   "metadata": {},
   "source": [
    "### 2. Нормализация таблиц"
   ]
  },
  {
   "cell_type": "markdown",
   "metadata": {},
   "source": [
    "Таблицы изначально находятся в 1НФ, поскольку каждая ячейка содержит атомарное значение. Также обе таблицы изначально находились во 2НФ, поскольку первичный ключ состоял лишь из одного столбца, а не являлся составным. \n",
    "\n",
    "Для приведения к 3НФ таблицу transaction разделяем на 3:\n",
    "- transaction;\n",
    "- price;\n",
    "- product.\n",
    "\n",
    "Это необходимо поскольку столбцы product_id, brand, product_line, product_class, product_size, standart_cost зависят от первичного ключа  transaction_id транзитивно. В таблице product был создан новый первичный ключ – new_product_id, поскольку product_id не является уникальным.\n",
    "\n",
    "Таблица customer была разбита на две:\n",
    "- customer;\n",
    "- address.\n",
    "\n",
    "Данное разделение было выполнено, поскольку адрес и все данные, связанные с ним, лишь транзитивно зависят от customer_id. Был введен новый столбец address_id, столбец address и так являлся уникальным, но для удобства поиска и дальнейшего ведения базы данных проще иметь числовое поле address_id, чем строку address в качестве первичного ключа, почтовый код не подходил на эту роль поскольку не являлся уникальным. \n"
   ]
  },
  {
   "cell_type": "markdown",
   "metadata": {},
   "source": [
    "Что касается дальнейшего разбиения, в таблице customer можно было выделить таблицу job и отнести туда столбцы job_title и job_industry, но я не считаю это рациональным. Столбец list_price считаю относящимся к таблице транзакций, а не продукта, поэтому разделение было выполнено именно таким образом.\n",
    "\n",
    "Дальнейшее разбиение таблицы address было бы рациональным при наличии нескольки стран в данных."
   ]
  },
  {
   "cell_type": "markdown",
   "metadata": {},
   "source": [
    "### 3. Создание таблиц в DBeaver"
   ]
  },
  {
   "cell_type": "markdown",
   "metadata": {},
   "source": [
    "~~~ sql\n",
    "create table transaction (\n",
    "  transaction_id int4 primary key\n",
    "  ,new_product_id int4 not null\n",
    "  ,customer_id int4 not null\n",
    "  ,transaction_date varchar(30)\n",
    "  ,online_order bool\n",
    "  ,order_status varchar(30)\n",
    "  ,list_price float4 not null\n",
    ");\n",
    "\n",
    "create table customer (\n",
    "  customer_id int4 primary key\n",
    "  ,address_id int4 not null\n",
    "  ,first_name varchar(50) not null\n",
    "  ,last_name varchar(50)\n",
    "  ,gender varchar(30)\n",
    "  ,DOB varchar(30)\n",
    "  ,job_title varchar(50)\n",
    "  ,job_industry_category varchar(50)\n",
    "  ,wealth_segment varchar(50)\n",
    "  ,deceased_indicator varchar(50)\n",
    "  ,owns_car varchar(30)\n",
    "  ,property_valuation int4\n",
    ")\n",
    "\n",
    "create table address (\n",
    "  address_id int4 primary key\n",
    "  ,address varchar(50) not null\n",
    "  ,postcode int4\n",
    "  ,state varchar(30)\n",
    "  ,country varchar(30)\n",
    ")\n",
    "\n",
    "alter table customer\n",
    "add foreign key (address_id) references address(address_id)\n",
    "\n",
    "create table product (\n",
    "  new_product_id int4 primary key\n",
    "  ,product_id int4 not null\n",
    "  ,brand varchar(30)\n",
    "  ,product_line varchar(30)\n",
    "  ,product_class varchar(30)\n",
    "  ,product_size varchar(30)\n",
    ")\n",
    "\n",
    "create table price (\n",
    "  list_price float4 primary key\n",
    "  ,standard_cost float4\n",
    ")\n",
    "\n",
    "alter table transaction\n",
    "   add foreign key (new_product_id) references product(new_product_id)\n",
    "  ,add foreign key (customer_id) references customer(customer_id)\n",
    "  ,add foreign key (list_price) references price(list_price)\n",
    "\n",
    "select * from product\n",
    "select * from address\n",
    "select * from transaction\n",
    "select * from customer\n",
    "select * from price\n",
    "~~~"
   ]
  },
  {
   "cell_type": "markdown",
   "metadata": {},
   "source": [
    "### 4. Загрузка данных в таблицы"
   ]
  },
  {
   "cell_type": "markdown",
   "metadata": {},
   "source": [
    "Для загрузки использовался, встроенные в DBeaver, импорт данных."
   ]
  },
  {
   "cell_type": "markdown",
   "metadata": {},
   "source": [
    "<img src=img/transaction.JPG width=500px height=30%>\n",
    "\n",
    "Результат загрузки в таблицу transaction"
   ]
  },
  {
   "cell_type": "markdown",
   "metadata": {},
   "source": [
    "<img src=img/product.JPG width=600px height=30%>\n",
    "\n",
    "Результат загрузки в таблицу product"
   ]
  },
  {
   "cell_type": "markdown",
   "metadata": {},
   "source": [
    "<img src=img/customer.JPG width=800px height=30%>\n",
    "\n",
    "Результат загрузки в таблицу customer"
   ]
  },
  {
   "cell_type": "markdown",
   "metadata": {},
   "source": [
    "<img src=img/address.JPG width=500px height=30%>\n",
    "\n",
    "Результат загрузки в таблицу address"
   ]
  },
  {
   "cell_type": "markdown",
   "metadata": {},
   "source": [
    "<img src=img/price.JPG width=300px height=30%>\n",
    "\n",
    "Результат загрузки в таблицу price"
   ]
  }
 ],
 "metadata": {
  "kernelspec": {
   "display_name": "Python 3",
   "language": "python",
   "name": "python3"
  },
  "language_info": {
   "codemirror_mode": {
    "name": "ipython",
    "version": 3
   },
   "file_extension": ".py",
   "mimetype": "text/x-python",
   "name": "python",
   "nbconvert_exporter": "python",
   "pygments_lexer": "ipython3",
   "version": "3.9.10"
  }
 },
 "nbformat": 4,
 "nbformat_minor": 2
}
