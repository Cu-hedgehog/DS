{
 "cells": [
  {
   "cell_type": "markdown",
   "metadata": {},
   "source": [
    "### 1. Структура базы данных"
   ]
  },
  {
   "cell_type": "markdown",
   "metadata": {},
   "source": [
    "<img src=img/scheme.JPG width=700px height=30%>"
   ]
  },
  {
   "cell_type": "markdown",
   "metadata": {},
   "source": [
    "### 2. Нормализация таблиц"
   ]
  },
  {
   "cell_type": "markdown",
   "metadata": {},
   "source": [
    "Таблицы изначально находятся в 1НФ, поскольку каждая ячейка содержит атомарное значение. Также обе таблицы изначально находились во 2НФ, поскольку первичный ключ состоял лишь из одного столбца, а не являлся составным. \n",
    "\n",
    "Для приведения к 3НФ таблицу transaction разделяем на 3:\n",
    "- transaction;\n",
    "- price;\n",
    "- product.\n",
    "\n",
    "Это необходимо поскольку столбцы product_id, brand, product_line, product_class, product_size, standart_cost зависят от первичного ключа  transaction_id транзитивно. В таблице product был создан новый первичный ключ – new_product_id, поскольку product_id не является уникальным.\n",
    "\n",
    "Таблица customer была разбита на две:\n",
    "- customer;\n",
    "- address.\n",
    "\n",
    "Данное разделение было выполнено, поскольку адрес и все данные, связанные с ним, лишь транзитивно зависят от customer_id. Был введен новый столбец address_id, столбец address и так являлся уникальным, но для удобства поиска и дальнейшего ведения базы данных проще иметь числовое поле address_id, чем строку address в качестве первичного ключа, почтовый код не подходил на эту роль поскольку не являлся уникальным. \n"
   ]
  },
  {
   "cell_type": "markdown",
   "metadata": {},
   "source": [
    "Что касается дальнейшего разбиения, в таблице customer можно было выделить таблицу job и отнести туда столбцы job_title и job_industry, но я не считаю это рациональным. Столбец list_price считаю относящимся к таблице транзакций, а не продукта, поэтому разделение было выполнено именно таким образом.\n",
    "\n",
    "Дальнейшее разбиение таблицы address было бы рациональным при наличии нескольки стран в данных."
   ]
  },
  {
   "cell_type": "markdown",
   "metadata": {},
   "source": [
    "### 3. Создание таблиц в DBeaver"
   ]
  },
  {
   "cell_type": "markdown",
   "metadata": {},
   "source": [
    "~~~ sql\n",
    "create table transaction (\n",
    "  transaction_id integer primary key\n",
    "  ,new_product_id integer not null\n",
    "  ,customer_id integer not null\n",
    "  ,transaction_date varchar\n",
    "  ,online_order bool\n",
    "  ,order_status varchar\n",
    "  ,list_price float not null\n",
    ");\n",
    "\n",
    "create table customer (\n",
    "  customer_id integer primary key\n",
    "  ,address_id integer not null\n",
    "  ,first_name varchar not null\n",
    "  ,last_name varchar\n",
    "  ,gender varchar\n",
    "  ,DOB varchar\n",
    "  ,job_title varchar\n",
    "  ,job_industry_category varchar\n",
    "  ,wealth_segment varchar\n",
    "  ,deceased_indicator varchar\n",
    "  ,owns_car varchar\n",
    "  ,property_valuation integer\n",
    ")\n",
    "\n",
    "create table address (\n",
    "  address_id integer primary key\n",
    "  ,address varchar not null\n",
    "  ,postcode integer\n",
    "  ,state varchar\n",
    "  ,country varchar\n",
    ")\n",
    "\n",
    "create table product (\n",
    "   new_product_id integer primary key\n",
    "  ,product_id integer not null\n",
    "  ,brand varchar\n",
    "  ,product_line varchar\n",
    "  ,product_class varchar\n",
    "  ,product_size varchar\n",
    ")\n",
    "\n",
    "create table price (\n",
    "  list_price float primary key\n",
    "  ,standard_cost float\n",
    ")\n",
    "\n",
    "select * from product\n",
    "select * from address\n",
    "select * from transaction\n",
    "select * from customer\n",
    "select * from price\n",
    "~~~"
   ]
  },
  {
   "cell_type": "markdown",
   "metadata": {},
   "source": [
    "### 4. Загрузка данных в таблицы"
   ]
  },
  {
   "cell_type": "markdown",
   "metadata": {},
   "source": [
    "Для загрузки использовался, встроенные в DBeaver, импорт данных."
   ]
  },
  {
   "cell_type": "markdown",
   "metadata": {},
   "source": [
    "<img src=img/transaction.JPG width=500px height=30%>\n",
    "\n",
    "Результат загрузки в таблицу transaction"
   ]
  },
  {
   "cell_type": "markdown",
   "metadata": {},
   "source": [
    "<img src=img/product.JPG width=600px height=30%>\n",
    "\n",
    "Результат загрузки в таблицу product"
   ]
  },
  {
   "cell_type": "markdown",
   "metadata": {},
   "source": [
    "<img src=img/customer.JPG width=800px height=30%>\n",
    "\n",
    "Результат загрузки в таблицу customer"
   ]
  },
  {
   "cell_type": "markdown",
   "metadata": {},
   "source": [
    "<img src=img/address.JPG width=500px height=30%>\n",
    "\n",
    "Результат загрузки в таблицу address"
   ]
  },
  {
   "cell_type": "markdown",
   "metadata": {},
   "source": [
    "<img src=img/price.JPG width=300px height=30%>\n",
    "\n",
    "Результат загрузки в таблицу price"
   ]
  }
 ],
 "metadata": {
  "kernelspec": {
   "display_name": "Python 3",
   "language": "python",
   "name": "python3"
  },
  "language_info": {
   "codemirror_mode": {
    "name": "ipython",
    "version": 3
   },
   "file_extension": ".py",
   "mimetype": "text/x-python",
   "name": "python",
   "nbconvert_exporter": "python",
   "pygments_lexer": "ipython3",
   "version": "3.9.10"
  }
 },
 "nbformat": 4,
 "nbformat_minor": 2
}
