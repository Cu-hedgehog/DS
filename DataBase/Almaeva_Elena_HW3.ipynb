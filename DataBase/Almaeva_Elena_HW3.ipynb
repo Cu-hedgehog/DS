{
 "cells": [
  {
   "cell_type": "markdown",
   "metadata": {},
   "source": [
    "### Создание таблиц\n",
    "~~~sql\n",
    "create table transaction_2 (\n",
    "  transaction_id int4 primary key\n",
    "  ,product_id int4\n",
    "  ,customer_id int4\n",
    "  ,transaction_date varchar(30)\n",
    "  ,online_order varchar(30)\n",
    "  ,order_status varchar(30)\n",
    "  ,brand varchar(30)\n",
    "  ,product_line varchar(30)\n",
    "  ,product_class varchar(30)\n",
    "  ,product_size varchar(30)\n",
    "  ,list_price float4\n",
    "  ,standard_cost float4\n",
    ")\n",
    "\n",
    "create table customer_2 (\n",
    "  customer_id int4 primary key\n",
    "  ,first_name varchar(50)\n",
    "  ,last_name varchar(50)\n",
    "  ,gender varchar(30)\n",
    "  ,DOB varchar(50)\n",
    "  ,job_title varchar(50)\n",
    "  ,job_industry_category varchar(50)\n",
    "  ,wealth_segment varchar(50)\n",
    "  ,deceased_indicator varchar(50)\n",
    "  ,owns_car varchar(30)\n",
    "  ,address varchar(50)\n",
    "  ,postcode varchar(30)\n",
    "  ,state varchar(30)\n",
    "  ,country varchar(30)\n",
    "  ,property_valuation int4\n",
    ")\n",
    "~~~"
   ]
  },
  {
   "cell_type": "markdown",
   "metadata": {},
   "source": [
    "### Задание 1\n",
    "Вывести распределение (количество) клиентов по сферам деятельности, отсортировав результат по убыванию количества. \n",
    "~~~sql \n",
    "select job_industry_category, count(*) as job_count\n",
    "from customer_2 c \n",
    "group by job_industry_category \n",
    "order by job_count desc\n",
    "~~~"
   ]
  },
  {
   "cell_type": "markdown",
   "metadata": {},
   "source": [
    "<img src=img/HW3_1.JPG width=300px height=30%>"
   ]
  },
  {
   "cell_type": "markdown",
   "metadata": {},
   "source": [
    "### Задание 2\n",
    "Найти сумму транзакций за каждый месяц по сферам деятельности, отсортировав по месяцам и по сфере деятельности.\n",
    "~~~sql\n",
    "select extract(month from transaction_date::date) as month, \n",
    "    job_industry_category, sum(list_price)\n",
    "from transaction_2 t \n",
    "join customer_2 c on t.customer_id = c.customer_id \n",
    "group by month, job_industry_category \n",
    "order by month, job_industry_category \n",
    "~~~"
   ]
  },
  {
   "cell_type": "markdown",
   "metadata": {},
   "source": [
    "<img src=img/HW3_2.JPG width=300px height=30%>"
   ]
  },
  {
   "cell_type": "markdown",
   "metadata": {},
   "source": [
    "### Задание 3\n",
    "Вывести количество онлайн-заказов для всех брендов в рамках подтвержденных заказов клиентов из сферы IT.\n",
    "~~~sql\n",
    "select brand, count(*)\n",
    "from customer_2 c \n",
    "join transaction_2 t on c.customer_id = t.customer_id \n",
    "where job_industry_category = 'IT' and online_order = 'True' and order_status = 'Approved'\n",
    "group by brand\n",
    "~~~"
   ]
  },
  {
   "cell_type": "markdown",
   "metadata": {},
   "source": [
    "<img src=img/HW3_3.JPG width=200px height=30%>"
   ]
  },
  {
   "cell_type": "markdown",
   "metadata": {},
   "source": [
    "### Задание 4\n",
    "Найти по всем клиентам сумму всех транзакций (list_price), максимум, минимум и количество транзакций, отсортировав результат по убыванию суммы транзакций и количества транзакций. Выполните двумя способами: используя только group by и используя только оконные функции. Сравните результат.\n",
    "~~~sql\n",
    "select c.customer_id, sum(list_price), max(list_price), min(list_price), count(*)\n",
    "from transaction_2 t \n",
    "join customer_2 c on c.customer_id = t.customer_id \n",
    "group by c.customer_id \n",
    "order by sum(list_price) desc, count(*) desc\n",
    "~~~"
   ]
  },
  {
   "cell_type": "markdown",
   "metadata": {},
   "source": [
    "<img src=img/HW3_41.JPG width=400px height=30%>"
   ]
  },
  {
   "cell_type": "markdown",
   "metadata": {},
   "source": [
    "~~~sql\n",
    "select c.customer_id\n",
    "\t,sum(list_price) over(partition by c.customer_id) as sum_transaction\n",
    "\t,max(list_price) over(partition by c.customer_id) as max_transaction\n",
    "\t,min(list_price) over(partition by c.customer_id) as min_transaction\n",
    "\t,count(list_price) over(partition by c.customer_id) as count_transaction\n",
    "from transaction_2 t \n",
    "join customer_2 c on c.customer_id = t.customer_id \n",
    "order by sum_transaction desc, count_transaction desc\n",
    "~~~"
   ]
  },
  {
   "cell_type": "markdown",
   "metadata": {},
   "source": [
    "<img src=img/HW3_42.JPG width=500px height=30%>"
   ]
  },
  {
   "cell_type": "markdown",
   "metadata": {},
   "source": [
    "### Задание 5\n",
    "Найти имена и фамилии клиентов с минимальной/максимальной суммой транзакций за весь период (сумма транзакций не может быть null). Напишите отдельные запросы для минимальной и максимальной суммы.\n",
    "~~~sql\n",
    "with aa as(\n",
    "\tselect c.customer_id, first_name, last_name, sum(list_price) as transaction_sum\n",
    "\tfrom customer_2 c \n",
    "\tjoin transaction_2 t on c.customer_id = t.customer_id\n",
    "\tgroup by c.customer_id\n",
    ")\n",
    "select first_name, last_name, transaction_sum as sum\n",
    "from aa\n",
    "where transaction_sum = (select max(transaction_sum) from aa)\n",
    "union\n",
    "select first_name, last_name, transaction_sum\n",
    "from aa\n",
    "where transaction_sum = (select min(transaction_sum) from aa)\n",
    "~~~"
   ]
  },
  {
   "cell_type": "markdown",
   "metadata": {},
   "source": [
    "<img src=img/HW3_5.JPG width=300px height=30%>"
   ]
  },
  {
   "cell_type": "markdown",
   "metadata": {},
   "source": [
    "### Задание 6\n",
    "Вывести только самые первые транзакции клиентов. Решить с помощью оконных функций. \n",
    "~~~sql\n",
    "select * \n",
    "from (select customer_id, transaction_id, transaction_date::date,\n",
    "             rank() over(partition by customer_id order by transaction_date::date) as first_transaction \n",
    "      from transaction_2 t) \n",
    "where first_transaction=1\n",
    "~~~"
   ]
  },
  {
   "cell_type": "markdown",
   "metadata": {},
   "source": [
    "<img src=img/HW3_6.JPG width=500px height=30%>"
   ]
  },
  {
   "cell_type": "markdown",
   "metadata": {},
   "source": [
    "### Задание 7\n",
    "Вывести имена, фамилии и профессии клиентов, между транзакциями которых был максимальный интервал (интервал вычисляется в днях) \n",
    "~~~sql\n",
    "with aa as(\n",
    "\tselect t.customer_id, transaction_date::date, first_name, last_name, job_title,\n",
    "\t\tlag(transaction_date) over (partition by t.customer_id \n",
    "\t\t\torder by transaction_date::date) as previous_date,\n",
    "\t\tlead(transaction_date) over (partition by t.customer_id) as next_date\n",
    "\tfrom transaction_2 t  \n",
    "\tjoin customer_2 c on c.customer_id = t.customer_id \n",
    ")\n",
    "select first_name, last_name, job_title,\n",
    "\t(next_date::date - previous_date::date) as date_difference\n",
    "from aa\n",
    "where next_date::date - previous_date::date = \n",
    "\t(select max(next_date::date - previous_date::date) from aa)\n",
    "~~~"
   ]
  },
  {
   "cell_type": "markdown",
   "metadata": {},
   "source": [
    "<img src=img/HW3_7.JPG width=400px height=30%>"
   ]
  }
 ],
 "metadata": {
  "language_info": {
   "name": "python"
  }
 },
 "nbformat": 4,
 "nbformat_minor": 2
}
