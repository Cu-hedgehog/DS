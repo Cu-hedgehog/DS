{
 "cells": [
  {
   "cell_type": "code",
   "execution_count": 2,
   "metadata": {},
   "outputs": [],
   "source": [
    "import luigi\n",
    "from luigi.util import requires, inherits\n",
    "from luigi import Task, run, LocalTarget\n",
    "import wget\n",
    "import tarfile\n",
    "import os\n",
    "import gzip\n",
    "import pandas as pd\n",
    "import shutil\n",
    "import io"
   ]
  },
  {
   "cell_type": "code",
   "execution_count": 4,
   "metadata": {},
   "outputs": [],
   "source": [
    "class DownloadTask(Task):\n",
    "    \n",
    "    url = luigi.Parameter()\n",
    "    NameDownload = luigi.Parameter()\n",
    "    dir = luigi.Parameter()\n",
    "    NameSave = luigi.Parameter()\n",
    "    \n",
    "    def run(self):\n",
    "        fileurl = self.url + self.NameDownload\n",
    "        wget.download(fileurl, self.output().path)\n",
    "        \n",
    "    def output(self):\n",
    "        return luigi.LocalTarget(self.dir + self.NameSave)\n",
    "        \n",
    "@requires(DownloadTask)\n",
    "class UnzipTar(Task):\n",
    "    \n",
    "    def run(self):\n",
    "        in_file_path = self.input().path\n",
    "        with tarfile.open(in_file_path, 'r') as tar:\n",
    "            tar.extractall(self.dir)\n",
    "    \n",
    "    def output(self):\n",
    "        if os.path.exists(self.dir + self.NameSave):\n",
    "            result = []\n",
    "            with tarfile.open(self.input().path, 'r') as tar:\n",
    "                for i in tar.getnames():\n",
    "                    result.append(luigi.LocalTarget(self.dir + i))\n",
    "            return result\n",
    "  \n",
    "@requires(UnzipTar)\n",
    "class UnzipGZ(Task):\n",
    "    \n",
    "    def run(self):\n",
    "        # in_file_path = str(self.input())\n",
    "        # dir_path = in_file_path[:in_file_path.rfind('/')+1]\n",
    "        branch_count = 1\n",
    "        \n",
    "        for i in self.input():\n",
    "            i = str(i.path)\n",
    "            dir_name = str(branch_count) + 'branch'\n",
    "            os.mkdir(self.dir + dir_name)\n",
    "            with gzip.open(i, 'rb') as f_in:\n",
    "                archive_name = self.dir + dir_name + '/' + i[i.rfind('/')+1:-2]\n",
    "                with open(archive_name, 'wb') as f_out:\n",
    "                    shutil.copyfileobj(f_in, f_out)\n",
    "            branch_count += 1\n",
    "    \n",
    "\n",
    "# if __name__ == '__main__':\n",
    "#     run()"
   ]
  },
  {
   "cell_type": "code",
   "execution_count": 7,
   "metadata": {},
   "outputs": [
    {
     "name": "stderr",
     "output_type": "stream",
     "text": [
      "DEBUG: Checking if UnzipTar(url=https://www.ncbi.nlm.nih.gov/geo/download/?acc=, NameDownload=GSE68849&format=file, dir=Root/, NameSave=RootTAR.tar) is complete\n",
      "WARNING: Will not run UnzipTar(url=https://www.ncbi.nlm.nih.gov/geo/download/?acc=, NameDownload=GSE68849&format=file, dir=Root/, NameSave=RootTAR.tar) or any dependencies due to error in complete() method:\n",
      "Traceback (most recent call last):\n",
      "  File \"c:\\Users\\smart\\AppData\\Local\\Programs\\Python\\Python39\\lib\\site-packages\\luigi\\worker.py\", line 441, in check_complete\n",
      "    is_complete = check_complete_cached(task, completion_cache)\n",
      "  File \"c:\\Users\\smart\\AppData\\Local\\Programs\\Python\\Python39\\lib\\site-packages\\luigi\\worker.py\", line 426, in check_complete_cached\n",
      "    is_complete = task.complete()\n",
      "  File \"c:\\Users\\smart\\AppData\\Local\\Programs\\Python\\Python39\\lib\\site-packages\\luigi\\task.py\", line 588, in complete\n",
      "    outputs = flatten(self.output())\n",
      "  File \"C:\\Users\\smart\\AppData\\Local\\Temp\\ipykernel_66392\\3275208203.py\", line 25, in output\n",
      "    with tarfile.open(self.input().path, 'r') as tar:\n",
      "  File \"c:\\Users\\smart\\AppData\\Local\\Programs\\Python\\Python39\\lib\\tarfile.py\", line 1611, in open\n",
      "    return func(name, \"r\", fileobj, **kwargs)\n",
      "  File \"c:\\Users\\smart\\AppData\\Local\\Programs\\Python\\Python39\\lib\\tarfile.py\", line 1675, in gzopen\n",
      "    fileobj = GzipFile(name, mode + \"b\", compresslevel, fileobj)\n",
      "  File \"c:\\Users\\smart\\AppData\\Local\\Programs\\Python\\Python39\\lib\\gzip.py\", line 173, in __init__\n",
      "    fileobj = self.myfileobj = builtins.open(filename, mode or 'rb')\n",
      "FileNotFoundError: [Errno 2] No such file or directory: 'Root/RootTAR.tar'\n",
      "\n",
      "INFO: Informed scheduler that task   UnzipTar_GSE68849_format__RootTAR_tar_Root__d963adad19   has status   UNKNOWN\n",
      "INFO: Done scheduling tasks\n",
      "INFO: Running Worker with 1 processes\n",
      "DEBUG: Asking scheduler for work...\n",
      "DEBUG: Done\n",
      "DEBUG: There are no more tasks to run at this time\n",
      "INFO: Worker Worker(salt=7013176932, workers=1, host=LAPTOP-UU6JICQO, username=smart, pid=66392) was stopped. Shutting down Keep-Alive thread\n",
      "INFO: \n",
      "===== Luigi Execution Summary =====\n",
      "\n",
      "Scheduled 1 tasks of which:\n",
      "* 1 failed scheduling:\n",
      "    - 1 UnzipTar(url=https://www.ncbi.nlm.nih.gov/geo/download/?acc=, NameDownload=GSE68849&format=file, dir=Root/, NameSave=RootTAR.tar)\n",
      "\n",
      "Did not run any tasks\n",
      "This progress looks :( because there were tasks whose scheduling failed\n",
      "\n",
      "===== Luigi Execution Summary =====\n",
      "\n"
     ]
    },
    {
     "data": {
      "text/plain": [
       "False"
      ]
     },
     "execution_count": 7,
     "metadata": {},
     "output_type": "execute_result"
    }
   ],
   "source": [
    "params_dict = {'url': 'https://www.ncbi.nlm.nih.gov/geo/download/?acc=',\n",
    "               'NameDownload': 'GSE68849&format=file',\n",
    "               'dir': 'Root/',\n",
    "               'NameSave': 'RootTAR.tar'}\n",
    "luigi.build([UnzipTar(**params_dict)], workers=1, local_scheduler=True)"
   ]
  },
  {
   "cell_type": "code",
   "execution_count": 119,
   "metadata": {},
   "outputs": [],
   "source": [
    "dfs = {}\n",
    "with gzip.open('Root/1 branch/GPL10558_HumanHT-12_V4_0_R1_15002873_B.txt.gz', 'rb') as f_in:\n",
    "    with open('Root/1 branch/GPL10558_HumanHT-12_V4_0_R1_15002873_B.txt', 'wb') as f_out:\n",
    "        shutil.copyfileobj(f_in, f_out)\n",
    "        "
   ]
  },
  {
   "cell_type": "code",
   "execution_count": 10,
   "metadata": {},
   "outputs": [
    {
     "data": {
      "text/plain": [
       "'Root/1 branch/GPL10558_HumanHT-12_V4_0_R1_15002873_B.txt'"
      ]
     },
     "execution_count": 10,
     "metadata": {},
     "output_type": "execute_result"
    }
   ],
   "source": [
    "str = 'Root/1 branch/GPL10558_HumanHT-12_V4_0_R1_15002873_B.txt.gz'\n",
    "str[:-3]"
   ]
  },
  {
   "cell_type": "code",
   "execution_count": 122,
   "metadata": {},
   "outputs": [],
   "source": [
    "dfs = {}\n",
    "with open('Root/1 branch/GPL10558_HumanHT-12_V4_0_R1_15002873_B.txt') as f:\n",
    "    write_key = None\n",
    "    fio = io.StringIO()\n",
    "    for l in f.readlines():\n",
    "        if l.startswith('['):\n",
    "            if write_key:\n",
    "                fio.seek(0)\n",
    "                header = None if write_key == 'Heading' else 'infer'\n",
    "                dfs[write_key] = pd.read_csv(fio, sep='\\t', header=header)\n",
    "            fio = io.StringIO()\n",
    "            write_key = l.strip('[]\\n')\n",
    "            continue\n",
    "        if write_key:\n",
    "            fio.write(l)\n",
    "    fio.seek(0)\n",
    "    dfs[write_key] = pd.read_csv(fio, sep='\\t')"
   ]
  },
  {
   "cell_type": "code",
   "execution_count": 123,
   "metadata": {},
   "outputs": [],
   "source": [
    "for i in dfs:\n",
    "    dfs[i].to_csv('Root/1 branch/'+i+'.csv', index=False)"
   ]
  },
  {
   "cell_type": "code",
   "execution_count": null,
   "metadata": {},
   "outputs": [],
   "source": [
    "pd.read_csv('Root/1 branch/Probes.csv').head()"
   ]
  },
  {
   "cell_type": "code",
   "execution_count": null,
   "metadata": {},
   "outputs": [],
   "source": [
    "@requires(DownloadTask)\n",
    "class UnzipTar(Task):\n",
    "    \n",
    "    def run(self):\n",
    "        in_file_path = str(self.input())\n",
    "        dir_path = in_file_path[:in_file_path.rfind('/')+1]\n",
    "        branch_count = 1\n",
    "        \n",
    "        with tarfile.open(in_file_path, 'r') as tar:\n",
    "            for i in tar.getnames():\n",
    "                dir_name = str(branch_count) + 'branch'\n",
    "                os.mkdir(dir_path + dir_name)\n",
    "                tar.extract(i, dir_path + dir_name)\n",
    "                archive_name = dir_path + dir_name + '/' + i\n",
    "                with gzip.open(archive_name, 'rb') as f_in:\n",
    "                    with open(archive_name[:-2], 'wb') as f_out:\n",
    "                        shutil.copyfileobj(f_in, f_out)\n",
    "                branch_count += 1\n",
    "    \n",
    "    def output(self):\n",
    "        pass"
   ]
  },
  {
   "cell_type": "code",
   "execution_count": 30,
   "metadata": {},
   "outputs": [],
   "source": [
    "from pathlib import Path"
   ]
  },
  {
   "cell_type": "code",
   "execution_count": 16,
   "metadata": {},
   "outputs": [],
   "source": [
    "class DownloadTask2(Task):\n",
    "    \n",
    "    url = luigi.Parameter()\n",
    "    NameDownload = luigi.Parameter()\n",
    "    dir = luigi.Parameter()\n",
    "    NameSave = luigi.Parameter()\n",
    "    \n",
    "    def run(self):\n",
    "        fileurl = self.url + self.NameDownload\n",
    "        wget.download(fileurl, self.output().path)\n",
    "        \n",
    "    def output(self):\n",
    "        return luigi.LocalTarget(self.dir + self.NameSave)\n",
    "        \n",
    "@requires(DownloadTask2)\n",
    "class UnzipTar2(Task):\n",
    "    \n",
    "    def run(self):\n",
    "        # in_file_path = self.input().path\n",
    "        with tarfile.open(self.input().path, 'r') as tar:\n",
    "            tar.extractall(self.dir)\n",
    "    \n",
    "    # def output(self):\n",
    "    #     return luigi.LocalTarget(self.dir)\n",
    "    def output(self):\n",
    "        if os.path.exists(self.dir + self.NameSave):\n",
    "            result = []\n",
    "            with tarfile.open(self.input().path, 'r') as tar:\n",
    "                for i in tar.getnames():\n",
    "                    result.append(luigi.LocalTarget(self.dir + i))\n",
    "            return result\n",
    "  \n",
    "class UnzipGZ2(Task):  \n",
    "    \n",
    "    file_name = luigi.Parameter()\n",
    "    dir = luigi.Parameter()\n",
    "    dir_num = luigi.IntParameter()\n",
    "    \n",
    "    def run(self):\n",
    "        file_dir = self.dir + self.file_name\n",
    "        with gzip.open(file_dir, 'rb') as f_in:\n",
    "            dir_name = 'branch' + str(self.dir_num) + '/'\n",
    "            os.mkdir(self.dir + dir_name)\n",
    "            archive_name = self.dir + dir_name + self.file_name[:-3]\n",
    "            with open(archive_name, 'wb') as f_out:\n",
    "                shutil.copyfileobj(f_in, f_out)\n",
    "                \n",
    "    def output(self):\n",
    "        result = self.dir + 'branch' + str(self.dir_num) + '/' + self.file_name[:-3]\n",
    "        return luigi.LocalTarget(result)\n",
    "        \n",
    "  \n",
    "@inherits(UnzipTar2)\n",
    "class UnzipTXT(Task):\n",
    "    \n",
    "    def requires(self):\n",
    "        UnzipTar2(self.url, self.NameDownload, self.dir, self.NameSave)\n",
    "        task = []\n",
    "        j = 0\n",
    "        for i in os.listdir(self.dir):\n",
    "            i = str(i)\n",
    "            if i[-3:] == '.gz':\n",
    "                params = {'file_name': i, 'dir': self.dir, 'dir_num': j}\n",
    "                task.append(UnzipGZ2(**params))\n",
    "                j += 1\n",
    "        return task\n",
    "    \n",
    "    def run(self):\n",
    "        # in_file_path = str(self.input())\n",
    "        # dir_path = in_file_path[:in_file_path.rfind('/')+1]\n",
    "        for i in self.input():\n",
    "            dfs = {}\n",
    "            with open(i.path) as f:\n",
    "                write_key = None\n",
    "                fio = io.StringIO()\n",
    "                for l in f.readlines():\n",
    "                    if l.startswith('['):\n",
    "                        if write_key:\n",
    "                            fio.seek(0)\n",
    "                            header = None if write_key == 'Heading' else 'infer'\n",
    "                            dfs[write_key] = pd.read_csv(fio, sep='\\t', header=header)\n",
    "                        fio = io.StringIO()\n",
    "                        write_key = l.strip('[]\\n')\n",
    "                        continue\n",
    "                    if write_key:\n",
    "                        fio.write(l)\n",
    "                fio.seek(0)\n",
    "                dfs[write_key] = pd.read_csv(fio, sep='\\t')\n",
    "                \n",
    "            for table in dfs:\n",
    "                i_str = str(i)\n",
    "                table_dir = i_str[:i_str.rfind('/')+1]\n",
    "                dfs[table].to_csv(table_dir + table + '.csv', index=False)\n",
    "                \n",
    "    def output(self):\n",
    "        result = []\n",
    "        for i in os.listdir(self.dir):\n",
    "            i = str(i)\n",
    "            if i.startswith('branch'):\n",
    "                result_str = self.dir + i\n",
    "                result.append(luigi.LocalTarget(result_str))\n",
    "        return result\n",
    "\n",
    "@requires(UnzipTXT)\n",
    "class CleanProbes(Task):\n",
    "    \n",
    "    def run(self):\n",
    "        for i in os.listdir(self.input()):\n",
    "            i = str(i)\n",
    "            if i == 'Probes.csv':\n",
    "                pd.read_csv()"
   ]
  },
  {
   "cell_type": "code",
   "execution_count": 18,
   "metadata": {},
   "outputs": [
    {
     "name": "stderr",
     "output_type": "stream",
     "text": [
      "DEBUG: Checking if UnzipTXT(url=https://www.ncbi.nlm.nih.gov/geo/download/?acc=, NameDownload=GSE68849&format=file, dir=Root2/, NameSave=Root.tar) is complete\n",
      "c:\\Users\\smart\\AppData\\Local\\Programs\\Python\\Python39\\lib\\site-packages\\luigi\\worker.py:426: UserWarning: Task UnzipTXT(url=https://www.ncbi.nlm.nih.gov/geo/download/?acc=, NameDownload=GSE68849&format=file, dir=Root2/, NameSave=Root.tar) without outputs has no custom complete() method\n",
      "  is_complete = task.complete()\n",
      "DEBUG: Checking if UnzipGZ2(file_name=GPL10558_HumanHT-12_V4_0_R1_15002873_B.txt.gz, dir=Root2/, dir_num=0) is complete\n",
      "DEBUG: Checking if UnzipGZ2(file_name=GPL10558_HumanHT-12_V4_0_R2_15002873_B.txt.gz, dir=Root2/, dir_num=1) is complete\n",
      "INFO: Informed scheduler that task   UnzipTXT_GSE68849_format__Root_tar_Root2__2a042d3a21   has status   PENDING\n",
      "INFO: Informed scheduler that task   UnzipGZ2_Root2__1_GPL10558_HumanHT_80c87595f8   has status   PENDING\n",
      "INFO: Informed scheduler that task   UnzipGZ2_Root2__0_GPL10558_HumanHT_58fec70e6e   has status   PENDING\n",
      "INFO: Done scheduling tasks\n",
      "INFO: Running Worker with 1 processes\n",
      "DEBUG: Asking scheduler for work...\n",
      "DEBUG: Pending tasks: 3\n",
      "INFO: [pid 21396] Worker Worker(salt=4406517164, workers=1, host=LAPTOP-UU6JICQO, username=smart, pid=21396) running   UnzipGZ2(file_name=GPL10558_HumanHT-12_V4_0_R2_15002873_B.txt.gz, dir=Root2/, dir_num=1)\n"
     ]
    },
    {
     "name": "stderr",
     "output_type": "stream",
     "text": [
      "INFO: [pid 21396] Worker Worker(salt=4406517164, workers=1, host=LAPTOP-UU6JICQO, username=smart, pid=21396) done      UnzipGZ2(file_name=GPL10558_HumanHT-12_V4_0_R2_15002873_B.txt.gz, dir=Root2/, dir_num=1)\n",
      "DEBUG: 1 running tasks, waiting for next task to finish\n",
      "INFO: Informed scheduler that task   UnzipGZ2_Root2__1_GPL10558_HumanHT_80c87595f8   has status   DONE\n",
      "DEBUG: Asking scheduler for work...\n",
      "DEBUG: Pending tasks: 2\n",
      "INFO: [pid 21396] Worker Worker(salt=4406517164, workers=1, host=LAPTOP-UU6JICQO, username=smart, pid=21396) running   UnzipGZ2(file_name=GPL10558_HumanHT-12_V4_0_R1_15002873_B.txt.gz, dir=Root2/, dir_num=0)\n",
      "INFO: [pid 21396] Worker Worker(salt=4406517164, workers=1, host=LAPTOP-UU6JICQO, username=smart, pid=21396) done      UnzipGZ2(file_name=GPL10558_HumanHT-12_V4_0_R1_15002873_B.txt.gz, dir=Root2/, dir_num=0)\n",
      "DEBUG: 1 running tasks, waiting for next task to finish\n",
      "INFO: Informed scheduler that task   UnzipGZ2_Root2__0_GPL10558_HumanHT_58fec70e6e   has status   DONE\n",
      "DEBUG: Asking scheduler for work...\n",
      "DEBUG: Pending tasks: 1\n",
      "INFO: [pid 21396] Worker Worker(salt=4406517164, workers=1, host=LAPTOP-UU6JICQO, username=smart, pid=21396) running   UnzipTXT(url=https://www.ncbi.nlm.nih.gov/geo/download/?acc=, NameDownload=GSE68849&format=file, dir=Root2/, NameSave=Root.tar)\n",
      "INFO: [pid 21396] Worker Worker(salt=4406517164, workers=1, host=LAPTOP-UU6JICQO, username=smart, pid=21396) done      UnzipTXT(url=https://www.ncbi.nlm.nih.gov/geo/download/?acc=, NameDownload=GSE68849&format=file, dir=Root2/, NameSave=Root.tar)\n",
      "DEBUG: 1 running tasks, waiting for next task to finish\n",
      "INFO: Informed scheduler that task   UnzipTXT_GSE68849_format__Root_tar_Root2__2a042d3a21   has status   DONE\n",
      "DEBUG: Asking scheduler for work...\n",
      "DEBUG: Done\n",
      "DEBUG: There are no more tasks to run at this time\n",
      "INFO: Worker Worker(salt=4406517164, workers=1, host=LAPTOP-UU6JICQO, username=smart, pid=21396) was stopped. Shutting down Keep-Alive thread\n",
      "INFO: \n",
      "===== Luigi Execution Summary =====\n",
      "\n",
      "Scheduled 3 tasks of which:\n",
      "* 3 ran successfully:\n",
      "    - 2 UnzipGZ2(file_name=GPL10558_HumanHT-12_V4_0_R1_15002873_B.txt.gz, dir=Root2/, dir_num=0) and UnzipGZ2(file_name=GPL10558_HumanHT-12_V4_0_R2_15002873_B.txt.gz, dir=Root2/, dir_num=1)\n",
      "    - 1 UnzipTXT(url=https://www.ncbi.nlm.nih.gov/geo/download/?acc=, NameDownload=GSE68849&format=file, dir=Root2/, NameSave=Root.tar)\n",
      "\n",
      "This progress looks :) because there were no failed tasks or missing dependencies\n",
      "\n",
      "===== Luigi Execution Summary =====\n",
      "\n"
     ]
    },
    {
     "data": {
      "text/plain": [
       "True"
      ]
     },
     "execution_count": 18,
     "metadata": {},
     "output_type": "execute_result"
    }
   ],
   "source": [
    "params_dict = {'url': 'https://www.ncbi.nlm.nih.gov/geo/download/?acc=',\n",
    "               'NameDownload': 'GSE68849&format=file',\n",
    "               'dir': 'Root2/',\n",
    "               'NameSave': 'Root.tar'}\n",
    "\n",
    "luigi.build([UnzipTXT(**params_dict)], workers=1, local_scheduler=True)"
   ]
  },
  {
   "cell_type": "code",
   "execution_count": 4,
   "metadata": {},
   "outputs": [
    {
     "ename": "UnknownParameterException",
     "evalue": "UnzipGZ2[args=(), kwargs={'file_dir': 'Root2/GPL10558_HumanHT-12_V4_0_R1_15002873_B.txt.gz', 'dir': 'Root2/', 'dir_num': 1}]: unknown parameter file_dir",
     "output_type": "error",
     "traceback": [
      "\u001b[1;31m---------------------------------------------------------------------------\u001b[0m",
      "\u001b[1;31mUnknownParameterException\u001b[0m                 Traceback (most recent call last)",
      "Cell \u001b[1;32mIn[4], line 5\u001b[0m\n\u001b[0;32m      1\u001b[0m params_dict_gz \u001b[38;5;241m=\u001b[39m {\u001b[38;5;124m'\u001b[39m\u001b[38;5;124mfile_dir\u001b[39m\u001b[38;5;124m'\u001b[39m: \u001b[38;5;124m'\u001b[39m\u001b[38;5;124mRoot2/GPL10558_HumanHT-12_V4_0_R1_15002873_B.txt.gz\u001b[39m\u001b[38;5;124m'\u001b[39m,\n\u001b[0;32m      2\u001b[0m                   \u001b[38;5;124m'\u001b[39m\u001b[38;5;124mdir\u001b[39m\u001b[38;5;124m'\u001b[39m: \u001b[38;5;124m'\u001b[39m\u001b[38;5;124mRoot2/\u001b[39m\u001b[38;5;124m'\u001b[39m,\n\u001b[0;32m      3\u001b[0m                   \u001b[38;5;124m'\u001b[39m\u001b[38;5;124mdir_num\u001b[39m\u001b[38;5;124m'\u001b[39m: \u001b[38;5;241m1\u001b[39m}\n\u001b[1;32m----> 5\u001b[0m luigi\u001b[38;5;241m.\u001b[39mbuild([UnzipGZ2(\u001b[38;5;241m*\u001b[39m\u001b[38;5;241m*\u001b[39mparams_dict_gz)], workers\u001b[38;5;241m=\u001b[39m\u001b[38;5;241m1\u001b[39m, local_scheduler\u001b[38;5;241m=\u001b[39m\u001b[38;5;28;01mTrue\u001b[39;00m)\n",
      "File \u001b[1;32mc:\\Users\\smart\\AppData\\Local\\Programs\\Python\\Python39\\lib\\site-packages\\luigi\\task_register.py:87\u001b[0m, in \u001b[0;36mRegister.__call__\u001b[1;34m(cls, *args, **kwargs)\u001b[0m\n\u001b[0;32m     84\u001b[0m     \u001b[38;5;28;01mreturn\u001b[39;00m instantiate()\n\u001b[0;32m     86\u001b[0m params \u001b[38;5;241m=\u001b[39m \u001b[38;5;28mcls\u001b[39m\u001b[38;5;241m.\u001b[39mget_params()\n\u001b[1;32m---> 87\u001b[0m param_values \u001b[38;5;241m=\u001b[39m \u001b[38;5;28;43mcls\u001b[39;49m\u001b[38;5;241;43m.\u001b[39;49m\u001b[43mget_param_values\u001b[49m\u001b[43m(\u001b[49m\u001b[43mparams\u001b[49m\u001b[43m,\u001b[49m\u001b[43m \u001b[49m\u001b[43margs\u001b[49m\u001b[43m,\u001b[49m\u001b[43m \u001b[49m\u001b[43mkwargs\u001b[49m\u001b[43m)\u001b[49m\n\u001b[0;32m     89\u001b[0m k \u001b[38;5;241m=\u001b[39m (\u001b[38;5;28mcls\u001b[39m, \u001b[38;5;28mtuple\u001b[39m(param_values))\n\u001b[0;32m     91\u001b[0m \u001b[38;5;28;01mtry\u001b[39;00m:\n",
      "File \u001b[1;32mc:\\Users\\smart\\AppData\\Local\\Programs\\Python\\Python39\\lib\\site-packages\\luigi\\task.py:414\u001b[0m, in \u001b[0;36mTask.get_param_values\u001b[1;34m(cls, params, args, kwargs)\u001b[0m\n\u001b[0;32m    412\u001b[0m         \u001b[38;5;28;01mraise\u001b[39;00m parameter\u001b[38;5;241m.\u001b[39mDuplicateParameterException(\u001b[38;5;124m'\u001b[39m\u001b[38;5;132;01m%s\u001b[39;00m\u001b[38;5;124m: parameter \u001b[39m\u001b[38;5;132;01m%s\u001b[39;00m\u001b[38;5;124m was already set as a positional parameter\u001b[39m\u001b[38;5;124m'\u001b[39m \u001b[38;5;241m%\u001b[39m (exc_desc, param_name))\n\u001b[0;32m    413\u001b[0m     \u001b[38;5;28;01mif\u001b[39;00m param_name \u001b[38;5;129;01mnot\u001b[39;00m \u001b[38;5;129;01min\u001b[39;00m params_dict:\n\u001b[1;32m--> 414\u001b[0m         \u001b[38;5;28;01mraise\u001b[39;00m parameter\u001b[38;5;241m.\u001b[39mUnknownParameterException(\u001b[38;5;124m'\u001b[39m\u001b[38;5;132;01m%s\u001b[39;00m\u001b[38;5;124m: unknown parameter \u001b[39m\u001b[38;5;132;01m%s\u001b[39;00m\u001b[38;5;124m'\u001b[39m \u001b[38;5;241m%\u001b[39m (exc_desc, param_name))\n\u001b[0;32m    415\u001b[0m     result[param_name] \u001b[38;5;241m=\u001b[39m params_dict[param_name]\u001b[38;5;241m.\u001b[39mnormalize(arg)\n\u001b[0;32m    417\u001b[0m \u001b[38;5;66;03m# Then use the defaults for anything not filled in\u001b[39;00m\n",
      "\u001b[1;31mUnknownParameterException\u001b[0m: UnzipGZ2[args=(), kwargs={'file_dir': 'Root2/GPL10558_HumanHT-12_V4_0_R1_15002873_B.txt.gz', 'dir': 'Root2/', 'dir_num': 1}]: unknown parameter file_dir"
     ]
    }
   ],
   "source": [
    "params_dict_gz = {'file_dir': 'Root2/GPL10558_HumanHT-12_V4_0_R1_15002873_B.txt.gz',\n",
    "                  'dir': 'Root2/',\n",
    "                  'dir_num': 1}\n",
    "\n",
    "luigi.build([UnzipGZ2(**params_dict_gz)], workers=1, local_scheduler=True)"
   ]
  },
  {
   "cell_type": "code",
   "execution_count": 60,
   "metadata": {},
   "outputs": [
    {
     "name": "stdout",
     "output_type": "stream",
     "text": [
      "GPL10558_HumanHT-12_V4_0_R1_15002873_B.txt.gz\n",
      "GPL10558_HumanHT-12_V4_0_R2_15002873_B.txt.gz\n"
     ]
    }
   ],
   "source": [
    "a = ('Root2/')\n",
    "for i in os.listdir(a):\n",
    "            i = str(i)\n",
    "            if i[-3:] == '.gz':\n",
    "                print(i)"
   ]
  }
 ],
 "metadata": {
  "kernelspec": {
   "display_name": "Python 3",
   "language": "python",
   "name": "python3"
  },
  "language_info": {
   "codemirror_mode": {
    "name": "ipython",
    "version": 3
   },
   "file_extension": ".py",
   "mimetype": "text/x-python",
   "name": "python",
   "nbconvert_exporter": "python",
   "pygments_lexer": "ipython3",
   "version": "3.9.10"
  }
 },
 "nbformat": 4,
 "nbformat_minor": 2
}
