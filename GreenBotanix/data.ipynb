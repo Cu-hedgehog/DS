{
 "cells": [
  {
   "cell_type": "code",
   "execution_count": 26,
   "metadata": {},
   "outputs": [],
   "source": [
    "import os\n",
    "import pandas as pd\n",
    "from PIL import Image\n",
    "import numpy as np"
   ]
  },
  {
   "cell_type": "code",
   "execution_count": 18,
   "metadata": {},
   "outputs": [
    {
     "data": {
      "text/html": [
       "<div>\n",
       "<style scoped>\n",
       "    .dataframe tbody tr th:only-of-type {\n",
       "        vertical-align: middle;\n",
       "    }\n",
       "\n",
       "    .dataframe tbody tr th {\n",
       "        vertical-align: top;\n",
       "    }\n",
       "\n",
       "    .dataframe thead th {\n",
       "        text-align: right;\n",
       "    }\n",
       "</style>\n",
       "<table border=\"1\" class=\"dataframe\">\n",
       "  <thead>\n",
       "    <tr style=\"text-align: right;\">\n",
       "      <th></th>\n",
       "      <th>img_name</th>\n",
       "      <th>id</th>\n",
       "    </tr>\n",
       "  </thead>\n",
       "  <tbody>\n",
       "    <tr>\n",
       "      <th>28</th>\n",
       "      <td>IMG_1577-Copy_jpg.rf.131f4013238697ba5da718ebd...</td>\n",
       "      <td>0</td>\n",
       "    </tr>\n",
       "    <tr>\n",
       "      <th>29</th>\n",
       "      <td>IMG_1577-Copy_jpg.rf.6a7bc774da8d2455e6154f721...</td>\n",
       "      <td>0</td>\n",
       "    </tr>\n",
       "    <tr>\n",
       "      <th>30</th>\n",
       "      <td>IMG_1577-Copy_jpg.rf.8a47b124eace936c3f1cfa890...</td>\n",
       "      <td>0</td>\n",
       "    </tr>\n",
       "    <tr>\n",
       "      <th>31</th>\n",
       "      <td>IMG_1577-Copy_jpg.rf.c379f93ab4bb8ec70e1058b8c...</td>\n",
       "      <td>0</td>\n",
       "    </tr>\n",
       "    <tr>\n",
       "      <th>32</th>\n",
       "      <td>IMG_1577-Copy_jpg.rf.e62f989fb9b88a5cf0eab5a76...</td>\n",
       "      <td>0</td>\n",
       "    </tr>\n",
       "  </tbody>\n",
       "</table>\n",
       "</div>"
      ],
      "text/plain": [
       "                                             img_name id\n",
       "28  IMG_1577-Copy_jpg.rf.131f4013238697ba5da718ebd...  0\n",
       "29  IMG_1577-Copy_jpg.rf.6a7bc774da8d2455e6154f721...  0\n",
       "30  IMG_1577-Copy_jpg.rf.8a47b124eace936c3f1cfa890...  0\n",
       "31  IMG_1577-Copy_jpg.rf.c379f93ab4bb8ec70e1058b8c...  0\n",
       "32  IMG_1577-Copy_jpg.rf.e62f989fb9b88a5cf0eab5a76...  0"
      ]
     },
     "execution_count": 18,
     "metadata": {},
     "output_type": "execute_result"
    }
   ],
   "source": [
    "plant_data = pd.read_csv('data/Plants_data.csv')\n",
    "\n",
    "path = 'data/Dracaena'\n",
    "for i in os.listdir(path):\n",
    "    df2 = pd.DataFrame({'img_name': [i], 'id': [0]})\n",
    "    plant_data = pd.concat([plant_data, df2], ignore_index = True )\n",
    "plant_data.tail()"
   ]
  },
  {
   "cell_type": "code",
   "execution_count": 20,
   "metadata": {},
   "outputs": [
    {
     "data": {
      "text/html": [
       "<div>\n",
       "<style scoped>\n",
       "    .dataframe tbody tr th:only-of-type {\n",
       "        vertical-align: middle;\n",
       "    }\n",
       "\n",
       "    .dataframe tbody tr th {\n",
       "        vertical-align: top;\n",
       "    }\n",
       "\n",
       "    .dataframe thead th {\n",
       "        text-align: right;\n",
       "    }\n",
       "</style>\n",
       "<table border=\"1\" class=\"dataframe\">\n",
       "  <thead>\n",
       "    <tr style=\"text-align: right;\">\n",
       "      <th></th>\n",
       "      <th>img_name</th>\n",
       "      <th>id</th>\n",
       "    </tr>\n",
       "  </thead>\n",
       "  <tbody>\n",
       "    <tr>\n",
       "      <th>284</th>\n",
       "      <td>IMG_1637_jpg.rf.4c4dea35397242d07fb9a9a5aaacb3...</td>\n",
       "      <td>1</td>\n",
       "    </tr>\n",
       "    <tr>\n",
       "      <th>285</th>\n",
       "      <td>IMG_1637_jpg.rf.8a1101f5c05875f287a97c59f38438...</td>\n",
       "      <td>1</td>\n",
       "    </tr>\n",
       "    <tr>\n",
       "      <th>286</th>\n",
       "      <td>IMG_1638_jpg.rf.042b5851905ae55a0ba1aad896491f...</td>\n",
       "      <td>1</td>\n",
       "    </tr>\n",
       "    <tr>\n",
       "      <th>287</th>\n",
       "      <td>IMG_1638_jpg.rf.7d0bc6150d5985e25efe7bb68aee05...</td>\n",
       "      <td>1</td>\n",
       "    </tr>\n",
       "    <tr>\n",
       "      <th>288</th>\n",
       "      <td>IMG_1638_jpg.rf.c9a4574122a414583a33de1f12f471...</td>\n",
       "      <td>1</td>\n",
       "    </tr>\n",
       "  </tbody>\n",
       "</table>\n",
       "</div>"
      ],
      "text/plain": [
       "                                              img_name id\n",
       "284  IMG_1637_jpg.rf.4c4dea35397242d07fb9a9a5aaacb3...  1\n",
       "285  IMG_1637_jpg.rf.8a1101f5c05875f287a97c59f38438...  1\n",
       "286  IMG_1638_jpg.rf.042b5851905ae55a0ba1aad896491f...  1\n",
       "287  IMG_1638_jpg.rf.7d0bc6150d5985e25efe7bb68aee05...  1\n",
       "288  IMG_1638_jpg.rf.c9a4574122a414583a33de1f12f471...  1"
      ]
     },
     "execution_count": 20,
     "metadata": {},
     "output_type": "execute_result"
    }
   ],
   "source": [
    "path = 'data/Spathiphyllum'\n",
    "for i in os.listdir(path):\n",
    "    df2 = pd.DataFrame({'img_name': [i], 'id': [1]})\n",
    "    plant_data = pd.concat([plant_data, df2], ignore_index = True )\n",
    "plant_data.tail()"
   ]
  },
  {
   "cell_type": "code",
   "execution_count": null,
   "metadata": {},
   "outputs": [
    {
     "data": {
      "text/html": [
       "<div>\n",
       "<style scoped>\n",
       "    .dataframe tbody tr th:only-of-type {\n",
       "        vertical-align: middle;\n",
       "    }\n",
       "\n",
       "    .dataframe tbody tr th {\n",
       "        vertical-align: top;\n",
       "    }\n",
       "\n",
       "    .dataframe thead th {\n",
       "        text-align: right;\n",
       "    }\n",
       "</style>\n",
       "<table border=\"1\" class=\"dataframe\">\n",
       "  <thead>\n",
       "    <tr style=\"text-align: right;\">\n",
       "      <th></th>\n",
       "      <th>img_name</th>\n",
       "      <th>id</th>\n",
       "    </tr>\n",
       "  </thead>\n",
       "  <tbody>\n",
       "    <tr>\n",
       "      <th>6</th>\n",
       "      <td>7girpcXNI7Gb42G.jpg</td>\n",
       "      <td>1</td>\n",
       "    </tr>\n",
       "    <tr>\n",
       "      <th>7</th>\n",
       "      <td>9f8b85ab38ba10bb4d3b0edef12e684e.jpeg</td>\n",
       "      <td>1</td>\n",
       "    </tr>\n",
       "    <tr>\n",
       "      <th>8</th>\n",
       "      <td>dscf9793-1.jpg</td>\n",
       "      <td>1</td>\n",
       "    </tr>\n",
       "    <tr>\n",
       "      <th>9</th>\n",
       "      <td>hoveya-63.jpg</td>\n",
       "      <td>1</td>\n",
       "    </tr>\n",
       "    <tr>\n",
       "      <th>10</th>\n",
       "      <td>kogda-peresazhivat-hoveyu.jpg</td>\n",
       "      <td>1</td>\n",
       "    </tr>\n",
       "  </tbody>\n",
       "</table>\n",
       "</div>"
      ],
      "text/plain": [
       "                                 img_name id\n",
       "6                     7girpcXNI7Gb42G.jpg  1\n",
       "7   9f8b85ab38ba10bb4d3b0edef12e684e.jpeg  1\n",
       "8                          dscf9793-1.jpg  1\n",
       "9                           hoveya-63.jpg  1\n",
       "10          kogda-peresazhivat-hoveyu.jpg  1"
      ]
     },
     "execution_count": 54,
     "metadata": {},
     "output_type": "execute_result"
    }
   ],
   "source": [
    "plant_data = pd.read_csv('data/Plants_data.csv')\n",
    "\n",
    "path = 'data/Hovea'\n",
    "for i in os.listdir(path):\n",
    "    df2 = pd.DataFrame({'img_name': [i], 'id': [2]})\n",
    "    plant_data = pd.concat([plant_data, df2], ignore_index = True )\n",
    "plant_data.tail()"
   ]
  },
  {
   "cell_type": "code",
   "execution_count": null,
   "metadata": {},
   "outputs": [],
   "source": [
    "path = 'data/Orchid'\n",
    "for i in os.listdir(path):\n",
    "    df2 = pd.DataFrame({'img_name': [i], 'id': [3]})\n",
    "    plant_data = pd.concat([plant_data, df2], ignore_index = True )\n",
    "plant_data.tail()"
   ]
  },
  {
   "cell_type": "code",
   "execution_count": null,
   "metadata": {},
   "outputs": [],
   "source": [
    "path = 'data/Sansevieria'\n",
    "for i in os.listdir(path):\n",
    "    df2 = pd.DataFrame({'img_name': [i], 'id': [4]})\n",
    "    plant_data = pd.concat([plant_data, df2], ignore_index = True )\n",
    "plant_data.tail()"
   ]
  },
  {
   "cell_type": "code",
   "execution_count": null,
   "metadata": {},
   "outputs": [],
   "source": [
    "path = 'data/Zamiokulkas'\n",
    "for i in os.listdir(path):\n",
    "    df2 = pd.DataFrame({'img_name': [i], 'id': [5]})\n",
    "    plant_data = pd.concat([plant_data, df2], ignore_index = True )\n",
    "plant_data.tail()"
   ]
  },
  {
   "cell_type": "markdown",
   "metadata": {},
   "source": [
    "### Обработка изображений"
   ]
  },
  {
   "cell_type": "code",
   "execution_count": 52,
   "metadata": {},
   "outputs": [],
   "source": [
    "filename = \"data/1633466875_34-p-orkhideya-tsvetov-v-gorshke-doma-foto-34.jpg\"\n",
    "with Image.open(filename) as img:\n",
    "    img.load()\n",
    "\n",
    "gray_img = img.convert(\"L\")\n",
    "#gray_img.show()\n",
    "\n",
    "converted_img = img.transpose(Image.FLIP_TOP_BOTTOM)\n",
    "#converted_img.show()\n",
    "\n",
    "image_arr = np.array(img) \n",
    "x1 = round(image_arr.shape[0]*0.2)\n",
    "x2 = round(image_arr.shape[0]*0.8)\n",
    "y1 = round(image_arr.shape[1]*0.2)\n",
    "y2 = round(image_arr.shape[1]*0.8)\n",
    "image_arr = image_arr[x1:x2, y1:y2] \n",
    "image = Image.fromarray(image_arr) \n",
    "  \n",
    "# Display image \n",
    "image.show()"
   ]
  },
  {
   "cell_type": "code",
   "execution_count": 44,
   "metadata": {},
   "outputs": [
    {
     "data": {
      "text/plain": [
       "(835, 612, 3)"
      ]
     },
     "execution_count": 44,
     "metadata": {},
     "output_type": "execute_result"
    }
   ],
   "source": [
    "image_arr.shape"
   ]
  },
  {
   "cell_type": "code",
   "execution_count": 53,
   "metadata": {},
   "outputs": [],
   "source": [
    "sub_image = img.crop(box=(100,100,800,800)).rotate(90)\n",
    "img.paste(sub_image, box=(100,100))\n",
    "img.show()"
   ]
  }
 ],
 "metadata": {
  "kernelspec": {
   "display_name": "Python 3",
   "language": "python",
   "name": "python3"
  },
  "language_info": {
   "codemirror_mode": {
    "name": "ipython",
    "version": 3
   },
   "file_extension": ".py",
   "mimetype": "text/x-python",
   "name": "python",
   "nbconvert_exporter": "python",
   "pygments_lexer": "ipython3",
   "version": "3.9.10"
  }
 },
 "nbformat": 4,
 "nbformat_minor": 2
}
