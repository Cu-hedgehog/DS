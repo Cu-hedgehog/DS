{
 "cells": [
  {
   "cell_type": "code",
   "execution_count": 1,
   "metadata": {},
   "outputs": [],
   "source": [
    "import luigi\n",
    "\n",
    "class MyTask(luigi.Task):\n",
    "    pass"
   ]
  },
  {
   "cell_type": "code",
   "execution_count": null,
   "metadata": {},
   "outputs": [],
   "source": [
    "class MyTask(luigi.Task):\n",
    "    x = luigi.IntParameter()\n",
    "    y = luigi.IntParameter(default=45)\n",
    "\n",
    "    def run(self):\n",
    "        print(self.x + self.y)"
   ]
  },
  {
   "cell_type": "markdown",
   "metadata": {},
   "source": [
    "Вызов задачи в командной строке\n",
    "\n",
    "`luigi --module my_module MyTask --x 123 --y 456 --local-scheduler`"
   ]
  },
  {
   "cell_type": "markdown",
   "metadata": {},
   "source": [
    "`python -m luigi_demo_tasks MyTask --local-scheduler`"
   ]
  },
  {
   "cell_type": "code",
   "execution_count": null,
   "metadata": {},
   "outputs": [],
   "source": [
    "from luigi import Task, run, LocalTarget\n",
    "\n",
    "class MyTaskFirst(Task):\n",
    "\n",
    "   filename = \"first.txt\"\n",
    "\n",
    "   def run(self):\n",
    "       with open(self.filename, 'w') as f:\n",
    "           f.write(\"first!\")\n",
    "\n",
    "   def output(self):\n",
    "       return LocalTarget(self.filename)\n",
    "\n",
    "class MyTaskSecond(Task):\n",
    "\n",
    "   filename = \"second.txt\"\n",
    "\n",
    "   def run(self):\n",
    "       with open(self.filename, 'w') as f:\n",
    "           f.write(\"second!\")\n",
    "\n",
    "   def requires(self):\n",
    "       return MyTaskFirst()\n",
    "\n",
    "   def output(self):\n",
    "       return LocalTarget(self.filename)\n",
    "\n",
    "if __name__ == '__main__':\n",
    "   run()"
   ]
  }
 ],
 "metadata": {
  "kernelspec": {
   "display_name": "Python 3",
   "language": "python",
   "name": "python3"
  },
  "language_info": {
   "codemirror_mode": {
    "name": "ipython",
    "version": 3
   },
   "file_extension": ".py",
   "mimetype": "text/x-python",
   "name": "python",
   "nbconvert_exporter": "python",
   "pygments_lexer": "ipython3",
   "version": "3.9.10"
  }
 },
 "nbformat": 4,
 "nbformat_minor": 2
}
