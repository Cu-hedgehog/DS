{
 "cells": [
  {
   "cell_type": "code",
   "execution_count": null,
   "metadata": {},
   "outputs": [],
   "source": [
    "import datetime as dt\n",
    "\n",
    "from airflow.models import DAG\n",
    "from airflow.operators.python import PythonOperator, get_current_context, DummyOperator"
   ]
  },
  {
   "cell_type": "code",
   "execution_count": null,
   "metadata": {},
   "outputs": [],
   "source": [
    "default_args = {'owner': 'airflow',\n",
    "                'start_date': dt.datetime(2021, 1, 20),\n",
    "                }"
   ]
  },
  {
   "cell_type": "code",
   "execution_count": null,
   "metadata": {},
   "outputs": [],
   "source": [
    "def even_only():\n",
    "    context = get_current_context()\n",
    "    execution_date = context['execution_date']\n",
    "    if execution_date.day % 2 != 0:\n",
    "        raise ValueError(f'Odd day: {execution_date}')"
   ]
  },
  {
   "cell_type": "code",
   "execution_count": null,
   "metadata": {},
   "outputs": [],
   "source": [
    "with DAG(dag_id = 'first_dag_execution_date',\n",
    "         shedule = '@daily',\n",
    "         default_args = default_args) as dag:\n",
    "    even_only = PythonOperator(task_id = 'even_only',\n",
    "                               python_callable = even_only,\n",
    "                               dag = dag)"
   ]
  },
  {
   "cell_type": "markdown",
   "metadata": {},
   "source": [
    "Второй task"
   ]
  },
  {
   "cell_type": "code",
   "execution_count": null,
   "metadata": {},
   "outputs": [],
   "source": [
    "dummy = DummyOperator(task_id = 'dummy_task',\n",
    "                      dag = dag)\n",
    "\n",
    "\n",
    "even_only >> dummy"
   ]
  },
  {
   "cell_type": "markdown",
   "metadata": {},
   "source": [
    "Другие варианты:"
   ]
  },
  {
   "cell_type": "code",
   "execution_count": null,
   "metadata": {},
   "outputs": [],
   "source": [
    "# dummy.set_upstream(even_only)\n",
    "# even_only.set_upstream(dummy)\n",
    "# dummy<<even_only"
   ]
  }
 ],
 "metadata": {
  "language_info": {
   "name": "python"
  }
 },
 "nbformat": 4,
 "nbformat_minor": 2
}
