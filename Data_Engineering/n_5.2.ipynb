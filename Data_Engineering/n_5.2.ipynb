{
 "cells": [
  {
   "cell_type": "code",
   "execution_count": null,
   "metadata": {},
   "outputs": [],
   "source": [
    "import datetime as dt \n",
    "\n",
    "from airflow.decorators import dag, task\n",
    "from airflow.operators.python import get_current_context\n",
    "from airflow.operators.dummy import DummyOperator"
   ]
  },
  {
   "cell_type": "code",
   "execution_count": null,
   "metadata": {},
   "outputs": [],
   "source": [
    "default_args = {'owner': 'airflow',\n",
    "                'start_date': dt.datetime(2021, 1, 20),\n",
    "                }"
   ]
  },
  {
   "cell_type": "code",
   "execution_count": null,
   "metadata": {},
   "outputs": [],
   "source": [
    "@dag(default_args=default_args, \n",
    "     schedule_interval='@daily',\n",
    "     dag_id='taskflow_dag_with_two_operators'\n",
    "     )\n",
    "def first_dag_taskflow():\n",
    "    @task\n",
    "    def even_only():\n",
    "        context = get_current_context()\n",
    "        execution_date = context['execution_date']\n",
    "\n",
    "        if execution_date.day % 2 != 0:\n",
    "            raise ValueError(f'Odd day: {execution_date}')\n",
    "\n",
    "    @task\n",
    "    def dummy_task():\n",
    "        pass\n",
    "\n",
    "    even_only >> dummy_task()\n",
    "\n",
    "# вариант с Operator из Airflow\n",
    "# even_only() >> DummyOperator(task_id='dummy_task')"
   ]
  }
 ],
 "metadata": {
  "language_info": {
   "name": "python"
  }
 },
 "nbformat": 4,
 "nbformat_minor": 2
}
